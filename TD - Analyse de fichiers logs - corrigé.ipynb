{
 "cells": [
  {
   "cell_type": "markdown",
   "id": "narrow-polyester",
   "metadata": {},
   "source": [
    "# TD 7: Analyse de logs - Corrigé (parties 2 et 3)\n",
    "\n",
    "Dans cette activité on va faire une analyse de fichiers de log.\n",
    "Pour cela on a récupéré 75Mo de logs du service système SSHD, qui gère les connections entrantes SSH.\n",
    "Un échantillon du fichier (2000 lignes) est disponible sur la page Moodle du cours, et l'ensemble des logs peut être obtenu de la plateforme [Zenodo](https://zenodo.org/record/3227177#.Y4jQZuzMKuU)\n",
    "Ici on a découpé le gros fichier obtenu de Zenodo en une trentaine de fichiers plus petits, un par jour. Ceci ressemble à ce qu'on trouverait dans un contexte réel.\n",
    "\n",
    "On peut voir la liste de fichiers en faisant ```listdir```:"
   ]
  },
  {
   "cell_type": "code",
   "execution_count": 1,
   "id": "center-auction",
   "metadata": {},
   "outputs": [
    {
     "data": {
      "text/plain": [
       "['SSHDec31.log',\n",
       " 'SSHDec19.log',\n",
       " 'SSHJan4.log',\n",
       " 'SSHJan5.log',\n",
       " 'SSHDec18.log',\n",
       " 'SSHDec30.log',\n",
       " 'SSHDec26.log',\n",
       " 'SSHJan7.log',\n",
       " 'SSHJan6.log',\n",
       " 'SSHDec23.log',\n",
       " 'SSHJan2.log',\n",
       " 'SSHJan3.log',\n",
       " 'SSHDec22.log',\n",
       " 'SSHDec20.log',\n",
       " 'SSHJan1.log',\n",
       " 'SSHDec21.log',\n",
       " 'SSHDec10.log',\n",
       " 'SSHDec11.log',\n",
       " 'SSHDec13.log',\n",
       " 'SSHDec12.log',\n",
       " 'SSHDec16.log',\n",
       " 'SSHDec17.log',\n",
       " 'SSHDec29.log',\n",
       " 'SSHDec15.log',\n",
       " 'SSHDec14.log']"
      ]
     },
     "execution_count": 1,
     "metadata": {},
     "output_type": "execute_result"
    }
   ],
   "source": [
    "import os\n",
    "os.chdir(\"../log files/ssh_logs/\")\n",
    "os.listdir(\".\")"
   ]
  },
  {
   "cell_type": "markdown",
   "id": "architectural-carter",
   "metadata": {},
   "source": [
    "__(On saute le reste du tutoriel)__"
   ]
  },
  {
   "cell_type": "markdown",
   "id": "photographic-county",
   "metadata": {},
   "source": [
    "## Partie II: Exercice guidé - consolider l'ensemble de l'analyse sur les différents fichiers\n",
    "\n",
    "Dans cette partie on va étendre l'analyse faite ici à l'ensemble des 25 fichiers de logs, et sauvegarder les résultats dans un nouveau fichier.\n",
    "\n",
    "Pour cet exercice il est nécessaire de collecter les fichiers de log, qui sont disponibles sur Moodle.\n",
    "\n",
    "__2.1__ Commençons par préparer le code pour lire tous les fichiers les uns après les autres. Écrire une boucle qui énumère les fichiers de log, et affiche la première ligne de chaque fichier."
   ]
  },
  {
   "cell_type": "code",
   "execution_count": 4,
   "id": "later-there",
   "metadata": {},
   "outputs": [
    {
     "name": "stdout",
     "output_type": "stream",
     "text": [
      "Dec 31 00:00:00 LabSZ sshd[29770]: Failed password for invalid user support from 103.207.39.212 port 60305 ssh2\n",
      "Dec 19 00:01:53 LabSZ sshd[9209]: Invalid user candy from 202.92.128.175\n",
      "Jan  4 00:00:00 LabSZ sshd[10691]: pam_unix(sshd:auth): authentication failure; logname= uid=0 euid=0 tty=ssh ruser= rhost=218.87.109.156  user=root\n",
      "Jan  5 00:00:00 LabSZ sshd[9632]: pam_unix(sshd:auth): authentication failure; logname= uid=0 euid=0 tty=ssh ruser= rhost=59.63.188.30  user=root\n",
      "Dec 18 00:15:03 LabSZ sshd[5809]: Invalid user luyang from 115.71.16.143\n",
      "Dec 30 00:01:19 LabSZ sshd[5186]: reverse mapping checking getaddrinfo for host229-140-211-80.serverdedicati.aruba.it [80.211.140.229] failed - POSSIBLE BREAK-IN ATTEMPT!\n",
      "Dec 26 10:55:32 LabSZ sshd[1155]: Server listening on 0.0.0.0 port 902.\n",
      "Jan  7 00:01:59 LabSZ sshd[26302]: pam_unix(sshd:auth): authentication failure; logname= uid=0 euid=0 tty=ssh ruser= rhost=185.165.29.69  user=root\n",
      "Jan  6 00:02:02 LabSZ sshd[21059]: pam_unix(sshd:auth): authentication failure; logname= uid=0 euid=0 tty=ssh ruser= rhost=111.222.107.90  user=hxu\n",
      "Dec 23 00:00:17 LabSZ sshd[26354]: Invalid user 0 from 185.222.209.151\n",
      "Jan  2 11:31:34 LabSZ sshd[3885]: Failed password for root from 182.100.67.120 port 2230 ssh2\n",
      "Jan  3 03:49:48 LabSZ sshd[3885]: pam_unix(sshd:auth): authentication failure; logname= uid=0 euid=0 tty=ssh ruser= rhost=183.63.110.206  user=root\n",
      "Dec 22 00:00:06 LabSZ sshd[21254]: pam_unix(sshd:auth): authentication failure; logname= uid=0 euid=0 tty=ssh ruser= rhost=185.165.29.57  user=root\n",
      "Dec 20 00:01:48 LabSZ sshd[12716]: Did not receive identification string from 211.41.186.139\n",
      "Jan  1 22:38:31 LabSZ sshd[16315]: message repeated 3 times: [ Failed password for root from 218.65.30.30 port 52352 ssh2]\n",
      "Dec 21 00:00:00 LabSZ sshd[16914]: Invalid user sugon from 183.136.178.30\n",
      "Dec 10 06:55:46 LabSZ sshd[24200]: reverse mapping checking getaddrinfo for ns.marryaldkfaczcz.com [173.234.31.186] failed - POSSIBLE BREAK-IN ATTEMPT!\n",
      "Dec 11 00:00:01 LabSZ sshd[20114]: message repeated 5 times: [ Failed password for root from 123.157.138.165 port 40780 ssh2]\n",
      "Dec 13 00:00:02 LabSZ sshd[32035]: reverse mapping checking getaddrinfo for 142-160-172-163.rev.cloud.scaleway.com [163.172.160.142] failed - POSSIBLE BREAK-IN ATTEMPT!\n",
      "Dec 12 00:00:58 LabSZ sshd[3676]: Invalid user ts from 143.107.220.201\n",
      "Dec 16 00:00:58 LabSZ sshd[22881]: reverse mapping checking getaddrinfo for unspecified.mtw.ru [185.148.39.199] failed - POSSIBLE BREAK-IN ATTEMPT!\n",
      "Dec 17 00:00:00 LabSZ sshd[9206]: Address 122.224.73.38 maps to mail.junlike.com, but this does not map back to the address - POSSIBLE BREAK-IN ATTEMPT!\n",
      "Dec 29 17:24:29 LabSZ sshd[4582]: reverse mapping checking getaddrinfo for 190-179-44-124.speedy.com.ar [190.179.44.124] failed - POSSIBLE BREAK-IN ATTEMPT!\n",
      "Dec 15 00:01:22 LabSZ sshd[11303]: Invalid user import from 2.239.208.154\n",
      "Dec 14 00:03:22 LabSZ sshd[7535]: pam_unix(sshd:auth): authentication failure; logname= uid=0 euid=0 tty=ssh ruser= rhost=60.172.229.172  user=root\n"
     ]
    }
   ],
   "source": [
    "import os\n",
    "os.chdir(\"../log files/ssh_logs/\")\n",
    "fichiers = os.listdir(\".\")\n",
    "for nf in fichiers:\n",
    "    if(nf.endswith(\".log\")): # pour eviter d'ouvrir un fichier zip (ou autre) qui se trouverait au meme endroit\n",
    "        with open(nf, 'r') as f:\n",
    "            print(f.readline(), end=\"\") #pas de retrour à la ligne apres l'impression, car la ligne contient deja le retour a la ligne"
   ]
  },
  {
   "cell_type": "markdown",
   "id": "european-ethnic",
   "metadata": {},
   "source": [
    "__2.2__ Reprendre l'ensemble du code vu au-dessus pour compter les adresses IP utilisées. Attention: les comptages doivent être consolidés pour toute la période."
   ]
  },
  {
   "cell_type": "code",
   "execution_count": 7,
   "id": "infectious-klein",
   "metadata": {},
   "outputs": [
    {
     "name": "stdout",
     "output_type": "stream",
     "text": [
      "---------- addresses IP d'origine: (20 sur 936 )\n",
      "103.207.39.212 : compte=63\n",
      "5.18.248.14 : compte=6\n",
      "181.214.87.4 : compte=343\n",
      "103.207.39.99 : compte=8\n",
      "216.71.19.2 : compte=2\n",
      "5.188.10.182 : compte=597\n",
      "195.154.45.62 : compte=21\n",
      "169.0.180.253 : compte=97\n",
      "179.242.211.208 : compte=1\n",
      "218.65.30.126 : compte=913\n",
      "185.165.31.41 : compte=2\n",
      "220.191.194.22 : compte=7\n",
      "186.65.144.113 : compte=1\n",
      "124.192.211.203 : compte=1\n",
      "188.81.140.127 : compte=1\n",
      "45.32.212.203 : compte=4\n",
      "110.74.192.131 : compte=1\n",
      "156.202.254.121 : compte=1\n",
      "185.165.29.57 : compte=413\n",
      "92.228.200.147 : compte=1\n"
     ]
    }
   ],
   "source": [
    "liste_IP = {} # dictionnaire vide\n",
    "fichiers = os.listdir(\".\")\n",
    "for nf in fichiers:\n",
    "    if(nf.endswith(\".log\")):\n",
    "        with open(nf, \"r\") as f:\n",
    "            for ligne in f: # on énumère toutes les lignes du fichier\n",
    "                mots = ligne.split() # decouper la chaine de caracteres en mots (avec les espaces comme séparateurs)\n",
    "                if (mots[5]==\"Failed\" and mots[6]==\"password\"): #échec de connection\n",
    "                    if(mots[8]==\"invalid\" and mots[9]==\"user\"):\n",
    "                        ip = mots[12]\n",
    "                    else:\n",
    "                        ip = mots[10]\n",
    "                    #print(\"connection depuis\", ip)\n",
    "                    liste_IP[ip] = liste_IP.get(ip,0) + 1 # comptage\n",
    "\n",
    "# obtenir une représentation des paires clés-valeurs\n",
    "paires = [ k+\" : compte=\"+str(v) for k,v in liste_IP.items()]\n",
    "print(\"---------- addresses IP d'origine: (20 sur\", len(paires),\")\")\n",
    "echantillon = paires[0:20] # on va pas tout afficher\n",
    "print('\\n'.join(echantillon)) # affichage de la liste sur des lignes différentes (retour à la ligne comme séparateur)"
   ]
  },
  {
   "cell_type": "markdown",
   "id": "german-novelty",
   "metadata": {},
   "source": [
    "__2.3__ En affichant les premières lignes de tous les fichiers, on peut remarquer dans certains fichiers (ex: le 1er Janvier) des lignes de la forme:\n",
    "```\n",
    "Jan  1 22:38:31 LabSZ sshd[16315]: message repeated 3 times: [ Failed password for root from 218.65.30.30 port 52352 ssh2]\n",
    "```\n",
    "Ceci indique qu'il y a eu 3 fois 'Failed password...', soit 3 tentatives de connection pour la même adresse Ip et le même nom d'utilisateur. Ajouter du code pour comptabiliser ces connections (attention: pour cette ligne il faut comptabiliser l'adresse IP 3 fois, et dans d'autres cas 5 fois, etc. selon le nombre de répétitions indiqué)."
   ]
  },
  {
   "cell_type": "code",
   "execution_count": 11,
   "id": "rising-massage",
   "metadata": {},
   "outputs": [
    {
     "name": "stdout",
     "output_type": "stream",
     "text": [
      "---------- addresses IP d'origine: (20 sur 937 )\n",
      "103.207.39.212 : compte=63\n",
      "5.18.248.14 : compte=6\n",
      "181.214.87.4 : compte=343\n",
      "103.207.39.99 : compte=8\n",
      "216.71.19.2 : compte=2\n",
      "5.188.10.182 : compte=597\n",
      "195.154.45.62 : compte=21\n",
      "169.0.180.253 : compte=97\n",
      "179.242.211.208 : compte=1\n",
      "218.65.30.126 : compte=5429\n",
      "185.165.31.41 : compte=2\n",
      "220.191.194.22 : compte=7\n",
      "186.65.144.113 : compte=1\n",
      "124.192.211.203 : compte=6\n",
      "188.81.140.127 : compte=6\n",
      "45.32.212.203 : compte=4\n",
      "110.74.192.131 : compte=1\n",
      "156.202.254.121 : compte=1\n",
      "185.165.29.57 : compte=413\n",
      "92.228.200.147 : compte=6\n"
     ]
    }
   ],
   "source": [
    "def obtenir_ip(tokens): #on extrait ce code pour en faire une fonction\n",
    "    #tokens de la forme ['root', 'from', '218.65.30.30', 'port', '52352', 'ssh2']\n",
    "    #     ou bien       ['invalid', 'user', 'support', 'from', '103.207.39.212', 'port', '60305', 'ssh2']\n",
    "    if(tokens[0]==\"invalid\" and tokens[1]==\"user\"):\n",
    "        ip = tokens[4]\n",
    "    else:\n",
    "        ip = tokens[2]\n",
    "    return ip\n",
    "\n",
    "\n",
    "liste_IP = {} # dictionnaire vide\n",
    "fichiers = os.listdir(\".\")\n",
    "for nf in fichiers:\n",
    "    if(nf.endswith(\".log\")):\n",
    "        with open(nf, \"r\") as f:\n",
    "            for ligne in f: # on énumère toutes les lignes du fichier\n",
    "                mots = ligne.split() # decouper la chaine de caracteres en mots (avec les espaces comme séparateurs)\n",
    "                if (mots[5]==\"Failed\" and mots[6]==\"password\"): #échec de connection\n",
    "                    ip = obtenir_ip(mots[8:])\n",
    "                    liste_IP[ip] = liste_IP.get(ip,0) + 1 # comptage\n",
    "                elif (mots[5]==\"message\" and mots[6]==\"repeated\" and mots[10]=='Failed' and mots[11]=='password'): #message répété\n",
    "                    times = int(mots[7]) # combien de fois il faut compter \n",
    "                    ip = obtenir_ip(mots[13:])\n",
    "                    liste_IP[ip] = liste_IP.get(ip,0) + times # comptage\n",
    "\n",
    "\n",
    "# obtenir une représentation des paires clés-valeurs\n",
    "paires = [ k+\" : compte=\"+str(v) for k,v in liste_IP.items()]\n",
    "print(\"---------- addresses IP d'origine: (20 sur\", len(paires),\")\")\n",
    "echantillon = paires[0:20] # on va pas tout afficher\n",
    "print('\\n'.join(echantillon)) # affichage de la liste sur des lignes différentes (retour à la ligne comme séparateur)"
   ]
  },
  {
   "cell_type": "markdown",
   "id": "random-compact",
   "metadata": {},
   "source": [
    "__2.4__ Ici on s'est limité à répertorier les addresses IP d'origine des connections. Il est aussi pertinent de répertorier les noms d'utilisateurs ciblés, afin de savoir quels mots de passe sont les plus importants à sécuriser (changer fréquemment, utiliser une grande longueur et des caractères spéciaux, etc.)\n",
    "\n",
    "Ajouter du code pour compter les connections sur les différents noms d'utilisateurs."
   ]
  },
  {
   "cell_type": "code",
   "execution_count": 13,
   "id": "surprised-creator",
   "metadata": {},
   "outputs": [
    {
     "name": "stdout",
     "output_type": "stream",
     "text": [
      "---------- addresses IP d'origine: (20 sur 937 )\n",
      "103.207.39.212 : compte=63\n",
      "5.18.248.14 : compte=6\n",
      "181.214.87.4 : compte=343\n",
      "103.207.39.99 : compte=8\n",
      "216.71.19.2 : compte=2\n",
      "5.188.10.182 : compte=597\n",
      "195.154.45.62 : compte=21\n",
      "169.0.180.253 : compte=97\n",
      "179.242.211.208 : compte=1\n",
      "218.65.30.126 : compte=5429\n",
      "185.165.31.41 : compte=2\n",
      "220.191.194.22 : compte=7\n",
      "186.65.144.113 : compte=1\n",
      "124.192.211.203 : compte=6\n",
      "188.81.140.127 : compte=6\n",
      "45.32.212.203 : compte=4\n",
      "110.74.192.131 : compte=1\n",
      "156.202.254.121 : compte=1\n",
      "185.165.29.57 : compte=413\n",
      "92.228.200.147 : compte=6\n",
      "---------- noms d'utilisateurs ciblés: (20 sur 1740 )\n",
      "support : compte=446\n",
      "ubnt : compte=184\n",
      "0101 : compte=171\n",
      "0 : compte=148\n",
      "1234 : compte=174\n",
      "admin : compte=7150\n",
      "default : compte=131\n",
      "ftp : compte=144\n",
      "guest : compte=223\n",
      "operator : compte=82\n",
      "osmc : compte=47\n",
      "root : compte=220738\n",
      "test : compte=499\n",
      "Management : compte=29\n",
      "nagios : compte=278\n",
      "system : compte=11\n",
      "steam : compte=16\n",
      "hduser : compte=11\n",
      "oracle : compte=458\n",
      "butter : compte=106\n"
     ]
    }
   ],
   "source": [
    "def obtenir_ip_user(tokens): #on change la fonction pour obtenir une paire user, adresse ip\n",
    "    #tokens de la forme ['root', 'from', '218.65.30.30', 'port', '52352', 'ssh2']\n",
    "    #     ou bien       ['invalid', 'user', 'support', 'from', '103.207.39.212', 'port', '60305', 'ssh2']\n",
    "    if(tokens[0]==\"invalid\" and tokens[1]==\"user\"):\n",
    "        user = tokens[2]\n",
    "        ip = tokens[4]\n",
    "    else:\n",
    "        user= tokens[0]\n",
    "        ip = tokens[2]\n",
    "    return user, ip\n",
    "\n",
    "liste_IP = {} # dictionnaire vide\n",
    "liste_user = {} # dictionnaire vide\n",
    "fichiers = os.listdir(\".\")\n",
    "for nf in fichiers:\n",
    "    if(nf.endswith(\".log\")):\n",
    "        with open(nf, \"r\") as f:\n",
    "            for ligne in f: # on énumère toutes les lignes du fichier\n",
    "                mots = ligne.split() # decouper la chaine de caracteres en mots (avec les espaces comme séparateurs)\n",
    "                if (mots[5]==\"Failed\" and mots[6]==\"password\"): #échec de connection\n",
    "                    user, ip = obtenir_ip_user(mots[8:])\n",
    "                    liste_IP[ip] = liste_IP.get(ip,0) + 1 # comptage\n",
    "                    liste_user[user] = liste_user.get(user,0) + 1 # comptage\n",
    "                elif (mots[5]==\"message\" and mots[6]==\"repeated\" and mots[10]=='Failed' and mots[11]=='password'): #message répété\n",
    "                    times = int(mots[7]) # combien de fois il faut compter \n",
    "                    user, ip = obtenir_ip_user(mots[13:])\n",
    "                    liste_IP[ip] = liste_IP.get(ip,0) + times # comptage\n",
    "                    liste_user[user] = liste_user.get(user,0) + times # comptage # attention aux copier-collers !\n",
    "\n",
    "\n",
    "# obtenir une représentation des paires clés-valeurs\n",
    "paires_ip = [ k+\" : compte=\"+str(v) for k,v in liste_IP.items()]\n",
    "paires_u = [ k+\" : compte=\"+str(v) for k,v in liste_user.items()]\n",
    "\n",
    "print(\"---------- addresses IP d'origine: (20 sur\", len(paires_ip),\")\")\n",
    "echantillon = paires_ip[0:20] # on va pas tout afficher\n",
    "print('\\n'.join(echantillon)) # affichage de la liste sur des lignes différentes (retour à la ligne comme séparateur)\n",
    "print(\"---------- noms d'utilisateurs ciblés: (20 sur\", len(paires_u),\")\")\n",
    "echantillon = paires_u[0:20] # on va pas tout afficher\n",
    "print('\\n'.join(echantillon)) # affichage de la liste sur des lignes différentes (retour à la ligne comme séparateur)"
   ]
  },
  {
   "cell_type": "markdown",
   "id": "inclusive-truck",
   "metadata": {},
   "source": [
    "__2.5__ On veut sauvegarder l'information dans des fichiers (un fichier pour les adresses IP, un fichier pour les noms d'utilisateur). Ajouter du code pour ouvrir un fichier \"adressesIP.txt\" et sauvegarder la liste des adresses IP / comptes (une par ligne), et un fichier semblable pour les noms d'utilisateur."
   ]
  },
  {
   "cell_type": "code",
   "execution_count": 17,
   "id": "operating-empty",
   "metadata": {},
   "outputs": [],
   "source": [
    "# on a déjà les comptes complets pour les adresses ip et noms d'utilisateur, on va juste les sauvegarder\n",
    "# on fait une fonction car c'est deux fois la même chose\n",
    "def sauvegarder(paires, nomfichier):\n",
    "    with open(nomfichier, \"w\") as f1:\n",
    "        for info, compte in paires.items(): # .items()  parce que \"paires\" est un dictionnaire\n",
    "            f1.write(info+\"\\t\"+str(compte)+\"\\n\") # on met une tabulation entre l'adresse ip (ou username) et le compte\n",
    "\n",
    "sauvegarder(liste_IP, \"adressesIP.txt\")\n",
    "sauvegarder(liste_user, \"noms_utilisateurs.txt\")"
   ]
  },
  {
   "cell_type": "markdown",
   "id": "subsequent-painting",
   "metadata": {},
   "source": [
    "## Partie III - Exercice non guidé: l'évolution des attaques dans le temps. \n",
    "\n",
    "L'analyse précédente avait pour but de collecter des informations sur les tentatives d'intrusion (les adresses IP d'ou elles proviennent, les noms d'utilisateurs ciblés), sur l'ensemble des données.\n",
    "\n",
    "Dans cet exercice le but est plutôt de voir comment se répartissent les tentatives d'intrusion dans le temps.\n",
    "On voudrait savoir si elles surviennent plutôt la nuit, le matin, l'apres-midi... \n",
    "Pour ceci on voudrait pour chaque jour dans les données, collecter les heures auxquelles les tentatives d'intrusion se produisent. On aimerait ensuite diviser la journée en 24h et tracer une courbe qui montre la proportion des tentatives d'intrusion qui se produisent à chaque heure de la journée.\n",
    "\n",
    "D'autre part, on peut observer dans les logs, des connections réussies. Les lignes ont la forme suivante:\n",
    "```\n",
    "Dec 17 15:02:50 LabSZ sshd[4627]: Accepted password for fztu from 119.137.63.195 port 53927 ssh2\n",
    "```\n",
    "On peut aussi tracer le nombre de connections réussies (a priori légitimes) dans la journée, et comparer les deux courbes.\n",
    "\n",
    "Indications pour le tracé des courbes:\n",
    "Il est nécessaire d'avoir un ensemble de données de la forme ```(x, y)```, soit un ensemble de paires ```(heure, nombre de connection)```, pour heure = \\[0, 2, 3,... 23\\]. \n",
    "\n",
    "On peut ensuite utiliser la bibliothèque ```matplotlib```, en adaptant l'exemple suivant:"
   ]
  },
  {
   "cell_type": "code",
   "execution_count": 49,
   "id": "signed-cleaner",
   "metadata": {},
   "outputs": [
    {
     "data": {
      "image/png": "[encoded data removed]",
      "text/plain": [
       "<Figure size 432x288 with 1 Axes>"
      ]
     },
     "metadata": {
      "needs_background": "light"
     },
     "output_type": "display_data"
    }
   ],
   "source": [
    "import matplotlib.pyplot as plt\n",
    "# exemple de données\n",
    "donnees = [(1, 21), (2,20), (3, 18), (4, 37), (5,40), (6,63), (7,56), (8, 42), (9, 17), (10, 29)]\n",
    "x =[a[0] for a in donnees]\n",
    "y =[a[1] for a in donnees]\n",
    "\n",
    "fig = plt.figure()\n",
    "ax = fig.add_axes([0,0,1,1])\n",
    "ax.bar(x,y)\n",
    "\n",
    "plt.show()"
   ]
  },
  {
   "cell_type": "markdown",
   "id": "christian-suspension",
   "metadata": {},
   "source": [
    "On organise le code en fonctions \n",
    "Celle-ci pour obtenir les connections (échecs / succès) à partir de la liste de fichiers:"
   ]
  },
  {
   "cell_type": "code",
   "execution_count": 18,
   "id": "instrumental-johnston",
   "metadata": {},
   "outputs": [],
   "source": [
    "def obtenir_connections(fichiers):\n",
    "\tconn_fail = {} # echecs de connection: dictionnaires {heure => compte} pour cette heure de la journée\n",
    "\tconn_succ = {} # connections réussies\n",
    "\t\n",
    "\tfor nf in fichiers:\n",
    "\t\twith open(nf, \"r\") as f:\n",
    "\t\t\tfor ligne in f: # on énumère toutes les lignes du fichier\n",
    "\t\t\t\tmots = ligne.split() # decouper la chaine de caracteres en mots (avec les espaces comme séparateurs)\n",
    "\t\t\t\theure = int(mots[2][0:2]) # heure: deux premiers caractères du token à la position 2\n",
    "\t\t\t\tif (mots[5]==\"Failed\" and mots[6]==\"password\") or (mots[5]==\"message\" and mots[6]==\"repeated\" and mots[10]=='Failed' and mots[11]=='password'): #échec de connection\n",
    "\t\t\t\t\tconn_fail[heure] = conn_fail.get(heure,0) + 1\n",
    "\t\t\t\telif (mots[5]==\"Accepted\" and mots[6]==\"password\"): #connection réussie\n",
    "\t\t\t\t\tconn_succ[heure] = conn_succ.get(heure,0) + 1\n",
    "\treturn conn_fail, conn_succ # on renvoie les succes et les échecs"
   ]
  },
  {
   "cell_type": "markdown",
   "id": "acknowledged-bench",
   "metadata": {},
   "source": [
    "On adapte le code pour faire un diagramme en barre (on en fait une fonction aussi):"
   ]
  },
  {
   "cell_type": "code",
   "execution_count": 22,
   "id": "colored-mozambique",
   "metadata": {},
   "outputs": [],
   "source": [
    "import matplotlib.pyplot as plt\n",
    "def diagramme_barres(info):\n",
    "\t#il faut convertir les dictionnaires en données de la forme: [(1, 21), (2,20), (3, 18), (4, 37), (5,40), (6,63), (7,56), (8, 42), (9, 17), (10, 29)]\n",
    "\tpaires = [(h, cpte) for h,cpte in info.items()] # on aurait aussi pu faire list(echecs.items())\n",
    "\tdonnees = sorted(paires) # par défaut sera trié par heure (premeir élément de chaque paire)\n",
    "\n",
    "\tx =[a[0] for a in donnees]\n",
    "\ty =[a[1] for a in donnees]\n",
    "\n",
    "\tfig = plt.figure()\n",
    "\tax = fig.add_axes([0,0,1,1])\n",
    "\tax.bar(x,y)\n",
    "\tplt.show()"
   ]
  },
  {
   "cell_type": "markdown",
   "id": "tracked-miniature",
   "metadata": {},
   "source": [
    "On peut maintenant exécuter: on liste les fichiers à explorer, et on les analyse pour avoir les heures de connection:"
   ]
  },
  {
   "cell_type": "code",
   "execution_count": 20,
   "id": "african-dining",
   "metadata": {},
   "outputs": [],
   "source": [
    "fichiers = os.listdir(\".\")\n",
    "flog = [nomf for nomf in fichiers if nomf.endswith(\".log\")] # on selectionne seulement les noms de fichier se terminant par '. log'\n",
    "echecs, succes = obtenir_connections(flog)"
   ]
  },
  {
   "cell_type": "markdown",
   "id": "comic-communication",
   "metadata": {},
   "source": [
    "Diagramme en barre pour les heures des connections échouées:"
   ]
  },
  {
   "cell_type": "code",
   "execution_count": 23,
   "id": "effective-cinema",
   "metadata": {},
   "outputs": [
    {
     "data": {
      "image/png": "[encoded data removed]",
      "text/plain": [
       "<Figure size 432x288 with 1 Axes>"
      ]
     },
     "metadata": {
      "needs_background": "light"
     },
     "output_type": "display_data"
    }
   ],
   "source": [
    "diagramme_barres(echecs)"
   ]
  },
  {
   "cell_type": "markdown",
   "id": "marked-eating",
   "metadata": {},
   "source": [
    "On observe le gros de l'activité entre 3h et 9h du matin, avec un pic entre 4h et 5h; ensuite l'activité décroit de 10h à minuit, avant de remonter entre minuit et 3h."
   ]
  },
  {
   "cell_type": "code",
   "execution_count": 24,
   "id": "tutorial-blink",
   "metadata": {},
   "outputs": [
    {
     "data": {
      "image/png": "[encoded data removed]",
      "text/plain": [
       "<Figure size 432x288 with 1 Axes>"
      ]
     },
     "metadata": {
      "needs_background": "light"
     },
     "output_type": "display_data"
    }
   ],
   "source": [
    "diagramme_barres(succes)"
   ]
  },
  {
   "cell_type": "markdown",
   "id": "running-peripheral",
   "metadata": {},
   "source": [
    "Ici on observe trois pics de connections: le matin entre 9h et 10h (arrivée au travail?), puis entre 14h et 15h (après une pause de midi?), et à nouveau entre 19h et 20h (apres le retour à la maison?). Il y a aussi des connections de temps en temps à toutes les heures de la journée entre 8h et 1h du matin, et presque jamais entre 1h et 8h.\n",
    "\n",
    "En comparant les hauteurs des barres on remarque aussi qu'il y a environ 1000x plus de tentatives d'intrusion que de connections légitimes, ce qui est assez frappant."
   ]
  }
 ],
 "metadata": {
  "kernelspec": {
   "display_name": "Python 3",
   "language": "python",
   "name": "python3"
  },
  "language_info": {
   "codemirror_mode": {
    "name": "ipython",
    "version": 3
   },
   "file_extension": ".py",
   "mimetype": "text/x-python",
   "name": "python",
   "nbconvert_exporter": "python",
   "pygments_lexer": "ipython3",
   "version": "3.9.1"
  }
 },
 "nbformat": 4,
 "nbformat_minor": 5
}
