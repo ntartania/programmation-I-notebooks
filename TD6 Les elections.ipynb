{
 "cells": [
  {
   "cell_type": "markdown",
   "id": "alternative-librarian",
   "metadata": {},
   "source": [
    "# TD 6: Les élections\n",
    "\n",
    "Dans cette activité on va utiliser des listes, tuples et dictionnaires pour compter des votes et déterminer le vainqueur d'une élection.\n",
    "\n",
    "## Tutoriel: le vote à majorité simple\n",
    "\n",
    "On veut d'abord implémenter un des algorithmes de vote les plus simples, la règle dite de \"pluralité\", c'est-à-dire à majorité simple -- le système utilisé au Canada (et dans plusieurs autres pays) pour élire les députés.\n",
    "\n",
    "Les candidats à l'élection sont V. Poutchine, J. Troudeau, et E. Maqueron.\n",
    "\n",
    "Dans le contexte du vote à majorité simple, un bulletin de vote pourrait être représenté par un seul nom. Cependant, en anticipant les autres mécanismes de vote qu'on va explorer par la suite, on va représenter les préférences complètes de chaque électeur par la liste des candidats dans l'ordre des préférences de l'électeur: d'abord son premier choix, ensuite son deuxième choix, etc.\n",
    "\n",
    "Par exemple, pour les préférences d'un électeur qui préfère M. Troudeau aux autres, et préfère M. Maqueron à M. Poutchine, on aurait la liste ```[\"Troudeau\", \"Maqueron\", \"Poutchine\"]```. Dans la suite on appellera une telle liste un _profil de préférences_.\n",
    "\n",
    "Les préférences de la population peuvent se représenter par un grand nombre de listes de cette forme, une par électeur. Pour simplifier la représentation, on va représenter cet ensemble de préférences par un ensemble de tuples, qui donne pour chaque profil de préférences le nombre d'électeurs auquel correspond ce profil de préférences:"
   ]
  },
  {
   "cell_type": "code",
   "execution_count": 1,
   "id": "infrared-calculator",
   "metadata": {},
   "outputs": [],
   "source": [
    "preferences = [([\"Troudeau\", \"Maqueron\", \"Poutchine\"], 43), ([\"Poutchine\", \"Troudeau\", \"Maqueron\"], 61), ([\"Maqueron\", \"Troudeau\", \"Poutchine\"], 28), ([\"Maqueron\", \"Poutchine\", \"Troudeau\" ], 9), ([\"Troudeau\", \"Poutchine\", \"Maqueron\"], 7)]"
   ]
  },
  {
   "cell_type": "markdown",
   "id": "awful-furniture",
   "metadata": {},
   "source": [
    "Cette liste nous dit que 43 électeurs préfèrent M. Troudeau, devant M. Maqueron en deuxième place, et M. Poutchine en troisième, que 61 électeurs ont le profil avec M. Poutchine en premier, suivi de M. Troudeau puis M. Maqueron, etc.\n",
    "\n",
    "Pour comptabiliser les votes, on va créer un dicitonnaire avec comme clés les noms des candidats, et comme valeurs le nombre de votes qu'ils reçoivent. On commence par créer ce dictionnaire vide."
   ]
  },
  {
   "cell_type": "code",
   "execution_count": 2,
   "id": "seventh-packing",
   "metadata": {},
   "outputs": [],
   "source": [
    "votes = {}"
   ]
  },
  {
   "cell_type": "markdown",
   "id": "buried-metro",
   "metadata": {},
   "source": [
    "On va ensuite devoir parcourir la liste de profils de préférences, et en supposant que les électeurs vont voter pour leur candidat favori, comptabiliser les votes que recevront les différents candidats.\n",
    "\n",
    "Chaque élément de la liste est une paire _(profil de préférences, nombre d'électeurs)_. Prenons un exemple et séparons les deux éléments:"
   ]
  },
  {
   "cell_type": "code",
   "execution_count": 3,
   "id": "seeing-amber",
   "metadata": {},
   "outputs": [],
   "source": [
    "paire = ([\"Troudeau\", \"Maqueron\", \"Poutchine\"], 43)\n",
    "prefs = paire[0]\n",
    "votants = paire[1]"
   ]
  },
  {
   "cell_type": "code",
   "execution_count": 4,
   "id": "frequent-procurement",
   "metadata": {},
   "outputs": [
    {
     "data": {
      "text/plain": [
       "['Troudeau', 'Maqueron', 'Poutchine']"
      ]
     },
     "execution_count": 4,
     "metadata": {},
     "output_type": "execute_result"
    }
   ],
   "source": [
    "prefs"
   ]
  },
  {
   "cell_type": "code",
   "execution_count": 5,
   "id": "ceramic-slovak",
   "metadata": {},
   "outputs": [
    {
     "data": {
      "text/plain": [
       "43"
      ]
     },
     "execution_count": 5,
     "metadata": {},
     "output_type": "execute_result"
    }
   ],
   "source": [
    "votants"
   ]
  },
  {
   "cell_type": "markdown",
   "id": "personal-rochester",
   "metadata": {},
   "source": [
    "On peut maintenant extraire le candidat favori, qui est le premier élément de ```prefs```:"
   ]
  },
  {
   "cell_type": "code",
   "execution_count": 6,
   "id": "talented-natural",
   "metadata": {},
   "outputs": [
    {
     "data": {
      "text/plain": [
       "'Troudeau'"
      ]
     },
     "execution_count": 6,
     "metadata": {},
     "output_type": "execute_result"
    }
   ],
   "source": [
    "prefs[0]"
   ]
  },
  {
   "cell_type": "markdown",
   "id": "informational-prophet",
   "metadata": {},
   "source": [
    "Il faudra donc ajouter 43 voix pour M. Troudeau.\n",
    "\n",
    "Voyons si ce candidat a déjà des votes:"
   ]
  },
  {
   "cell_type": "code",
   "execution_count": 7,
   "id": "provincial-limitation",
   "metadata": {},
   "outputs": [
    {
     "data": {
      "text/plain": [
       "False"
      ]
     },
     "execution_count": 7,
     "metadata": {},
     "output_type": "execute_result"
    }
   ],
   "source": [
    "\"Troudeau\" in votes"
   ]
  },
  {
   "cell_type": "markdown",
   "id": "fabulous-customer",
   "metadata": {},
   "source": [
    "Il n'en a pas, on peut donc simplement lui attribuer les 43 votes comme ceci:"
   ]
  },
  {
   "cell_type": "code",
   "execution_count": 8,
   "id": "humanitarian-israel",
   "metadata": {},
   "outputs": [],
   "source": [
    "votes[\"Troudeau\"] = 43"
   ]
  },
  {
   "cell_type": "markdown",
   "id": "pleasant-atmosphere",
   "metadata": {},
   "source": [
    "Autrement dit en utilisant les variables appropriées:"
   ]
  },
  {
   "cell_type": "code",
   "execution_count": 9,
   "id": "ecological-strategy",
   "metadata": {},
   "outputs": [],
   "source": [
    "votes[prefs[0]] = votants"
   ]
  },
  {
   "cell_type": "markdown",
   "id": "blank-killing",
   "metadata": {},
   "source": [
    "Si un candidat avait déjà des voix (comme M. Troudeau après cette dernière opération), il faudrait faire la somme des voix déjà comptabilisées avec celles données par le tuples actuel:"
   ]
  },
  {
   "cell_type": "code",
   "execution_count": 10,
   "id": "colonial-thompson",
   "metadata": {},
   "outputs": [
    {
     "data": {
      "text/plain": [
       "43"
      ]
     },
     "execution_count": 10,
     "metadata": {},
     "output_type": "execute_result"
    }
   ],
   "source": [
    "votes[prefs[0]]"
   ]
  },
  {
   "cell_type": "markdown",
   "id": "clear-humor",
   "metadata": {},
   "source": [
    "Supposons qu'on comptabilise un nouveau profil de préférences avec d'autres voix allant à M. Troudeau:"
   ]
  },
  {
   "cell_type": "code",
   "execution_count": 11,
   "id": "clean-blocking",
   "metadata": {},
   "outputs": [],
   "source": [
    "paire = ([\"Troudeau\", \"Poutchine\", \"Maqueron\"], 7)\n",
    "prefs, votants = paire # on peut aussi affecter directement les deux variables"
   ]
  },
  {
   "cell_type": "markdown",
   "id": "painful-division",
   "metadata": {},
   "source": [
    "On calcule le nouveau total de votes, et on met à jour le dictionnaire:"
   ]
  },
  {
   "cell_type": "code",
   "execution_count": 12,
   "id": "heated-philosophy",
   "metadata": {},
   "outputs": [],
   "source": [
    "nouveau_total = votes[prefs[0]] + votants\n",
    "votes[prefs[0]] = nouveau_total"
   ]
  },
  {
   "cell_type": "code",
   "execution_count": 13,
   "id": "apart-manual",
   "metadata": {},
   "outputs": [
    {
     "data": {
      "text/plain": [
       "{'Troudeau': 50}"
      ]
     },
     "execution_count": 13,
     "metadata": {},
     "output_type": "execute_result"
    }
   ],
   "source": [
    "votes"
   ]
  },
  {
   "cell_type": "markdown",
   "id": "developed-stockholm",
   "metadata": {},
   "source": [
    "Les 7 nouveaux votes on bien été comptabilisés.\n",
    "À noter qu'on aurait pu écrire simplement ```votes[prefs[0]] = votes[prefs[0]] + votants```, sans utiliser la variable ```nouveau_total```.\n",
    "\n",
    "Reprenons donc notre dictionnaire de votes et répétons cete opération pour tous les profils de préférences listés:"
   ]
  },
  {
   "cell_type": "code",
   "execution_count": 14,
   "id": "acknowledged-inclusion",
   "metadata": {},
   "outputs": [],
   "source": [
    "votes = {}\n",
    "for paire in preferences:\n",
    "    prefs, votants = paire[0], paire[1]\n",
    "    favori = prefs[0]\n",
    "    if (favori in votes):\n",
    "        votes[favori] = votes[favori]+ votants # on met à jour s'il y avait déjà des voix\n",
    "    else:\n",
    "        votes[favori] = votants "
   ]
  },
  {
   "cell_type": "markdown",
   "id": "contemporary-prevention",
   "metadata": {},
   "source": [
    "Et voilà, nous avons comptabilisé les votes:"
   ]
  },
  {
   "cell_type": "code",
   "execution_count": 15,
   "id": "fiscal-sister",
   "metadata": {},
   "outputs": [
    {
     "data": {
      "text/plain": [
       "{'Troudeau': 50, 'Poutchine': 61, 'Maqueron': 37}"
      ]
     },
     "execution_count": 15,
     "metadata": {},
     "output_type": "execute_result"
    }
   ],
   "source": [
    "votes"
   ]
  },
  {
   "cell_type": "markdown",
   "id": "revised-stephen",
   "metadata": {},
   "source": [
    "M. Poutchine a donc remporté cette élection. Afin de trouver ça de manière automatisée, il suffit de parcourir les éléments du dictionnaire et de trouver la clé dont la valeur associée est la plus élevée.\n",
    "\n",
    "Pour parcourir la liste de candidats, on énumère simplement les clés du dictionnaire: ceci nous donne les candidats ayant reçu au moins un vote."
   ]
  },
  {
   "cell_type": "code",
   "execution_count": 16,
   "id": "alien-california",
   "metadata": {},
   "outputs": [
    {
     "name": "stdout",
     "output_type": "stream",
     "text": [
      "Troudeau : 50 voix\n",
      "Poutchine : 61 voix\n",
      "Maqueron : 37 voix\n"
     ]
    }
   ],
   "source": [
    "for candidat in votes:\n",
    "    print(candidat,\":\", votes[candidat], \"voix\")"
   ]
  },
  {
   "cell_type": "markdown",
   "id": "tamil-hello",
   "metadata": {},
   "source": [
    "Afin de trouver le gagnant de l'élection (la clé avec la valeur la plus élevée), on va adapter une \"recette\" vue dans le cours sur les boucles, pour trouver l'élément \"le plus...\" dans un ensemble. La recette est comme suit: on commence par choisir comme \"candidat\" initial la première valeur de l'ensemble, et ensuite énumère les autres valeurs à la recherche d'une \"meilleure\" valeur selon notre critère, c'est à dire plus haute, plus basse, etc. \n",
    "\n",
    "Dans le cas présent, il est un peu compliqué d'accéder au \"premier\" élément du dictionnaire, alors pour suivre précisément la recette il faudrait en choisir un au hasard, ou imposer un ordre... plus simplement, ici on cherche le candidat avec le maximum de votes, et comme on sait que le gagnant de l'élection aura au moins un vote, on va initialiser notre maximum temporaire à zéro, plutôt que de prendre le nombre de votes du \"premier\" candidat.\n",
    "\n",
    "On a donc l'algorithme suivant:"
   ]
  },
  {
   "cell_type": "code",
   "execution_count": 17,
   "id": "lined-builder",
   "metadata": {},
   "outputs": [],
   "source": [
    "nbvotes_max = 0 #valeur candidate initiale\n",
    "for candidat in votes: #ici candidat se réfère à l';election, pas à la \"valeur candidate\" de la recette\n",
    "    if(votes[candidat]>nbvotes_max):\n",
    "        nbvotes_max = votes[candidat]\n",
    "        meilleur = candidat     # il faut retenir qui a reçu ce nombre de votes"
   ]
  },
  {
   "cell_type": "code",
   "execution_count": 18,
   "id": "prompt-courtesy",
   "metadata": {},
   "outputs": [
    {
     "data": {
      "text/plain": [
       "('Poutchine', 61)"
      ]
     },
     "execution_count": 18,
     "metadata": {},
     "output_type": "execute_result"
    }
   ],
   "source": [
    "meilleur, nbvotes_max"
   ]
  },
  {
   "cell_type": "markdown",
   "id": "quick-armor",
   "metadata": {},
   "source": [
    "M. Poutchine a bien remporté l'élection.\n",
    "\n",
    "Remarque: on suppose ici qu'il n'y a pas eu d'égalité entre deux candidats.\n",
    "\n",
    "## Exercice guidé: le deuxième tour\n",
    "\n",
    "Dans cet exercice on va implémenter la règle vote de la \"pluralité à deux tours\", c'est à dire qu'à l'issue d'un premier scrutin, si un candidat a la majorité absolue des voix (au moins 50% + 1 voix), il est élu, et sinon on garde les deux candidats ayant reçu le plus de voix et on organise un deuxième tour, où les électeurs départagent seulement ces deux candidats.\n",
    "\n",
    "__2.1__ Reprendre le code qui trouve le vainqueur de l'élection, et ajouter un comptage du total des voix, afin de pouvoir vérifier si le gagnant a la majorité absolue."
   ]
  },
  {
   "cell_type": "code",
   "execution_count": null,
   "id": "limited-samba",
   "metadata": {},
   "outputs": [],
   "source": []
  },
  {
   "cell_type": "markdown",
   "id": "integrated-casino",
   "metadata": {},
   "source": [
    "__2.2__ Ajouter du code pour déclarer le candidat élu dans le cas où il obtient la majorité absolue."
   ]
  },
  {
   "cell_type": "code",
   "execution_count": null,
   "id": "coordinate-terrain",
   "metadata": {},
   "outputs": [],
   "source": []
  },
  {
   "cell_type": "markdown",
   "id": "laughing-style",
   "metadata": {},
   "source": [
    "__2.3__ Dans le cas où aucun candidat n'a la majorité absolue, il va falloir un deuxième tour, et pour cela, savoir quels sont les deux candidats ayant reçu le plus de voix. Dans notre exemple ce sont MM. Poutchine et Troudeau, mais on veut trouver cela automatiquement.\n",
    "\n",
    "Modifier le code qui calcule le résultat du premier tour, pour trouver _les deux_ candidats ayant le plus de votes, plutôt que le _seul_ gagnant. "
   ]
  },
  {
   "cell_type": "code",
   "execution_count": null,
   "id": "architectural-friendly",
   "metadata": {},
   "outputs": [],
   "source": []
  },
  {
   "cell_type": "markdown",
   "id": "instrumental-moment",
   "metadata": {},
   "source": [
    "Créer une paire (un tuple à deux éléments) avec les deux candidats du deuxième tour. \n",
    "\n",
    "Pour calculer le résultat du deuxième tour, on va supposer que les électeurs votent pour le candidat qu'ils préfèrent entre les deux. \n",
    "\n",
    "__2.4__ En reprenant le code qui comptabilise les votes, trouver pour chaque profil de préférences le candidat qui recevra le vote. Attention: le code doit être correct quel que soit le nombre de candidats dans le profil de préférences."
   ]
  },
  {
   "cell_type": "code",
   "execution_count": null,
   "id": "worse-symbol",
   "metadata": {},
   "outputs": [],
   "source": []
  },
  {
   "cell_type": "markdown",
   "id": "super-venue",
   "metadata": {},
   "source": [
    "__2.5__ Reprendre l'ensemble du code pour permettre l'égalité de voix entre deux candidats: il faut principalement modifier le décompte des voix au premier tour, qui doit permettre de trouver des _listes_ de candidats avec le même nombre de voix. Si on a une situation où il n'y a pas exactement deux candidats en tête, on départage les candidats à égalité en choisissant au hasard."
   ]
  },
  {
   "cell_type": "code",
   "execution_count": null,
   "id": "undefined-hollow",
   "metadata": {},
   "outputs": [],
   "source": []
  },
  {
   "cell_type": "markdown",
   "id": "positive-biodiversity",
   "metadata": {},
   "source": [
    "## Exercice non guidé: méthodes de Borda et méthode de Copeland\n",
    "\n",
    "Le but de l'exercice est d'implémenter deux autres règles de vote: la technique de Borda et la technique de Copeland.\n",
    "\n",
    "La méthode de Borda est une méthode à base de points: en supposant qu'il y a _n_ candidats, pour chaque électeur on regarde ses préférences, et on donne _n_ points pour son candidat favori, _n-1_ points pour le deuxième, n-2 pour le troisième, et ainsi de suite jusqu à 1 point pour le dernier. Les candidats sont ensuites classés selon leur score: le candidat avec le plus de points est élu.\n",
    "\n",
    "La méthode de Copeland consiste à comparer les candidats deux-à-deux, comme s'ils avaient atteint ensemble le second tour d'une élection à deux tours. Pour chaque \"duel\" on donne +1 au vainqueur, 0 au vaincu. S'il y a égalité, un demi-point chacun. Après cela on compte les points de chaque candidat, et on choisit le candidat avec le plus de points. S'il y a égalité entre deux candidats, il y a plusieurs manières de départager les candidats ex-aequo: en général on se tourne vers une autre règle de vote, comme par exemple la méthode de Borda.\n",
    " "
   ]
  },
  {
   "cell_type": "code",
   "execution_count": null,
   "id": "heated-environment",
   "metadata": {},
   "outputs": [],
   "source": []
  }
 ],
 "metadata": {
  "kernelspec": {
   "display_name": "Python 3",
   "language": "python",
   "name": "python3"
  },
  "language_info": {
   "codemirror_mode": {
    "name": "ipython",
    "version": 3
   },
   "file_extension": ".py",
   "mimetype": "text/x-python",
   "name": "python",
   "nbconvert_exporter": "python",
   "pygments_lexer": "ipython3",
   "version": "3.9.1"
  }
 },
 "nbformat": 4,
 "nbformat_minor": 5
}
