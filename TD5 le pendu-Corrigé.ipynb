{
 "cells": [
  {
   "cell_type": "markdown",
   "id": "thousand-baptist",
   "metadata": {},
   "source": [
    "# TD 5: Jeu de mots\n",
    "\n",
    "## 1 Tutoriel: le pendu (partiel)\n",
    "Le but de cette activité est de créer un jeu du \"pendu\", ce jeu où on doit deviner un mot, et où à chaque erreur un trait est ajouté à un dessin d’un bonhomme pendu. \n",
    "\n",
    "Cette activité requiert de manipuler des listes.\n",
    "\n",
    "Dans une première partie \"tutoriel\", on va créer la base du jeu : permettre à l'utilisateur d'entrer des lettres, et afficher le bonhomme pendu (sans vérifier s'il a réellement deviné le mot).\n",
    "\n",
    "### Déroulement de la partie\n",
    "#### Mise en place\n",
    "Le mot à deviner est d'abord choisi dans une liste prédéfinie.\n",
    "\n",
    "On affiche ensuite un message de bienvenue, suivi de l'interface du jeu, qui est constituée d'un gibet (où apparaitra le bonhomme pendu) suivie d'un espace où apparaitront les lettres du mot si l'utilisateur les devine, et enfin une liste de lettres déjà dites. \n",
    "\n",
    "L'écran que verra l'utilisateur ressemblera à ceci:\n",
    "```\n",
    "Bienvenue au jeu du pendu!\n",
    "Devinez un mot en français en tapant des lettres au clavier.\n",
    "__________\n",
    "|/        \n",
    "|         \n",
    "|\n",
    "|\n",
    "|\n",
    "|____________\n",
    "_ _ _ _ _ _ _ \n",
    "Déjà dit: \n",
    "Entrer une lettre:\n",
    "```\n",
    "Dans cet exemple, les sept tirets bas sont des espaces pour un mot de sept lettres, et à mesure que l'utilisateur devine, les lettres apparaitront (celles que l'utilisateur devine), ainsi que des lettres déjà dites et des traits du pendu. Bien sur, on ne modifie pas en place le dessin, on re-affiche les informations pour chaque nouvelle tentative de l'utilisateur.\n",
    "\n",
    "Par exemple, après quelques tentatives, on pourrait voir ceci:\n",
    "\n",
    "```\n",
    "__________\n",
    "|/       |\n",
    "|        O \n",
    "|       /|\n",
    "|\n",
    "|\n",
    "|____________\n",
    "_ A _ _ E A _ \n",
    "Déjà dit: P E F A M R\n",
    "Entrer une lettre:\n",
    "```\n",
    "Ici on voit que l'utilisateur a deviné 3 lettres (A et E, le A apparaissant 2 fois), et a fait 4 erreurs (P, F, M, et R). L'utilisateur perd quand il fait sept erreurs, ou gagne s'il devine toutes les lettres du mot.\n",
    "\n",
    "Il y a plusieurs choses à gérer, et on va immédiatement chercher à décomposer le problème en sous-problèmes plus simples, qu'on pourra traiter un par un.\n",
    "\n",
    "Voici quelques sous-problèmes qu'on peut déjà identifier:\n",
    "* afficher le pendu, différemment selon le nombre d'erreurs\n",
    "* afficher le mot partiellement deviné, avec un tiret bas pour chaque lettre inconnue. \n",
    "\n",
    "Il nous faut aussi réfléchir à comment garder en mémoire les informations du jeu (quelles lettres ont été devinées, le nombre d'erreurs...)\n",
    "\n",
    "On va organiser notre code en fonctions, et on peut commencer par une fonction qui afficher le pendu partiellement complété, selon le nombre d'erreurs. On va écrire une fonction ```afficher_pendu(erreurs)``` qui affiche le pendu en tenant compte du nombre d'erreurs. Pour commencer, on va afficher le gibet au complet, et ensuite on ajustera les traits pour tenir compte du nombre d'erreurs:"
   ]
  },
  {
   "cell_type": "code",
   "execution_count": 2,
   "id": "complete-lying",
   "metadata": {},
   "outputs": [],
   "source": [
    "def afficher_pendu(erreurs):\n",
    "    print(\"__________\")\n",
    "    print(\"|/        |\")\n",
    "    print(\"|         O\")\n",
    "    print(\"|        /|\\\\\")\n",
    "    print(\"|        / \\\\\")\n",
    "    print(\"|\")\n",
    "    print(\"|____________\")\n"
   ]
  },
  {
   "cell_type": "markdown",
   "id": "spatial-jerusalem",
   "metadata": {},
   "source": [
    "Noter qu'il a aussi été nécessaire de doubler les caractères ```\\``` pour les faire apparaitre correctement (ce sont des caractères spéciaux)."
   ]
  },
  {
   "cell_type": "code",
   "execution_count": 3,
   "id": "primary-testimony",
   "metadata": {},
   "outputs": [
    {
     "name": "stdout",
     "output_type": "stream",
     "text": [
      "__________\n",
      "|/        |\n",
      "|         O\n",
      "|        /|\\\n",
      "|        / \\\n",
      "|\n",
      "|____________\n"
     ]
    }
   ],
   "source": [
    "afficher_pendu(5)"
   ]
  },
  {
   "cell_type": "markdown",
   "id": "infinite-calibration",
   "metadata": {},
   "source": [
    "Modifions maintenant les lignes en fonction du nombre d'erreurs:"
   ]
  },
  {
   "cell_type": "code",
   "execution_count": 4,
   "id": "harmful-northwest",
   "metadata": {},
   "outputs": [],
   "source": [
    "def afficher_pendu(erreurs):\n",
    "    print(\"__________\")\n",
    "    if(erreurs>=1):\n",
    "        ligne = \"|/        |\"\n",
    "    else:\n",
    "        ligne = \"|/\"\n",
    "    print(ligne)\n",
    "    if(erreurs>=2):\n",
    "        ligne2 = \"|         O\"\n",
    "    else:\n",
    "        ligne2 = \"|\"\n",
    "    print(ligne2)\n",
    "    # on va construire la 3e ligne en étapes:\n",
    "    ligne3 = \"|        \"\n",
    "    if(erreurs>=3):\n",
    "        ligne3 = ligne3 + \"/\"\n",
    "    if(erreurs>=4):\n",
    "        ligne3 = ligne3 + \"|\"    \n",
    "    if(erreurs>=5):\n",
    "        ligne3 = ligne3 + \"\\\\\"    \n",
    "    print(ligne3)\n",
    "    # idem ligne 4:\n",
    "    ligne4 = \"|        \"\n",
    "    if(erreurs>=6):\n",
    "        ligne4 = ligne4 + \"/\"\n",
    "    if(erreurs>=7):\n",
    "        ligne4 = ligne4 + \" \\\\\"   \n",
    "    print(ligne4)\n",
    "    print(\"|\")\n",
    "    print(\"|____________\")"
   ]
  },
  {
   "cell_type": "code",
   "execution_count": 5,
   "id": "entitled-replication",
   "metadata": {},
   "outputs": [
    {
     "name": "stdout",
     "output_type": "stream",
     "text": [
      "__________\n",
      "|/        |\n",
      "|         O\n",
      "|        /|\n",
      "|        \n",
      "|\n",
      "|____________\n"
     ]
    }
   ],
   "source": [
    "afficher_pendu(4)"
   ]
  },
  {
   "cell_type": "markdown",
   "id": "aquatic-learning",
   "metadata": {},
   "source": [
    "Voyons maintenant la manière d'afficher le mot (partiellement deviné).\n",
    "Si le mot à deviner est \"TABLEAU\", alors il est affiché initialement sous la forme de sept tirets bas : \n",
    "``` _ _ _ _ _ _ _ ```.\n"
   ]
  },
  {
   "cell_type": "markdown",
   "id": "applicable-ivory",
   "metadata": {},
   "source": [
    "Si l’utilisateur devine la lettre ‘E’, alors il doit apparaitre comme ceci :\n",
    "``` _ _ _ _ E _ _ ```\n",
    "\n",
    "Ensuite, l’utilisateur pourrait deviner la lettre 'A', et les deux A seraient découverts d’un coup :\n",
    "```_ A _ _ E A _```.\n",
    "\n",
    "Une fois le mot complètement deviné, on verrait:\n",
    "```T A B L E A U```.\n",
    "\n",
    "Commençons par cette dernière forme d'affichage (le mot complet). On va simplement énumérer et afficher les lettres du mot, séparées par des espaces:"
   ]
  },
  {
   "cell_type": "code",
   "execution_count": 5,
   "id": "arranged-petersburg",
   "metadata": {},
   "outputs": [
    {
     "name": "stdout",
     "output_type": "stream",
     "text": [
      "T A B L E A U "
     ]
    }
   ],
   "source": [
    "mot = \"TABLEAU\"\n",
    "for lettre in mot:\n",
    "    print(lettre, end=\" \")"
   ]
  },
  {
   "cell_type": "markdown",
   "id": "dressed-south",
   "metadata": {},
   "source": [
    "On observe ici qu'un string se comporte parfois comme une liste: on peut en particulier faire une boucle ```for``` et énumérer les caractères.\n",
    "\n",
    "Prenons à présent la situation inverse, où on n'a encore deviné aucune lettre: pour afficher le bon nombre de tirets bas, il suffit d'en afficher un par lettre (on utilise la même structure de boucle, sauf que pour chaque lettre, au lieu d'afficher la lettre, on affiche un tiret):"
   ]
  },
  {
   "cell_type": "code",
   "execution_count": 6,
   "id": "split-silicon",
   "metadata": {},
   "outputs": [
    {
     "name": "stdout",
     "output_type": "stream",
     "text": [
      "_ _ _ _ _ _ _ "
     ]
    }
   ],
   "source": [
    "for lettre in mot:\n",
    "    print(\"_\", end=\" \")"
   ]
  },
  {
   "cell_type": "markdown",
   "id": "honey-ethiopia",
   "metadata": {},
   "source": [
    "Pour l'instant on va en rester là: le problème d'afficher le mot partiellement deviné sera à résoudre dans l'exercice 2.2. Pour l'instant, on va mettre le code ci-dessus dans une fonction ```affiche_mot```, qui sera à modifier:"
   ]
  },
  {
   "cell_type": "code",
   "execution_count": 9,
   "id": "forward-qualification",
   "metadata": {},
   "outputs": [],
   "source": [
    "def afficher_mot(mot):\n",
    "    for lettre in mot:\n",
    "        print('_', end=\" \")"
   ]
  },
  {
   "cell_type": "markdown",
   "id": "soviet-shelter",
   "metadata": {},
   "source": [
    "On va maintenant écrire le code pour mettre en place le jeu et gérer l'interaction, en utilisant les fonctions ```afficher_pendu``` et ```afficher_mot```.\n",
    "\n",
    "Pour commencer on va se donner une liste de mots possibles pour le jeu, et en choisir un au hasard:"
   ]
  },
  {
   "cell_type": "code",
   "execution_count": 6,
   "id": "moving-parallel",
   "metadata": {},
   "outputs": [],
   "source": [
    "import random # pour pouvoir choisir au hasard\n",
    "# on fixe une liste initiale de mots:\n",
    "liste_mots= [\"ABLATION\", \"ASCENSION\", \"WAGON\", \"MINUSCULE\", \"PLAINTIF\", \"RUBICOND\", \"CLOWNESQUE\", \"KILOGRAMME\", \"ZOULOU\", \"HYPOCRISIE\", \"INTERMINABLE\", \"REVOLUTION\", \"DUBITATIF\", \"FERMENTATION\", \"RUTABAGA\", \"ACCUEIL\", \"BROUTER\", \"GIGOT\", \"EXPLOSION\", \"RELIURE\", \"NIAIS\", \"PETIT\", \"PIQUET\", \"BLOND\", \"PUNK\",\t\"FRAPPANT\", \"RADOTER\", \"BORBORYGME\", \"FOURMI\", \"TAJINE\"]\n",
    "mot = random.choice(liste_mots) # cette fonction choisir un élément au hasard dans la liste passée en argument"
   ]
  },
  {
   "cell_type": "code",
   "execution_count": 7,
   "id": "czech-library",
   "metadata": {},
   "outputs": [
    {
     "data": {
      "text/plain": [
       "'HYPOCRISIE'"
      ]
     },
     "execution_count": 7,
     "metadata": {},
     "output_type": "execute_result"
    }
   ],
   "source": [
    "mot"
   ]
  },
  {
   "cell_type": "markdown",
   "id": "settled-affiliate",
   "metadata": {},
   "source": [
    "On peut maintenant faire une boucle, où l'utilisateur essaye des lettres, et voit les lettres apparaitre dans le mot, ou bien le pendu s'afficher:"
   ]
  },
  {
   "cell_type": "code",
   "execution_count": 10,
   "id": "taken-badge",
   "metadata": {},
   "outputs": [
    {
     "name": "stdout",
     "output_type": "stream",
     "text": [
      "__________\n",
      "|/\n",
      "|\n",
      "|        \n",
      "|        \n",
      "|\n",
      "|____________\n",
      "_ _ _ _ _ _ _ _ _ _ \n",
      " Entrer une lettre:r\n",
      "__________\n",
      "|/        |\n",
      "|\n",
      "|        \n",
      "|        \n",
      "|\n",
      "|____________\n",
      "_ _ _ _ _ _ _ _ _ _ \n",
      " Entrer une lettre:t\n",
      "__________\n",
      "|/        |\n",
      "|         O\n",
      "|        \n",
      "|        \n",
      "|\n",
      "|____________\n",
      "_ _ _ _ _ _ _ _ _ _ \n",
      " Entrer une lettre:u\n",
      "__________\n",
      "|/        |\n",
      "|         O\n",
      "|        /\n",
      "|        \n",
      "|\n",
      "|____________\n",
      "_ _ _ _ _ _ _ _ _ _ \n",
      " Entrer une lettre:i\n",
      "__________\n",
      "|/        |\n",
      "|         O\n",
      "|        /|\n",
      "|        \n",
      "|\n",
      "|____________\n",
      "_ _ _ _ _ _ _ _ _ _ \n",
      " Entrer une lettre:w\n",
      "__________\n",
      "|/        |\n",
      "|         O\n",
      "|        /|\\\n",
      "|        \n",
      "|\n",
      "|____________\n",
      "_ _ _ _ _ _ _ _ _ _ \n",
      " Entrer une lettre:r\n",
      "__________\n",
      "|/        |\n",
      "|         O\n",
      "|        /|\\\n",
      "|        /\n",
      "|\n",
      "|____________\n",
      "_ _ _ _ _ _ _ _ _ _ \n",
      " Entrer une lettre:y\n",
      "__________\n",
      "|/        |\n",
      "|         O\n",
      "|        /|\\\n",
      "|        / \\\n",
      "|\n",
      "|____________\n",
      "vous avez perdu!!\n"
     ]
    }
   ],
   "source": [
    "erreurs = 0\n",
    "while(erreurs<7):\n",
    "    afficher_pendu(erreurs)\n",
    "    afficher_mot(mot)\n",
    "    print(\"\\n Entrer une lettre:\", end=\"\")\n",
    "    lettre = input()\n",
    "    erreurs +=1 # pour l'instant on va juste faire comme si aucune lettre n'était correcte\n",
    "afficher_pendu(erreurs)\n",
    "print(\"vous avez perdu!!\") # pour l'instant la seule façon d'arriver ici est de \"perdre\" (erreurs==7)"
   ]
  },
  {
   "cell_type": "markdown",
   "id": "affected-adelaide",
   "metadata": {},
   "source": [
    "## 2 Exercice guidé: compléter le jeu du pendu\n",
    "\n",
    "Le jeu ci-dessus est partiellement implémenté: le programme choisit un mot au hasard, affiche des tirets indiquant le nombre de lettres, et propose à l'utilisateur d'entrer des lettres. Cependant, il n'y a aucune vérification des lettres entrées, et tout se passe comme si aucune n'était correcte: les erreurs s'accumulent et on perd.\n",
    "\n",
    "Les questions suivantes vont permettre de rajouter du code pour obtenir un jeu fonctionnel.\n",
    "\n",
    "__2.1__ Pour pouvoir afficher le mot à deviner, il va falloir tenir compte des lettres entrées. D'ailleurs, si on regarde l'affichage proposé au tout début de l'exercice, on voit qu'il était prévu d'afficher une liste de lettres déjà essayées. Ajouter du code à la boucle de jeu pour que chaque lettre entrée par l'utilisateur soit ajoutée à une liste. La liste doit être initialisée vide avant la boucle."
   ]
  },
  {
   "cell_type": "code",
   "execution_count": null,
   "id": "dedicated-nicaragua",
   "metadata": {},
   "outputs": [],
   "source": [
    "erreurs = 0\n",
    "lettres_dites = [] #initialiser la liste\n",
    "while(erreurs<7):\n",
    "    afficher_pendu(erreurs)\n",
    "    afficher_mot(mot)\n",
    "    print(\"\\n Entrer une lettre:\", end=\"\")\n",
    "    lettre = input()\n",
    "    lettres_dites.append(lettre) #ajouter la lettre à la liste\n",
    "    erreurs +=1 # pour l'instant on va juste faire comme si aucune lettre n'était correcte\n",
    "afficher_pendu(erreurs)\n",
    "print(\"vous avez perdu!!\") # pour l'instant la seule façon d'arriver ici est de \"perdre\" (erreurs==7)"
   ]
  },
  {
   "cell_type": "markdown",
   "id": "productive-liquid",
   "metadata": {},
   "source": [
    "__2.2__ Ajouter un affichage des lettres déjà essayées dans l'interface. On voudrait quelque chose comme ceci:\n",
    "\n",
    "```\n",
    "__________\n",
    "|/       |\n",
    "|        O \n",
    "|       /|\n",
    "|\n",
    "|\n",
    "|____________\n",
    "_ _ _ _ _ _ _\n",
    "Déjà dit: P E F A M R\n",
    "Entrer une lettre:\n",
    "```"
   ]
  },
  {
   "cell_type": "code",
   "execution_count": null,
   "id": "directed-reservoir",
   "metadata": {},
   "outputs": [],
   "source": [
    "erreurs = 0\n",
    "lettres_dites = [] #initialiser la liste\n",
    "while(erreurs<7):\n",
    "    afficher_pendu(erreurs)\n",
    "    afficher_mot(mot)\n",
    "    print()\n",
    "    print(\"Déjà dit:\", end=\"\")\n",
    "    for w in lettres_dites:\n",
    "        print(w,end=\" \")\n",
    "    print(\"\\n Entrer une lettre:\", end=\"\")\n",
    "    lettre = input()\n",
    "    lettres_dites.append(lettre) #ajouter la lettre à la liste\n",
    "    erreurs +=1 # pour l'instant on va juste faire comme si aucune lettre n'était correcte\n",
    "afficher_pendu(erreurs)\n",
    "print(\"vous avez perdu!!\") # pour l'instant la seule façon d'arriver ici est de \"perdre\" (erreurs==7)"
   ]
  },
  {
   "cell_type": "markdown",
   "id": "outside-rover",
   "metadata": {},
   "source": [
    "__2.3__ Chaque fois que l'utilisateur entre une lettre, vérifier qu'il ne l'a pas déjà donnée (si elle a déjà été dite, ne pas l'ajouter à la liste, et ne pas comptabiliser une erreur). \n",
    "\n",
    "Pour la vérification, on peut simplement utiliser l'opérateur ```in```, qui permet de vérifier si un élément est contenu dans une liste:\n",
    "par exemple, l'expression ```3 in [2, 3, 4, 5]``` donne ```True```."
   ]
  },
  {
   "cell_type": "code",
   "execution_count": null,
   "id": "digital-cooperative",
   "metadata": {},
   "outputs": [],
   "source": [
    "erreurs = 0\n",
    "lettres_dites = [] #initialiser la liste\n",
    "while(erreurs<7):\n",
    "    afficher_pendu(erreurs)\n",
    "    afficher_mot(mot)\n",
    "    print()\n",
    "    print(\"Déjà dit:\", end=\"\")\n",
    "    for w in lettres_dites:\n",
    "        print(w,end=\" \")\n",
    "    print(\"\\n Entrer une lettre:\", end=\"\")\n",
    "    lettre = input()\n",
    "    if (lettre not in lettres_dites): # si la lettre n'est pas dans la liste\n",
    "        lettres_dites.append(lettre) #ajouter la lettre à la liste\n",
    "        erreurs +=1 # pour l'instant on va juste faire comme si aucune lettre n'était correcte\n",
    "afficher_pendu(erreurs)\n",
    "print(\"vous avez perdu!!\") # pour l'instant la seule façon d'arriver ici est de \"perdre\" (erreurs==7)"
   ]
  },
  {
   "cell_type": "markdown",
   "id": "caroline-breakdown",
   "metadata": {},
   "source": [
    "__2.4__ Modifier le comptage des erreurs: une erreur ne doit être comptée que si la lettre devinée n'est pas dans le mot."
   ]
  },
  {
   "cell_type": "code",
   "execution_count": null,
   "id": "surgical-vanilla",
   "metadata": {},
   "outputs": [],
   "source": [
    "erreurs = 0\n",
    "lettres_dites = [] #initialiser la liste\n",
    "while(erreurs<7):\n",
    "    afficher_pendu(erreurs)\n",
    "    afficher_mot(mot)\n",
    "    print()\n",
    "    print(\"Déjà dit:\", end=\"\")\n",
    "    for w in lettres_dites:\n",
    "        print(w,end=\"\")\n",
    "    print(\"\\n Entrer une lettre:\", end=\"\")\n",
    "    lettre = input()\n",
    "    lettre = lettre.upper()\n",
    "    if (lettre not in lettres_dites): # si la lettre n'est pas dans la liste\n",
    "        lettres_dites.append(lettre) #ajouter la lettre à la liste\n",
    "        if (lettre not in mot):\n",
    "            erreurs +=1 # pour l'instant on va juste faire comme si aucune lettre n'était correcte\n",
    "afficher_pendu(erreurs)\n",
    "print(\"vous avez perdu!!\") # pour l'instant la seule façon d'arriver ici est de \"perdre\" (erreurs==7)"
   ]
  },
  {
   "cell_type": "markdown",
   "id": "outside-receptor",
   "metadata": {},
   "source": [
    "__2.5__ Modifier la fonction ```afficher_mot``` pour tenir compte des lettres déjà devinées."
   ]
  },
  {
   "cell_type": "code",
   "execution_count": 16,
   "id": "equivalent-nerve",
   "metadata": {},
   "outputs": [],
   "source": [
    "def afficher_mot(mot, deja_dit):\n",
    "    for lettre in mot:\n",
    "        if(lettre in deja_dit):\n",
    "            print(lettre, end=\" \")\n",
    "        else:\n",
    "            print('_', end=\" \")"
   ]
  },
  {
   "cell_type": "markdown",
   "id": "juvenile-collaboration",
   "metadata": {},
   "source": [
    "On modifie aussi l'appel de affichermot"
   ]
  },
  {
   "cell_type": "code",
   "execution_count": null,
   "id": "irish-institution",
   "metadata": {},
   "outputs": [],
   "source": [
    "erreurs = 0\n",
    "lettres_dites = [] #initialiser la liste\n",
    "while(erreurs<7):\n",
    "    afficher_pendu(erreurs)\n",
    "    afficher_mot(mot, lettres_dites)\n",
    "    print()\n",
    "    print(\"Déjà dit:\", end=\"\")\n",
    "    for w in lettres_dites:\n",
    "        print(w,end=\" \")\n",
    "    print(\"\\n Entrer une lettre:\", end=\"\")\n",
    "    lettre = input()\n",
    "    lettre = lettre.upper()\n",
    "    if (lettre not in lettres_dites): # si la lettre n'est pas dans la liste\n",
    "        lettres_dites.append(lettre) #ajouter la lettre à la liste\n",
    "        if (lettre not in mot):\n",
    "            erreurs +=1 # pour l'instant on va juste faire comme si aucune lettre n'était correcte\n",
    "afficher_pendu(erreurs)\n",
    "print(\"vous avez perdu!!\") # pour l'instant la seule façon d'arriver ici est de \"perdre\" (erreurs==7)"
   ]
  },
  {
   "cell_type": "markdown",
   "id": "ranking-interaction",
   "metadata": {},
   "source": [
    "__2.6__ Ajouter du code pour vérifier que l'utilisateur a encore des lettres à deviner. Sinon, il a gagné et on peut quitter la boucle. \n",
    "\n",
    "Le plus simple est de rajouter cette vérification en même temps qu'on affiche le mot (la fonction ```afficher_mot``` pourra alors retourner ```True``` ou ```False``` selon si l'utilisateur a gagné ou non.)\n",
    "\n",
    "L'ensemble du code devrait à présent être fonctionnel. Tester."
   ]
  },
  {
   "cell_type": "code",
   "execution_count": 18,
   "id": "toxic-diabetes",
   "metadata": {},
   "outputs": [],
   "source": [
    "def afficher_mot(mot, deja_dit):\n",
    "    gagne=True  # on suppose initialement que l'utilisateur a gagné\n",
    "    for lettre in mot:\n",
    "        if(lettre in deja_dit):\n",
    "            print(lettre, end=\" \")\n",
    "        else:\n",
    "            gagne=False # si on affiche \n",
    "            print('_', end=\" \")"
   ]
  },
  {
   "cell_type": "markdown",
   "id": "digital-rachel",
   "metadata": {},
   "source": [
    "On modifie a nouveau l'appel de la fonction:"
   ]
  },
  {
   "cell_type": "code",
   "execution_count": 19,
   "id": "tough-bottle",
   "metadata": {},
   "outputs": [
    {
     "name": "stdout",
     "output_type": "stream",
     "text": [
      "__________\n",
      "|/\n",
      "|\n",
      "|        \n",
      "|        \n",
      "|\n",
      "|____________\n",
      "_ _ _ _ _ _ _ _ _ _ \n",
      "Déjà dit:\n",
      " Entrer une lettre:H\n",
      "__________\n",
      "|/\n",
      "|\n",
      "|        \n",
      "|        \n",
      "|\n",
      "|____________\n",
      "H _ _ _ _ _ _ _ _ _ \n",
      "Déjà dit:H\n",
      " Entrer une lettre:T\n",
      "__________\n",
      "|/        |\n",
      "|\n",
      "|        \n",
      "|        \n",
      "|\n",
      "|____________\n",
      "H _ _ _ _ _ _ _ _ _ \n",
      "Déjà dit:HT\n",
      " Entrer une lettre:R\n",
      "__________\n",
      "|/        |\n",
      "|\n",
      "|        \n",
      "|        \n",
      "|\n",
      "|____________\n",
      "H _ _ _ _ R _ _ _ _ \n",
      "Déjà dit:HTR\n",
      " Entrer une lettre:E\n",
      "__________\n",
      "|/        |\n",
      "|\n",
      "|        \n",
      "|        \n",
      "|\n",
      "|____________\n",
      "H _ _ _ _ R _ _ _ E \n",
      "Déjà dit:HTRE\n",
      " Entrer une lettre:G\n",
      "__________\n",
      "|/        |\n",
      "|         O\n",
      "|        \n",
      "|        \n",
      "|\n",
      "|____________\n",
      "H _ _ _ _ R _ _ _ E \n",
      "Déjà dit:HTREG\n",
      " Entrer une lettre:D\n",
      "__________\n",
      "|/        |\n",
      "|         O\n",
      "|        /\n",
      "|        \n",
      "|\n",
      "|____________\n",
      "H _ _ _ _ R _ _ _ E \n",
      "Déjà dit:HTREGD\n",
      " Entrer une lettre:C\n",
      "__________\n",
      "|/        |\n",
      "|         O\n",
      "|        /\n",
      "|        \n",
      "|\n",
      "|____________\n",
      "H _ _ _ C R _ _ _ E \n",
      "Déjà dit:HTREGDC\n",
      " Entrer une lettre:I\n",
      "__________\n",
      "|/        |\n",
      "|         O\n",
      "|        /\n",
      "|        \n",
      "|\n",
      "|____________\n",
      "H _ _ _ C R I _ I E \n",
      "Déjà dit:HTREGDCI\n",
      " Entrer une lettre:O\n",
      "__________\n",
      "|/        |\n",
      "|         O\n",
      "|        /\n",
      "|        \n",
      "|\n",
      "|____________\n",
      "H _ _ O C R I _ I E \n",
      "Déjà dit:HTREGDCIO\n",
      " Entrer une lettre:S\n",
      "__________\n",
      "|/        |\n",
      "|         O\n",
      "|        /\n",
      "|        \n",
      "|\n",
      "|____________\n",
      "H _ _ O C R I S I E \n",
      "Déjà dit:HTREGDCIOS\n",
      " Entrer une lettre:P\n",
      "__________\n",
      "|/        |\n",
      "|         O\n",
      "|        /\n",
      "|        \n",
      "|\n",
      "|____________\n",
      "H _ P O C R I S I E \n",
      "Déjà dit:HTREGDCIOSP\n",
      " Entrer une lettre:Y\n",
      "__________\n",
      "|/        |\n",
      "|         O\n",
      "|        /\n",
      "|        \n",
      "|\n",
      "|____________\n",
      "H Y P O C R I S I E \n",
      "Déjà dit:HTREGDCIOSPY\n",
      " Entrer une lettre:y\n",
      "__________\n",
      "|/        |\n",
      "|         O\n",
      "|        /\n",
      "|        \n",
      "|\n",
      "|____________\n",
      "H Y P O C R I S I E \n",
      "Déjà dit:HTREGDCIOSPY\n",
      " Entrer une lettre:j\n",
      "__________\n",
      "|/        |\n",
      "|         O\n",
      "|        /|\n",
      "|        \n",
      "|\n",
      "|____________\n",
      "H Y P O C R I S I E \n",
      "Déjà dit:HTREGDCIOSPYJ\n",
      " Entrer une lettre:"
     ]
    },
    {
     "ename": "KeyboardInterrupt",
     "evalue": "Interrupted by user",
     "output_type": "error",
     "traceback": [
      "\u001b[0;31m---------------------------------------------------------------------------\u001b[0m",
      "\u001b[0;31mKeyboardInterrupt\u001b[0m                         Traceback (most recent call last)",
      "\u001b[0;32m<ipython-input-19-68ccf0a825d8>\u001b[0m in \u001b[0;36m<module>\u001b[0;34m\u001b[0m\n\u001b[1;32m     10\u001b[0m         \u001b[0mprint\u001b[0m\u001b[0;34m(\u001b[0m\u001b[0mw\u001b[0m\u001b[0;34m,\u001b[0m\u001b[0mend\u001b[0m\u001b[0;34m=\u001b[0m\u001b[0;34m\"\"\u001b[0m\u001b[0;34m)\u001b[0m\u001b[0;34m\u001b[0m\u001b[0;34m\u001b[0m\u001b[0m\n\u001b[1;32m     11\u001b[0m     \u001b[0mprint\u001b[0m\u001b[0;34m(\u001b[0m\u001b[0;34m\"\\n Entrer une lettre:\"\u001b[0m\u001b[0;34m,\u001b[0m \u001b[0mend\u001b[0m\u001b[0;34m=\u001b[0m\u001b[0;34m\"\"\u001b[0m\u001b[0;34m)\u001b[0m\u001b[0;34m\u001b[0m\u001b[0;34m\u001b[0m\u001b[0m\n\u001b[0;32m---> 12\u001b[0;31m     \u001b[0mlettre\u001b[0m \u001b[0;34m=\u001b[0m \u001b[0minput\u001b[0m\u001b[0;34m(\u001b[0m\u001b[0;34m)\u001b[0m\u001b[0;34m\u001b[0m\u001b[0;34m\u001b[0m\u001b[0m\n\u001b[0m\u001b[1;32m     13\u001b[0m     \u001b[0mlettre\u001b[0m \u001b[0;34m=\u001b[0m \u001b[0mlettre\u001b[0m\u001b[0;34m.\u001b[0m\u001b[0mupper\u001b[0m\u001b[0;34m(\u001b[0m\u001b[0;34m)\u001b[0m\u001b[0;34m\u001b[0m\u001b[0;34m\u001b[0m\u001b[0m\n\u001b[1;32m     14\u001b[0m     \u001b[0;32mif\u001b[0m \u001b[0;34m(\u001b[0m\u001b[0mlettre\u001b[0m \u001b[0;32mnot\u001b[0m \u001b[0;32min\u001b[0m \u001b[0mlettres_dites\u001b[0m\u001b[0;34m)\u001b[0m\u001b[0;34m:\u001b[0m \u001b[0;31m# si la lettre n'est pas dans la liste\u001b[0m\u001b[0;34m\u001b[0m\u001b[0;34m\u001b[0m\u001b[0m\n",
      "\u001b[0;32m/usr/local/lib/python3.9/site-packages/ipykernel/kernelbase.py\u001b[0m in \u001b[0;36mraw_input\u001b[0;34m(self, prompt)\u001b[0m\n\u001b[1;32m    855\u001b[0m                 \u001b[0;34m\"raw_input was called, but this frontend does not support input requests.\"\u001b[0m\u001b[0;34m\u001b[0m\u001b[0;34m\u001b[0m\u001b[0m\n\u001b[1;32m    856\u001b[0m             )\n\u001b[0;32m--> 857\u001b[0;31m         return self._input_request(str(prompt),\n\u001b[0m\u001b[1;32m    858\u001b[0m             \u001b[0mself\u001b[0m\u001b[0;34m.\u001b[0m\u001b[0m_parent_ident\u001b[0m\u001b[0;34m,\u001b[0m\u001b[0;34m\u001b[0m\u001b[0;34m\u001b[0m\u001b[0m\n\u001b[1;32m    859\u001b[0m             \u001b[0mself\u001b[0m\u001b[0;34m.\u001b[0m\u001b[0m_parent_header\u001b[0m\u001b[0;34m,\u001b[0m\u001b[0;34m\u001b[0m\u001b[0;34m\u001b[0m\u001b[0m\n",
      "\u001b[0;32m/usr/local/lib/python3.9/site-packages/ipykernel/kernelbase.py\u001b[0m in \u001b[0;36m_input_request\u001b[0;34m(self, prompt, ident, parent, password)\u001b[0m\n\u001b[1;32m    899\u001b[0m             \u001b[0;32mexcept\u001b[0m \u001b[0mKeyboardInterrupt\u001b[0m\u001b[0;34m:\u001b[0m\u001b[0;34m\u001b[0m\u001b[0;34m\u001b[0m\u001b[0m\n\u001b[1;32m    900\u001b[0m                 \u001b[0;31m# re-raise KeyboardInterrupt, to truncate traceback\u001b[0m\u001b[0;34m\u001b[0m\u001b[0;34m\u001b[0m\u001b[0;34m\u001b[0m\u001b[0m\n\u001b[0;32m--> 901\u001b[0;31m                 \u001b[0;32mraise\u001b[0m \u001b[0mKeyboardInterrupt\u001b[0m\u001b[0;34m(\u001b[0m\u001b[0;34m\"Interrupted by user\"\u001b[0m\u001b[0;34m)\u001b[0m \u001b[0;32mfrom\u001b[0m \u001b[0;32mNone\u001b[0m\u001b[0;34m\u001b[0m\u001b[0;34m\u001b[0m\u001b[0m\n\u001b[0m\u001b[1;32m    902\u001b[0m             \u001b[0;32mexcept\u001b[0m \u001b[0mException\u001b[0m \u001b[0;32mas\u001b[0m \u001b[0me\u001b[0m\u001b[0;34m:\u001b[0m\u001b[0;34m\u001b[0m\u001b[0;34m\u001b[0m\u001b[0m\n\u001b[1;32m    903\u001b[0m                 \u001b[0mself\u001b[0m\u001b[0;34m.\u001b[0m\u001b[0mlog\u001b[0m\u001b[0;34m.\u001b[0m\u001b[0mwarning\u001b[0m\u001b[0;34m(\u001b[0m\u001b[0;34m\"Invalid Message:\"\u001b[0m\u001b[0;34m,\u001b[0m \u001b[0mexc_info\u001b[0m\u001b[0;34m=\u001b[0m\u001b[0;32mTrue\u001b[0m\u001b[0;34m)\u001b[0m\u001b[0;34m\u001b[0m\u001b[0;34m\u001b[0m\u001b[0m\n",
      "\u001b[0;31mKeyboardInterrupt\u001b[0m: Interrupted by user"
     ]
    }
   ],
   "source": [
    "erreurs = 0\n",
    "lettres_dites = [] #initialiser la liste\n",
    "termine = False # cette variable indique si le joueur a gagné\n",
    "while(erreurs<7 and not termine): \n",
    "    afficher_pendu(erreurs)\n",
    "    termine = afficher_mot(mot, lettres_dites) # ici on affiche le mot ET on met à jour la variable \"terminé\"\n",
    "    print()\n",
    "    print(\"Déjà dit:\", end=\"\")\n",
    "    for w in lettres_dites:\n",
    "        print(w,end=\"\")\n",
    "    print(\"\\n Entrer une lettre:\", end=\"\")\n",
    "    lettre = input()\n",
    "    lettre = lettre.upper()\n",
    "    if (lettre not in lettres_dites): # si la lettre n'est pas dans la liste\n",
    "        lettres_dites.append(lettre) #ajouter la lettre à la liste\n",
    "        if (lettre not in mot):\n",
    "            erreurs +=1 # pour l'instant on va juste faire comme si aucune lettre n'était correcte\n",
    "\n",
    "afficher_pendu(erreurs)\n",
    "print(\"vous avez perdu!!\") # pour l'instant la seule façon d'arriver ici est de \"perdre\" (erreurs==7)"
   ]
  },
  {
   "cell_type": "markdown",
   "id": "reflected-track",
   "metadata": {},
   "source": [
    "## 3e partie: exercice non guidé: WORDLE\n",
    "\n",
    "Le jeu Wordle est un autre jeu où on doit deviner un mot secret, mais il fonctionne différemment. \n",
    "\n",
    "Pour commencer, on devine toujours des mots de cinq lettres, et on a six tentatives. Au lieu de deviner une lettre a la fois comme au pendu, on devine le mot complet à chaque fois, et on a un feedback où on sait pour chaque lettre si elle est bien placée, mal placée, ou pas présente dans le mot (exactement comme dans le jeu Mastermind, pour ceux qui connaissent). On pourra se familiariser avec le jeu [sur le site du New York Times](https://www.nytimes.com/games/wordle/index.html).\n",
    "\n",
    "\n",
    "Voici un exemple d'intéraction avec une version du jeu adaptée pour la console:\n",
    "```\n",
    "Bienvenue à WORDLE en français!\n",
    "Vous avez six essais pour trouver un mot de cinq lettres.\n",
    "Vous devez entrer à chaque tentative un mot complet de cinq lettres en français.\n",
    "Après chaque tentative vous saurez quelles lettres étaient correctes, \n",
    "et lesquelles étaient dans le mot mais mal placées:\n",
    "---------------------------------------------\n",
    "_ indique une lettre qui n'est pas dans le mot\n",
    "= indique une lettre mal placée\n",
    "# indique une lettre placée correctement.\n",
    "---------------------------------------------\n",
    "Exemple:\n",
    "CARTE\n",
    "#_==_\t=> ceci indique que le C est correct, et que le R et le T sont mal placés. Le mot ne contient pas de A ou de E.\n",
    "----------------------------------------------\n",
    "\n",
    "À vous maintenant!\n",
    "Entrez des mots de cinq lettres - vous avez six chances !\n",
    "_____\n",
    "PAYER\n",
    "_#_==\n",
    "CARTE\n",
    "_#=_#\n",
    "RAFLE\n",
    "=#=_#\n",
    "FAIRE\n",
    "bravo vous avez gagné!\n",
    "```\n",
    "\n",
    "Quelques regles importantes:\n",
    "* Le joueur doit entrer seulement des mots corrects (et non pas des listes quelconques de lettres)\n",
    "Une liste d'environ 400 mots de 5 lettres est donnée pour commencer:"
   ]
  },
  {
   "cell_type": "code",
   "execution_count": 13,
   "id": "neither-correspondence",
   "metadata": {},
   "outputs": [],
   "source": [
    "import random\n",
    "mots = ['ABCES', 'ABIME', 'ABORD', 'ACCES', 'ACTIF', 'AGATE', 'AGAVE', 'AGENT', 'AGILE', 'AGORA', 'AIDER', 'AIGLE', 'AINEE', 'AINSI', 'AIOLI', 'AJONC', 'AJOUT', 'ALBUM', 'ALGUE', 'ALIAS', 'ALIBI', 'ALIEN', 'ALLER', 'ALORS', 'AMANT', 'AMBRE', 'AMIBE', 'AMOUR', 'ANCRE', 'ANGLE', 'ANNEE', 'ANTAN', 'AORTE', 'APPEL', 'APRES', 'ARABE', 'ARBRE', 'ARMEE', 'ARRET', 'ASSEZ', 'ATLAS', 'ATOLL', 'ATOME', 'AUCUN', 'AUSSI', 'AUTRE', 'AVANT', 'AVION', 'AVOIR', 'AVRIL', 'BABIL', 'BACHE', 'BACON', 'BADGE', 'BADIN', 'BALAI', 'BALSA', 'BANAL', 'BANDE', 'BANNI', 'BARBE', 'BARIL', 'BARON', 'BASSE', 'BELGE', 'BELLE', 'BIBLE', 'BISOU', 'BIJOU', 'BILAN', 'BILLE', 'BISON', 'BLANC','BLEME', 'BLOND', 'BOUEE', 'BOULE', 'BOURG', 'BRAVO', 'BRUTE', 'BRUIT', 'BULLE', 'CADRE', 'CALME', 'CANAL', 'CARTE', 'CAUSE', 'CELLE', 'CELUI', 'CETTE', 'CHALE', 'CHAMP', 'CHANT', 'CHOIX', 'CHOSE', 'CHUTE', 'CIVIL', 'CLERC', 'CLOWN', 'CLONE', 'COCON', 'COEUR', 'COLLE', 'COMME', 'COMTE', 'CONNU', 'CORPS', 'CORNE', 'COTON', 'COUDE', 'COUPE', 'COURS', 'COURT', 'CRABE', 'CRAIE', 'CRANE', 'CREER', 'CRIME', 'CRIER', 'CRISE', 'CROIX', 'CRUEL', 'CULTE', 'CYCLE', 'CYGNE', 'DANSE', 'DEBUT', 'DECES', 'DEGEL', 'DESIR', 'DEPOT', 'DEVIN', 'DOIGT', 'DONNE', 'DOUTE', 'DOUZE', 'DROIT', 'DUREE', 'ECHEC', 'ECOLE', 'ECRIT', 'EDITE', 'EFFET', 'ELEVE', 'ELLES', 'ENFIN', 'ENTRE', 'ESSAI', 'ETAGE', 'ETAPE', 'ETUDE', 'FAIRE', 'FAÇON', 'FEMME', 'FENTE', 'FERME', 'FILLE', 'FINAL', 'FONDS', 'FORCE', 'FORET', 'FORME', 'FOULE', 'FRERE', 'FRONT', 'FUTUR', 'GAFFE', 'GALOP', 'GAMIN', 'GARDE', 'GARNI', 'GATER', 'GAVER', 'GENRE', 'GLACE', 'GOBER', 'GOMME', 'GOULU', 'GRADE', 'GRAIN', 'GRAND', 'GRACE', 'GRAVE', 'GUEPE', 'GUEUX', 'GUIDE', 'HABIT','HAMAC', 'HATIF', 'HARDI', 'HERBE', 'HERON', 'HEROS', 'HEURE', 'HIVER', 'HOMME', 'HONTE', 'HOULE', 'HUILE', 'HUTTE', 'HOTEL', 'IMAGE', 'IMPUR', 'IDOLE', 'IDEAL', 'ISSUE', 'JADIS', 'JASER', 'JAMBE', 'JAUNE', 'JEUNE', 'JETER','JETON', 'JOINT', 'JOUER', 'JOUET', 'JOUTE', 'JURER', 'JURON','JUSTE', 'JUGER', 'KAYAK', 'KOALA', 'KURDE', 'LACET', 'LAMPE', 'LANCE', 'LAQUE', 'LARGE', 'LASER', 'LAPIN', 'LATIN','LEGAL', 'LEGER', 'LEVER', 'LEVEE', 'LEVRE', 'LIBRE', 'LIEGE', 'LIGNE', 'LIGUE', 'LISTE', 'LITRE', 'LIVRE', 'LOCAL', 'LOGIS', 'LOQUE', 'LOUER', 'LOUPE', 'LOURD', 'LOYAL', 'LOYER', 'LUEUR', 'LUNDI', 'LUTIN', 'LUTTE', 'LYCEE', 'MAIRE', 'MAREE', 'MASSE', 'MATCH', 'MATIN', 'MEDIA', 'MELON', 'MERLE', 'MESSE', 'METAL', 'METEO', 'METRE', 'METRO', 'MIEUX', 'MIXTE', 'MOINS', 'MONDE', 'MOYEN', 'MUSEE', 'NAINE', 'NAVAL', 'NANTI', 'NATIF', 'NEIGE', 'NEUVE', 'NEVEU', 'NOEUD', 'NOIRE', 'NOTRE', 'NOYER', 'NUIRE', 'NUQUE', 'NYLON', 'OBJET', 'OCEAN', 'OFFRE', 'ONCLE', 'ONGLE', 'OPERA', 'ORDRE', 'OUEST', 'OUTRE', 'OVULE', 'PARCE', 'PARMI', 'PARTI', 'PASSE', 'PECHE', 'PEINE', 'PERDU', 'PERTE', 'PERLE', 'PETIT', 'PHASE', 'PIANO', 'PIECE', 'PISTE', 'PLACE', 'PLEIN', 'PLUME', 'POETE', 'POIDS', 'POINT', 'PORTE', 'POSTE', 'POULE', 'PREVU', 'PRISE', 'PRIVE', 'PROMU', 'QUAND', 'QUANT', 'RABOT', 'RAFLE', 'RADAR', 'RADIO', 'RALER', 'RAMER', 'RANCE', 'RAPER', 'RATER', 'RATIO', 'RAYER', 'RECEL', 'RECIF', 'RECIT', 'RECUL', 'REGAL', 'REGNE', 'REINE', 'RENDU', 'RESTE', 'REVER', 'REVUE', 'RICHE', 'RIDER', 'RISEE', 'RIVAL', 'ROMAN', 'ROUGE', 'ROUTE', 'ROYAL', 'RUADE', 'RUBAN', 'RUBIS', 'RUGIR', 'RUGBY', 'RUSSE', 'SAINT', 'SALLE', 'SALON', 'SANTE', 'SCENE', 'SCORE', 'SELON', 'SERBE', 'SERIE', 'SEULE', 'SIEGE', 'SIGNE', 'SOEUR', 'SOLDE', 'SOMME', 'SONGE', 'SORTE', 'SOURD', 'SPORT', 'STAGE', 'STADE', 'STYLE', 'SUBIR', 'SUCER', 'SUCRE', 'SUITE', 'SUIVI', 'SUJET', 'SUPER', 'TABAC', 'TABLE', 'TACHE', 'TAMIS', 'TANTE', 'TALUS', 'TAPIR', 'TAPIS', 'TARTE', 'TASSE', 'TAXER', 'TEMPS', 'TENDU', 'TENIR', 'TENTE', 'TERME', 'TERRE', 'TETER', 'TETON', 'TEXTE', 'THEME', 'THESE', 'TIERS', 'TIEDE', 'TIRER', 'TITRE', 'TISSU', 'TITAN','TOILE', 'TOMBE', 'TONTE', 'TORDU','TOTAL', 'TRAIN', 'TROIS', 'TRONE', 'TUILE', 'TUYAU', 'UNION', 'UNITE', 'USAGE', 'USINE', 'UTILE', 'VACHE', 'VAGIN', 'VALET', 'VANNE', 'VASTE', 'VEINE', 'VENDU', 'VENIR', 'VENTE', 'VIDEO', 'VIEUX', 'VIGNE', 'VILLE', 'VINGT', 'VIRIL', 'VIRUS', 'VISER', 'VIVRE', 'VOIRE', 'VOILE', 'VOMIR', 'VOTRE', 'VOUTE', 'VOYOU', 'WAGON', 'ZEBRE']\n",
    "secret = random.choice(mots) #le mot à deviner!\n",
    "# à compléter!"
   ]
  },
  {
   "cell_type": "code",
   "execution_count": 14,
   "id": "professional-kenya",
   "metadata": {},
   "outputs": [
    {
     "data": {
      "text/plain": [
       "463"
      ]
     },
     "execution_count": 14,
     "metadata": {},
     "output_type": "execute_result"
    }
   ],
   "source": [
    "len(mots)"
   ]
  },
  {
   "cell_type": "code",
   "execution_count": null,
   "id": "hairy-remedy",
   "metadata": {},
   "outputs": [],
   "source": []
  }
 ],
 "metadata": {
  "kernelspec": {
   "display_name": "Python 3",
   "language": "python",
   "name": "python3"
  }
 },
 "nbformat": 4,
 "nbformat_minor": 5
}
