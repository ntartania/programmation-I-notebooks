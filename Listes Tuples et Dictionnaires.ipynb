{
 "cells": [
  {
   "cell_type": "markdown",
   "id": "fluid-tunisia",
   "metadata": {},
   "source": [
    "# Listes, tuples et dictionnaires\n",
    "\n",
    "Un _conteneur de données_ est un type qui contient plusieurs données simples. En Python, les principaux types de \"conteneurs\" de données utilisés sont les listes, les tuples et les dictionnaires.\n",
    "\n",
    "## Listes\n",
    "En Python, le conteneur le plus utilisé est la _liste_. Une liste est une séquence de valeurs, qu'on écrit séparées par des virgules et délimitée par des crochets. Voici un exemple de liste de trois chaines de caractères:"
   ]
  },
  {
   "cell_type": "code",
   "execution_count": 1,
   "id": "welcome-underwear",
   "metadata": {},
   "outputs": [],
   "source": [
    "repas = [\"hamburger\", \"frites\", \"boisson\"]"
   ]
  },
  {
   "cell_type": "markdown",
   "id": "nearby-romania",
   "metadata": {},
   "source": [
    "La liste la plus simple est la liste vide, qui s'écrit ```[]```:"
   ]
  },
  {
   "cell_type": "code",
   "execution_count": 2,
   "id": "surprising-walker",
   "metadata": {},
   "outputs": [],
   "source": [
    "vide = []"
   ]
  },
  {
   "cell_type": "markdown",
   "id": "fluid-album",
   "metadata": {},
   "source": [
    "On peut créer une liste d'un élément en plaçant simplement des crochets autour d'une valeur (qui peut être une variable ou un littéral):"
   ]
  },
  {
   "cell_type": "code",
   "execution_count": 3,
   "id": "elder-assets",
   "metadata": {},
   "outputs": [
    {
     "data": {
      "text/plain": [
       "['milk-shake']"
      ]
     },
     "execution_count": 3,
     "metadata": {},
     "output_type": "execute_result"
    }
   ],
   "source": [
    "[\"milk-shake\"]"
   ]
  },
  {
   "cell_type": "code",
   "execution_count": 4,
   "id": "adjacent-monday",
   "metadata": {},
   "outputs": [],
   "source": [
    "drink = \"irn-bru\""
   ]
  },
  {
   "cell_type": "code",
   "execution_count": 5,
   "id": "gentle-clothing",
   "metadata": {},
   "outputs": [
    {
     "data": {
      "text/plain": [
       "['irn-bru']"
      ]
     },
     "execution_count": 5,
     "metadata": {},
     "output_type": "execute_result"
    }
   ],
   "source": [
    "[drink]"
   ]
  },
  {
   "cell_type": "markdown",
   "id": "protected-poverty",
   "metadata": {},
   "source": [
    "Une liste peut contenir des chaines de caractères, comme dans l'exemple précédent, mais aussi des nombres, des booléens ou encore d'autres listes. Plusieurs éléments de types différents peuvent même se cotoyer dans la même liste:"
   ]
  },
  {
   "cell_type": "code",
   "execution_count": 6,
   "id": "after-player",
   "metadata": {},
   "outputs": [],
   "source": [
    "melange = [ 1, \"deux\", False, [\"trois\", \"3 bis\"], 4.3, True]"
   ]
  },
  {
   "cell_type": "code",
   "execution_count": 7,
   "id": "saved-preview",
   "metadata": {},
   "outputs": [
    {
     "data": {
      "text/plain": [
       "False"
      ]
     },
     "execution_count": 7,
     "metadata": {},
     "output_type": "execute_result"
    }
   ],
   "source": [
    "melange[2]"
   ]
  },
  {
   "cell_type": "code",
   "execution_count": 8,
   "id": "actual-thomas",
   "metadata": {},
   "outputs": [
    {
     "data": {
      "text/plain": [
       "['trois', '3 bis']"
      ]
     },
     "execution_count": 8,
     "metadata": {},
     "output_type": "execute_result"
    }
   ],
   "source": [
    "melange[3]"
   ]
  },
  {
   "cell_type": "markdown",
   "id": "spanish-institute",
   "metadata": {},
   "source": [
    "Ici on a un exemple de liste imbriquée dans une autre. Comme le quatrième élément de mélange (soit ```melange[3]```) est lui-même une liste, on peut accéder à son premier élément comme ceci:"
   ]
  },
  {
   "cell_type": "code",
   "execution_count": 9,
   "id": "verified-monte",
   "metadata": {},
   "outputs": [
    {
     "data": {
      "text/plain": [
       "'trois'"
      ]
     },
     "execution_count": 9,
     "metadata": {},
     "output_type": "execute_result"
    }
   ],
   "source": [
    "melange[3][0]"
   ]
  },
  {
   "cell_type": "markdown",
   "id": "modern-jordan",
   "metadata": {},
   "source": [
    "D'autre part, il vaut la peine de noter que la liste ```[\"trois\", \"3 bis\"]``` constitue _un seul_ élément de la liste ```mélange```. L'élément suivant, qui est le nombre décimal ```4.3```, est donc à la position 4 (on rappelle que la première position est indexée 0). On peut le vérifier:"
   ]
  },
  {
   "cell_type": "code",
   "execution_count": 10,
   "id": "stupid-clinic",
   "metadata": {},
   "outputs": [
    {
     "data": {
      "text/plain": [
       "4.3"
      ]
     },
     "execution_count": 10,
     "metadata": {},
     "output_type": "execute_result"
    }
   ],
   "source": [
    "melange[4]"
   ]
  },
  {
   "cell_type": "markdown",
   "id": "anticipated-lincoln",
   "metadata": {},
   "source": [
    "### Opérations sur les listes\n",
    "\n",
    "Quelles opérations peuvent être utilisées sur les listes? \n",
    "\n",
    "#### Accéder aux éléments\n",
    "\n",
    "La principale opération pertinente est l'opération d'accéder aux éléments de la liste, en désignant un élément par sa position. Le premier est à la position zéro, le deuxième à la position 1, le troisième à la position 2, etc.\n",
    "\n",
    "Exemples:"
   ]
  },
  {
   "cell_type": "code",
   "execution_count": 11,
   "id": "cutting-effects",
   "metadata": {},
   "outputs": [
    {
     "data": {
      "text/plain": [
       "'hamburger'"
      ]
     },
     "execution_count": 11,
     "metadata": {},
     "output_type": "execute_result"
    }
   ],
   "source": [
    "repas[0]"
   ]
  },
  {
   "cell_type": "code",
   "execution_count": 12,
   "id": "destroyed-chancellor",
   "metadata": {},
   "outputs": [
    {
     "data": {
      "text/plain": [
       "'boisson'"
      ]
     },
     "execution_count": 12,
     "metadata": {},
     "output_type": "execute_result"
    }
   ],
   "source": [
    "repas[2]"
   ]
  },
  {
   "cell_type": "markdown",
   "id": "phantom-curtis",
   "metadata": {},
   "source": [
    "Au-dessus on a accéder au dernier élément de ```repas``` par sa indice (2), mais on peut aussi compter négativement à partir de la fin: le dernier élément est à la position ```-1```, l'avant-dernier à la position -2, etc."
   ]
  },
  {
   "cell_type": "code",
   "execution_count": 13,
   "id": "metropolitan-prospect",
   "metadata": {},
   "outputs": [
    {
     "data": {
      "text/plain": [
       "'boisson'"
      ]
     },
     "execution_count": 13,
     "metadata": {},
     "output_type": "execute_result"
    }
   ],
   "source": [
    "repas[-1]"
   ]
  },
  {
   "cell_type": "markdown",
   "id": "synthetic-batman",
   "metadata": {},
   "source": [
    "On peut aussi accéder à _plusieurs_ éléments, en combinant deux positions pour délimiter un intervalle. Par exemple, en écrivant ```repas[0:2]``` on accède aux éléments des positions ```0``` et ```1``` (les valeurs depuis zéro et jusqu'à deux, sans inclure deux. On peut remarquer que le concept d'inclure le premier indice mais pas le dernier est semblable à ce qu'on fait avec ```range```."
   ]
  },
  {
   "cell_type": "code",
   "execution_count": 14,
   "id": "contained-canadian",
   "metadata": {},
   "outputs": [
    {
     "data": {
      "text/plain": [
       "['hamburger', 'frites']"
      ]
     },
     "execution_count": 14,
     "metadata": {},
     "output_type": "execute_result"
    }
   ],
   "source": [
    "repas[0:2]"
   ]
  },
  {
   "cell_type": "markdown",
   "id": "still-edition",
   "metadata": {},
   "source": [
    "Quand on veut sélectionner les éléments _depuis le début_ ou bien _jusqu'à la fin_, on peut omettre l'indice correspondant. Implicitement, utiliser un deux-points indique qu'on sélectionne un intervalle de valeurs.\n",
    "\n",
    "Les éléments depuis le premier jusqu'à 2 (exclus):"
   ]
  },
  {
   "cell_type": "code",
   "execution_count": 15,
   "id": "veterinary-spell",
   "metadata": {},
   "outputs": [
    {
     "data": {
      "text/plain": [
       "['hamburger', 'frites']"
      ]
     },
     "execution_count": 15,
     "metadata": {},
     "output_type": "execute_result"
    }
   ],
   "source": [
    "repas[:2]"
   ]
  },
  {
   "cell_type": "markdown",
   "id": "royal-ribbon",
   "metadata": {},
   "source": [
    "Les éléments de 1 (inclusivement) à la fin:"
   ]
  },
  {
   "cell_type": "code",
   "execution_count": 16,
   "id": "extreme-niagara",
   "metadata": {},
   "outputs": [
    {
     "data": {
      "text/plain": [
       "['frites', 'boisson']"
      ]
     },
     "execution_count": 16,
     "metadata": {},
     "output_type": "execute_result"
    }
   ],
   "source": [
    "repas[1:]"
   ]
  },
  {
   "cell_type": "markdown",
   "id": "afraid-russia",
   "metadata": {},
   "source": [
    "#### Concaténation\n",
    "\n",
    "L'opérateur ```+``` permet de concaténer deux listes:"
   ]
  },
  {
   "cell_type": "code",
   "execution_count": 17,
   "id": "temporal-mounting",
   "metadata": {},
   "outputs": [
    {
     "data": {
      "text/plain": [
       "['hamburger', 'frites', 'boisson', 'crème dessert', 'café']"
      ]
     },
     "execution_count": 17,
     "metadata": {},
     "output_type": "execute_result"
    }
   ],
   "source": [
    "repas + [\"crème dessert\", \"café\"]"
   ]
  },
  {
   "cell_type": "markdown",
   "id": "veterinary-architect",
   "metadata": {},
   "source": [
    "L'opération a créé une nouvelle liste avec la concaténation des deux listes opérandes.\n",
    "\n",
    "#### Appartenance\n",
    "\n",
    "Le mot clé ```in``` s'utilise comme un opérateur binaire, et sert à vérifier qu'une valeur quelconque est un élément d'une liste."
   ]
  },
  {
   "cell_type": "code",
   "execution_count": 18,
   "id": "productive-water",
   "metadata": {},
   "outputs": [
    {
     "data": {
      "text/plain": [
       "True"
      ]
     },
     "execution_count": 18,
     "metadata": {},
     "output_type": "execute_result"
    }
   ],
   "source": [
    "\"frites\" in repas"
   ]
  },
  {
   "cell_type": "markdown",
   "id": "olive-niger",
   "metadata": {},
   "source": [
    "Remarquer que ```in``` signifie _est élément de_ et non pas _est inclus dans_:"
   ]
  },
  {
   "cell_type": "code",
   "execution_count": 19,
   "id": "specific-hacker",
   "metadata": {},
   "outputs": [
    {
     "data": {
      "text/plain": [
       "False"
      ]
     },
     "execution_count": 19,
     "metadata": {},
     "output_type": "execute_result"
    }
   ],
   "source": [
    "[\"hamburger\", \"frites\"] in repas"
   ]
  },
  {
   "cell_type": "markdown",
   "id": "formal-swaziland",
   "metadata": {},
   "source": [
    "Cette opération donne ```False``` alors que la liste ```[\"hamburger\", \"frites\"]``` est une sous-liste de ```repas```.\n",
    "\n",
    "En revanche on peut vérifier que la liste ```[\"trois\", \"3 bis\"]``` est bien un _élément_ de la liste ```melange``` (et non pas une sous-liste:"
   ]
  },
  {
   "cell_type": "code",
   "execution_count": 20,
   "id": "editorial-hungary",
   "metadata": {},
   "outputs": [
    {
     "data": {
      "text/plain": [
       "True"
      ]
     },
     "execution_count": 20,
     "metadata": {},
     "output_type": "execute_result"
    }
   ],
   "source": [
    "[\"trois\", \"3 bis\"] in melange"
   ]
  },
  {
   "cell_type": "markdown",
   "id": "assigned-elite",
   "metadata": {},
   "source": [
    "#### Énumérer les valeurs d'une liste\n",
    "\n",
    "La boucle ```for``` est parfaitement adaptée à énumérer les valeurs dans une liste:"
   ]
  },
  {
   "cell_type": "code",
   "execution_count": 21,
   "id": "thorough-fireplace",
   "metadata": {},
   "outputs": [
    {
     "name": "stdout",
     "output_type": "stream",
     "text": [
      "Je vais manger: hamburger\n",
      "Je vais manger: frites\n",
      "Je vais manger: boisson\n"
     ]
    }
   ],
   "source": [
    "for element in repas:\n",
    "    print(\"Je vais manger:\", element)"
   ]
  },
  {
   "cell_type": "markdown",
   "id": "ahead-arnold",
   "metadata": {},
   "source": [
    "Il est parfois nécessaire d'accéder aux éléments par leur position, afin, par exemple, de raisonner sur l'élément qui suit ou qui précède. On peut alors utiliser un objet ```range```, pour obtenir l'intervalle des indices, soit 0, 1.. jusqu'à la longueur de la liste, que nous donne la fonction ```len()```:"
   ]
  },
  {
   "cell_type": "code",
   "execution_count": 22,
   "id": "funny-mounting",
   "metadata": {},
   "outputs": [
    {
     "name": "stdout",
     "output_type": "stream",
     "text": [
      "Je vais manger: hamburger\n",
      "Je vais manger: frites\n",
      "Je vais manger: boisson\n"
     ]
    }
   ],
   "source": [
    "for i in range(len(repas)):\n",
    "    print(\"Je vais manger:\", repas[i])"
   ]
  },
  {
   "cell_type": "markdown",
   "id": "tired-abortion",
   "metadata": {},
   "source": [
    "Il existe aussi une fonction ```enumerate``` qui permet permet d'accéder simultanément aux éléments et à leurs indices:"
   ]
  },
  {
   "cell_type": "code",
   "execution_count": 23,
   "id": "european-deployment",
   "metadata": {},
   "outputs": [
    {
     "name": "stdout",
     "output_type": "stream",
     "text": [
      "Élément numéro 0 : hamburger\n",
      "Élément numéro 1 : frites\n",
      "Élément numéro 2 : boisson\n"
     ]
    }
   ],
   "source": [
    "for i, elem in enumerate(repas):\n",
    "    print(\"Élément numéro\", i, \":\", elem)"
   ]
  },
  {
   "cell_type": "markdown",
   "id": "bronze-fellow",
   "metadata": {},
   "source": [
    "Ce qu'il se passe ici est que la fonction ```enumerate``` nous donne une liste de paires qui sont prises une par une dans la boucle ```for```. La notation ```i, elem``` dans l'en-tête de la boucle ```for``` fait correspondre ```i``` au premier élément de la paire, et ```elem``` au deuxième. On reviendra sur cette fonctionnalité de pattern-matching dans la section sur les tuples."
   ]
  },
  {
   "cell_type": "markdown",
   "id": "involved-climb",
   "metadata": {},
   "source": [
    "#### Modification d'une liste\n",
    "\n",
    "Une liste est modifiable: on peut ajouter ou supprimer des éléments, et on peut les remplacer par d'autres.\n",
    "\n",
    "Pour remplacer un élément, il suffit d'écrire une affectation vers la variable qui désigne l'élément à remplacer, par sa position: "
   ]
  },
  {
   "cell_type": "code",
   "execution_count": 24,
   "id": "convertible-raise",
   "metadata": {},
   "outputs": [],
   "source": [
    "repas[0] = \"hot-dog\""
   ]
  },
  {
   "cell_type": "code",
   "execution_count": 25,
   "id": "bored-softball",
   "metadata": {},
   "outputs": [
    {
     "data": {
      "text/plain": [
       "['hot-dog', 'frites', 'boisson']"
      ]
     },
     "execution_count": 25,
     "metadata": {},
     "output_type": "execute_result"
    }
   ],
   "source": [
    "repas"
   ]
  },
  {
   "cell_type": "markdown",
   "id": "inappropriate-plane",
   "metadata": {},
   "source": [
    "On peut même utiliser des _slice_ pour rempalcer plusieurs éléments d'un coup:"
   ]
  },
  {
   "cell_type": "code",
   "execution_count": 26,
   "id": "administrative-investigation",
   "metadata": {},
   "outputs": [],
   "source": [
    "repas[0:2]= ['saumon', 'salade verte']"
   ]
  },
  {
   "cell_type": "code",
   "execution_count": 27,
   "id": "great-dictionary",
   "metadata": {},
   "outputs": [
    {
     "data": {
      "text/plain": [
       "['saumon', 'salade verte', 'boisson']"
      ]
     },
     "execution_count": 27,
     "metadata": {},
     "output_type": "execute_result"
    }
   ],
   "source": [
    "repas"
   ]
  },
  {
   "cell_type": "markdown",
   "id": "indirect-administrator",
   "metadata": {},
   "source": [
    "Pour ajouter un élément, on utilise la fonction _append_. \n",
    "La syntaxe est un peu particulière, car la fonction append 'appartient' au type liste (en terminologie de programmation orienté-objet, c'est une méthode de la classe liste). La syntaxe pour utiliser la fonction append est donc une syntaxe orientée-objet:"
   ]
  },
  {
   "cell_type": "code",
   "execution_count": 28,
   "id": "middle-bathroom",
   "metadata": {},
   "outputs": [],
   "source": [
    "repas.append(\"creme glacée\")"
   ]
  },
  {
   "cell_type": "markdown",
   "id": "previous-dragon",
   "metadata": {},
   "source": [
    "On applique ainsi l'ajout à la liste ```repas```.\n",
    "\n",
    "Remarquer que la fonction ```append``` ne _retourne_ rien mais modifie la liste:"
   ]
  },
  {
   "cell_type": "code",
   "execution_count": 29,
   "id": "standing-pixel",
   "metadata": {},
   "outputs": [
    {
     "data": {
      "text/plain": [
       "['saumon', 'salade verte', 'boisson', 'creme glacée']"
      ]
     },
     "execution_count": 29,
     "metadata": {},
     "output_type": "execute_result"
    }
   ],
   "source": [
    "repas"
   ]
  },
  {
   "cell_type": "markdown",
   "id": "private-increase",
   "metadata": {},
   "source": [
    "On pourrait aussi allonger la liste ```repas``` en utilisant la concaténation:"
   ]
  },
  {
   "cell_type": "code",
   "execution_count": 30,
   "id": "other-smoke",
   "metadata": {},
   "outputs": [],
   "source": [
    "repas = repas + ['café']"
   ]
  },
  {
   "cell_type": "markdown",
   "id": "flexible-mattress",
   "metadata": {},
   "source": [
    "Remarquer que la concaténation se fait entre deux listes: il est donc nécessaire de créer une liste d'un élément (i.e. ```['café']``` plutôt que juste ```'café'```) avec l'élément à ajouter.\n",
    "\n",
    "Autre remarque: par cette affectation, on n'a pas techniquement _modifié_ une liste existante: la partie droite de l'affectation _crée une nouvelle liste_ ```repas + [café]```, et le résultat est ensuite affecté à la variable ```repas```.\n",
    "\n",
    "La distinction est importante à cause de l'association entre variables et valeurs en Python (et dans les langages orienté-objet en général).\n",
    "\n",
    "### Aparté: Objets modifiables en Python\n",
    "\n",
    "Comme on a vu juste avant, les listes sont des objets modifiables. Ceci a des conséquences importantes sur les concepts d'_égalité_ et d'_identité_: deux objets sont-ils \"pareils\" ou bien \"le même objet\"?\n",
    "\n",
    "Considérons par exemple les variables ```repas1```, ```repas2``` et ```repas3``` suivantes:"
   ]
  },
  {
   "cell_type": "code",
   "execution_count": 31,
   "id": "divided-remedy",
   "metadata": {},
   "outputs": [],
   "source": [
    "repas1 = ['bacon', 'oeufs']\n",
    "repas2 = ['bacon', 'oeufs']\n",
    "repas3 = repas2"
   ]
  },
  {
   "cell_type": "markdown",
   "id": "alive-envelope",
   "metadata": {},
   "source": [
    "Les trois listes sont \"égales\" au sens où elles contiennent les mêmes éléments, et ceci se reflète par les égalités suivantes:"
   ]
  },
  {
   "cell_type": "code",
   "execution_count": 32,
   "id": "quiet-appreciation",
   "metadata": {},
   "outputs": [
    {
     "data": {
      "text/plain": [
       "True"
      ]
     },
     "execution_count": 32,
     "metadata": {},
     "output_type": "execute_result"
    }
   ],
   "source": [
    "repas1==repas2"
   ]
  },
  {
   "cell_type": "code",
   "execution_count": 33,
   "id": "partial-supervisor",
   "metadata": {},
   "outputs": [
    {
     "data": {
      "text/plain": [
       "True"
      ]
     },
     "execution_count": 33,
     "metadata": {},
     "output_type": "execute_result"
    }
   ],
   "source": [
    "repas2==repas3"
   ]
  },
  {
   "cell_type": "markdown",
   "id": "adjusted-journalism",
   "metadata": {},
   "source": [
    "Cependant, les listes ```repas2``` et ```repas3``` sont \"encore plus égales\", car elles sont associées avec une seule et même liste en mémoire (c'est le résultat de l'affectation).\n",
    "\n",
    "On peut tester cela avec le mot-clé ```is``` qui nous dit que deux variables se réfèrent _au même objet_:"
   ]
  },
  {
   "cell_type": "code",
   "execution_count": 34,
   "id": "progressive-vehicle",
   "metadata": {},
   "outputs": [
    {
     "data": {
      "text/plain": [
       "False"
      ]
     },
     "execution_count": 34,
     "metadata": {},
     "output_type": "execute_result"
    }
   ],
   "source": [
    "repas1 is repas2"
   ]
  },
  {
   "cell_type": "code",
   "execution_count": 35,
   "id": "ranging-weekend",
   "metadata": {},
   "outputs": [
    {
     "data": {
      "text/plain": [
       "True"
      ]
     },
     "execution_count": 35,
     "metadata": {},
     "output_type": "execute_result"
    }
   ],
   "source": [
    "repas2 is repas3"
   ]
  },
  {
   "cell_type": "markdown",
   "id": "unavailable-trial",
   "metadata": {},
   "source": [
    "Pour bien comprendre les conséquences de cette égalité/identité, on peut modifier la liste ```repas2```, et voir l'effet sur les autres listes:"
   ]
  },
  {
   "cell_type": "code",
   "execution_count": 36,
   "id": "public-exhibition",
   "metadata": {},
   "outputs": [],
   "source": [
    "repas2.append('café')"
   ]
  },
  {
   "cell_type": "code",
   "execution_count": 37,
   "id": "latest-graduate",
   "metadata": {},
   "outputs": [
    {
     "data": {
      "text/plain": [
       "['bacon', 'oeufs', 'café']"
      ]
     },
     "execution_count": 37,
     "metadata": {},
     "output_type": "execute_result"
    }
   ],
   "source": [
    "repas2"
   ]
  },
  {
   "cell_type": "markdown",
   "id": "higher-commissioner",
   "metadata": {},
   "source": [
    "On a rajouté un élément à ```repas2```.\n",
    "\n",
    "Comme on peut s'y attendre, ```repas1``` n'a pas changé:"
   ]
  },
  {
   "cell_type": "code",
   "execution_count": 38,
   "id": "alive-corps",
   "metadata": {},
   "outputs": [
    {
     "data": {
      "text/plain": [
       "['bacon', 'oeufs']"
      ]
     },
     "execution_count": 38,
     "metadata": {},
     "output_type": "execute_result"
    }
   ],
   "source": [
    "repas1"
   ]
  },
  {
   "cell_type": "markdown",
   "id": "formal-recall",
   "metadata": {},
   "source": [
    "En revanche, quand on disait que ```repas2``` et ```repas3``` sont _la même liste_, c'est que ```repas3``` a changé:"
   ]
  },
  {
   "cell_type": "code",
   "execution_count": 39,
   "id": "wrong-fitting",
   "metadata": {},
   "outputs": [
    {
     "data": {
      "text/plain": [
       "['bacon', 'oeufs', 'café']"
      ]
     },
     "execution_count": 39,
     "metadata": {},
     "output_type": "execute_result"
    }
   ],
   "source": [
    "repas3"
   ]
  },
  {
   "cell_type": "markdown",
   "id": "ruled-generation",
   "metadata": {},
   "source": [
    "À retenir de ceci: avec des objets _modifiables_ (dont les listes et les dictionnaires), il faut avoir conscience que si on \"copie\" une variable en écrivant une affectation du genre ```liste2=liste1```, les deux variables sont deux références _au même objet_. Si on veut dupliquer une liste (ou tout autre objet modifiable), il faut le faire explicitement.  "
   ]
  },
  {
   "cell_type": "markdown",
   "id": "pleasant-marshall",
   "metadata": {},
   "source": [
    "### Exercices\n"
   ]
  },
  {
   "cell_type": "markdown",
   "id": "optimum-attempt",
   "metadata": {},
   "source": [
    "Quelques exercices sur les listes, où on va extraire les mots d'un texte et faire des choses sur cette liste.\n",
    "\n",
    "On part d'un texte sous forme de String:"
   ]
  },
  {
   "cell_type": "code",
   "execution_count": 40,
   "id": "certified-grave",
   "metadata": {},
   "outputs": [],
   "source": [
    "texte = \"La vie est courte, l'art est long, l'occasion fugitive, l'expérience trompeuse, le jugement difficile.\""
   ]
  },
  {
   "cell_type": "markdown",
   "id": "animal-tissue",
   "metadata": {},
   "source": [
    "On extrait la liste de mots à l'aide d'une expression régulière:"
   ]
  },
  {
   "cell_type": "code",
   "execution_count": 41,
   "id": "empty-fundamentals",
   "metadata": {},
   "outputs": [],
   "source": [
    "import re # importer la bibliothèque des expressions régulières\n",
    "mots = re.findall('[a-z|é|è|ê|à|â|ô|ë|ï|ü]+', texte.lower()) # extraire toutes les séquences de lettres"
   ]
  },
  {
   "cell_type": "markdown",
   "id": "reported-isaac",
   "metadata": {},
   "source": [
    "Ceci nous donne les mots du texte en minuscules, dans une liste:"
   ]
  },
  {
   "cell_type": "code",
   "execution_count": 42,
   "id": "outside-preservation",
   "metadata": {},
   "outputs": [
    {
     "data": {
      "text/plain": [
       "['la',\n",
       " 'vie',\n",
       " 'est',\n",
       " 'courte',\n",
       " 'l',\n",
       " 'art',\n",
       " 'est',\n",
       " 'long',\n",
       " 'l',\n",
       " 'occasion',\n",
       " 'fugitive',\n",
       " 'l',\n",
       " 'expérience',\n",
       " 'trompeuse',\n",
       " 'le',\n",
       " 'jugement',\n",
       " 'difficile']"
      ]
     },
     "execution_count": 42,
     "metadata": {},
     "output_type": "execute_result"
    }
   ],
   "source": [
    "mots"
   ]
  },
  {
   "cell_type": "markdown",
   "id": "violent-trinity",
   "metadata": {},
   "source": [
    "On applique les mêmes opérations à un texte plus long:"
   ]
  },
  {
   "cell_type": "code",
   "execution_count": 43,
   "id": "patent-natural",
   "metadata": {},
   "outputs": [],
   "source": [
    "serment = \"\"\"\"\n",
    "Je jure par Apollon, médecin, par Esculape, par Hygie et Panacée, par tous les dieux et\n",
    "toutes les déesses, les prenant à témoin que je remplirai, suivant mes forces et ma\n",
    "capacité, le serment et l’engagement suivant :\n",
    "« Je mettrai mon maître de médecin au même rang que les auteurs de mes jours, je\n",
    "partagerai avec lui mon avoir et, le cas échéant, je pourvoirai à ses besoins; je\n",
    "tiendrai ses enfants pour des frères, et, s’ils désirent apprendre la médecine, je la\n",
    "leur enseignerai sans salaire ni engagement. Je ferai part des préceptes, des leçons\n",
    "orales et du reste de l’enseignement à mes fils, à ceux de mon maître et aux\n",
    "disciples liés par engagement et un serment suivant la loi médicale, mais à nul\n",
    "autre. Je dirigerai le régime des malades à leur avantage, suivant mes forces et\n",
    "mon jugement, et je m’abstiendrai de tout mal et de toute injustice.\n",
    "« Je ne remettrai à personne du poison, si on m’en demande, ni ne prendrai\n",
    "l’initiative d’une pareille suggestion; semblablement, je ne remettrai à aucune\n",
    "femme un pessaire abortif, je passerai ma vie et j’exercerai mon art dans\n",
    "l’innocence et la pureté. Je ne pratiquerai pas l’opération de la taille. Dans\n",
    "quelque maison que j’entre, j’y entrerai pour l’utilité des malades, me préservant\n",
    "de tout méfait volontaire et corrupteur, et surtout de la séduction des femmes et\n",
    "des garçons, libres ou esclaves. Quoi que je voie ou entende dans la société\n",
    "pendant l’exercice ou même hors de l’exercice de ma profession, je tairai ce qui\n",
    "n’a jamais besoin d’être divulgué, regardant la discrétion comme un devoir en\n",
    "pareil cas.\n",
    "« Si je remplis ce serment sans l’enfreindre, qu’il me soit donné de jouir\n",
    "heureusement de la vie et de ma profession, honoré à jamais des hommes; si je le\n",
    "viole et que je me parjure, puissé-je avoir un sort contraire. »\n",
    "\"\"\"\n",
    "mots = re.findall('[a-z|é|è|ê|à|â|ô|ë|ï|ü]+', serment.lower())"
   ]
  },
  {
   "cell_type": "markdown",
   "id": "wireless-lying",
   "metadata": {},
   "source": [
    "La liste ```mots``` ainsi obtenue est la base pour les questions suivantes.\n",
    "\n",
    "__1.1__ Dans cette liste de mots, calculer la longueur moyenne des mots"
   ]
  },
  {
   "cell_type": "code",
   "execution_count": null,
   "id": "flying-soviet",
   "metadata": {},
   "outputs": [],
   "source": []
  },
  {
   "cell_type": "markdown",
   "id": "recognized-backing",
   "metadata": {},
   "source": [
    "__1.2__ Trouver tous les mots commençant par la lettre a (avec ou sans accent), et en faire une liste."
   ]
  },
  {
   "cell_type": "code",
   "execution_count": null,
   "id": "transparent-intention",
   "metadata": {},
   "outputs": [],
   "source": []
  },
  {
   "cell_type": "markdown",
   "id": "innovative-vaccine",
   "metadata": {},
   "source": [
    "__1.3__ Trouver le mot le plus long"
   ]
  },
  {
   "cell_type": "code",
   "execution_count": null,
   "id": "governmental-incidence",
   "metadata": {},
   "outputs": [],
   "source": []
  },
  {
   "cell_type": "markdown",
   "id": "therapeutic-wings",
   "metadata": {},
   "source": [
    "__1.4__ Afficher toutes les séquences d'au moins 3 mots de longueur croissante (exemple ```['je', 'la', 'leur', 'enseignerai']```)"
   ]
  },
  {
   "cell_type": "code",
   "execution_count": null,
   "id": "therapeutic-voluntary",
   "metadata": {},
   "outputs": [],
   "source": [
    "       "
   ]
  },
  {
   "cell_type": "markdown",
   "id": "controversial-behavior",
   "metadata": {},
   "source": [
    "__1.5__ Trouver _la plus longue_ séquence de mots de longueur croissante"
   ]
  },
  {
   "cell_type": "code",
   "execution_count": null,
   "id": "through-utility",
   "metadata": {},
   "outputs": [],
   "source": []
  },
  {
   "cell_type": "markdown",
   "id": "signal-moment",
   "metadata": {},
   "source": [
    "## Tuples\n",
    "\n",
    "Les tuples sont semblables à des listes, au sens où ce sont aussi des séquences de valeurs de types quelconques. \n",
    "\n",
    "La principale différence est qu'un tuple est _immuable_, ce qui veut dire qu'on ne peut pas le modifier. Comme on vient de le voir au-dessus, ceci a d'importantes conséquences pratiques sur la manière dont on raisonne sur les objets dans un programme. D'autre part, il y a un intérêt pratique quand on veut utiliser une séquence de valeurs comme clé d'un dictionnaire (voir plus loin): on peut utiliser un tuple mais pas une liste.  \n",
    "\n",
    "Un tuple s'écrit comme une liste, sauf que les crochets sont remplacés par des parenthèses:"
   ]
  },
  {
   "cell_type": "code",
   "execution_count": 44,
   "id": "temporal-signature",
   "metadata": {},
   "outputs": [],
   "source": [
    "mousquetaires = (\"Athos\", \"Porthos\", \"Aramis\")"
   ]
  },
  {
   "cell_type": "code",
   "execution_count": 45,
   "id": "historic-porter",
   "metadata": {},
   "outputs": [
    {
     "data": {
      "text/plain": [
       "('Athos', 'Porthos', 'Aramis')"
      ]
     },
     "execution_count": 45,
     "metadata": {},
     "output_type": "execute_result"
    }
   ],
   "source": [
    "mousquetaires"
   ]
  },
  {
   "cell_type": "markdown",
   "id": "minus-customs",
   "metadata": {},
   "source": [
    "Dans la plupart des cas, les parenthèses sont optionnelles:"
   ]
  },
  {
   "cell_type": "code",
   "execution_count": 46,
   "id": "express-talent",
   "metadata": {},
   "outputs": [],
   "source": [
    "comiques = \"laurel\", \"hardy\""
   ]
  },
  {
   "cell_type": "code",
   "execution_count": 47,
   "id": "smart-cable",
   "metadata": {
    "scrolled": true
   },
   "outputs": [
    {
     "data": {
      "text/plain": [
       "('laurel', 'hardy')"
      ]
     },
     "execution_count": 47,
     "metadata": {},
     "output_type": "execute_result"
    }
   ],
   "source": [
    "comiques"
   ]
  },
  {
   "cell_type": "markdown",
   "id": "looking-village",
   "metadata": {},
   "source": [
    "Noter qu'on pourrait aussi utiliser deux variables à gauche de l'affectation:"
   ]
  },
  {
   "cell_type": "code",
   "execution_count": 48,
   "id": "invisible-poison",
   "metadata": {},
   "outputs": [],
   "source": [
    "maigre, gros = \"laurel\", \"hardy\""
   ]
  },
  {
   "cell_type": "code",
   "execution_count": 49,
   "id": "encouraging-likelihood",
   "metadata": {},
   "outputs": [
    {
     "data": {
      "text/plain": [
       "'hardy'"
      ]
     },
     "execution_count": 49,
     "metadata": {},
     "output_type": "execute_result"
    }
   ],
   "source": [
    "gros"
   ]
  },
  {
   "cell_type": "markdown",
   "id": "random-pilot",
   "metadata": {},
   "source": [
    "Ici la partie droite est implicitement un tuple, et à gauche Python fait un \"pattern-matching\" pour décomposer ce tuple en deux et faire les affectations séparément. On peut aussi utiliser ces \"affectations multiples\" pour décomposer un tuple:"
   ]
  },
  {
   "cell_type": "code",
   "execution_count": 50,
   "id": "terminal-january",
   "metadata": {},
   "outputs": [],
   "source": [
    "moustachu, barbu, chevelu = mousquetaires"
   ]
  },
  {
   "cell_type": "code",
   "execution_count": 51,
   "id": "official-antarctica",
   "metadata": {},
   "outputs": [
    {
     "data": {
      "text/plain": [
       "'Porthos'"
      ]
     },
     "execution_count": 51,
     "metadata": {},
     "output_type": "execute_result"
    }
   ],
   "source": [
    "barbu"
   ]
  },
  {
   "cell_type": "markdown",
   "id": "insured-question",
   "metadata": {},
   "source": [
    "Lorsqu'on veut écrire une fonction qui retourne plusieurs valeurs, on utilise normalement un tuple:"
   ]
  },
  {
   "cell_type": "code",
   "execution_count": 52,
   "id": "failing-number",
   "metadata": {},
   "outputs": [],
   "source": [
    "def macandcheese(garniture):\n",
    "    return \"mac\", \"cheese\", garniture"
   ]
  },
  {
   "cell_type": "code",
   "execution_count": 53,
   "id": "institutional-sauce",
   "metadata": {},
   "outputs": [],
   "source": [
    "repas = macandcheese(\"brocoli\")"
   ]
  },
  {
   "cell_type": "code",
   "execution_count": 54,
   "id": "occupational-values",
   "metadata": {},
   "outputs": [
    {
     "data": {
      "text/plain": [
       "('mac', 'cheese', 'brocoli')"
      ]
     },
     "execution_count": 54,
     "metadata": {},
     "output_type": "execute_result"
    }
   ],
   "source": [
    "repas"
   ]
  },
  {
   "cell_type": "markdown",
   "id": "aerial-prince",
   "metadata": {},
   "source": [
    "### Opérations sur les tuples\n",
    "\n",
    "On peut accéder aux valeurs d'un tuple de la même manière qu'on accède aux valeurs d'une liste:"
   ]
  },
  {
   "cell_type": "code",
   "execution_count": 55,
   "id": "major-marshall",
   "metadata": {},
   "outputs": [
    {
     "data": {
      "text/plain": [
       "'Athos'"
      ]
     },
     "execution_count": 55,
     "metadata": {},
     "output_type": "execute_result"
    }
   ],
   "source": [
    "mousquetaires[0]"
   ]
  },
  {
   "cell_type": "markdown",
   "id": "reflected-cattle",
   "metadata": {},
   "source": [
    "Les opérateurs ```+``` et ```in``` sont aussi utilisables avec des tuples:"
   ]
  },
  {
   "cell_type": "code",
   "execution_count": 56,
   "id": "occupational-advantage",
   "metadata": {},
   "outputs": [
    {
     "data": {
      "text/plain": [
       "False"
      ]
     },
     "execution_count": 56,
     "metadata": {},
     "output_type": "execute_result"
    }
   ],
   "source": [
    "\"d'Artagnan\" in mousquetaires"
   ]
  },
  {
   "cell_type": "code",
   "execution_count": 57,
   "id": "antique-accordance",
   "metadata": {},
   "outputs": [
    {
     "data": {
      "text/plain": [
       "('Athos', 'Porthos', 'Aramis', \"d'Artagnan\", 'Richelieu', 'Milady')"
      ]
     },
     "execution_count": 57,
     "metadata": {},
     "output_type": "execute_result"
    }
   ],
   "source": [
    "mousquetaires + (\"d'Artagnan\", \"Richelieu\", \"Milady\")"
   ]
  },
  {
   "cell_type": "markdown",
   "id": "rotary-bangkok",
   "metadata": {},
   "source": [
    "On peut utiliser une boucle ```for``` pour énumérer les éléments d'un tuple:"
   ]
  },
  {
   "cell_type": "code",
   "execution_count": 58,
   "id": "partial-surgery",
   "metadata": {},
   "outputs": [
    {
     "name": "stdout",
     "output_type": "stream",
     "text": [
      "Athos\n",
      "Porthos\n",
      "Aramis\n"
     ]
    }
   ],
   "source": [
    "for m in mousquetaires:\n",
    "    print(m)"
   ]
  },
  {
   "cell_type": "markdown",
   "id": "biological-trance",
   "metadata": {},
   "source": [
    "Cependant, en général pour des séquences longues qu'on voudrait énumérer à l'aide d'une boucle, on utilise plutôt une liste. Ceci n'est pas une règle stricte, mais simplement une bonne pratique qui reflète les raisons d'être de ces deux types de conteneurs de données.\n",
    "\n",
    "Comme indiqué plus haut, on ne peut pas modifier ou ajouter de valeurs à un tuple:"
   ]
  },
  {
   "cell_type": "code",
   "execution_count": 59,
   "id": "efficient-contract",
   "metadata": {},
   "outputs": [
    {
     "ename": "TypeError",
     "evalue": "'tuple' object does not support item assignment",
     "output_type": "error",
     "traceback": [
      "\u001b[0;31m---------------------------------------------------------------------------\u001b[0m",
      "\u001b[0;31mTypeError\u001b[0m                                 Traceback (most recent call last)",
      "\u001b[0;32m<ipython-input-59-8db740f88f90>\u001b[0m in \u001b[0;36m<module>\u001b[0;34m\u001b[0m\n\u001b[0;32m----> 1\u001b[0;31m \u001b[0mmousquetaires\u001b[0m\u001b[0;34m[\u001b[0m\u001b[0;36m0\u001b[0m\u001b[0;34m]\u001b[0m\u001b[0;34m=\u001b[0m\u001b[0;34m\"Zorro\"\u001b[0m\u001b[0;34m\u001b[0m\u001b[0;34m\u001b[0m\u001b[0m\n\u001b[0m",
      "\u001b[0;31mTypeError\u001b[0m: 'tuple' object does not support item assignment"
     ]
    }
   ],
   "source": [
    "mousquetaires[0]=\"Zorro\""
   ]
  },
  {
   "cell_type": "code",
   "execution_count": 60,
   "id": "stupid-brown",
   "metadata": {},
   "outputs": [
    {
     "ename": "AttributeError",
     "evalue": "'tuple' object has no attribute 'append'",
     "output_type": "error",
     "traceback": [
      "\u001b[0;31m---------------------------------------------------------------------------\u001b[0m",
      "\u001b[0;31mAttributeError\u001b[0m                            Traceback (most recent call last)",
      "\u001b[0;32m<ipython-input-60-e5beab4f9671>\u001b[0m in \u001b[0;36m<module>\u001b[0;34m\u001b[0m\n\u001b[0;32m----> 1\u001b[0;31m \u001b[0mmousquetaires\u001b[0m\u001b[0;34m.\u001b[0m\u001b[0mappend\u001b[0m\u001b[0;34m(\u001b[0m\u001b[0;34m\"d'Artagnan\"\u001b[0m\u001b[0;34m)\u001b[0m\u001b[0;34m\u001b[0m\u001b[0;34m\u001b[0m\u001b[0m\n\u001b[0m",
      "\u001b[0;31mAttributeError\u001b[0m: 'tuple' object has no attribute 'append'"
     ]
    }
   ],
   "source": [
    "mousquetaires.append(\"d'Artagnan\")"
   ]
  },
  {
   "cell_type": "markdown",
   "id": "civil-rehabilitation",
   "metadata": {},
   "source": [
    "### Exercice\n",
    "\n",
    "On reprend la liste de mots de l'exercice 1.1.\n",
    "\n",
    "__2.1__ À partir de cette liste de mots, créer une liste de tuples de la forme ```[(\"mot\", longueur du mot),(\"mot2\", longueur du mot2)...]```, avec tous les mots du texte et leur longueur."
   ]
  },
  {
   "cell_type": "code",
   "execution_count": null,
   "id": "underlying-ministry",
   "metadata": {},
   "outputs": [],
   "source": []
  },
  {
   "cell_type": "markdown",
   "id": "dangerous-tunisia",
   "metadata": {},
   "source": [
    "__2.2__ Écrire une fonction ```mvc```qui prend un mot en entrée (un string) et retourne un tuple ```(mot, nombre_voyelles, nombre_consonnes)```, où ```mot``` est le mot passé en paramètre, ```nombre_voyelles``` est le nombre de voyelles contenues dans le mot, et ```nombre_consonnes``` est le nombre de consonnes."
   ]
  },
  {
   "cell_type": "code",
   "execution_count": null,
   "id": "adolescent-communist",
   "metadata": {},
   "outputs": [],
   "source": []
  },
  {
   "cell_type": "markdown",
   "id": "quarterly-fence",
   "metadata": {},
   "source": [
    "__2.3__ En utilisant la fonction de la question précédente, créer une nouvelle liste de tuples similaire à celle de l'exercice 2.1, mais avec des tuples de 3 éléments ```(\"mot\", nombre_voyelles, nombre_consonnes)```"
   ]
  },
  {
   "cell_type": "markdown",
   "id": "asian-disease",
   "metadata": {},
   "source": [
    "## Dictionnaires\n",
    "\n",
    "Un _dictionnaire_ est une structure associative, où on a des \"clés\" et des \"valeurs\" associées.\n",
    "\n",
    "Le terme \"dictionnaire\" vient de l'analogie avec un dictionnaire où on va aller chercher un mot (la clé) et obtenir la définition correpondante (la valeur).\n",
    "\n",
    "On écrit un dictionnaire entre accolades, sous forme de séquence de paires clé-valeur sépárées par des virgules. Chaque paire clé-valeur est écrite séparée par un deux-points."
   ]
  },
  {
   "cell_type": "code",
   "execution_count": 61,
   "id": "banned-animal",
   "metadata": {},
   "outputs": [],
   "source": [
    "dictionnaire = {\"python\": \"un type de serpent\", \"java\": \"une ile de l'archipel indonésien\", \"c\": \"la troisième lettre de l'alphabet\" }"
   ]
  },
  {
   "cell_type": "markdown",
   "id": "graphic-sellers",
   "metadata": {},
   "source": [
    "On peut créer un dictionnaire vide en utilisant la notation ```{}```, et ajouter des éléments en associant des valeurs à des clés:"
   ]
  },
  {
   "cell_type": "code",
   "execution_count": 62,
   "id": "favorite-application",
   "metadata": {},
   "outputs": [],
   "source": [
    "contacts = {}\n",
    "contacts[\"Bill\"] = \"bill.gates@microsoft.com\"\n",
    "contacts[\"Sundar\"] = \"sundar.pichai@google.com\""
   ]
  },
  {
   "cell_type": "code",
   "execution_count": 63,
   "id": "selective-disease",
   "metadata": {},
   "outputs": [
    {
     "data": {
      "text/plain": [
       "{'Bill': 'bill.gates@microsoft.com', 'Sundar': 'sundar.pichai@google.com'}"
      ]
     },
     "execution_count": 63,
     "metadata": {},
     "output_type": "execute_result"
    }
   ],
   "source": [
    "contacts"
   ]
  },
  {
   "cell_type": "markdown",
   "id": "confidential-leeds",
   "metadata": {},
   "source": [
    "Contrairement aux listes et tuples, les éléments d'un dictionnaire ne sont pas ordonnés: il n'y a pas de concept de premier, deuxième, ou dernier élément. Si on considère que les éléments des listes et tuples sont \"indexés\" par les nombres entiers 0, 1, 2...n, alors on peut considérer dans un dictionnaire les _valeurs_ sont indexées par les _clés_. \n",
    "Ceci se reflète dans la manière dont modifie les éléments d'un dictionnaire, et dans la manière dont on accède aux données.\n",
    "\n",
    "### Opérations sur les dictionnaires\n",
    "\n",
    "#### Accéder aux données\n",
    "Pour accéder aux valeurs d'un dictionnaire (et ici on parle bien des _valeurs_ dans les paires clés-valeurs), on utilise les clés comme \"indices\" et la notation avec des crochets:"
   ]
  },
  {
   "cell_type": "code",
   "execution_count": 64,
   "id": "reverse-surprise",
   "metadata": {},
   "outputs": [
    {
     "data": {
      "text/plain": [
       "'un type de serpent'"
      ]
     },
     "execution_count": 64,
     "metadata": {},
     "output_type": "execute_result"
    }
   ],
   "source": [
    "dictionnaire[\"python\"]"
   ]
  },
  {
   "cell_type": "markdown",
   "id": "russian-perry",
   "metadata": {},
   "source": [
    "Cette manière d'accéder aux valeurs à partir des clés sous-entend qu'on connaisse les clés. \n",
    "\n",
    "#### Modifier un dictionnaire\n",
    "On a vu au-dessus qu'on peut ajouter des éléments à un dictionnaire, en associant une valeur à une clé. Il est important de noter que cette même façon de faire nous permet aussi de _modifier_ le dictionnaire, en changeant la valeur associée à une clé existante:"
   ]
  },
  {
   "cell_type": "code",
   "execution_count": 65,
   "id": "extra-module",
   "metadata": {},
   "outputs": [],
   "source": [
    "contacts[\"Bill\"] = \"bill.gates@gates_foundation.com\""
   ]
  },
  {
   "cell_type": "markdown",
   "id": "reliable-james",
   "metadata": {},
   "source": [
    "On constate que l'ancienne valeur associée à la clé ```\"Bill\"``` a disparu:"
   ]
  },
  {
   "cell_type": "code",
   "execution_count": 66,
   "id": "previous-truck",
   "metadata": {},
   "outputs": [
    {
     "data": {
      "text/plain": [
       "{'Bill': 'bill.gates@gates_foundation.com',\n",
       " 'Sundar': 'sundar.pichai@google.com'}"
      ]
     },
     "execution_count": 66,
     "metadata": {},
     "output_type": "execute_result"
    }
   ],
   "source": [
    "contacts"
   ]
  },
  {
   "cell_type": "markdown",
   "id": "boring-garden",
   "metadata": {},
   "source": [
    "Ceci garantit que les clés sont uniques: si on essaye d'ajouter une paire clé-valeur où la clé existe déjà, l'ancienne paire est supprimée. Il ne peut donc pas y avoir de clés dupliquées.\n",
    "\n",
    "L'autre manière dont on peut vouloir modifier un dictionnaire est en supprimant les paires clés-valeurs. Ceci peut se faire avec la méthode ```pop()```, toujours en accédant à la paire par la clé. L'appel de la méthode retourne la valeur associée à la clé, et enlève la paire du dictionnaire:"
   ]
  },
  {
   "cell_type": "code",
   "execution_count": 67,
   "id": "opened-ownership",
   "metadata": {},
   "outputs": [
    {
     "data": {
      "text/plain": [
       "'sundar.pichai@google.com'"
      ]
     },
     "execution_count": 67,
     "metadata": {},
     "output_type": "execute_result"
    }
   ],
   "source": [
    "contacts.pop(\"Sundar\")"
   ]
  },
  {
   "cell_type": "code",
   "execution_count": 68,
   "id": "legitimate-offering",
   "metadata": {},
   "outputs": [
    {
     "data": {
      "text/plain": [
       "{'Bill': 'bill.gates@gates_foundation.com'}"
      ]
     },
     "execution_count": 68,
     "metadata": {},
     "output_type": "execute_result"
    }
   ],
   "source": [
    "contacts"
   ]
  },
  {
   "cell_type": "markdown",
   "id": "weighted-ballet",
   "metadata": {},
   "source": [
    "#### Appartenance et énumération\n",
    "\n",
    "Pour énumérer les données d'un dictionnaire, ou pour vérifier l'appartenance d'éléments, on peut utiliser les techniques applicables à des listes et tuples (l'opérateur ```in``` et la boucle ```for```, en particulier), mais on les utilise comme si le dictionnaire était seulement une collection des clés (et non pas des valeurs):"
   ]
  },
  {
   "cell_type": "code",
   "execution_count": 69,
   "id": "applied-omega",
   "metadata": {},
   "outputs": [
    {
     "data": {
      "text/plain": [
       "True"
      ]
     },
     "execution_count": 69,
     "metadata": {},
     "output_type": "execute_result"
    }
   ],
   "source": [
    "\"python\" in dictionnaire"
   ]
  },
  {
   "cell_type": "code",
   "execution_count": 70,
   "id": "czech-crack",
   "metadata": {},
   "outputs": [
    {
     "data": {
      "text/plain": [
       "False"
      ]
     },
     "execution_count": 70,
     "metadata": {},
     "output_type": "execute_result"
    }
   ],
   "source": [
    "'un type de serpent' in dictionnaire"
   ]
  },
  {
   "cell_type": "markdown",
   "id": "organizational-foundation",
   "metadata": {},
   "source": [
    "Comme on peut le voir, ```in``` nous indique quelles _clés_ sont présentes.\n",
    "\n",
    "De la même façon, une boucle ```for``` nous permet d'énumérer les clés:"
   ]
  },
  {
   "cell_type": "code",
   "execution_count": 71,
   "id": "ahead-hamilton",
   "metadata": {},
   "outputs": [
    {
     "name": "stdout",
     "output_type": "stream",
     "text": [
      "python\n",
      "java\n",
      "c\n"
     ]
    }
   ],
   "source": [
    "for k in dictionnaire:\n",
    "    print(k)"
   ]
  },
  {
   "cell_type": "markdown",
   "id": "operational-immune",
   "metadata": {},
   "source": [
    "L'énumération des clés nous permet d'accéder à toutes les données du dictionnaire, en récupérant à chaque fois la valeur associée à une clé:"
   ]
  },
  {
   "cell_type": "code",
   "execution_count": 72,
   "id": "legislative-thermal",
   "metadata": {},
   "outputs": [
    {
     "name": "stdout",
     "output_type": "stream",
     "text": [
      "python => un type de serpent\n",
      "java => une ile de l'archipel indonésien\n",
      "c => la troisième lettre de l'alphabet\n"
     ]
    }
   ],
   "source": [
    "for k in dictionnaire:\n",
    "    print(k, \"=>\", dictionnaire[k])"
   ]
  },
  {
   "cell_type": "markdown",
   "id": "bigger-caribbean",
   "metadata": {},
   "source": [
    "Comme pour les listes, on pourrait utiliser ```enumerate``` pour obtenir des positions numériques pour les clés, mais il n'est pas recommandé de chercher à raisonner sur l'ordre des clés. Il est préférable de considérer les clés comme un ensemble (au sens _Set_, un ensemble non ordonné qui ne contient pas d'éléments en double). \n",
    "\n",
    "L'équivalent logique de ```enumerate``` pour les dictionnaires est plutôt d'accéder aux paires clés-valeurs, en utilisant la méthode ```items()```:"
   ]
  },
  {
   "cell_type": "code",
   "execution_count": 73,
   "id": "realistic-report",
   "metadata": {},
   "outputs": [
    {
     "name": "stdout",
     "output_type": "stream",
     "text": [
      "python => un type de serpent\n",
      "java => une ile de l'archipel indonésien\n",
      "c => la troisième lettre de l'alphabet\n"
     ]
    }
   ],
   "source": [
    "for k,v in dictionnaire.items():\n",
    "    print(k,\"=>\",  v)"
   ]
  },
  {
   "cell_type": "markdown",
   "id": "acute-secretariat",
   "metadata": {},
   "source": [
    "Pour certains cas d'utilisations, il peut être utile d'accéder directement à la liste de clés, ou à la liste de valeurs.\n",
    "\n",
    "Ces deux ensembles sont accessibles par les méthodes ```keys()``` et ```values```:"
   ]
  },
  {
   "cell_type": "code",
   "execution_count": 74,
   "id": "arabic-consortium",
   "metadata": {},
   "outputs": [
    {
     "data": {
      "text/plain": [
       "dict_keys(['Bill'])"
      ]
     },
     "execution_count": 74,
     "metadata": {},
     "output_type": "execute_result"
    }
   ],
   "source": [
    "contacts.keys()"
   ]
  },
  {
   "cell_type": "code",
   "execution_count": 75,
   "id": "distant-durham",
   "metadata": {},
   "outputs": [
    {
     "data": {
      "text/plain": [
       "dict_values(['bill.gates@gates_foundation.com'])"
      ]
     },
     "execution_count": 75,
     "metadata": {},
     "output_type": "execute_result"
    }
   ],
   "source": [
    "contacts.values()"
   ]
  },
  {
   "cell_type": "markdown",
   "id": "minus-innocent",
   "metadata": {},
   "source": [
    "Attention: les notations ```dict_keys``` et ```dict_values``` montrent qu'il ne s'agit pas de listes mais d'objets de types \"ensemble de clés de dictionnaire\" et \"ensemble de valeurs de dictionnaire\". \n",
    "\n",
    "On peut cependant les énumérer avec des boucles ```for```:"
   ]
  },
  {
   "cell_type": "code",
   "execution_count": 76,
   "id": "southeast-potter",
   "metadata": {},
   "outputs": [
    {
     "name": "stdout",
     "output_type": "stream",
     "text": [
      "python\n",
      "java\n",
      "c\n"
     ]
    }
   ],
   "source": [
    "for k in dictionnaire.keys():\n",
    "    print(k)"
   ]
  },
  {
   "cell_type": "code",
   "execution_count": 77,
   "id": "general-mistake",
   "metadata": {},
   "outputs": [
    {
     "name": "stdout",
     "output_type": "stream",
     "text": [
      "un type de serpent\n",
      "une ile de l'archipel indonésien\n",
      "la troisième lettre de l'alphabet\n"
     ]
    }
   ],
   "source": [
    "for v in dictionnaire.values():\n",
    "    print(v)"
   ]
  },
  {
   "cell_type": "markdown",
   "id": "accurate-kelly",
   "metadata": {},
   "source": [
    "On peut remarquer que l'énumération des clés pouvait se faire directement à l'aide de ```for k in dictionnaire``` (sans se référer explicitement à ```keys()```). L'énumération directe des valeurs peut avoir un intérêt dans quelques cas particuliers, mais l'énumération des clés et l'accès aux valeurs correspondantes est la technique la plus appropriée en général."
   ]
  },
  {
   "cell_type": "markdown",
   "id": "focused-occasions",
   "metadata": {},
   "source": [
    "### Exercices\n",
    "\n",
    "On reprend l'exercice où on manipule du texte.\n",
    "\n",
    "__1__: Écrire du code pour compter les occurences des différents mots. Pour chaque mot qui apparait dans le texte, on veut savoir combien de fois il apparait.\n",
    "\n",
    "Le résultat doit être un dictionnaire ```{\"mot\": compte}```.\n",
    "\n",
    "Méthode:\n",
    "(1) créer un dictionnaire vide.\n",
    "(2) Énumérer les mots du texte\n",
    "    Pour chaque mot:\n",
    " -> s'il n'est pas encore dans le dictionnaire, l'ajouter, avec un compte de 1\n",
    " -> s'il y est déjà, ajouter 1 au compte pour ce mot."
   ]
  },
  {
   "cell_type": "code",
   "execution_count": null,
   "id": "accomplished-criticism",
   "metadata": {},
   "outputs": [],
   "source": []
  },
  {
   "cell_type": "markdown",
   "id": "average-recording",
   "metadata": {},
   "source": [
    "__2__: Le dictionnaire suivant nous donne les points au Scrabble pour les différentes lettres:"
   ]
  },
  {
   "cell_type": "code",
   "execution_count": 78,
   "id": "imposed-double",
   "metadata": {},
   "outputs": [],
   "source": [
    "scrabble: {'A': 1,'B': 3,'C': 3,'D': 2,'E': 1,'F': 4,'G': 2,'H': 4,'I': 1,'J': 8,'K': 10, 'L': 1,'M': 2,'N': 1,'O': 1,'P': 3,'Q': 8,'R': 1,'S': 1,'T': 1,'U': 1,'V': 4,'W': 10, 'X': 10, 'Y':10, 'Z':10}"
   ]
  },
  {
   "cell_type": "markdown",
   "id": "mature-trust",
   "metadata": {},
   "source": [
    "Écrire une fonction qui calcule le score au scrabble pour un mot donné.\n",
    "Attention: il faut ajouter manuellement au dictionnaire les points pour les lettres accentuées..."
   ]
  },
  {
   "cell_type": "code",
   "execution_count": null,
   "id": "thrown-writing",
   "metadata": {},
   "outputs": [],
   "source": []
  },
  {
   "cell_type": "markdown",
   "id": "imported-measure",
   "metadata": {},
   "source": [
    "__3__: Pour tous les mots de 8 lettres et moins dans le texte, calculer leur score au Scrabble. Créer un dictionnaire indiquant le score de chaque mot apparaissant dans le texte."
   ]
  },
  {
   "cell_type": "code",
   "execution_count": null,
   "id": "thousand-funds",
   "metadata": {},
   "outputs": [],
   "source": []
  },
  {
   "cell_type": "markdown",
   "id": "focused-waste",
   "metadata": {},
   "source": [
    "__4__: Parcourir les dictionnaires des questions 1 et 4 pour trouver le mot dont le \"score combiné\" est le plus élevé, en prenant comme \"score combiné\" le nombre de fois qu'il apparait multiplié par le nombre de points qu'il rapporte à chaque fois."
   ]
  },
  {
   "cell_type": "code",
   "execution_count": null,
   "id": "sporting-humor",
   "metadata": {},
   "outputs": [],
   "source": []
  }
 ],
 "metadata": {
  "kernelspec": {
   "display_name": "Python 3 (ipykernel)",
   "language": "python",
   "name": "python3"
  },
  "language_info": {
   "codemirror_mode": {
    "name": "ipython",
    "version": 3
   },
   "file_extension": ".py",
   "mimetype": "text/x-python",
   "name": "python",
   "nbconvert_exporter": "python",
   "pygments_lexer": "ipython3",
   "version": "3.12.2"
  }
 },
 "nbformat": 4,
 "nbformat_minor": 5
}
