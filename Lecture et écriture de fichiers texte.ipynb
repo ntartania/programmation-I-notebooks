{
 "cells": [
  {
   "cell_type": "markdown",
   "id": "opposite-starter",
   "metadata": {},
   "source": [
    "# Lecture et écriture de fichiers texte\n",
    "\n",
    "Une grande partie des données qu'on paut être amené à manipuler dans un programme est stockée dans des fichiers texte. On peut citer notamment des fichiers HTML, des logs d'applications, ou encore des données structurées stockées dans des fichiers csv ou json.\n",
    "\n",
    "Dans ce notebook nous allons voir les principales méthodes utiles pour lire et écrire de tels fichiers.\n",
    "On supposera qu'on a utilisé les méthodes de gestion des fichiers pour se placer dans le répertoire adéquat et identifier le ou les fichiers à lire et écrire.\n",
    "\n",
    "Ici nous avons des échantillons de fichiers de logs:"
   ]
  },
  {
   "cell_type": "code",
   "execution_count": 6,
   "id": "underlying-companion",
   "metadata": {},
   "outputs": [
    {
     "data": {
      "text/plain": [
       "['Zookeeper_2k.log', 'Windows_2k.log', 'loganalysis.py', 'SSH_2k.log']"
      ]
     },
     "execution_count": 6,
     "metadata": {},
     "output_type": "execute_result"
    }
   ],
   "source": [
    "import os\n",
    "os.listdir()"
   ]
  },
  {
   "cell_type": "markdown",
   "id": "honest-settlement",
   "metadata": {},
   "source": [
    "Comme exemple nous allons analyser le fichier __SSH_2k.log__. Ce fichier contient un échantillon de traces du programme SSHD, qui gère les connections entrantes sécurisées. \n",
    "\n",
    "## Ouvrir et lire un fichier\n",
    "\n",
    "Un fichier est représenté en Python par un objet de type _file_. On peut ouvrir un fichier en lecture ou en écriture, en utilisant la fonction ```open```:"
   ]
  },
  {
   "cell_type": "code",
   "execution_count": 8,
   "id": "accessible-shift",
   "metadata": {},
   "outputs": [],
   "source": [
    "f = open(\"SSH_2k.log\", 'r')"
   ]
  },
  {
   "cell_type": "markdown",
   "id": "naked-leadership",
   "metadata": {},
   "source": [
    "La fonction ```open``` prend en paramètres le nom du fichier (y compris le chemin d'accès, au besoin), et un indicateur ```'r'``` ou ```'w'``` qui indique si le fichier doit être ouvert en mode lecture (```'r'```) ou en mode écriture (```'w'```). Un autre mode possible est ```'a'```, qui est le mode écriture mais en écrivant à la fin du fichier (dans le mode ```'w'```, on écrit depuis le début, et si un fichier du même nom existait, il est remplacé). Il y a aussi des modes d'écriture et de lecture binaire, qu'on ne couvrira pas ici.\n",
    "\n",
    "On peut lire une ligne du fichier avec ```readline()```:"
   ]
  },
  {
   "cell_type": "code",
   "execution_count": 9,
   "id": "fatty-shield",
   "metadata": {},
   "outputs": [
    {
     "data": {
      "text/plain": [
       "'Dec 10 06:55:46 LabSZ sshd[24200]: reverse mapping checking getaddrinfo for ns.marryaldkfaczcz.com [173.234.31.186] failed - POSSIBLE BREAK-IN ATTEMPT!\\n'"
      ]
     },
     "execution_count": 9,
     "metadata": {},
     "output_type": "execute_result"
    }
   ],
   "source": [
    "f.readline()"
   ]
  },
  {
   "cell_type": "markdown",
   "id": "thirty-entity",
   "metadata": {},
   "source": [
    "La fonction retourne la première ligne du fichier, sous forme de string.\n",
    "Si on appelle de nouveau ```readline()```, on obtient la ligne suivante: "
   ]
  },
  {
   "cell_type": "code",
   "execution_count": 10,
   "id": "reliable-distributor",
   "metadata": {},
   "outputs": [
    {
     "data": {
      "text/plain": [
       "'Dec 10 06:55:46 LabSZ sshd[24200]: Invalid user webmaster from 173.234.31.186\\n'"
      ]
     },
     "execution_count": 10,
     "metadata": {},
     "output_type": "execute_result"
    }
   ],
   "source": [
    "f.readline()"
   ]
  },
  {
   "cell_type": "markdown",
   "id": "alike-messenger",
   "metadata": {},
   "source": [
    "Idéalement, il faudrait lire ainsi jusqu'à arriver au bout du fichier. Pour détecter qu'on est arrivé à la fin du fichier, on peut voir si le string retourné est vide. Ici on va compter les lignes restantes "
   ]
  },
  {
   "cell_type": "code",
   "execution_count": 11,
   "id": "infinite-jesus",
   "metadata": {},
   "outputs": [
    {
     "name": "stdout",
     "output_type": "stream",
     "text": [
      "1999 lignes\n"
     ]
    }
   ],
   "source": [
    "ligne = f.readline()\n",
    "compte = 1\n",
    "while(ligne!=''):\n",
    "    ligne = f.readline()\n",
    "    compte +=1\n",
    "    # faire quelque chose avec la ligne...\n",
    "    \n",
    "print(compte, \"lignes\")"
   ]
  },
  {
   "cell_type": "markdown",
   "id": "subtle-terrorism",
   "metadata": {},
   "source": [
    "On peut à présent fermer le fichier avec ```close()```:"
   ]
  },
  {
   "cell_type": "code",
   "execution_count": 12,
   "id": "cultural-grocery",
   "metadata": {},
   "outputs": [],
   "source": [
    "f.close()"
   ]
  },
  {
   "cell_type": "markdown",
   "id": "private-market",
   "metadata": {},
   "source": [
    "La fermeture du fichier est importante car la lecture du fichier bloque des ressources mémoire. Si le programme se termine, elle se fera automatiquement, mais dans un programme qui tourne continuellement, par exemple, il est nécessaire de fermer chaque fichier ouvert.\n",
    "\n",
    "Python fournit une manière de gérer automatiquement la fermeture du fichier, le mot-clé ```with```, employé comme ceci:"
   ]
  },
  {
   "cell_type": "code",
   "execution_count": 14,
   "id": "endless-display",
   "metadata": {},
   "outputs": [
    {
     "name": "stdout",
     "output_type": "stream",
     "text": [
      "Dec 10 06:55:46 LabSZ sshd[24200]: reverse mapping checking getaddrinfo for ns.marryaldkfaczcz.com [173.234.31.186] failed - POSSIBLE BREAK-IN ATTEMPT!\n",
      "\n"
     ]
    }
   ],
   "source": [
    "with open(\"SSH_2k.log\", 'r') as f:\n",
    "    ligne = f.readline()\n",
    "    print(ligne)"
   ]
  },
  {
   "cell_type": "markdown",
   "id": "north-canvas",
   "metadata": {},
   "source": [
    "Ici le résultat de ```open``` (le pointeur vers le fichier ouvert) est mis dans la variable ```f```, ce qui nous permet d'utiliser ```f.readline``` comme auparavant.\n",
    "\n",
    "Il y a deux avantages à utiliser ```with```: le premier est qu'on ne risque pas d'oublier de fermer le fichier, et le deuxième est que s'il se produit une erreur quelque part, on peut gérer l'erreur (on ne couvre pas la gestion des erreurs dans ce cours) sans se préoccuper de fermer le fichier -- il sera fermé dans tous les cas.\n",
    "\n",
    "D'autre part, notons que la manière la plus \"classique\" Python de parcourir un fichier est d'énumérer les lignes dans une boucle ```for```, comme ceci (on utilise aussi ```with```): "
   ]
  },
  {
   "cell_type": "code",
   "execution_count": 16,
   "id": "simple-associate",
   "metadata": {},
   "outputs": [
    {
     "name": "stdout",
     "output_type": "stream",
     "text": [
      "2000 lignes\n"
     ]
    }
   ],
   "source": [
    "with open(\"SSH_2k.log\", 'r') as f:\n",
    "    compte = 0\n",
    "    for ligne in f: # ceci permet d'énumérer toutes les lignes\n",
    "        # faire quelque chose avec la ligne\n",
    "        compte +=1 # comptons...\n",
    "print(compte, \"lignes\")"
   ]
  },
  {
   "cell_type": "markdown",
   "id": "flexible-rubber",
   "metadata": {},
   "source": [
    "## Ouvrir et écrire dans un fichier\n",
    "\n",
    "Comme indiqué plus haut, on peut ouvrir un fichier en écriture avec ```open```, en remplaçant le paramètre du mode lecture (```'r'```)  par le paramètre du mode écriture (```'w'```). De même qu'avec le mode lecture, il est préférable d'utiliser ```with```. \n",
    "\n",
    "L'écriture de données dans le fichier se fait ensuite avec la méthode ```write```:"
   ]
  },
  {
   "cell_type": "code",
   "execution_count": 20,
   "id": "vocal-brick",
   "metadata": {},
   "outputs": [],
   "source": [
    "with open(\"nouveau_fichier.txt\", \"w\") as f:\n",
    "    f.write(\"une ligne \\n\")\n",
    "    f.write(\"une deuxième ligne \\n et une troisième\")"
   ]
  },
  {
   "cell_type": "markdown",
   "id": "gentle-position",
   "metadata": {},
   "source": [
    "On note ici deux choses: \n",
    "* contrairement à ```print```, la méthode ```write``` ne prend qu'un seul paramètre, qui doit être une chaine de caractères. Rappelons que ```print``` prend un nombre quelconques de paramètres, et permet d'afficher directement des valeurs d'autres types, notamment des nombres. Avec ```write```, il faut tout convertir en chaine de caractères.\n",
    "* Pour écrire plusieurs lignes, il ne suffit pas d'appeler ```write``` plusieurs fois: les retours à la ligne doivent être rajoutés explicitement.\n",
    "\n",
    "Lisons le contenu du fichier, pour vérifier qu'on peut bien le relire: "
   ]
  },
  {
   "cell_type": "code",
   "execution_count": 22,
   "id": "proved-whale",
   "metadata": {},
   "outputs": [
    {
     "name": "stdout",
     "output_type": "stream",
     "text": [
      "une ligne \n",
      "\n",
      "une deuxième ligne \n",
      "\n",
      " et une troisième\n"
     ]
    }
   ],
   "source": [
    "with open(\"nouveau_fichier.txt\", \"r\") as f:\n",
    "    for ligne in f:\n",
    "        print(ligne)"
   ]
  },
  {
   "cell_type": "markdown",
   "id": "beneficial-shipping",
   "metadata": {},
   "source": [
    "Remarque: On voit ici des lignes sautées: c'est parce que le dernier caractère de chaque ligne (soit un retour à la ligne) est affiché, suivi du retour à la ligne qui vient avec ```print()```."
   ]
  },
  {
   "cell_type": "markdown",
   "id": "automatic-crisis",
   "metadata": {},
   "source": [
    "Pour écrire des informations qui ne sont pas directement du texte, comme par exemple un nombre, il faut convertir le nombre en texte à l'aide de ```str()```:"
   ]
  },
  {
   "cell_type": "code",
   "execution_count": 23,
   "id": "loving-invasion",
   "metadata": {},
   "outputs": [
    {
     "data": {
      "text/plain": [
       "'34'"
      ]
     },
     "execution_count": 23,
     "metadata": {},
     "output_type": "execute_result"
    }
   ],
   "source": [
    "str(34)"
   ]
  },
  {
   "cell_type": "markdown",
   "id": "preceding-witch",
   "metadata": {},
   "source": [
    "Supposons qu'on ait la structure de données de type dictionnaire suivante:"
   ]
  },
  {
   "cell_type": "code",
   "execution_count": 24,
   "id": "impaired-circus",
   "metadata": {},
   "outputs": [],
   "source": [
    "age = { \"alice\": 42, \"bob\": 21, \"cameron\": 71}"
   ]
  },
  {
   "cell_type": "markdown",
   "id": "aboriginal-integrity",
   "metadata": {},
   "source": [
    "On peut sauvegarder l'information dans un fichier texte, avec par exemple une paire clé-valeur par ligne, séparées par une tabulation (```\"\\t\"```):"
   ]
  },
  {
   "cell_type": "code",
   "execution_count": 29,
   "id": "divided-reynolds",
   "metadata": {},
   "outputs": [],
   "source": [
    "with open(\"ages.txt\", \"w\") as f:\n",
    "    for n,a in age.items():\n",
    "        f.write(n+\"\\t\"+str(a)+\"\\n\") "
   ]
  },
  {
   "cell_type": "markdown",
   "id": "flying-family",
   "metadata": {},
   "source": [
    "Voyons le résultat:"
   ]
  },
  {
   "cell_type": "code",
   "execution_count": 30,
   "id": "ruled-saint",
   "metadata": {},
   "outputs": [
    {
     "name": "stdout",
     "output_type": "stream",
     "text": [
      "alice\t42\n",
      "\n",
      "bob\t21\n",
      "\n",
      "cameron\t71\n",
      "\n"
     ]
    }
   ],
   "source": [
    "with open(\"ages.txt\", \"r\") as f:\n",
    "    for ligne in f:\n",
    "        print(ligne)"
   ]
  },
  {
   "cell_type": "markdown",
   "id": "solid-minutes",
   "metadata": {},
   "source": [
    "### La méthode ```join``` et les compréhensions de liste\n",
    "\n",
    "Nous introduisons ici deux outils Python assez utiles, et pas uniquement pour écrire des données dans un fichier. Ce scéraio nous donne cependant un bon cas d'utilisation.\n",
    "Lorsqu'on écrit des données dans un fichier, il peut être utile de concaténer les éléments d'une liste pour former un string qu'on pourra écrire en une fois. Supposons par exemple qu'on ait la liste de mots suivante:"
   ]
  },
  {
   "cell_type": "code",
   "execution_count": 39,
   "id": "ranging-payroll",
   "metadata": {},
   "outputs": [],
   "source": [
    "a = ['un', 'trois', 'deux', 'dix', 'sept', 'quatre']"
   ]
  },
  {
   "cell_type": "markdown",
   "id": "fixed-payday",
   "metadata": {},
   "source": [
    "Pour écrire ces nombres dans un fichier, on peut faire une chaine de caractères avec des virgules comme séparateur:"
   ]
  },
  {
   "cell_type": "code",
   "execution_count": 40,
   "id": "objective-crystal",
   "metadata": {},
   "outputs": [],
   "source": [
    "a_texte = \"\"\n",
    "for s in a:\n",
    "    a_texte = a_texte + s + ','"
   ]
  },
  {
   "cell_type": "markdown",
   "id": "statistical-electronics",
   "metadata": {},
   "source": [
    "Voici ce qu'on obtient:"
   ]
  },
  {
   "cell_type": "code",
   "execution_count": 41,
   "id": "seventh-baseline",
   "metadata": {},
   "outputs": [
    {
     "data": {
      "text/plain": [
       "'un,trois,deux,dix,sept,quatre,'"
      ]
     },
     "execution_count": 41,
     "metadata": {},
     "output_type": "execute_result"
    }
   ],
   "source": [
    "a_texte"
   ]
  },
  {
   "cell_type": "markdown",
   "id": "hollywood-interpretation",
   "metadata": {},
   "source": [
    "Pour éliminer la virgule finale on peut faire un petit ajustement:"
   ]
  },
  {
   "cell_type": "code",
   "execution_count": 42,
   "id": "roman-madonna",
   "metadata": {},
   "outputs": [],
   "source": [
    "a_texte = a_texte[:-1] #tous les caractères jusqu'à l'avant-dernier (position '-1'= raccourci pour écrire position len(a)-1)"
   ]
  },
  {
   "cell_type": "code",
   "execution_count": 43,
   "id": "christian-maker",
   "metadata": {},
   "outputs": [
    {
     "data": {
      "text/plain": [
       "'un,trois,deux,dix,sept,quatre'"
      ]
     },
     "execution_count": 43,
     "metadata": {},
     "output_type": "execute_result"
    }
   ],
   "source": [
    "a_texte"
   ]
  },
  {
   "cell_type": "markdown",
   "id": "annoying-science",
   "metadata": {},
   "source": [
    "Ceci (connecter des valeurs avec un séparateur) est en fait une opération fréquente. La méthode ```join``` de la classe ```str``` (string) nous permet de faire cela efficacement:"
   ]
  },
  {
   "cell_type": "code",
   "execution_count": 44,
   "id": "gothic-stockholm",
   "metadata": {},
   "outputs": [
    {
     "data": {
      "text/plain": [
       "'un,trois,deux,dix,sept,quatre'"
      ]
     },
     "execution_count": 44,
     "metadata": {},
     "output_type": "execute_result"
    }
   ],
   "source": [
    "','.join(a)"
   ]
  },
  {
   "cell_type": "markdown",
   "id": "lyric-porcelain",
   "metadata": {},
   "source": [
    "Attention, la syntaxe est un peu contre-intuitive.\n",
    "\n",
    "#### Les compréhensions de liste\n",
    "\n",
    "La technique des \"compréhensions de liste\" (_list comprehension_ en anglais) est un outil très utilisé en Python. \n",
    "L'idée est de transformer tous les éléments d'une liste: par exemple, si on a une liste de nombres, on peut tous les transformer un string. Supposons qu'on ait la liste suivante:"
   ]
  },
  {
   "cell_type": "code",
   "execution_count": 45,
   "id": "allied-infrared",
   "metadata": {},
   "outputs": [],
   "source": [
    "b = [1, 4, 2, 8, 4, 5]"
   ]
  },
  {
   "cell_type": "markdown",
   "id": "thrown-court",
   "metadata": {},
   "source": [
    "On veut obtenir une liste contenant la représentation string de chaque nombre: \n",
    "```\n",
    "b_string = ['1', '4', '2', '8', '4', '5']\n",
    "```\n",
    "Autrement dit, on veut modifier la liste en appliquant une même transformation à tous les éléments de la liste. La syntaxe est la suivante:"
   ]
  },
  {
   "cell_type": "code",
   "execution_count": 46,
   "id": "selective-bridal",
   "metadata": {},
   "outputs": [],
   "source": [
    "b_string = [str(i) for i in b]"
   ]
  },
  {
   "cell_type": "code",
   "execution_count": 48,
   "id": "common-truth",
   "metadata": {},
   "outputs": [
    {
     "data": {
      "text/plain": [
       "['1', '4', '2', '8', '4', '5']"
      ]
     },
     "execution_count": 48,
     "metadata": {},
     "output_type": "execute_result"
    }
   ],
   "source": [
    "b_string"
   ]
  },
  {
   "cell_type": "markdown",
   "id": "regulated-jones",
   "metadata": {},
   "source": [
    "Les crochets indiquent qu'on forme une liste, et on énumère les éléments de la liste initiale à l'aide du ```for```...\n",
    "On écrit à gauche l'expression qui permet d'obtenir chaque élément de la nouvelle liste à partir des éléments de l'ancienne.\n",
    "\n",
    "On peut maintenant combiner nos deux outils (compréhension de liste et méthode ```join```) pour obtenir facilement un texte représentant le contenu d'une liste. On a vu précédemment un exemple où on utilisait une viergule comme séparateur, utilisons ici un tiret:"
   ]
  },
  {
   "cell_type": "code",
   "execution_count": 50,
   "id": "young-burns",
   "metadata": {},
   "outputs": [
    {
     "data": {
      "text/plain": [
       "'1-4-2-8-4-5'"
      ]
     },
     "execution_count": 50,
     "metadata": {},
     "output_type": "execute_result"
    }
   ],
   "source": [
    "'-'.join([str(i) for i in b])"
   ]
  },
  {
   "cell_type": "markdown",
   "id": "computational-jordan",
   "metadata": {},
   "source": [
    "## Lire des données structurées depuis un fichier texte\n",
    "\n",
    "Le texte précédent est un exemple de contenu _structuré_, comme la majorité des fichiers qu'on est amené à manipuler de manière automatisée. La structure connue (ici deux informations sur chaque ligne, séparées par des tabulations) nous permet de l'interpréter correctement. \n",
    "\n",
    "Pour lire de telles données et les intégrer à une structure de données, on découpe habituellement les lignes à l'aide de la méthode ```split()```, et ainsi chaque ligne devient une liste de strings, correspondant aux \"colonnes\" dans le fichier. Ensuite, on convertit les nombres lorsqu'approprié:"
   ]
  },
  {
   "cell_type": "code",
   "execution_count": 32,
   "id": "personal-carnival",
   "metadata": {},
   "outputs": [
    {
     "name": "stdout",
     "output_type": "stream",
     "text": [
      "alice : 42\n",
      "bob : 21\n",
      "cameron : 71\n"
     ]
    }
   ],
   "source": [
    "ages_nouv = {} #on initialise la structure de données: un dictionnaire vide\n",
    "with open(\"ages.txt\", \"r\") as f:\n",
    "    for ligne in f:\n",
    "        ligne_sep = ligne.split(\"\\t\") #séparer selon tabulations\n",
    "        nom = ligne_sep[0] # premier élément: le nom\n",
    "        age = int(ligne_sep[1]) # le deuxième élément, converti en nombre\n",
    "        ages_nouv[nom] = age # intégrer l'information dans la structure de données\n",
    "\n",
    "for n,a in ages_nouv.items():\n",
    "    print(n,\":\",a)"
   ]
  },
  {
   "cell_type": "markdown",
   "id": "plain-mexico",
   "metadata": {},
   "source": [
    "On verra ultérieurement qu'on peut aussi sauvegarder des données structurées dans des fichiers de formats particuliers et \"bien connus\", comme par exemple les formats CSV ou JSON."
   ]
  }
 ],
 "metadata": {
  "kernelspec": {
   "display_name": "Python 3",
   "language": "python",
   "name": "python3"
  },
  "language_info": {
   "codemirror_mode": {
    "name": "ipython",
    "version": 3
   },
   "file_extension": ".py",
   "mimetype": "text/x-python",
   "name": "python",
   "nbconvert_exporter": "python",
   "pygments_lexer": "ipython3",
   "version": "3.9.1"
  }
 },
 "nbformat": 4,
 "nbformat_minor": 5
}
