{
 "cells": [
  {
   "attachments": {},
   "cell_type": "markdown",
   "id": "becoming-display",
   "metadata": {},
   "source": [
    "# TD 3: le casino\n",
    "\n",
    "Dans cette activité, nous allons simuler des jeux de hasard et estimer de probabilités d’obtenir différents résultats.\n",
    "\n",
    "### Préliminaires : probabilités et simulation\n",
    "La notion de probabilité peut être vue comme une évaluation quantitative de l’incertitude entourant un fait ou un événement. Par exemple, si on lance un dé à six faces, on peut esti-mer a priori la probabilité d’obtenir le résultat « cinq » : une chance sur six, soit 0.17 environ. On peut aussi estimer la probabilité d’obtenir « au moins cinq » : cette fois la probabilité est d’environ une chance sur trois, puisque cet événement recouvre deux des résultats pos-sibles parmi six, et on suppose qu’ils ont tous les mêmes chances de se produire.\n",
    "\n",
    "Parfois, l’analyse des probabilités est plus difficile : supposons que je lance trois dés : quelle est la probabilité que les trois résultats soient égaux? Au lieu d’évaluer une telle probabilité de manière analytique, la programmation nous fournit une autre option intéressante : on peut simuler l’expérience de manière répétée, et compter combien de fois le résultat cherché se produit. Les lois des probabilités nous disent qu’à mesure que le nombre de répétitions augmente, la fréquence de l’événement (le nombre de fois qu’il se produit sur le nombre total d’expériences) va tendre vers la probabilité réelle. \n",
    "\n",
    "Par exemple, si on répète un million de fois l’expérience de lancer trois dés, et on compte combien de fois les trois sont égaux, on trouverait que ce résultat se produit environ 27000 fois, soit dans environ 2.7% des expériences. On en déduira donc que la probabilité d’obtenir trois fois la même valeur en lançant trois dés est d’environ 2.7%, ou 0.027.\n",
    "\n",
    "## Tutoriel: trois dés égaux\n",
    "\n",
    "Dans le tutoriel, nous allons simuler l'expérience précédente: lancer trois dés, et évaluer la probabilité d'obtenir le même nombre sur les trois.\n",
    "\n",
    "On a vu dans le TD précédent que la bibliothèque ```random``` permettait de générer des nombres aléatoires. Pour simuler le lancer d'un dé à six faces, on va générer de façon équiprobable les nombres 1, 2, 3, 4, 5, ou 6. \n",
    "Pour ceci on importe la bibliothèque ```random``` et on choisit un entier dans l'intervalle \\[1-6\\]:"
   ]
  },
  {
   "cell_type": "code",
   "execution_count": 1,
   "id": "tamil-magnet",
   "metadata": {},
   "outputs": [
    {
     "data": {
      "text/plain": [
       "5"
      ]
     },
     "execution_count": 1,
     "metadata": {},
     "output_type": "execute_result"
    }
   ],
   "source": [
    "import random\n",
    "random.randrange(1,7)"
   ]
  },
  {
   "cell_type": "markdown",
   "id": "aboriginal-partition",
   "metadata": {},
   "source": [
    "Pour notre expérience, il faut lancer trois dés:"
   ]
  },
  {
   "cell_type": "code",
   "execution_count": 3,
   "id": "brazilian-canada",
   "metadata": {},
   "outputs": [
    {
     "name": "stdout",
     "output_type": "stream",
     "text": [
      "les trois dés affichent: 5 5 4\n"
     ]
    }
   ],
   "source": [
    "dé1 = random.randrange(1,7)\n",
    "dé2 = random.randrange(1,7)\n",
    "dé3 = random.randrange(1,7)\n",
    "print(\"les trois dés affichent:\", dé1, dé2, dé3)"
   ]
  },
  {
   "cell_type": "markdown",
   "id": "internal-blues",
   "metadata": {},
   "source": [
    "On veut répéter cette expérience un grand nombre de fois, et compter combien de fois les trois dés sont égaux.\n",
    "\n",
    "Commençons par réfléchir à la répétition: ici on voudrait répéter l'expérience un million de fois. On va déjà écrie le code pour répéter l'expérience 10 fois, et ensuite on changera les chiffres pour le faire un million de fois. \n",
    "\n",
    "Dans tous les cas, on sait à l'avance combien de fois le contenu de la boucle doit se répéter, c'est donc une répétition _inconditionnelle_. On utilise donc une instruction répétitive ```for```, et pour obtenir 10 répétitions on utilise un objet ```range``` qui représente l'intervalle \\[0-9\\]:"
   ]
  },
  {
   "cell_type": "code",
   "execution_count": 4,
   "id": "frozen-steal",
   "metadata": {},
   "outputs": [
    {
     "name": "stdout",
     "output_type": "stream",
     "text": [
      "les trois dés affichent: 4 1 6\n",
      "les trois dés affichent: 2 1 6\n",
      "les trois dés affichent: 4 4 6\n",
      "les trois dés affichent: 4 3 6\n",
      "les trois dés affichent: 1 6 1\n",
      "les trois dés affichent: 3 3 2\n",
      "les trois dés affichent: 5 1 6\n",
      "les trois dés affichent: 2 4 3\n",
      "les trois dés affichent: 4 3 3\n",
      "les trois dés affichent: 6 3 3\n"
     ]
    }
   ],
   "source": [
    "for i in range(10):\n",
    "    dé1 = random.randrange(1,7)\n",
    "    dé2 = random.randrange(1,7)\n",
    "    dé3 = random.randrange(1,7)\n",
    "    print(\"les trois dés affichent:\", dé1, dé2, dé3)"
   ]
  },
  {
   "cell_type": "markdown",
   "id": "single-laser",
   "metadata": {},
   "source": [
    "On peut ajouter une ligne de code pour identifier le cas où les trois valeurs sont égales:"
   ]
  },
  {
   "cell_type": "code",
   "execution_count": 10,
   "id": "united-shark",
   "metadata": {},
   "outputs": [
    {
     "name": "stdout",
     "output_type": "stream",
     "text": [
      "les trois dés affichent: 6 6 6\n",
      "les trois valeurs sont égales !\n",
      "les trois dés affichent: 5 1 2\n",
      "les trois dés affichent: 1 4 1\n",
      "les trois dés affichent: 4 5 1\n",
      "les trois dés affichent: 6 3 4\n",
      "les trois dés affichent: 1 6 3\n",
      "les trois dés affichent: 2 6 3\n",
      "les trois dés affichent: 2 5 3\n",
      "les trois dés affichent: 3 3 5\n",
      "les trois dés affichent: 5 3 6\n"
     ]
    }
   ],
   "source": [
    "for i in range(10):\n",
    "    dé1 = random.randrange(1,7)\n",
    "    dé2 = random.randrange(1,7)\n",
    "    dé3 = random.randrange(1,7)\n",
    "    print(\"les trois dés affichent:\", dé1, dé2, dé3)\n",
    "    if(dé1==dé2 and dé2==dé3):\n",
    "        print(\"les trois valeurs sont égales !\")"
   ]
  },
  {
   "cell_type": "markdown",
   "id": "genuine-earthquake",
   "metadata": {},
   "source": [
    "Maintenant on va _compter_ le nombre d'expériences où les trois dés ont donné la même valeur. Pour _compter_ les occurences d'un certain événement durant un processus répétitif, il y a une \"recette\" très simple: on utilise une variable dite \"accumulateur\", qu'on initialise à zéro avant la boucle. Ensuite, à l'intérieur de la boucle, chaque fois qu'on rencontre l'événement, on incrémente l'accumulateur (c'est-à-dire qu'on y ajoute 1). La structure du code est donc la suivante:\n",
    "```\n",
    "compte = 0 #accumulateur initialisé à zéro\n",
    "en-tete de boucle : \n",
    "    #processus repetitif ici\n",
    "    if (événement qu'on cherche):\n",
    "        compte = compte + 1\n",
    "#à la fin de la boucle on sait combien de fois l'événement s'est produit.\n",
    "```\n",
    "\n",
    "Appliquons cette recette à notre problème -- comme c'est un événement rare on va aussi augmenter le nombre de répétitions à 30 pour se donner une meilleure chance d'en voir:"
   ]
  },
  {
   "cell_type": "code",
   "execution_count": 14,
   "id": "legal-lodging",
   "metadata": {},
   "outputs": [
    {
     "name": "stdout",
     "output_type": "stream",
     "text": [
      "les trois dés affichent: 4 1 5\n",
      "les trois dés affichent: 6 5 5\n",
      "les trois dés affichent: 4 5 4\n",
      "les trois dés affichent: 4 1 6\n",
      "les trois dés affichent: 5 3 3\n",
      "les trois dés affichent: 5 2 3\n",
      "les trois dés affichent: 3 4 1\n",
      "les trois dés affichent: 3 6 2\n",
      "les trois dés affichent: 5 3 1\n",
      "les trois dés affichent: 2 3 4\n",
      "les trois dés affichent: 4 3 2\n",
      "les trois dés affichent: 2 6 5\n",
      "les trois dés affichent: 2 6 3\n",
      "les trois dés affichent: 1 5 2\n",
      "les trois dés affichent: 1 2 1\n",
      "les trois dés affichent: 1 3 6\n",
      "les trois dés affichent: 4 1 1\n",
      "les trois dés affichent: 1 4 6\n",
      "les trois dés affichent: 3 6 2\n",
      "les trois dés affichent: 3 3 4\n",
      "les trois dés affichent: 6 3 2\n",
      "les trois dés affichent: 2 4 2\n",
      "les trois dés affichent: 3 5 6\n",
      "les trois dés affichent: 1 6 1\n",
      "les trois dés affichent: 2 3 6\n",
      "les trois dés affichent: 5 6 5\n",
      "les trois dés affichent: 4 2 5\n",
      "les trois dés affichent: 4 4 3\n",
      "les trois dés affichent: 1 1 1\n",
      "les trois valeurs sont égales !\n",
      "les trois dés affichent: 2 1 2\n",
      "on a observé 1 fois trois dés égaux\n"
     ]
    }
   ],
   "source": [
    "compte = 0\n",
    "for i in range(30):\n",
    "    dé1 = random.randrange(1,7)\n",
    "    dé2 = random.randrange(1,7)\n",
    "    dé3 = random.randrange(1,7)\n",
    "    print(\"les trois dés affichent:\", dé1, dé2, dé3)\n",
    "    if(dé1==dé2 and dé2==dé3):\n",
    "        print(\"les trois valeurs sont égales !\")\n",
    "        compte = compte + 1\n",
    "print(\"on a observé\", compte, \"fois trois dés égaux\")"
   ]
  },
  {
   "cell_type": "markdown",
   "id": "entire-stopping",
   "metadata": {},
   "source": [
    "On va maintenant augmenter le nombre de répétitions à 1 million, et réduire l'affichage:"
   ]
  },
  {
   "cell_type": "code",
   "execution_count": 15,
   "id": "conventional-killing",
   "metadata": {},
   "outputs": [
    {
     "name": "stdout",
     "output_type": "stream",
     "text": [
      "on a observé 27768 fois trois dés égaux\n"
     ]
    }
   ],
   "source": [
    "compte = 0\n",
    "for i in range(1000000):\n",
    "    dé1 = random.randrange(1,7)\n",
    "    dé2 = random.randrange(1,7)\n",
    "    dé3 = random.randrange(1,7)\n",
    "    #print(\"les trois dés affichent:\", dé1, dé2, dé3)\n",
    "    if(dé1==dé2 and dé2==dé3):\n",
    "        #print(\"les trois valeurs sont égales !\")\n",
    "        compte = compte + 1\n",
    "print(\"on a observé\", compte, \"fois trois dés égaux\")"
   ]
  },
  {
   "cell_type": "markdown",
   "id": "inside-vietnam",
   "metadata": {},
   "source": [
    "Comme on connait le nombre total d'expériences, on peut évaluer la probabilité (comme expliqué ci-dessus), et l'exprimer sous forme de pourcentage:"
   ]
  },
  {
   "cell_type": "code",
   "execution_count": 18,
   "id": "interested-trouble",
   "metadata": {},
   "outputs": [
    {
     "name": "stdout",
     "output_type": "stream",
     "text": [
      "La probabilité d'observer trois dés égaux est d'environ 2.7768 %.\n"
     ]
    }
   ],
   "source": [
    "frequence = compte/1000000\n"
   ]
  },
  {
   "cell_type": "markdown",
   "id": "commercial-thesis",
   "metadata": {},
   "source": [
    "Profitons pour introduire ici l'affichage _formaté_: on peut spécifier à l'aide de codes de formatage le nombre de chiffres affichés pour un nombre décimal. L'affichage formaté peut se faire de plusieurs façons différentes (voir documentation Python), en voici une:"
   ]
  },
  {
   "cell_type": "code",
   "execution_count": 22,
   "id": "fuzzy-england",
   "metadata": {},
   "outputs": [
    {
     "name": "stdout",
     "output_type": "stream",
     "text": [
      "La probabilité d'observer trois dés égaux est d'environ  2.8%.\n"
     ]
    }
   ],
   "source": [
    "pourcent = frequence*100\n",
    "print(f\"La probabilité d'observer trois dés égaux est d'environ {pourcent :.1f}%.\")"
   ]
  },
  {
   "cell_type": "markdown",
   "id": "statistical-coalition",
   "metadata": {},
   "source": [
    "Pour un affichage \"formaté\", on place la lettre ```f``` avant les quotes qui marquent le début de la chaîne de caractères à afficher, et on insère les variables dans le texte entre accolades. Pour des variables numériques décimales, on peut spécifier le nombre de chiffres à afficher à l'aide de codes de formatage. Pour plus de détails, voir la [documentation Python](https://docs.python.org/3/tutorial/inputoutput.html#tut-f-strings)."
   ]
  },
  {
   "attachments": {},
   "cell_type": "markdown",
   "id": "hidden-dressing",
   "metadata": {},
   "source": [
    "## Exercice: jouer à la roulette\n",
    "\n",
    "Alice va au casino en espérant gagner de l’argent... Elle est optimiste! Elle est cependant réaliste, et aimerait savoir quelles sont ses chances d’atteindre son objectif, qui est de gagner \\\\$200 (de repartir avec \\\\$200 de plus que ce qu’elle apporte), et quelles sont ses chances d’être ruinée. On va simuler son activité́ au casino, et évaluer ces deux probabilités.\n",
    "\n",
    "Supposons qu’Alice veuille jouer à la roulette. On va simuler ici une version simplifiée du jeu. La roulette est un jeu où une bille est lancée sur une roue avec des numéros sur son pourtour, et quand la roue s’arrête, la bille se trouvera sur un numéro. Les numéros sont aussi placés sur des couleurs (rouge ou noir, sauf le zéro qui est sur une case verte). En pa-riant sur une couleur (rouge ou noir), Alice peut gagner une fois sa mise (elle récupère sa mise plus une fois cette quantité), et en pariant sur un numéro elle peut gagner 35 fois sa mise.\n",
    "\n",
    "Le but de l'exercice est donc de simuler le processus suivant: Alice débute avec une somme d'argent initiale de \\\\$1000, et joue à répétition à la roulette, en misant \\\\$5 sur le rouge, et \\\\$5 sur le numéro 23. Elle joue jusqu'à avoir atteint son objectif (arriver à \\\\$1200), ou bien jusqu'à être ruinée.\n",
    "\n",
    "On va ensuite simuler ce processus à répétition (1000 fois) et compter le nombre de fois où Alice termine ruinée et le nombre de fois où elle gagne \\\\$200, puis calculer la probabilité de gagner (selon cette définition).\n",
    "\n",
    "__2.1__ En utilisant la bibliothèque ```random```, simuler le fait de jouer une fois à la roulette: tirer un nombre entre 0 et 36, puis afficher le numéro et la couleur qui sont sortis. On supposera que le zéro est vert, les nombres impairs sont noirs, et les nombres pairs sont rouges (sauf le zéro)."
   ]
  },
  {
   "cell_type": "code",
   "execution_count": null,
   "id": "temporal-norwegian",
   "metadata": {},
   "outputs": [],
   "source": []
  },
  {
   "cell_type": "markdown",
   "id": "engaged-perception",
   "metadata": {},
   "source": [
    "__2.2__ Alice mise toujours sur le rouge et le 23. Ajouter une instruction conditionnelle pour afficher \"Gagné\" quand Alice gagne."
   ]
  },
  {
   "cell_type": "code",
   "execution_count": null,
   "id": "attended-satellite",
   "metadata": {},
   "outputs": [],
   "source": []
  },
  {
   "cell_type": "markdown",
   "id": "polyphonic-leeds",
   "metadata": {},
   "source": [
    "__2.3__ Implémenter les paris: ajouter une variable ```budget```, et lui donner la valeur 1000. Au moment de jouer à la roulette, décompter \\\\$10 de son budget pour les mises (\\\\$5 pour le rouge, \\\\$5 pour le 23), et une fois que le résultat est connu, ajouter les gains à son budget quand elle gagne (35 fois la mise pour le 23, 2 fois la mise pour le rouge). "
   ]
  },
  {
   "cell_type": "code",
   "execution_count": null,
   "id": "sufficient-footwear",
   "metadata": {},
   "outputs": [],
   "source": []
  },
  {
   "cell_type": "markdown",
   "id": "indie-component",
   "metadata": {},
   "source": [
    "__2.4__ Placer le code précédent dans une boucle, qui simule le fait qu'Alice joue jusqu’à ce qu’elle soit ruinée (son budget n’est plus suffisant pour miser) ou bien jusqu’à ce qu’elle atteigne son objectif (\\\\$1200). Attention: l'initialisation du budget (à \\\\$1000) doit se faire une seule fois, avant la boucle. Tester."
   ]
  },
  {
   "cell_type": "code",
   "execution_count": null,
   "id": "banned-proxy",
   "metadata": {},
   "outputs": [],
   "source": []
  },
  {
   "attachments": {},
   "cell_type": "markdown",
   "id": "bronze-software",
   "metadata": {},
   "source": [
    "__2.5__ Dans la simulation qu’on vient d’écrire, Alice va au casino et peut repartir avec \\\\$200 de plus en poche (succès!) ou ruinée (échec!). On va maintenant considérer ceci comme une seule expérience, et évaluer la probabilité de succès (qui est un des deux résultats possibles). \n",
    "\n",
    "Pour ceci, on va s’y prendre comme pour les lancers de dés : on va répéter l’expérience un grand nombre de fois, et compter les succès. Placer une boucle for de manière à répéter l’expérience 10 fois. Tester."
   ]
  },
  {
   "cell_type": "code",
   "execution_count": null,
   "id": "working-lobby",
   "metadata": {},
   "outputs": [],
   "source": []
  },
  {
   "attachments": {},
   "cell_type": "markdown",
   "id": "structural-copyright",
   "metadata": {},
   "source": [
    "__2.6__ Ajouter une variable ```nombreSucces``` et du code pour compter les succès. Enlever l’affichage à l’écran et augmenter le nombre d’expériences à 1000. Calculer ensuite la probabilité de succès (nombre de succès sur le nombre d’expériences) et la probabilité de ruine (100% moins la probabilité de succès). Afficher ces probabilités à l’écran."
   ]
  },
  {
   "cell_type": "code",
   "execution_count": null,
   "id": "surface-characterization",
   "metadata": {},
   "outputs": [],
   "source": []
  },
  {
   "cell_type": "markdown",
   "id": "hungry-bride",
   "metadata": {},
   "source": [
    "## Exercice: jeu de _craps_\n",
    "\n",
    "Dans cet exercice le but est de simuler une version simplifiée (_très_ simplifiée !) du jeu de \"craps\", un autre jeu de casino qui se joue avec des dés.\n",
    "\n",
    "Dans ce jeu il y a deux phases. \n",
    "Avant de commencer, le joueur mise soit sur \"passe\" soit sur \"ne passe pas\".\n",
    "Durant la phase initiale, le joueur lance deux dés, de manière répétée, jusqu'à obtenir 4, 5, 6, 8, 9, ou 10 (avec la somme des deux dés). Quand ceci se produit, le nombre obtenu devient \"le point\" et le jeu passe à sa deuxième phase.\n",
    "Durant la première phase, si le joueur obtient 7 ou 11, il double sa mise (la banque double la mise mais cette nouvelle mise reste sur le tapis pour la deuxième phase), et s'il obtient 2, 3, ou 12, il la perd. Il doit alors replacer une nouvelle mise, ou abandonner le jeu.\n",
    "Une fois qu'il a obtenu 4, 5, 6, 8, 9, ou 10 (le \"point\"), on est en deuxième phase, et le joueur doit lancer les dés de anière répétée jusqu'à gagner ou perdre. Pour gagner, il doit relancer le \"point\" (le même total, mais pas forcément la même combinaison de dés) avant d'obtenir 7. S'il obtient 7 avant de relancer le point, il perd. S'il gagne, il triple sa mise.\n",
    "\n",
    "Exemple de déroulement du jeu:\n",
    "\n",
    "1. Le joueur mise \\\\$10 sur \"passe\".\n",
    "2. Il lance : 2 1 => total 3 = ne passe pas... la mise est perdue!\n",
    "3. Le joueur remet une nouvelle mise de \\\\$10.\n",
    "4. Le joueur lance: 3 4 => total 7 = passe! la mise est doublée, maintenant elle est de \\\\$20!\n",
    "5. Le joueur lance: 2 3 => total 5, c'est le point et on passe à la phase 2.\n",
    "6. Le joueur lance : 3 6 => total 9, ni le point ni 7, il recommence;\n",
    "7. Le joueur lance : 2 2 => total 4, ni le point ni 7, il recommence;\n",
    "8. Le joueur lance : 6 1 => total 7, donc c'est perdu!\n",
    "\n",
    "Simuler un jeu de craps: comme pour la roulette, Alice arrive avec \\\\$1200 et joue à répétition, jusqu'à gagner $200 ou bien être ruinée. On supposera qu'elle misera toujours \\\\$10 sur \"passe\", et n'abandonne jamais sauf si elle est ruinée. Quelles sont ses chances de gagner?"
   ]
  },
  {
   "cell_type": "code",
   "execution_count": null,
   "id": "emerging-sleep",
   "metadata": {},
   "outputs": [],
   "source": []
  }
 ],
 "metadata": {
  "kernelspec": {
   "display_name": "Python 3",
   "language": "python",
   "name": "python3"
  },
  "language_info": {
   "codemirror_mode": {
    "name": "ipython",
    "version": 3
   },
   "file_extension": ".py",
   "mimetype": "text/x-python",
   "name": "python",
   "nbconvert_exporter": "python",
   "pygments_lexer": "ipython3",
   "version": "3.9.1"
  }
 },
 "nbformat": 4,
 "nbformat_minor": 5
}
