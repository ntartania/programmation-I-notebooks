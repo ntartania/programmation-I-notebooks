{
 "cells": [
  {
   "cell_type": "markdown",
   "metadata": {},
   "source": [
    "# Instructions conditionnelles (1/3)\n",
    "\n",
    "Dans l'exemple du calcul de vitesse d'un coureur, on a automatisé une séquence de calculs assez simples, et dont le déroulement est *toujours le même*.\n",
    "\n",
    "Il y a d'autres problèmes, où le processus de résolution sera différent selon les données d'entrée. Par exemple, pour calculer la valeur absolue d'un nombre, le processus est différent selon si le nombre est positif ou négatif.\n",
    "\n",
    "Afin de pouvoir sélectionner des opérations différentes selon la valeur des données, on utilise des **branchements conditionnels**: le terme *branchement* suggère qu'on arrive à une intersection et on décide de tourner à droite ou à gauche en utilisant un mécanisme de décision. En Python ce mécanisme se matérialise par l'instruction conditionnnelle ```if```. Il existe aussi une autre instruction conditionnelle, ```match```, qu'on pourra voir ultérieurement.\n",
    "\n",
    "## Instructions conditionnelles avec ```if```\n",
    "\n",
    "L'instruction conditionnelle ```if``` permet d'évaluer une condition logique (quelque chose qui est vrai ou faux), et selon le résultat, d'exécuter ou non une instruction (ou un bloc d'instructions).\n",
    "\n",
    "Par exemple, si on a une variable ```x```, on peut évaluer si sa valeur est positive, et dans ce cas afficher l'information à la console: "
   ]
  },
  {
   "cell_type": "code",
   "execution_count": 2,
   "metadata": {},
   "outputs": [
    {
     "name": "stdout",
     "output_type": "stream",
     "text": [
      "x est positif\n"
     ]
    }
   ],
   "source": [
    "x = 8\n",
    "if x>0:\n",
    "    print(\"x est positif\")\n",
    "    "
   ]
  },
  {
   "cell_type": "markdown",
   "metadata": {},
   "source": [
    "Ce code commence par créer une variable ```x``` avec la valeur 8, puis évalue la condition ```x>0```: si la condition est vraie, alors on affiche \"x est positif\". Ici, la condition est vraie et l'instruction ```print``` est exécutée -- on voit donc l'affichage.\n",
    " \n",
    "Si la condition était fausse, alors on aurait sauté l'instruction print de la ligne 3 et on serait passé directement à la ligne 4.\n",
    "\n",
    "On peut le voir dans l'exemple suivant, avec une condition maintenant fausse (```x``` vaut toujours 8):"
   ]
  },
  {
   "cell_type": "code",
   "execution_count": 5,
   "metadata": {},
   "outputs": [
    {
     "name": "stdout",
     "output_type": "stream",
     "text": [
      "Nous voici après le if.\n"
     ]
    }
   ],
   "source": [
    "if x<0:\n",
    "    print(\"x est négatif\")\n",
    "print(\"Nous voici après le if.\")"
   ]
  },
  {
   "cell_type": "markdown",
   "metadata": {},
   "source": [
    "### la clause ```else``` (_sinon_)\n",
    "\n",
    "Avec un ```if``` simple, le programme choisit entre *exécuter l'instruction conditionnelle*, et *ne rien faire*.\n",
    "On peut avoir une logique un peu plus complexe en permettant de choisir entre deux instructions ou blocs d'instructions: si la condition est vraie, exécuter l'instruction A, et si elle est fausse, exécuter l'instruction B.\n",
    "\n",
    "Exemple:"
   ]
  },
  {
   "cell_type": "code",
   "execution_count": 10,
   "metadata": {},
   "outputs": [
    {
     "name": "stdin",
     "output_type": "stream",
     "text": [
      "entrer la valeur de x: -7\n"
     ]
    },
    {
     "name": "stdout",
     "output_type": "stream",
     "text": [
      "x est négatif\n",
      "Le programme est terminé.\n"
     ]
    }
   ],
   "source": [
    "x = int(input(\"entrer la valeur de x:\")) # lire un nombre au clavier\n",
    "if x>0:\n",
    "    print(\"x est positif\")\n",
    "else:\n",
    "    print(\"x est négatif\")\n",
    "print(\"Le programme est terminé.\")"
   ]
  },
  {
   "cell_type": "markdown",
   "metadata": {},
   "source": [
    "### Blocs de code\n",
    "\n",
    "Dans les exemples précédents, on exécute *une seule* instruction de manière conditionnelle: celle immédiatement après la condition, ou bien celle après le ```else```. Souvent il est utile d'exécuter de manière conditionnelle un bloc de plusieurs instructions. En Python, l'indentation permet de délimiter un bloc: toutes les lignes avec le même décalage forment un bloc, qui sera exécuté ou sauté.\n",
    "\n",
    "Dans l'exemple suivant, on demande à l'utilisateur la valeur d'un nombre ```x```, et on calcule sa valeur absolue: le calcul est différent selon qu'il est positif ou négatif:"
   ]
  },
  {
   "cell_type": "code",
   "execution_count": 13,
   "metadata": {},
   "outputs": [
    {
     "name": "stdin",
     "output_type": "stream",
     "text": [
      "entrer la valeur de x: -4\n"
     ]
    },
    {
     "name": "stdout",
     "output_type": "stream",
     "text": [
      "x est négatif\n",
      "La valeur absolue de x est: 4\n"
     ]
    }
   ],
   "source": [
    "x = int(input(\"entrer la valeur de x:\")) # lire un nombre au clavier\n",
    "if x>0:\n",
    "    print(\"x est positif\") \n",
    "    absolue = x      # la valeur absolue de x est x\n",
    "else:\n",
    "    print(\"x est négatif\")\n",
    "    absolue = -x        # la valeur absolue de x est -x\n",
    "    \n",
    "print(\"La valeur absolue de x est:\", absolue)"
   ]
  },
  {
   "cell_type": "markdown",
   "metadata": {},
   "source": [
    "Ici, la condition était fausse, alors le premier bloc d'instructions (lignes 3-4) a été sauté, et le second (après le else, lignes 6-7) a été exécuté. Les deux blocs d'instructions sont bien visibles dans le code, grâce à leur indentation.\n",
    "\n",
    "#### Exercice 1\n",
    "\n",
    "On modifie l'exemple ci-dessus en enlevant l'indentation de la ligne 7:"
   ]
  },
  {
   "cell_type": "code",
   "execution_count": null,
   "metadata": {},
   "outputs": [],
   "source": [
    "x = int(input(\"entrer la valeur de x:\")) # lire un nombre au clavier\n",
    "if x>0:\n",
    "    print(\"x est positif\") \n",
    "    absolue = x      # la valeur absolue de x est x\n",
    "else:\n",
    "    print(\"x est négatif\")\n",
    "absolue = -x        # la valeur absolue de x est -x\n",
    "    \n",
    "print(\"La valeur absolue de x est:\", absolue)"
   ]
  },
  {
   "cell_type": "markdown",
   "metadata": {},
   "source": [
    "Supposons que l'utilisateur entre la valeur 6 au clavier. Sans exécuter le code, prédire quel sera le résultat de l'exécution (qu'est-ce qui va s'afficher à l'écran?)\n",
    "Supposons maintenant que l'utilisateur entre la valeur -6. Quel sera alors le résultat?\n",
    "Vérifier vos prédictions en exécutant le code.\n",
    "\n",
    "### Blocs imbriqués\n",
    "\n",
    "Les blocs de code indentés peuvent être imbriqués les uns dans les autres. Les niveaux d'imbrication correspondront alors à différents niveaux de profondeur d'indentation.\n",
    "\n",
    "Ceci permet par exemple d'imbriquer plusieurs conditions, pour considérer plus que deux possibilités:"
   ]
  },
  {
   "cell_type": "code",
   "execution_count": 1,
   "metadata": {},
   "outputs": [
    {
     "name": "stdin",
     "output_type": "stream",
     "text": [
      "Entrez votre note sur 100 au cours: 88\n"
     ]
    },
    {
     "name": "stdout",
     "output_type": "stream",
     "text": [
      "Vous avez brillamment réussi ce cours.\n"
     ]
    }
   ],
   "source": [
    "note = int(input(\"Entrez votre note sur 100 au cours:\"))\n",
    "if note>=52:\n",
    "    print(\"Vous avez \", end=\"\") \n",
    "    if note >=80:\n",
    "        print(\"brillamment réussi\", end=\"\") \n",
    "    else:\n",
    "        print(\"passé\", end=\"\")\n",
    "    print(\" ce cours.\")\n",
    "else:\n",
    "    print(\"C'est malheureusement un échec.\")"
   ]
  },
  {
   "cell_type": "markdown",
   "metadata": {},
   "source": [
    "Dans cet exemple, on a une structure ```if-else``` avec un premier bloc (après ```if```) qui contient lui-même une autre structure ```if-else``` et des blocs indentés. Dans cette exécution, l'utilisateur a donné la note 88, alors la condition du premier ```if``` était vraie, alors le premier bloc a été exécuté, en commençant par la ligne 3. Ensuite ligne 4, la condition du deuxième ```if``` est évaluée, et `nouveau elle est vraie: on exécute donc la ligne 5, mais on aut la ligne 7 (après le else; enfin on exécute la ligne 8, et on saute le ```else```. Si la note entrée avait été inférieure à 52, l'ensemble du premier bloc (lignes 3 à 8) aurait été sauté, et on aurait exécuté seulement le dernier bloc après le else (ligne 10). "
   ]
  },
  {
   "cell_type": "markdown",
   "metadata": {},
   "source": [
    "### La clause ```elif``` pour énumérer des conditions\n",
    "\n",
    "Avec une structure ```if-else```, on a le choix entre deux situations: la condition est vraie ou elle est fausse. Il y a cependant des situations où on veut énumérer plusieurs conditions, dont une seule sera vraie. \n",
    "\n",
    "En Python, on peut les enchainer avec des clauses ```elif```, une contraction de \"else if\". Une structure ``ìf-elif-elif...-else``` pourrait s'écrire en imbriquant plusieurs ```if```, mais dans le cas où on a une énumération systématique de conditions, on les a ainsi à un même niveau de profondeur et le code en est plus lisible:\n",
    "\n",
    "Exemple:"
   ]
  },
  {
   "cell_type": "code",
   "execution_count": 2,
   "metadata": {},
   "outputs": [
    {
     "name": "stdin",
     "output_type": "stream",
     "text": [
      "entrez votre note sur 100: 67\n"
     ]
    },
    {
     "name": "stdout",
     "output_type": "stream",
     "text": [
      "cette note numérique équivaut à une note littérale:\n",
      "C\n"
     ]
    }
   ],
   "source": [
    "note = int(input(\"entrez votre note sur 100:\"))\n",
    "\n",
    "print(\"cette note numérique équivaut à une note littérale:\")\n",
    "if note<50:\n",
    "    print(\"E\")\n",
    "elif note<60:\n",
    "    print(\"D\")\n",
    "elif note<70:\n",
    "    print(\"C\")\n",
    "elif note<80:\n",
    "    print(\"B\")\n",
    "else:\n",
    "    print(\"A\")"
   ]
  },
  {
   "cell_type": "markdown",
   "metadata": {},
   "source": [
    "On peut remarquer qu'avec un 67, les conditions ```note<50``` et ```note<60``` étaient fausses, ce qui nous amené à évaluer la condition ```note<70```, qui s'est avérée vraie: on a donc affiché \"C\", mais on n'a pas évalué les conditions suivantes (```note<80``` aurait été vraie aussi): le ```elif``` inclut vraiment un ```else```, et on évalue les conditions une par une jusqu'à en trouver une de vraie, ensuite, on saute toutes les autres. \n",
    "\n",
    "#### Exercice 2\n",
    "\n",
    "Dans le programme suivant, l'utilisateur entre la température d'une eau de baignade, en degrés Celcius. Si cette température est inférieure à 0, le programme affiche un message \"l'eau est gelée!\". \n",
    "\n",
    "**Compléter le programme** pour afficher des messages différents selon la température. Si la température est entre 0 et 12, afficher un message \"l'eau est trop froide\", si elle est entre 12 et 20, afficher \"prenez votre combinaison pour vous baigner\", et enfin si la température est au-dessus de 20, afficher \"tous à l'eau!\"."
   ]
  },
  {
   "cell_type": "code",
   "execution_count": null,
   "metadata": {},
   "outputs": [],
   "source": [
    "temperature = int(input(\"Entrez la température de l'eau:\"))\n",
    "\n",
    "print(\"Elle est trop froide!\")\n"
   ]
  },
  {
   "cell_type": "markdown",
   "metadata": {},
   "source": [
    "### Blocs de code: Indentation avec espaces et tabulations\n",
    "\n",
    "Une remarque en passant concernant les **blocs de code**: comme l'indentation fait partie du code (elle n'est pas seulement décorative mais a bien une sémantique), il y a des règles à suivre pour indenter correctement:\n",
    "\n",
    "* On peut choisir d'indenter le code soit avec des tabulations, soit avec des espaces, mais dans un même programme on ne peut pas avoir à certains endroits une indentation avec des espaces et ailleurs une indentation avec des tabulations. En général, les éditeurs de code Python gèrent l'indentation de manière semi-automatique (par exemple, quand on tape ```if x>0:``` et qu'on tape entrée pour aller à la ligne, l'indentation appropriée est ajoutée automatiquement), alors on n'a pas trop besoin d'y réfléchir. Cependant, si on copie du code d'un fichier à l'autre, ou bien depuis le Web, on peut avoir ce problème.\n",
    "* Il est recommandé d'utiliser toujours la même largeur d'indentation (par exemple, 4 espaces)."
   ]
  },
  {
   "cell_type": "markdown",
   "metadata": {},
   "source": [
    "### Résumé\n",
    "En résumé, la syntaxe de l'instruction conditionnelle ```if``` est la suivante:\n",
    "```\n",
    "if condition:\n",
    "    bloc d'instructions 1\n",
    "elif condition 2: #optionnellement on peut mettre des clauses elif\n",
    "    bloc d'instructions 2 \n",
    "[...] # on peut mettre plusieurs clauses elif\n",
    "else:  #on peut optionnellement mettre un else, mais un seul\n",
    "    bloc d'instructions n\n",
    "```\n",
    "\n",
    "Si la condition est *vraie*, alors le bloc d'instructions 1 est exécuté, et les blocs suivants (s'il y en a) sont sautés. Si la condition est *fausse*, alors le bloc 1 est sauté et on évalue la condition 2, puis la condition 3, etc. jusqu'à en trouver une de vraie. Si on en trouve aucune de vraies, alors on exécute le bloc d'instructions n (après le ```else```, s'il y en a un). \n",
    "\n",
    "Les éléments clés d'une instruction conditionnelle:\n",
    "* la ```condition``` est une **expression booléenne**, c'est-à-dire une expression dont le résultat peut prendre seulement les valeurs *vrai* ou *faux*. Par exemple: ```nombre >= 0```.\n",
    "\n",
    "### "
   ]
  }
 ],
 "metadata": {
  "kernelspec": {
   "display_name": "Python 3 (ipykernel)",
   "language": "python",
   "name": "python3"
  },
  "language_info": {
   "codemirror_mode": {
    "name": "ipython",
    "version": 3
   },
   "file_extension": ".py",
   "mimetype": "text/x-python",
   "name": "python",
   "nbconvert_exporter": "python",
   "pygments_lexer": "ipython3",
   "version": "3.12.2"
  }
 },
 "nbformat": 4,
 "nbformat_minor": 4
}
