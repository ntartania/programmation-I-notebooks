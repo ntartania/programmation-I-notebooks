{
 "cells": [
  {
   "cell_type": "markdown",
   "metadata": {},
   "source": [
    "# Variables, instructions et séquences d'instructions\n",
    "\n",
    "Dans les notebooks précédents on a utilisé Python comme une calculatrice: on a entré des expressions et Python nous a répondu en donnant leur valeur. On peut ainsi résoudre des problèmes simples. Cependant, le but d'utiliser un langage de programmation est plus ambitieux: on peut enregistrer des *séquences* de calculs et ainsi *automatiser* la résolution des problèmes, pour différentes données d'entrée.\n",
    "\n",
    "\n",
    "## Instructions\n",
    "\n",
    "Un programme Python (comme dans la majorité des langages) est constitué d'une séquence d'**instructions**, qui permettent de réaliser différentes étapes d'un calcul, et d'outils de **contrôle de flux**, des directives particulières qui permettent de changer l'ordre d'exécution des instructions (on peut en sauter, en répéter, etc.). On va d'abord voir comment écrire un programme simple sans contrôle de flux, et on abordera le contrôle de flux plus tard.\n",
    "\n",
    "Les deux principaux types d'instructions sont les **affectations** et les **appels de fonction**. Dans ce notebook nous nous intéresserons aux affectations, mais on peut mentionner que qu'une instruction ```print()``` est un appel de fonction (on appelle la fonction ```print```, en lui donnant le texte à afficher à l'écran).\n",
    "\n",
    "### Affectations\n",
    "Une affectation consiste à associer une **valeur** à une **variable**, comme par exemple:"
   ]
  },
  {
   "cell_type": "code",
   "execution_count": 1,
   "metadata": {},
   "outputs": [],
   "source": [
    "x = 3"
   ]
  },
  {
   "cell_type": "markdown",
   "metadata": {},
   "source": [
    "Ici on associe la valeur **3**, un nombre entier, à la variable **$x$**. Mentalement on peut s'imaginer qu'on a une petite case nommée $x$ dans laquelle on va écrire cette valeur. La partie gauche d'une affectation est toujours une variable, et la partie droite est une valeur, qui peut être donnée de manière littérale ou bien obtenue comme résultat d'une expression. \n",
    "\n",
    "On pourra ensuite lire cette valeur:"
   ]
  },
  {
   "cell_type": "code",
   "execution_count": 2,
   "metadata": {},
   "outputs": [
    {
     "data": {
      "text/plain": [
       "3"
      ]
     },
     "execution_count": 2,
     "metadata": {},
     "output_type": "execute_result"
    }
   ],
   "source": [
    "x"
   ]
  },
  {
   "cell_type": "markdown",
   "metadata": {},
   "source": [
    "On peut aussi utiliser la valeur de ```x``` dans une expression:"
   ]
  },
  {
   "cell_type": "code",
   "execution_count": 3,
   "metadata": {},
   "outputs": [
    {
     "data": {
      "text/plain": [
       "11"
      ]
     },
     "execution_count": 3,
     "metadata": {},
     "output_type": "execute_result"
    }
   ],
   "source": [
    "x*3 + 2"
   ]
  },
  {
   "cell_type": "markdown",
   "metadata": {},
   "source": [
    "La partie droite d'une affectation peut aussi être une expression. Une telle affectation ressemble à une équation mathématique:"
   ]
  },
  {
   "cell_type": "code",
   "execution_count": 4,
   "metadata": {},
   "outputs": [],
   "source": [
    "y = 2*x - 1"
   ]
  },
  {
   "cell_type": "markdown",
   "metadata": {},
   "source": [
    "Cependant il y a une grande différence: le symbole ```=``` ne représente pas une égalité qu'on chercherait à satisfaire mais une directive à l'ordinateur de calculer la **valeur** de la partie droite et mettre le résultat dans la variable qui se trouve à gauche: ici l'ordinateur va donc calculer la valeur de l'expression ```2*x -1``` (ce qui donne 5, puisque ```x``` vaut actuellement 3), et ensuite placer la valeur 5 dans la variable ```y```. On peut vérifier:"
   ]
  },
  {
   "cell_type": "code",
   "execution_count": 5,
   "metadata": {},
   "outputs": [
    {
     "data": {
      "text/plain": [
       "5"
      ]
     },
     "execution_count": 5,
     "metadata": {},
     "output_type": "execute_result"
    }
   ],
   "source": [
    "y"
   ]
  },
  {
   "cell_type": "markdown",
   "metadata": {},
   "source": [
    "Il est important de comprendre que les valeurs associées aux variables changent seulement par des affectations: si on change la valeur de ```x``` par une affectation, ça ne modifie pas la valeur des autres variables du programme:"
   ]
  },
  {
   "cell_type": "code",
   "execution_count": 6,
   "metadata": {},
   "outputs": [],
   "source": [
    "y = x + 1\n",
    "x = 10"
   ]
  },
  {
   "cell_type": "code",
   "execution_count": 7,
   "metadata": {},
   "outputs": [
    {
     "data": {
      "text/plain": [
       "4"
      ]
     },
     "execution_count": 7,
     "metadata": {},
     "output_type": "execute_result"
    }
   ],
   "source": [
    "y"
   ]
  },
  {
   "cell_type": "markdown",
   "metadata": {},
   "source": [
    "Après l'exécution de la ligne ```y = x + 1```, y vaut 3+1, c'est à dire 4. Mais ça ne veut pas dire que y sera toujours ainsi relié à x: si je modifie la valeur de x (```x=10``` par exemple), la valeur de ```y``` ne change pas, est reste à 4. Ceci montre bien que ce symbole ```=``` ne garantit pas une égalité qui resterait vraie.\n",
    "\n",
    "En pratique, on se retrouve souvent à modifier la valeur des variables, et on écrit fréquemment des instructions comme celle-ci:"
   ]
  },
  {
   "cell_type": "code",
   "execution_count": 9,
   "metadata": {},
   "outputs": [],
   "source": [
    "x = x + 1"
   ]
  },
  {
   "cell_type": "markdown",
   "metadata": {},
   "source": [
    "En mathématiques, ceci serait un non-sens (du moins, une équation qui n'a pas de solution). En programmation, on a simplement une affectation qui calcule la valeur de la partie droite, et met le résultat dans la partie gauche: comme ```x``` vaut 10 (avant d'exécuter cette ligne), on remplace ```x``` par 10 dans l'expression et on calcule le résultat (```x + 1``` vaut 11), et on place cette valeur dans la variable de gauche, soit ```x```. Donc avant d'exécuter cette ligne, ```x``` valait 10, et après l'exécution, ```x``` vaut 11. \n",
    "\n",
    "On vérifie:"
   ]
  },
  {
   "cell_type": "code",
   "execution_count": 10,
   "metadata": {},
   "outputs": [
    {
     "data": {
      "text/plain": [
       "11"
      ]
     },
     "execution_count": 10,
     "metadata": {},
     "output_type": "execute_result"
    }
   ],
   "source": [
    "x"
   ]
  },
  {
   "cell_type": "markdown",
   "metadata": {},
   "source": [
    "Lorsqu'on exécute un programme, c'est-à-dire une séquence d'instructions, elles sont exécutés une par une, de la première ligne à la dernière. Lorsqu'on programme, on est souvent amené à relire du code, et il faut donc pouvoir le comprendre, c'est-à-dire interpréter correctement la séquence d'instructions et comprendre ce qu'elle fait. Interpréter un programme ligne par ligne en prenant note des valeurs des différentes variables s'appelle _tracer_ un programme.\n",
    "\n",
    "**Exemple**: on exécute le programme suivant. Que vaut ```c``` après l'exécution?"
   ]
  },
  {
   "cell_type": "code",
   "execution_count": 11,
   "metadata": {},
   "outputs": [],
   "source": [
    "a = 2\n",
    "b = 3\n",
    "a = a+b\n",
    "c = a*b"
   ]
  },
  {
   "cell_type": "markdown",
   "metadata": {},
   "source": [
    "Si on trace l'exécution, on a:\n",
    "1) ```a``` vaut 2\n",
    "2) ```b``` vaut 3\n",
    "3) ```a``` vaut 2+3, soit 5\n",
    "4) ```c``` vaut 5*3, soit 15\n",
    "\n",
    "Vérifions:"
   ]
  },
  {
   "cell_type": "code",
   "execution_count": 12,
   "metadata": {},
   "outputs": [
    {
     "data": {
      "text/plain": [
       "15"
      ]
     },
     "execution_count": 12,
     "metadata": {},
     "output_type": "execute_result"
    }
   ],
   "source": [
    "c"
   ]
  },
  {
   "cell_type": "markdown",
   "metadata": {},
   "source": [
    "#### Exercice 1\n",
    "\n",
    "Tracer le programme suivant. Que valent ```a```, ```b```, et ```c``` à la fin de l'exécution?\n"
   ]
  },
  {
   "cell_type": "code",
   "execution_count": null,
   "metadata": {},
   "outputs": [],
   "source": [
    "a = 1\n",
    "b = a - 1\n",
    "c = a + b\n",
    "a = a * 2\n",
    "c = a + b"
   ]
  },
  {
   "cell_type": "markdown",
   "metadata": {},
   "source": [
    "\n",
    "## Résolution de problème\n",
    "\n",
    "Maintenant qu'on sait comment fonctionnent des affectations, voyons comment on peut résoudre un problème par un programme simple, c'est à dire une séquence d'affectations.\n",
    "\n",
    "Prenons un exemple de problème simple. En 2023, l'athlète Kelvin Kiptum a couru le marathon de Chicago en 2h00'35\" (c'est le record du monde). Sachant que la distance d'un marathon est de 42,195km, quelle était la vitesse moyenne de ce coureur?\n",
    "\n",
    "On va d'abord résoudre le problème façon \"calculatrice\", avant de rédiger un programme qui puisse calculer la vitesse moyenne de n'importe quel coureur. \n",
    "La vitesse se calcule en divisant la distance par le temps. Ici, on a un temps en heures, minutes, secondes, ce qui ne nous permet pas d'appliquer directement la formule: il faut d'abord convertir le temps en une seule unité. Ici, on va exprimer le temps total en secondes, la distance en mètres, et calculer la vistesse en m/s. On pourra ensuite convertir la vitesse en km/h.\n",
    "\n",
    "Calculons d'abord le temps total (2 heures, 0 minutes, 35 secondes) en secondes (il y a 60 secondes par minute et 3600 secondes par heure):"
   ]
  },
  {
   "cell_type": "code",
   "execution_count": 13,
   "metadata": {},
   "outputs": [
    {
     "data": {
      "text/plain": [
       "7235"
      ]
     },
     "execution_count": 13,
     "metadata": {},
     "output_type": "execute_result"
    }
   ],
   "source": [
    "2*3600 + 35"
   ]
  },
  {
   "cell_type": "markdown",
   "metadata": {},
   "source": [
    "La distance d'un marathon est de 42,195km. Divisons la distance en mètres par le temps en secondes, ce qui nous donnera la vitesse en m/s:"
   ]
  },
  {
   "cell_type": "code",
   "execution_count": 2,
   "metadata": {},
   "outputs": [
    {
     "data": {
      "text/plain": [
       "5.8320663441603315"
      ]
     },
     "execution_count": 2,
     "metadata": {},
     "output_type": "execute_result"
    }
   ],
   "source": [
    "42195/7235"
   ]
  },
  {
   "cell_type": "markdown",
   "metadata": {},
   "source": [
    "Voilà la vitesse en m/s. Pour finir, on va convertir le résultat en km/h, une unité plus familière. La conversion est: 1 m/s = 3.6km/h"
   ]
  },
  {
   "cell_type": "code",
   "execution_count": 3,
   "metadata": {},
   "outputs": [
    {
     "data": {
      "text/plain": [
       "20.988"
      ]
     },
     "execution_count": 3,
     "metadata": {},
     "output_type": "execute_result"
    }
   ],
   "source": [
    "5.83 * 3.6"
   ]
  },
  {
   "cell_type": "markdown",
   "metadata": {},
   "source": [
    "Le résultat final est donc **20.988 km/h**, voilà la vitesse moyenne de Kelvin Kiptum. Remarquer qu'on a perdu un peu de précision, parce qu'à l'étape précédente on n'a pas recopié tous les chiffres de la vitesse en m/s... mais c'est sans doute assez précis pour notre problème. \n",
    "\n",
    "## Automatiser la résolution de problèmes\n",
    "\n",
    "Si on devait calculer ainsi la vitesse des autres coureurs (les 48 397 autres finissants!), un par un, on aurait bien du travail.\n",
    "\n",
    "Une bien meilleure solution est d'*automatiser* cette séquence de calculs. On peut représenter le problème avec trois entrées (les heures, minutes, secondes) et une sortie (le résultat). Ensuite on va représenter le cheminement de l'entrée à la sortie par une séquence de calculs écrits de manière **abstraite**, c'est à dire avec des **variables** à la place des nombres. \n",
    "\n",
    "En Python, on peut juste introduire des variables en leur donnant des valeurs, comme ceci:"
   ]
  },
  {
   "cell_type": "code",
   "execution_count": 4,
   "metadata": {},
   "outputs": [],
   "source": [
    "heures = 2"
   ]
  },
  {
   "cell_type": "code",
   "execution_count": 7,
   "metadata": {},
   "outputs": [],
   "source": [
    "minutes = 0"
   ]
  },
  {
   "cell_type": "code",
   "execution_count": 6,
   "metadata": {},
   "outputs": [],
   "source": [
    "secondes = 35"
   ]
  },
  {
   "cell_type": "markdown",
   "metadata": {},
   "source": [
    "Deux remarques:\n",
    "* C'est toujours une bonne idée d'utiliser des noms de variable explicites (comme ```heures``` pour comptabiliser les heures), plutôt que $a$, $b$, ou $x$ comme on a l'habitude de faire dans des formules mathématiques. Ça rend le programme plus facile à comprendre. \n",
    "* Ici les minutes ne rentrent pas dans le calcul, mais pour un autre coureur, on pourrait en avoir besoin.\n",
    "\n",
    "On peut maintenant passer au calcul de vitesse proprement dit. Les étapes sont les suivantes:\n",
    "1) calculer la durée totale en secondes\n",
    "2) calculer la vitesse en m/s\n",
    "3) convertir en km/h\n",
    "\n",
    "Première étape, la durée totale en secondes:"
   ]
  },
  {
   "cell_type": "code",
   "execution_count": 9,
   "metadata": {},
   "outputs": [
    {
     "data": {
      "text/plain": [
       "7235"
      ]
     },
     "execution_count": 9,
     "metadata": {},
     "output_type": "execute_result"
    }
   ],
   "source": [
    "heures * 3600 + minutes * 60 + secondes "
   ]
  },
  {
   "cell_type": "markdown",
   "metadata": {},
   "source": [
    "Ici, comme souvent, on a un résultat intermédiaire, qu'on aura besoin de réutiliser à l'étape d'après. Pour pouvoir faire cela, il faut stocker le résultat intermédiaire dans une variable. On va donc intruoduire une nouvelle variable **temps**, qui va contenir le temps total du coureur en secondes:"
   ]
  },
  {
   "cell_type": "code",
   "execution_count": 10,
   "metadata": {},
   "outputs": [],
   "source": [
    "temps = heures * 3600 + minutes * 60 + secondes "
   ]
  },
  {
   "cell_type": "markdown",
   "metadata": {},
   "source": [
    "On peut vérifier que ```temps``` contient bien le résultat attendu:"
   ]
  },
  {
   "cell_type": "code",
   "execution_count": 11,
   "metadata": {},
   "outputs": [
    {
     "data": {
      "text/plain": [
       "7235"
      ]
     },
     "execution_count": 11,
     "metadata": {},
     "output_type": "execute_result"
    }
   ],
   "source": [
    "temps"
   ]
  },
  {
   "cell_type": "markdown",
   "metadata": {},
   "source": [
    "On a donc calculé le temps total de l'athlète en secondes. Comme précédemment on va maintenant diviser la distance parcourue (en mètres) par le temps (en secondes), pour calculer la vitesse (en m/s). On utilisera une nouvelle variable ```vitesseMS``` pour enregistrer le résultat de ce deuxième calcul:"
   ]
  },
  {
   "cell_type": "code",
   "execution_count": 12,
   "metadata": {},
   "outputs": [],
   "source": [
    "vitesseMS = 42195 / temps"
   ]
  },
  {
   "cell_type": "markdown",
   "metadata": {},
   "source": [
    "Remarquer qu'on aurait pu mettre la distance aussi dans une variable. Ici on la considère comme une constante, qui ne changera pas pour les différents coureurs, et donc on peut aussi laisser sa valeur telle quelle.\n",
    "\n",
    "La dernière étape du calcul est maintenant de convertir cette vitesse en km/h. Pour cela on doit la multiplier par 3.6:"
   ]
  },
  {
   "cell_type": "code",
   "execution_count": 14,
   "metadata": {},
   "outputs": [],
   "source": [
    "vitesseKMH = vitesseMS * 3.6"
   ]
  },
  {
   "cell_type": "markdown",
   "metadata": {},
   "source": [
    "Remarquer qu'on utilise deux variables différentes pour la vitesse, une avec la vitesse en m/s et une pour la vitesse en km/h. On aurait pu juste modifier la vitesse en utilisant la même variable, mais il est préférable, en général, d'utiliser des variables différentes pour des informations différentes. Si par exemplela vitesse du coureur variait dans le temps, et qu'on en tenait compte en utilisant différentes valeurs pour la vitesse dans différentes parties du calcul, alors il serait plus raisonnable d'utiliser une seule variable pour représenter la vitesse, même si sa valeur changeait.\n",
    "\n",
    "### Le programme\n",
    "On peut reprendre l'ensemble du code en un seul bloc, et ajouter une ligne pour afficher le résultat:"
   ]
  },
  {
   "cell_type": "code",
   "execution_count": 16,
   "metadata": {},
   "outputs": [
    {
     "name": "stdout",
     "output_type": "stream",
     "text": [
      "vitesse moyenne: 20.995438838977194\n"
     ]
    }
   ],
   "source": [
    "temps = heures * 3600 + minutes * 60 + secondes\n",
    "vitesseMS = 42195 / temps\n",
    "vitesseKMH = vitesseMS * 3.6\n",
    "print(\"vitesse moyenne:\", vitesseKMH)"
   ]
  },
  {
   "cell_type": "markdown",
   "metadata": {},
   "source": [
    "Remarquer qu'on a obtenu une vitesse légèrement supérieure à la dernière fois, parce qu'on a gardé la précision de tous les chiffres disponibles, plutôt que de recopier seulement les deux premier chiffres après la virgule.\n",
    "\n",
    "Pour obtenir un programme vraiment réutilisable, on va lire les données au clavier plutôt que de les écrire dans le code:"
   ]
  },
  {
   "cell_type": "code",
   "execution_count": 18,
   "metadata": {},
   "outputs": [
    {
     "name": "stdout",
     "output_type": "stream",
     "text": [
      "Ce programme calcule la vitesse moyenne d'un marathonien. Entrez le temps de course de la personne et il vous donnera la vitesse correspondante.\n"
     ]
    },
    {
     "name": "stdin",
     "output_type": "stream",
     "text": [
      "Entrez les heures: 2\n",
      "Entrez les minutes: 0\n",
      "Entrez les secondes: 35\n"
     ]
    },
    {
     "name": "stdout",
     "output_type": "stream",
     "text": [
      "vitesse moyenne: 20.995438838977194\n"
     ]
    }
   ],
   "source": [
    "print(\"Ce programme calcule la vitesse moyenne d'un marathonien. Entrez le temps de course de la personne et il vous donnera la vitesse correspondante.\")\n",
    "heures = int(input(\"Entrez les heures:\"))    # lire les données\n",
    "minutes = int(input(\"Entrez les minutes:\"))   \n",
    "secondes = int(input(\"Entrez les secondes:\"))\n",
    "\n",
    "temps = heures * 3600 + minutes * 60 + secondes    # étape 1: temps total en secondes\n",
    "vitesseMS = 42195 / temps                          # étape 2: vitesse en m/s\n",
    "vitesseKMH = vitesseMS * 3.6                       # étape 3: vitesse en km/h\n",
    "\n",
    "print(\"vitesse moyenne:\", vitesseKMH)              # affichage"
   ]
  },
  {
   "cell_type": "markdown",
   "metadata": {},
   "source": [
    "**Remarque**: pour lire des données au clavier et les afficher à l'écran, on utilise les fonctions ```input``` et ```print``` respectivement, dont l'utilisation est détaillée dans le notebook *Entrées et sorties standard*"
   ]
  },
  {
   "cell_type": "markdown",
   "metadata": {},
   "source": [
    "## Résumé de la méthode\n",
    "\n",
    "Si on est capable de résoudre mathématiquement un problème, pour lequel le calcul est toujours le même, alors la méthode pour en faire un programme Python est la suivante:\n",
    "1) écrire les calculs avec des données quelconques\n",
    "2) remplacer les données par des variables\n",
    "3) ajouter des variables pour les résultats intermédiaires\n",
    "4) s'assurer qu'on utilise la bonne syntaxe pour les opérateurs mathématiques (ex: ```/``` pour une division plutôt que d'écrire une fraction ou $\\div$).\n",
    "5) Ajouter des lignes pour lire les données au clavier et afficher le résultat à l'écran."
   ]
  },
  {
   "cell_type": "markdown",
   "metadata": {},
   "source": [
    "#### Exercice 2\n",
    "Écrivez un programme qui demande son poids à l'utilisateur et calcule combien il faudrait de fourmis _Pheidologeton diversus_ pour le transporter, sachant qu'elles sont capables de transporter environ 19 milligrammes chacune. \n",
    "Exemple d'utilisation:\n",
    "\n",
    "```\n",
    "Entrez votre poids en kg: 67\n",
    "Il faudrait environ 3489583 fourmis pour vous transporter!\n",
    "```"
   ]
  },
  {
   "cell_type": "code",
   "execution_count": null,
   "metadata": {},
   "outputs": [],
   "source": []
  },
  {
   "cell_type": "markdown",
   "metadata": {},
   "source": [
    "#### Exercice 3\n",
    "\n",
    "Il existe une épreuve d'endurance qui consiste à courir la plus grande distance possible en 24h. Un athlète a couru à la vitesse moyenne de 11.3 km/h sur la durée de l'épreuve. On veut écrire un programme qui calcule la distance parcourue par cet athlète. \n",
    "\n",
    "**3.1** Mettre les données d'entrée (la durée, la vitesse et la distance) dans des variables:"
   ]
  },
  {
   "cell_type": "code",
   "execution_count": null,
   "metadata": {},
   "outputs": [],
   "source": []
  },
  {
   "cell_type": "markdown",
   "metadata": {},
   "source": [
    "**3.2** Écrire le calcul de la donnée de sortie (distance) en utilisant ces variables:"
   ]
  },
  {
   "cell_type": "code",
   "execution_count": null,
   "metadata": {},
   "outputs": [],
   "source": []
  },
  {
   "cell_type": "markdown",
   "metadata": {},
   "source": [
    "**3.3** Ajouter une instruction pour afficher le résultat"
   ]
  },
  {
   "cell_type": "code",
   "execution_count": null,
   "metadata": {},
   "outputs": [],
   "source": []
  }
 ],
 "metadata": {
  "kernelspec": {
   "display_name": "Python 3 (ipykernel)",
   "language": "python",
   "name": "python3"
  },
  "language_info": {
   "codemirror_mode": {
    "name": "ipython",
    "version": 3
   },
   "file_extension": ".py",
   "mimetype": "text/x-python",
   "name": "python",
   "nbconvert_exporter": "python",
   "pygments_lexer": "ipython3",
   "version": "3.12.2"
  }
 },
 "nbformat": 4,
 "nbformat_minor": 4
}
