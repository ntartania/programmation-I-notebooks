{
 "cells": [
  {
   "cell_type": "markdown",
   "id": "realistic-stocks",
   "metadata": {},
   "source": [
    "# TD 2: Devinette\n",
    "\n",
    "Dans ce TD, vous allez écrire un programme qui utilise des instructions conditionnelles et des boucles conditionnelles while. On utilisera aussi la bibliothèque ```random``` pour générer des nombres aléatoires.\n",
    "\n",
    "Dans une première partie, on simule le lancer d'une pièce (pour jouer à pile ou face), et le tutoriel montre comment générer des nombres aléatoires, faire une répétition conditionnelle, et faire un comptage. \n",
    "\n",
    "Dans la deuxième partie, on implémentera par étapes un jeu où l'ordinateur choisit un nombre au hasard, et l'utilisateur doit le deviner.\n",
    "Enfin, dans la troisième partie le jeu inverse est proposé: l'utilisateur choisit un nombre et l'ordinateur doit le deviner. Pour cette partie, seule la spécification est donnée.\n",
    "\n",
    "## Première partie: tutoriel 'pile ou face'\n",
    "\n",
    "Il est souvent utile dans un programme de faire intervenir le hasard, pour faire des programmes qui ne se déroulent pas toujours pareil. Par exemple, on peut jouer à pile ou face (et on ne veut pas toujours avoir le même résultat!). Pour cela, on utilise la bibliothèque Python ```random```. Cette bibliothèque fournit plusieurs fonctions pour réaliser des processus aléatoires: certains fonctions permettent de générer un nombre aléatoire dans un certain intervalle, d'autres permettent de choisir un ou plusieurs éléments au hasard dans une liste.\n",
    "\n",
    "Ici, on va jouer à 'pile ou face', et plus précisément on va simuler une expérience où on lance la pièce jusqu'à arriver à _face_ (tant qu'on obtient _pile_ on continue), et compter combien de lancers il a fallu pour arriver à _face_.\n",
    "\n",
    "On veut donc simuler le lancer d'une pièce, où on tombe sur 'pile' ou 'face' avec des probabilités égales. Comme c'est souvent plus facile de travailler avec des nombres, on peut représenter cela par une variable numérique à laquelle on donnera soit la valeur 0 ou 1, en considérant que 0 représente _pile_, et 1 représente _face_ (le choix inverse aurait été correct aussi, puisque les deux choix ont la même probabilité et sont donc interchangeables).\n",
    "\n",
    "Pour commencer, on importe la bibliothèque ```random```:"
   ]
  },
  {
   "cell_type": "code",
   "execution_count": 1,
   "id": "demanding-worth",
   "metadata": {},
   "outputs": [],
   "source": [
    "import random"
   ]
  },
  {
   "cell_type": "markdown",
   "id": "loose-flooring",
   "metadata": {},
   "source": [
    "On va maintenant utiliser la fonction ```randrange``` pour choisir au hasard un nombre entier dans un intervalle. On peut utiliser cette fonction avec deux paramètres: ```randrange(a, b)``` choisit au hasard un entier entre ```a``` et ```b```, où ```a``` est inclus mais ```b``` est exclu (c'est à dire un nombre dans la liste ```a, a+1, ... b-1```). \n",
    "Remarque: le fait d'exclure ```b``` permet d'avoir exactement ```b-a``` choix, et non pas ```b-a+1```. \n",
    "Ici, on veut seulement les choix 0 et 1, et on écrit donc:"
   ]
  },
  {
   "cell_type": "code",
   "execution_count": 2,
   "id": "northern-gates",
   "metadata": {},
   "outputs": [
    {
     "data": {
      "text/plain": [
       "0"
      ]
     },
     "execution_count": 2,
     "metadata": {},
     "output_type": "execute_result"
    }
   ],
   "source": [
    "random.randrange(0,2)"
   ]
  },
  {
   "cell_type": "markdown",
   "id": "level-cooperative",
   "metadata": {},
   "source": [
    "Essayons encore:"
   ]
  },
  {
   "cell_type": "code",
   "execution_count": 3,
   "id": "challenging-mills",
   "metadata": {},
   "outputs": [
    {
     "data": {
      "text/plain": [
       "1"
      ]
     },
     "execution_count": 3,
     "metadata": {},
     "output_type": "execute_result"
    }
   ],
   "source": [
    "random.randrange(0,2)"
   ]
  },
  {
   "cell_type": "code",
   "execution_count": 4,
   "id": "nutritional-learning",
   "metadata": {},
   "outputs": [
    {
     "data": {
      "text/plain": [
       "1"
      ]
     },
     "execution_count": 4,
     "metadata": {},
     "output_type": "execute_result"
    }
   ],
   "source": [
    "random.randrange(0,2)"
   ]
  },
  {
   "cell_type": "markdown",
   "id": "bigger-mounting",
   "metadata": {},
   "source": [
    "Comme zéro représente _pile_ et 1 représente _face_, dans cette expérience on est tombé sur _ face_ au troisième lancer.\n",
    "\n",
    "On va maintenant afficher 'pile' ou 'face' au lieu de 0 ou 1, en utilisant une instruction conditionnelle ```if-else```:"
   ]
  },
  {
   "cell_type": "code",
   "execution_count": 5,
   "id": "grand-bachelor",
   "metadata": {},
   "outputs": [
    {
     "name": "stdout",
     "output_type": "stream",
     "text": [
      "pile !\n"
     ]
    }
   ],
   "source": [
    "nombre = random.randrange(0,2)\n",
    "if(nombre==0):\n",
    "    print('pile !')\n",
    "else:\n",
    "    print('face !')"
   ]
  },
  {
   "cell_type": "markdown",
   "id": "failing-pillow",
   "metadata": {},
   "source": [
    "Ce bloc d'instructions simule le lancer d'une pièce, et affiche 'pile' ou 'face'. Maintenant on veut répéter ceci jusqu'à arriver à 'face'. Quand on parle d'instruction répétées, il y a deux façons générales de définir la répétition: \n",
    "* elle est peut être _conditionnelle_ (on répète jusqu'à ce qu'une certaine condition soit réalisée, ou _tant que_ la condition est vraie)  \n",
    "* elle peut être _inconditionnelle_ (on sait à l'avance qu'on veut répéter le processus X fois, ou bien pour chaque élément d'un ensemble). \n",
    "\n",
    "Ici on a une répétition conditionnelle, et pour cela on utilise l'instruction répétitive ```while```, qui prend une condition booléenne. Pour pouvoir utiliser un ```while```, il faut formuler notre processus répétitif d'une manière bien précise: il faut formuler une condition telle que la répétition se fait _tant que_ cette condition est vraie. \n",
    "\n",
    "Ici on a une condition pour laquelle on veut, à l'inverse, répéter _jusqu'à_ ce qu'elle soit vraie (on lance la pièce _jusqu'à obtenir 'face'_). On doit reformuler cette condition: on va répéter _tant que_ on obtient 'pile', ce qui est la négation de notre condition initiale. D'autre part, avec une instruction ```while```, la condition est toujours vérifiée _au début_, c'est-à-dire avant d'exécuter l'instruction à répéter. Ici on voudrait vérifier _après_ chaque lancer si on a obtenu 'pile' ou 'face'. On va donc se débrouiller pour que notre condition soit initialement vraie (pour lancer une première fois la pièce), et ensuite la vérifier à chaque fois _avant_ le lancer suivant:"
   ]
  },
  {
   "cell_type": "code",
   "execution_count": 6,
   "id": "vocal-deficit",
   "metadata": {},
   "outputs": [
    {
     "name": "stdout",
     "output_type": "stream",
     "text": [
      "pile !\n",
      "pile !\n",
      "face !\n"
     ]
    }
   ],
   "source": [
    "nombre =0 #condition initialement vraie\n",
    "while(nombre==0):\n",
    "    nombre = random.randrange(0,2)\n",
    "    if(nombre==0):\n",
    "        print('pile !')\n",
    "    else:\n",
    "        print('face !') # nombre==1, et donc à la prochaine vérification de la condition, \n",
    "                        # elle est fausse et on ne fait rien"
   ]
  },
  {
   "cell_type": "markdown",
   "id": "interracial-relation",
   "metadata": {},
   "source": [
    "Voilà le processus qu'on voulait répéter. Il reste une chose à faire: _compter_ le nombre d'itérations.\n",
    "Compter, c'est un processus classique qu'on retrouve dans la résolution de très nombreux problèmes. Il y a une 'recette' très simple, et qu'il est utile d'intégrer à notre 'vocabulaire' algorithmique. \n",
    "\n",
    "Commençons par montrer son implémentation pour notre exemple, avant de donner la recette générale:"
   ]
  },
  {
   "cell_type": "code",
   "execution_count": 7,
   "id": "viral-intent",
   "metadata": {},
   "outputs": [
    {
     "name": "stdout",
     "output_type": "stream",
     "text": [
      "pile !\n",
      "pile !\n",
      "face !\n",
      "on a obtenu face au bout de 3 lancers.\n"
     ]
    }
   ],
   "source": [
    "compteur = 0 # variable pour compter\n",
    "nombre = 0 # condition initialement vraie\n",
    "while(nombre==0):\n",
    "    nombre = random.randrange(0,2)\n",
    "    compteur = compteur + 1 # on compte: 1 de plus !\n",
    "    if(nombre==0):\n",
    "        print('pile !')\n",
    "    else:\n",
    "        print('face !') # nombre==1, et donc à la prochaine vérification de la condition, \n",
    "                        # elle est fausse et on ne fait rien\n",
    "#fin de la boucle: la variable compteur contient le nombre d'itérations\n",
    "print(\"on a obtenu face au bout de\", compteur, \"lancers.\")"
   ]
  },
  {
   "cell_type": "markdown",
   "id": "equivalent-canadian",
   "metadata": {},
   "source": [
    "On a utilisé une variable ```compteur```, qu'on a initialisée à 0 _avant_ la boucle, et qui est incrémentée (on y ajoute 1) _à l'intérieur de_ la boucle, à chaque fois qu'on lance la pièce.\n",
    "\n",
    "C'est une technique qui s'applique de manière générale avec n'importe quel processus répétitif, conditionnel ou non. La technique suppose que durant la répétition, on va rencontrer de temps en temps (ou à chaque répétition, coomme ici) un événement qu'on veut compter. \n",
    "\n",
    "La structure du code pour réaliser ce comptage est la suivante:\n",
    "```\n",
    "compteur = 0 # variable pour compter, initialisée à 0 avant la boucle\n",
    "\n",
    "while(condition): # boucle quelconque\n",
    "    if(événement à compter):\n",
    "        compteur = compteur+1 #incrémenter le compteur\n",
    "        \n",
    "# ici (après la boucle), la variable compteur contient le nombre d'événements rencontrés\n",
    "```\n",
    "\n",
    "__Remarque:__ l'instruction pour 'incrémenter' une variable, c'est à dire \"remplacer la valeur courante de la variable par la valeur plus 1\", peut s'écrire de manière abrégée comme ceci:"
   ]
  },
  {
   "cell_type": "code",
   "execution_count": 8,
   "id": "incoming-accordance",
   "metadata": {},
   "outputs": [],
   "source": [
    "compteur += 1"
   ]
  },
  {
   "cell_type": "markdown",
   "id": "lightweight-double",
   "metadata": {},
   "source": [
    "De même, pour enlever 1 à cette variable on peut écrire :"
   ]
  },
  {
   "cell_type": "code",
   "execution_count": 9,
   "id": "saving-morris",
   "metadata": {},
   "outputs": [],
   "source": [
    "compteur -= 1"
   ]
  },
  {
   "cell_type": "markdown",
   "id": "outdoor-tongue",
   "metadata": {},
   "source": [
    "## Deuxième partie: devinette\n",
    "\n",
    "On va maintenant implémenter le jeu suivant:\n",
    "\n",
    "1. le programme choisit un nombre au hasard entre 1 et 20\n",
    "2. l'utilisateur cherche à le deviner: il entre des nombres au clavier, et le programme lui répond \"trop grand\", \"trop petit\". Le programme compte aussi le nombre de tentatives de l'utilisateur.\n",
    "3. quand l'utilisateur devine le nombre exact, le programme affiche \"Gagné\", et le nombre de tentatives réalisées.\n",
    "\n",
    "<img src=\"ScreenShot1.png\" width=\"500\">"
   ]
  },
  {
   "cell_type": "markdown",
   "id": "wooden-royalty",
   "metadata": {},
   "source": [
    "Les instructions suivantes vous guideront dans l'écriture de ce programme.\n",
    "\n",
    "__2.1__ Pour commencer, définir une variable ```secret``` qui contient le nombre à deviner, dans l'intervalle 1..10. \n",
    "\n",
    "Note: la bibliothèque ```random``` a déjà été importée au début du notebook, et il n'est pas nécessaire de l'importer à nouveau."
   ]
  },
  {
   "cell_type": "code",
   "execution_count": 11,
   "id": "controlling-marker",
   "metadata": {},
   "outputs": [],
   "source": [
    "secret = random.randrange(1,11)"
   ]
  },
  {
   "cell_type": "markdown",
   "id": "sought-carol",
   "metadata": {},
   "source": [
    "__2.2__ Commencer le code où l’utilisateur devine le nombre: Le programme doit afficher le message \"Entrez un nombre : \", et le nombre doit être lu au clavier en utilisant ```input()``` et ```int()```, et stocké dans une variable ```devine```."
   ]
  },
  {
   "cell_type": "code",
   "execution_count": 12,
   "id": "framed-daughter",
   "metadata": {},
   "outputs": [
    {
     "name": "stdout",
     "output_type": "stream",
     "text": [
      "Entrez un nombre:3\n"
     ]
    }
   ],
   "source": [
    "devine= int(input(\"Entrez un nombre:\"))"
   ]
  },
  {
   "cell_type": "markdown",
   "id": "scheduled-yugoslavia",
   "metadata": {},
   "source": [
    "__2.3__ Ajouter une instruction conditionnelle ```if``` pour comparer le nombre deviné au nombre secret: selon le cas, afficher \"trop grand\", \"trop petit\", ou encore \"gagné\".  Tester que cela fonctionne (il peut être utile d'afficher la valeur de ```secret``` pour vérifier que tout se passe comme prévu).\n",
    "\n",
    "__Remarque:__ ici, pour notre ```if``` on a trois cas possibles, et la structure ```if-else``` n'en permet que deux. Pour enchainer les conditions, on peut utiliser la structure ```if-elif-else```: \n",
    "```\n",
    "if(condition1):\n",
    "    instruction1\n",
    "elif(condition2):\n",
    "    instruction2\n",
    "...\n",
    "else:\n",
    "    instruction3\n",
    "```\n",
    "Les différentes conditions permettent d'énumérer les différents cas possibles (il peut y avoir plusieurs ```elif```), et habituellement on termine par un ```else```, qui couvre tous les autres cas."
   ]
  },
  {
   "cell_type": "code",
   "execution_count": 13,
   "id": "selected-class",
   "metadata": {},
   "outputs": [
    {
     "name": "stdout",
     "output_type": "stream",
     "text": [
      "trop grand!\n"
     ]
    }
   ],
   "source": [
    "if(devine<secret):\n",
    "    print(\"trop petit!\")\n",
    "elif (devine>secret):\n",
    "    print(\"trop grand!\")\n",
    "else:\n",
    "    print(\"gagné!\")"
   ]
  },
  {
   "cell_type": "markdown",
   "id": "authorized-monthly",
   "metadata": {},
   "source": [
    "__2.4__ À présent, on veut répéter ce bloc de code jusqu'à ce que l'utilisateur ait gagné (autrement dit, tant qu'il n'a pas gagné). Placer le code dans une boucle ```while``` avec une condition appropriée, et tester."
   ]
  },
  {
   "cell_type": "code",
   "execution_count": 14,
   "id": "valued-warren",
   "metadata": {},
   "outputs": [
    {
     "name": "stdout",
     "output_type": "stream",
     "text": [
      "Entrez un nombre:1\n",
      "trop petit!\n",
      "Entrez un nombre:2\n",
      "gagné!\n"
     ]
    }
   ],
   "source": [
    "while(devine != secret):\n",
    "    devine= int(input(\"Entrez un nombre:\"))\n",
    "    if(devine<secret):\n",
    "        print(\"trop petit!\")\n",
    "    elif (devine>secret):\n",
    "        print(\"trop grand!\")\n",
    "    else:\n",
    "        print(\"gagné!\")"
   ]
  },
  {
   "cell_type": "markdown",
   "id": "negative-interim",
   "metadata": {},
   "source": [
    "__2.5__ Pour finir, ajouter le comptage des tentatives de l'utilisateur. Après la boucle, le programme doit afficher le nombre de tentatives.\n",
    "\n",
    "__corrigé complet:__(on reprend l'ensemble du code depuis le choix du nombre secret)"
   ]
  },
  {
   "cell_type": "code",
   "execution_count": 15,
   "id": "studied-creativity",
   "metadata": {},
   "outputs": [
    {
     "name": "stdout",
     "output_type": "stream",
     "text": [
      "Entrez un nombre:5\n",
      "trop petit!\n",
      "Entrez un nombre:7\n",
      "trop petit!\n",
      "Entrez un nombre:9\n",
      "trop petit!\n",
      "Entrez un nombre:10\n",
      "gagné!\n",
      "vous avez trouvé en 4  tentatives.\n"
     ]
    }
   ],
   "source": [
    "secret = random.randrange(1,11)\n",
    "devine = 0 # ceci est nécessaire sinon on ne peut pas évaluer la condition de boucle la premiere fois (devine n'a pas encore de valeur)\n",
    "tentatives = 0  # pour compter les tentatives\n",
    "while(devine != secret):\n",
    "    devine= int(input(\"Entrez un nombre:\"))\n",
    "    tentatives = tentatives + 1 # on compte\n",
    "    if(devine<secret):\n",
    "        print(\"trop petit!\")\n",
    "    elif (devine>secret):\n",
    "        print(\"trop grand!\")\n",
    "    else:\n",
    "        print(\"gagné!\")\n",
    "\n",
    "print(\"vous avez trouvé en\", tentatives, \" tentatives.\")"
   ]
  },
  {
   "cell_type": "markdown",
   "id": "aerial-undergraduate",
   "metadata": {},
   "source": [
    "## Troisième partie: le programme devine\n",
    "\n",
    "Pour cette dernière partie, il va y avoir un peu de défi. Le but est de réaliser le jeu inverse: l'utilisateur pense à un nombre, et le programme doit deviner le nombre. Ça se passe comme ceci:\n",
    "\n",
    "<img src=\"ScreenShot2.png\" width=\"500\">\n",
    "\n",
    "Le principal défi est de choisir le nombre que le programme devine: il est recommandé de s'y prendre en plusieurs étapes. \n",
    "\n",
    "Dans un premier temps, juste prendre à chaque fois un nombre au hasard entre 1 et 20. Quand ça fonctionne bien, essayer de tenir compte de l'indication \"trop grand\" ou \"trop petit\" donnée par l'utilisateur. La difficulté ici est qu'il faut garder en mémoire l'intervalle possible: par exemple, si on a deviné 5 (trop petit), ensuite 14 (trop grand), puis 11 (trop grand encore), il faut deviner un nombre entre 5 (le plus grand des \"trop petits\") et 11 (le plus petit des \"trop grands\").\n",
    "\n",
    "### Corrigé:"
   ]
  },
  {
   "cell_type": "code",
   "execution_count": 17,
   "id": "quarterly-ordinance",
   "metadata": {},
   "outputs": [
    {
     "name": "stdout",
     "output_type": "stream",
     "text": [
      "Mon tour de deviner Pensez à un nombre entre 1 et 10, tapez entrée qauand vous êtes prêt.\n",
      "\n",
      "Je vais annoncer des nombres, taper 0 si c'est trop petit, 1 si c'est trop grand, 2 si j'ai deviné\n",
      "je devine 2\n",
      "0\n",
      "je devine 10\n",
      "1\n",
      "je devine 9\n",
      "1\n",
      "je devine 7\n",
      "1\n",
      "je devine 4\n",
      "1\n",
      "je devine 3\n",
      "2\n",
      "Yay!\n",
      "j'ai trouvé en 6 coups.\n"
     ]
    }
   ],
   "source": [
    "print(\"Mon tour de deviner Pensez à un nombre entre 1 et 10, tapez entrée qauand vous êtes prêt.\")\n",
    "pret = input() # on ne fait rien avec l'information tapée...\n",
    "\n",
    "print(\"Je vais annoncer des nombres, taper 0 si c'est trop petit, 1 si c'est trop grand, 2 si j'ai deviné\")\n",
    "# on va tenir compte des retours de l'utilisateur pour cibler un intervalle\n",
    "# initialement la valeur est entre 1 et 10\n",
    "inf = 1 # plus petite valeur\n",
    "sup = 10 # plus grande\n",
    "\n",
    "tentatives = 0 # on va compter les tentatives\n",
    "retour = 0 # pour pouvoir entrere dans la boucle initialement\n",
    "while(retour != 2): # on n'a pas deviné\n",
    "    devine = random.randrange(inf, sup+1) # on devine au hasard dans l'intervalle\n",
    "    print(\"je devine\", devine)\n",
    "    retour = int(input())\n",
    "    tentatives = tentatives +1 # on compte\n",
    "    if(retour ==0): #trop petit\n",
    "        inf = devine+1 # on ajuste l'intervalle pour deviner\n",
    "    elif (retour == 1): #trop grand\n",
    "        sup = devine -1 \n",
    "    else: # gagné!\n",
    "        print(\"Yay!\")\n",
    "\n",
    "print(\"j'ai trouvé en\",tentatives,\"coups.\")\n",
    "    "
   ]
  },
  {
   "cell_type": "markdown",
   "id": "dried-marine",
   "metadata": {},
   "source": [
    "__Remarque__: ici on a une stratégie intermédiaire (ni la plus stupide, qui consisterait à juste deviner toujours entre 1 et 10, ni la plus intelligente, qui consiste à toujours deviner la valeur au milieu l'intervalle des possibles (ce qui permet de trouver la solution le plus rapidement). Cette stratégie, appelée \"recherche dichotomique\" est laissée en exercice... "
   ]
  }
 ],
 "metadata": {
  "kernelspec": {
   "display_name": "Python 3",
   "language": "python",
   "name": "python3"
  },
  "language_info": {
   "codemirror_mode": {
    "name": "ipython",
    "version": 3
   },
   "file_extension": ".py",
   "mimetype": "text/x-python",
   "name": "python",
   "nbconvert_exporter": "python",
   "pygments_lexer": "ipython3",
   "version": "3.9.1"
  }
 },
 "nbformat": 4,
 "nbformat_minor": 5
}
