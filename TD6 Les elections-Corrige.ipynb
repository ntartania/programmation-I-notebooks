{
 "cells": [
  {
   "cell_type": "markdown",
   "id": "alternative-librarian",
   "metadata": {},
   "source": [
    "# TD 6: Les élections\n",
    "\n",
    "Dans cette activité on va utiliser des listes, tuples et dictionnaires pour compter des votes et déterminer le vainqueur d'une élection.\n",
    "\n",
    "## Tutoriel: le vote à majorité simple\n",
    "\n",
    "On veut d'abord implémenter un des algorithmes de vote les plus simples, la règle dite de \"pluralité\", c'est-à-dire à majorité simple -- le système utilisé au Canada (et dans plusieurs autres pays) pour élire les députés.\n",
    "\n",
    "Les candidats à l'élection sont V. Poutchine, J. Troudeau, et E. Maqueron.\n",
    "\n",
    "Dans le contexte du vote à majorité simple, un bulletin de vote pourrait être représenté par un seul nom. Cependant, en anticipant les autres mécanismes de vote qu'on va explorer par la suite, on va représenter les préférences complètes de chaque électeur par la liste des candidats dans l'ordre des préférences de l'électeur: d'abord son premier choix, ensuite son deuxième choix, etc.\n",
    "\n",
    "Par exemple, pour les préférences d'un électeur qui préfère M. Troudeau aux autres, et préfère M. Maqueron à M. Poutchine, on aurait la liste ```[\"Troudeau\", \"Maqueron\", \"Poutchine\"]```. Dans la suite on appellera une telle liste un _profil de préférences_.\n",
    "\n",
    "Les préférences de la population peuvent se représenter par un grand nombre de listes de cette forme, une par électeur. Pour simplifier la représentation, on va représenter cet ensemble de préférences par un ensemble de tuples, qui donne pour chaque profil de préférences le nombre d'électeurs auquel correspond ce profil de préférences:"
   ]
  },
  {
   "cell_type": "code",
   "execution_count": 1,
   "id": "infrared-calculator",
   "metadata": {},
   "outputs": [],
   "source": [
    "preferences = [([\"Troudeau\", \"Maqueron\", \"Poutchine\"], 43), ([\"Poutchine\", \"Troudeau\", \"Maqueron\"], 61), ([\"Maqueron\", \"Troudeau\", \"Poutchine\"], 28), ([\"Maqueron\", \"Poutchine\", \"Troudeau\" ], 9), ([\"Troudeau\", \"Poutchine\", \"Maqueron\"], 7)]"
   ]
  },
  {
   "cell_type": "markdown",
   "id": "awful-furniture",
   "metadata": {},
   "source": [
    "Cette liste nous dit que 43 électeurs préfèrent M. Troudeau, devant M. Maqueron en deuxième place, et M. Poutchine en troisième, que 61 électeurs ont le profil avec M. Poutchine en premier, suivi de M. Troudeau puis M. Maqueron, etc.\n",
    "\n",
    "Pour comptabiliser les votes, on va créer un dicitonnaire avec comme clés les noms des candidats, et comme valeurs le nombre de votes qu'ils reçoivent. On commence par créer ce dictionnaire vide."
   ]
  },
  {
   "cell_type": "code",
   "execution_count": 2,
   "id": "seventh-packing",
   "metadata": {},
   "outputs": [],
   "source": [
    "votes = {}"
   ]
  },
  {
   "cell_type": "markdown",
   "id": "buried-metro",
   "metadata": {},
   "source": [
    "On va ensuite devoir parcourir la liste de profils de préférences, et en supposant que les électeurs vont voter pour leur candidat favori, comptabiliser les votes que recevront les différents candidats.\n",
    "\n",
    "Chaque élément de la liste est une paire _(profil de préférences, nombre d'électeurs)_. Prenons un exemple et séparons les deux éléments:"
   ]
  },
  {
   "cell_type": "code",
   "execution_count": 3,
   "id": "seeing-amber",
   "metadata": {},
   "outputs": [],
   "source": [
    "paire = ([\"Troudeau\", \"Maqueron\", \"Poutchine\"], 43)\n",
    "prefs = paire[0]\n",
    "votants = paire[1]"
   ]
  },
  {
   "cell_type": "code",
   "execution_count": 4,
   "id": "frequent-procurement",
   "metadata": {},
   "outputs": [
    {
     "data": {
      "text/plain": [
       "['Troudeau', 'Maqueron', 'Poutchine']"
      ]
     },
     "execution_count": 4,
     "metadata": {},
     "output_type": "execute_result"
    }
   ],
   "source": [
    "prefs"
   ]
  },
  {
   "cell_type": "code",
   "execution_count": 5,
   "id": "ceramic-slovak",
   "metadata": {},
   "outputs": [
    {
     "data": {
      "text/plain": [
       "43"
      ]
     },
     "execution_count": 5,
     "metadata": {},
     "output_type": "execute_result"
    }
   ],
   "source": [
    "votants"
   ]
  },
  {
   "cell_type": "markdown",
   "id": "personal-rochester",
   "metadata": {},
   "source": [
    "On peut maintenant extraire le candidat favori, qui est le premier élément de ```prefs```:"
   ]
  },
  {
   "cell_type": "code",
   "execution_count": 6,
   "id": "talented-natural",
   "metadata": {},
   "outputs": [
    {
     "data": {
      "text/plain": [
       "'Troudeau'"
      ]
     },
     "execution_count": 6,
     "metadata": {},
     "output_type": "execute_result"
    }
   ],
   "source": [
    "prefs[0]"
   ]
  },
  {
   "cell_type": "markdown",
   "id": "informational-prophet",
   "metadata": {},
   "source": [
    "Il faudra donc ajouter 43 voix pour M. Troudeau.\n",
    "\n",
    "Voyons si ce candidat a déjà des votes:"
   ]
  },
  {
   "cell_type": "code",
   "execution_count": 7,
   "id": "provincial-limitation",
   "metadata": {},
   "outputs": [
    {
     "data": {
      "text/plain": [
       "False"
      ]
     },
     "execution_count": 7,
     "metadata": {},
     "output_type": "execute_result"
    }
   ],
   "source": [
    "\"Troudeau\" in votes"
   ]
  },
  {
   "cell_type": "markdown",
   "id": "fabulous-customer",
   "metadata": {},
   "source": [
    "Il n'en a pas, on peut donc simplement lui attribuer les 43 votes comme ceci:"
   ]
  },
  {
   "cell_type": "code",
   "execution_count": 8,
   "id": "humanitarian-israel",
   "metadata": {},
   "outputs": [],
   "source": [
    "votes[\"Troudeau\"] = 43"
   ]
  },
  {
   "cell_type": "markdown",
   "id": "pleasant-atmosphere",
   "metadata": {},
   "source": [
    "Autrement dit en utilisant les variables appropriées:"
   ]
  },
  {
   "cell_type": "code",
   "execution_count": 9,
   "id": "ecological-strategy",
   "metadata": {},
   "outputs": [],
   "source": [
    "votes[prefs[0]] = votants"
   ]
  },
  {
   "cell_type": "markdown",
   "id": "blank-killing",
   "metadata": {},
   "source": [
    "Si un candidat avait déjà des voix (comme M. Troudeau après cette dernière opération), il faudrait faire la somme des voix déjà comptabilisées avec celles données par le tuples actuel:"
   ]
  },
  {
   "cell_type": "code",
   "execution_count": 10,
   "id": "colonial-thompson",
   "metadata": {},
   "outputs": [
    {
     "data": {
      "text/plain": [
       "43"
      ]
     },
     "execution_count": 10,
     "metadata": {},
     "output_type": "execute_result"
    }
   ],
   "source": [
    "votes[prefs[0]]"
   ]
  },
  {
   "cell_type": "markdown",
   "id": "clear-humor",
   "metadata": {},
   "source": [
    "Supposons qu'on comptabilise un nouveau profil de préférences avec d'autres voix allant à M. Troudeau:"
   ]
  },
  {
   "cell_type": "code",
   "execution_count": 11,
   "id": "clean-blocking",
   "metadata": {},
   "outputs": [],
   "source": [
    "paire = ([\"Troudeau\", \"Poutchine\", \"Maqueron\"], 7)\n",
    "prefs, votants = paire # on peut aussi affecter directement les deux variables"
   ]
  },
  {
   "cell_type": "markdown",
   "id": "painful-division",
   "metadata": {},
   "source": [
    "On calcule le nouveau total de votes, et on met à jour le dictionnaire:"
   ]
  },
  {
   "cell_type": "code",
   "execution_count": 12,
   "id": "heated-philosophy",
   "metadata": {},
   "outputs": [],
   "source": [
    "nouveau_total = votes[prefs[0]] + votants\n",
    "votes[prefs[0]] = nouveau_total"
   ]
  },
  {
   "cell_type": "code",
   "execution_count": 13,
   "id": "apart-manual",
   "metadata": {},
   "outputs": [
    {
     "data": {
      "text/plain": [
       "{'Troudeau': 50}"
      ]
     },
     "execution_count": 13,
     "metadata": {},
     "output_type": "execute_result"
    }
   ],
   "source": [
    "votes"
   ]
  },
  {
   "cell_type": "markdown",
   "id": "developed-stockholm",
   "metadata": {},
   "source": [
    "Les 7 nouveaux votes on bien été comptabilisés.\n",
    "À noter qu'on aurait pu écrire simplement ```votes[prefs[0]] = votes[prefs[0]] + votants```, sans utiliser la variable ```nouveau_total```.\n",
    "\n",
    "Reprenons donc notre dictionnaire de votes et répétons cete opération pour tous les profils de préférences listés:"
   ]
  },
  {
   "cell_type": "code",
   "execution_count": 43,
   "id": "acknowledged-inclusion",
   "metadata": {},
   "outputs": [],
   "source": [
    "votes = {}\n",
    "for paire in preferences:\n",
    "    prefs, votants = paire[0], paire[1]\n",
    "    favori = prefs[0]\n",
    "    if (favori in votes):\n",
    "        votes[favori] = votes[favori]+ votants # on met à jour s'il y avait déjà des voix\n",
    "    else:\n",
    "        votes[favori] = votants "
   ]
  },
  {
   "cell_type": "markdown",
   "id": "contemporary-prevention",
   "metadata": {},
   "source": [
    "Et voilà, nous avons comptabilisé les votes:"
   ]
  },
  {
   "cell_type": "code",
   "execution_count": 44,
   "id": "fiscal-sister",
   "metadata": {},
   "outputs": [
    {
     "data": {
      "text/plain": [
       "{'Troudeau': 50, 'Poutchine': 61, 'Maqueron': 37}"
      ]
     },
     "execution_count": 44,
     "metadata": {},
     "output_type": "execute_result"
    }
   ],
   "source": [
    "votes"
   ]
  },
  {
   "cell_type": "markdown",
   "id": "revised-stephen",
   "metadata": {},
   "source": [
    "M. Poutchine a donc remporté cette élection. Afin de trouver ça de manière automatisée, il suffit de parcourir les éléments du dictionnaire et de trouver la clé dont la valeur associée est la plus élevée.\n",
    "\n",
    "Pour parcourir la liste de candidats, on énumère simplement les clés du dictionnaire: ceci nous donne les candidats ayant reçu au moins un vote."
   ]
  },
  {
   "cell_type": "code",
   "execution_count": 16,
   "id": "alien-california",
   "metadata": {},
   "outputs": [
    {
     "name": "stdout",
     "output_type": "stream",
     "text": [
      "Troudeau : 50 voix\n",
      "Poutchine : 61 voix\n",
      "Maqueron : 37 voix\n"
     ]
    }
   ],
   "source": [
    "for candidat in votes:\n",
    "    print(candidat,\":\", votes[candidat], \"voix\")"
   ]
  },
  {
   "cell_type": "markdown",
   "id": "tamil-hello",
   "metadata": {},
   "source": [
    "Afin de trouver le gagnant de l'élection (la clé avec la valeur la plus élevée), on va adapter une \"recette\" vue dans le cours sur les boucles, pour trouver l'élément \"le plus...\" dans un ensemble. La recette est comme suit: on commence par choisir comme \"candidat\" initial la première valeur de l'ensemble, et ensuite énumère les autres valeurs à la recherche d'une \"meilleure\" valeur selon notre critère, c'est à dire plus haute, plus basse, etc. \n",
    "\n",
    "Dans le cas présent, il est un peu compliqué d'accéder au \"premier\" élément du dictionnaire, alors pour suivre précisément la recette il faudrait en choisir un au hasard, ou imposer un ordre... plus simplement, ici on cherche le candidat avec le maximum de votes, et comme on sait que le gagnant de l'élection aura au moins un vote, on va initialiser notre maximum temporaire à zéro, plutôt que de prendre le nombre de votes du \"premier\" candidat.\n",
    "\n",
    "On a donc l'algorithme suivant:"
   ]
  },
  {
   "cell_type": "code",
   "execution_count": 17,
   "id": "lined-builder",
   "metadata": {},
   "outputs": [],
   "source": [
    "nbvotes_max = 0 #valeur candidate initiale\n",
    "for candidat in votes: #ici candidat se réfère à l';election, pas à la \"valeur candidate\" de la recette\n",
    "    if(votes[candidat]>nbvotes_max):\n",
    "        nbvotes_max = votes[candidat]\n",
    "        meilleur = candidat     # il faut retenir qui a reçu ce nombre de votes"
   ]
  },
  {
   "cell_type": "code",
   "execution_count": 18,
   "id": "prompt-courtesy",
   "metadata": {},
   "outputs": [
    {
     "data": {
      "text/plain": [
       "('Poutchine', 61)"
      ]
     },
     "execution_count": 18,
     "metadata": {},
     "output_type": "execute_result"
    }
   ],
   "source": [
    "meilleur, nbvotes_max"
   ]
  },
  {
   "cell_type": "markdown",
   "id": "quick-armor",
   "metadata": {},
   "source": [
    "M. Poutchine a bien remporté l'élection.\n",
    "\n",
    "Remarque: on suppose ici qu'il n'y a pas eu d'égalité entre deux candidats.\n",
    "\n",
    "## Exercice guidé: le deuxième tour\n",
    "\n",
    "Dans cet exercice on va implémenter la règle vote de la \"pluralité à deux tours\", c'est à dire qu'à l'issue d'un premier scrutin, si un candidat a la majorité absolue des voix (au moins 50% + 1 voix), il est élu, et sinon on garde les deux candidats ayant reçu le plus de voix et on organise un deuxième tour, où les électeurs départagent seulement ces deux candidats.\n",
    "\n",
    "__2.1__ Reprendre le code qui trouve le vainqueur de l'élection, et ajouter un comptage du total des voix, afin de pouvoir vérifier si le gagnant a la majorité absolue."
   ]
  },
  {
   "cell_type": "code",
   "execution_count": 20,
   "id": "limited-samba",
   "metadata": {},
   "outputs": [],
   "source": [
    "nbvotes_max = 0 #valeur candidate initiale\n",
    "total_votes = 0;\n",
    "for candidat in votes: #ici candidat se réfère à l';election, pas à la \"valeur candidate\" de la recette\n",
    "    total_votes += votes[candidat]\n",
    "    if(votes[candidat]>nbvotes_max):\n",
    "        nbvotes_max = votes[candidat]\n",
    "        meilleur = candidat     # il faut retenir qui a reçu ce nombre de votes"
   ]
  },
  {
   "cell_type": "markdown",
   "id": "integrated-casino",
   "metadata": {},
   "source": [
    "__2.2__ Ajouter du code pour déclarer le candidat élu dans le cas où il obtient la majorité absolue."
   ]
  },
  {
   "cell_type": "code",
   "execution_count": 24,
   "id": "coordinate-terrain",
   "metadata": {},
   "outputs": [
    {
     "name": "stdout",
     "output_type": "stream",
     "text": [
      "Poutchine est en tête au premier tour des élections avec 61 voix soit 41.21621621621622 %.\n"
     ]
    }
   ],
   "source": [
    "if(nbvotes_max>total_votes/2):# structement plus que la moitié des voix\n",
    "    print(meilleur, \"est élu à la majorité absolue\")\n",
    "else:\n",
    "    pct = nbvotes_max/total_votes*100\n",
    "    print(meilleur, \"est en tête au premier tour des élections avec\", nbvotes_max, \"voix soit\", pct, \"%.\")"
   ]
  },
  {
   "cell_type": "markdown",
   "id": "laughing-style",
   "metadata": {},
   "source": [
    "__2.3__ Dans le cas où aucun candidat n'a la majorité absolue, il va falloir un deuxième tour, et pour cela, savoir quels sont les deux candidats ayant reçu le plus de voix. Dans notre exemple ce sont MM. Poutchine et Troudeau, mais on veut trouver cela automatiquement.\n",
    "\n",
    "Modifier le code qui calcule le résultat du premier tour, pour trouver _les deux_ candidats ayant le plus de votes, plutôt que le _seul_ gagnant. (attention: pour que le résultat soit correct, il faut re-exécuter la 'collecte' des votes)"
   ]
  },
  {
   "cell_type": "code",
   "execution_count": 47,
   "id": "architectural-friendly",
   "metadata": {},
   "outputs": [],
   "source": [
    "nbvotes_max = 0 #valeur candidate initiale\n",
    "nbvotes_2 = 0 # valeur initiale pour le deuxieme meilleur total\n",
    "for candidat in votes: #ici candidat se réfère à l'election, pas à la \"valeur candidate\" de la recette\n",
    "    if(votes[candidat]>nbvotes_max):\n",
    "        nbvotes_2 = nbvotes_max # le meilleur total devient de deuxieme meilleur\n",
    "        deuxieme = meilleur # le meilleur descend en deuxieme position\n",
    "        nbvotes_max = votes[candidat] # nouveau champion\n",
    "        meilleur = candidat     \n",
    "    elif(votes[candidat]>nbvotes_2): #on ne fait pas mieux que le premier, mais mieux que l'actuel deuxieme\n",
    "        nbvotes_2 = votes[candidat] # le candidat prend la deuxieme place\n",
    "        deuxieme = candidat     \n",
    "    # else: rien de change"
   ]
  },
  {
   "cell_type": "markdown",
   "id": "separate-nurse",
   "metadata": {},
   "source": [
    "Créer une paire (un tuple à deux éléments) avec les deux candidats du deuxième tour. "
   ]
  },
  {
   "cell_type": "code",
   "execution_count": 48,
   "id": "mysterious-colon",
   "metadata": {},
   "outputs": [
    {
     "data": {
      "text/plain": [
       "('Poutchine', 'Troudeau')"
      ]
     },
     "execution_count": 48,
     "metadata": {},
     "output_type": "execute_result"
    }
   ],
   "source": [
    "finalistes = (meilleur, deuxieme)\n",
    "finalistes"
   ]
  },
  {
   "cell_type": "markdown",
   "id": "instrumental-moment",
   "metadata": {},
   "source": [
    "Pour calculer le résultat du deuxième tour, on va supposer que les électeurs votent pour le candidat qu'ils préfèrent entre les deux. \n",
    "\n",
    "__2.4__ En reprenant le code qui comptabilise les votes, trouver pour chaque profil de préférences le candidat qui recevra le vote. Attention: le code doit être correct quel que soit le nombre de candidats dans le profil de préférences."
   ]
  },
  {
   "cell_type": "code",
   "execution_count": 49,
   "id": "worse-symbol",
   "metadata": {},
   "outputs": [
    {
     "name": "stdout",
     "output_type": "stream",
     "text": [
      "Troudeau remporte l'élection au deuxième tour avec 52.70% des voix.\n"
     ]
    }
   ],
   "source": [
    "import random # au cas où on doive les départager\n",
    "votes = {}\n",
    "for paire in preferences:\n",
    "    prefs, votants = paire[0], paire[1]\n",
    "    # au lieu de voter pour le favori, on va voter pour celui des finalistes qui arrive en premier dans la liste\n",
    "    for candidat in prefs:# on parcourt la liste du debut à la fin\n",
    "        if candidat in finalistes:\n",
    "            favori=candidat # voici pour qui on va voter (le premier qu'on trouve)\n",
    "            break  # tres important pour quitter la boucle quand on trouve le premier des finalistes\n",
    "    # on compatbilise les voix pour le finaliste.\n",
    "    if (favori in votes):\n",
    "        votes[favori] = votes[favori]+ votants # on met à jour s'il y avait déjà des voix\n",
    "    else:\n",
    "        votes[favori] = votants \n",
    "\n",
    "# On identifie le gagnant final a partir du decompte\n",
    "if(votes[finalistes[0]]>votes[finalistes[1]]): # le premier finaliste gagne: ici on compare votes[premier] et votes[deuxieme]\n",
    "    vainqueur = finalistes[0]\n",
    "elif (votes[finalistes[0]]<votes[finalistes[1]]): # ou le deuxieme...\n",
    "    vainqueur = finalistes[1]\n",
    "else: # égalité!\n",
    "    print(\"Les candidats sont à égalité! on les départage en tirant au sort...\")\n",
    "    vainqueur = random.choice(finalistes)\n",
    "pct = 100*votes[vainqueur]/(votes[finalistes[0]]+votes[finalistes[1]])\n",
    "print(f\"{vainqueur} remporte l'élection au deuxième tour avec {pct:2.2f}% des voix.\")"
   ]
  },
  {
   "cell_type": "markdown",
   "id": "super-venue",
   "metadata": {},
   "source": [
    "__2.5__ Reprendre l'ensemble du code pour permettre l'égalité de voix entre deux candidats: il faut principalement modifier le décompte des voix au premier tour, qui doit permettre de trouver des _listes_ de candidats avec le même nombre de voix. Si on a une situation où il n'y a pas exactement deux candidats en tête, on départage les candidats à égalité en choisissant au hasard."
   ]
  },
  {
   "cell_type": "code",
   "execution_count": 51,
   "id": "undefined-hollow",
   "metadata": {},
   "outputs": [
    {
     "name": "stdout",
     "output_type": "stream",
     "text": [
      "Poutchine et Troudeau sont qualifiés au deuxième tour des élections, avec respectivement 41.22% et 33.78% des voix.\n",
      "Troudeau remporte l'élection au deuxième tour avec 52.70% des voix.\n"
     ]
    }
   ],
   "source": [
    "votes = {}\n",
    "for paire in preferences:\n",
    "    prefs, votants = paire[0], paire[1]\n",
    "    favori = prefs[0]\n",
    "    if (favori in votes):\n",
    "        votes[favori] = votes[favori]+ votants # on met à jour s'il y avait déjà des voix\n",
    "    else:\n",
    "        votes[favori] = votants \n",
    "\n",
    "# comptabiliser les voix: -----------\n",
    "total_votes = 0\n",
    "nbvotes_max = 0 #valeur candidate initiale\n",
    "nbvotes_2 = 0 # valeur initiale pour le deuxieme meilleur total\n",
    "meilleurs= [] # on initialise une liste pour les candidats avec le score le plus haut\n",
    "deuxiemes = [] #une liste pour les candidats au deuxieme meilleur score\n",
    "for candidat in votes: #ici candidat se réfère à l'election, pas à la \"valeur candidate\" de la recette\n",
    "    total_votes += votes[candidat] # pour compter le total des voix\n",
    "    if(votes[candidat]>nbvotes_max):\n",
    "        nbvotes_2 = nbvotes_max # le meilleur total devient de deuxieme meilleur\n",
    "        deuxiemes = meilleurs # le(s) meilleur(s) descend(ent) en deuxieme position\n",
    "        nbvotes_max = votes[candidat] # nouveau champion\n",
    "        meilleurs = [candidat] # ce candidat est seul en tête des élections\n",
    "    elif (votes[candidat]==nbvotes_max): #égalité avec les meilleurs actuels\n",
    "        meilleurs.append(candidat) # on ajoute le candidat à a liste des premiers\n",
    "    elif (votes[candidat]>nbvotes_2): #on ne fait pas mieux que le premier, mais mieux que l'actuel deuxieme\n",
    "        nbvotes_2 = votes[candidat] # le candidat prend la deuxieme place\n",
    "        deuxiemes = [candidat] #ce candidat seul a le deuxieme meilleur total\n",
    "    elif (votes[candidat]==nbvotes_2):# un autre avec le deuxieme meilleur total\n",
    "        deuxiemes.append(candidat)\n",
    "    # else: rien de change\n",
    "\n",
    "pct = nbvotes_max/total_votes*100\n",
    "if(nbvotes_max>total_votes/2):# strictement plus que la moitié des voix\n",
    "    print(f\"{meilleur} est élu à la majorité absolue ({pct:.2f}% des voix)\")\n",
    "else:\n",
    "    if(len(meilleurs)>2):    # en cas d'égalité de plus que 2 candidats\n",
    "        print(f\"Il y a {len(meilleurs)} candidats à égalité en tête! Il faut tirer au sort les finalistes!\")\n",
    "        finalistes = tuple(random.sample(meilleurs, 2))# on choisit 2 au hasard sans remplacement parmi les meilleurs\n",
    "    elif len(meilleurs)==2:# les deux meilleurs sotn à égalité\n",
    "        finalistes = tuple(meilleurs) # on prend les deux\n",
    "    else: # un seul candidat en tête\n",
    "        if(len(deuxiemes)>1):\n",
    "            print(f\"Il y a {len(deuxiemes)} candidats à égalité en deuxieme place! Il faut tirer au sort un finaliste!\")\n",
    "            finalistes = (meilleurs[0], random.choice(deuxiemes))# on choisit au hasard un finaliste\n",
    "        else:\n",
    "            finalistes = (meilleurs[0], deuxiemes[0]) # un premier, un deuxieme\n",
    "                \n",
    "    pct2 = votes[finalistes[1]]/total_votes*100\n",
    "    print(f\"{finalistes[0]} et {finalistes[1]} sont qualifiés au deuxième tour des élections, avec respectivement {pct:.2f}% et {pct2:.2f}% des voix.\")\n",
    "    # deuxieme tour -----------------------------------------------------\n",
    "    votes = {}\n",
    "    for paire in preferences:\n",
    "        prefs, votants = paire[0], paire[1]\n",
    "        # au lieu de voter pour le favori, on va voter pour celui des finalistes qui arrive en premier dans la liste\n",
    "        for candidat in prefs:# on parcourt la liste du debut à la fin\n",
    "            if candidat in finalistes:\n",
    "                favori=candidat # voici pour qui on va voter (le premier qu'on trouve)\n",
    "                break  # tres important pour quitter la boucle quand on trouve le premier des finalistes\n",
    "        # on compatbilise les voix pour le finaliste.\n",
    "        if (favori in votes):\n",
    "            votes[favori] = votes[favori]+ votants # on met à jour s'il y avait déjà des voix\n",
    "        else:\n",
    "            votes[favori] = votants \n",
    "\n",
    "    # On identifie le gagnant final a partir du decompte ---------------------\n",
    "    if(votes[finalistes[0]]>votes[finalistes[1]]): # le premier finaliste gagne: ici on compare votes[premier] et votes[deuxieme]\n",
    "        vainqueur = finalistes[0]\n",
    "    elif (votes[finalistes[0]]<votes[finalistes[1]]): # ou le deuxieme...\n",
    "        vainqueur = finalistes[1]\n",
    "    else: # égalité!\n",
    "        print(\"Les candidats sont à égalité! on les départage en tirant au sort...\")\n",
    "        vainqueur = random.choice(finalistes)\n",
    "    pct = 100*votes[vainqueur]/(votes[finalistes[0]]+votes[finalistes[1]])\n",
    "    print(f\"{vainqueur} remporte l'élection au deuxième tour avec {pct:.2f}% des voix.\")"
   ]
  },
  {
   "cell_type": "markdown",
   "id": "positive-biodiversity",
   "metadata": {},
   "source": [
    "## Exercice non guidé: méthodes de Borda et méthode de Copeland\n",
    "\n",
    "Le but de l'exercice est d'implémenter deux autres règles de vote: la technique de Borda et la technique de Copeland.\n",
    "\n",
    "La méthode de Borda est une méthode à base de points: en supposant qu'il y a _n_ candidats, pour chaque électeur on regarde ses préférences, et on donne _n_ points pour son candidat favori, _n-1_ points pour le deuxième, n-2 pour le troisième, et ainsi de suite jusqu à 1 point pour le dernier. Les candidats sont ensuites classés selon leur score: le candidat avec le plus de points est élu.\n",
    "\n",
    "La méthode de Copeland consiste à comparer les candidats deux-à-deux, comme s'ils avaient atteint ensemble le second tour d'une élection à deux tours. Pour chaque \"duel\" on donne +1 au vainqueur, 0 au vaincu. S'il y a égalité, un demi-point chacun. Après cela on compte les points de chaque candidat, et on choisit le candidat avec le plus de points. S'il y a égalité entre deux candidats, il y a plusieurs manières de départager les candidats ex-aequo: en général on se tourne vers une autre règle de vote, comme par exemple la méthode de Borda.\n",
    " "
   ]
  },
  {
   "cell_type": "code",
   "execution_count": null,
   "id": "heated-environment",
   "metadata": {},
   "outputs": [],
   "source": []
  }
 ],
 "metadata": {
  "kernelspec": {
   "display_name": "Python 3",
   "language": "python",
   "name": "python3"
  },
  "language_info": {
   "codemirror_mode": {
    "name": "ipython",
    "version": 3
   },
   "file_extension": ".py",
   "mimetype": "text/x-python",
   "name": "python",
   "nbconvert_exporter": "python",
   "pygments_lexer": "ipython3",
   "version": "3.9.1"
  }
 },
 "nbformat": 4,
 "nbformat_minor": 5
}
