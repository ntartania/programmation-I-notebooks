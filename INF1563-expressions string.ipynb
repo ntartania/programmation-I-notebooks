{
 "cells": [
  {
   "cell_type": "markdown",
   "id": "sublime-rates",
   "metadata": {},
   "source": [
    "# Chaînes de caractères\n",
    "\n",
    "En plus des nombres, on manipule souvent des informations sous forme de texte: le nom d'une personne, des messages à afficher à l'écran, etc.\n",
    "\n",
    "En Python, le texte est une information de type ```str``` (pour \"string\", ou \"chaîne de caractères\" en Français), et plusieurs opérateurs sont disponibles pour manipuler des données de ce type."
   ]
  },
  {
   "cell_type": "markdown",
   "id": "ancient-recipient",
   "metadata": {},
   "source": [
    "Dans la suite du cours on utilisera souvent le terme \"string\" au lieu de \"chaîne de caractère\" pour alléger le texte.\n",
    "En Python, un ```string``` est représenté par le texte entre des quotes doubles (```\"hello\"```), ou simples (```'hello'```):"
   ]
  },
  {
   "cell_type": "code",
   "execution_count": 1,
   "id": "royal-finder",
   "metadata": {},
   "outputs": [
    {
     "data": {
      "text/plain": [
       "'bonjour'"
      ]
     },
     "execution_count": 1,
     "metadata": {},
     "output_type": "execute_result"
    }
   ],
   "source": [
    "'bonjour'"
   ]
  },
  {
   "cell_type": "code",
   "execution_count": 2,
   "id": "medium-nursing",
   "metadata": {},
   "outputs": [
    {
     "data": {
      "text/plain": [
       "'bonjour'"
      ]
     },
     "execution_count": 2,
     "metadata": {},
     "output_type": "execute_result"
    }
   ],
   "source": [
    "\"bonjour\""
   ]
  },
  {
   "cell_type": "markdown",
   "id": "satisfactory-bahamas",
   "metadata": {},
   "source": [
    "On remarque que Python nous affiche le string dans les deux cas avec des quotes simples. Ceci n'a aucune importance: les quotes ne font pas partie de la \"valeur\" qu'on manipule. Les quotes sont seulement nécessaires pour que l'interpréteur Python ne cherche pas à interpréter le texte comme des instructions Python. Par conséquent: "
   ]
  },
  {
   "cell_type": "code",
   "execution_count": 1,
   "id": "arabic-acrylic",
   "metadata": {},
   "outputs": [
    {
     "data": {
      "text/plain": [
       "True"
      ]
     },
     "execution_count": 1,
     "metadata": {},
     "output_type": "execute_result"
    }
   ],
   "source": [
    "\"bonjour\" == 'bonjour'"
   ]
  },
  {
   "cell_type": "markdown",
   "id": "spatial-entrepreneur",
   "metadata": {},
   "source": [
    "C'est la même chose.\n",
    "\n",
    "Comme on peut utiliser des quotes simples ou doubles, il est facile d'intégrer des quotes ou des apostrophes dans un texte:"
   ]
  },
  {
   "cell_type": "code",
   "execution_count": 4,
   "id": "ceramic-beauty",
   "metadata": {},
   "outputs": [
    {
     "data": {
      "text/plain": [
       "\"j'ai faim\""
      ]
     },
     "execution_count": 4,
     "metadata": {},
     "output_type": "execute_result"
    }
   ],
   "source": [
    "\"j'ai faim\""
   ]
  },
  {
   "cell_type": "markdown",
   "id": "cultural-personality",
   "metadata": {},
   "source": [
    "L'apostrophe ``` ' ``` fait partie du texte et n'est pas interprétée comme la délimitation de la chaine de caractères, puisque celle-ci est délimitée par des quotes doubles.\n",
    "On peut aussi faire l'inverse:"
   ]
  },
  {
   "cell_type": "code",
   "execution_count": 5,
   "id": "finite-worcester",
   "metadata": {},
   "outputs": [
    {
     "data": {
      "text/plain": [
       "'il a dit \"skol\"'"
      ]
     },
     "execution_count": 5,
     "metadata": {},
     "output_type": "execute_result"
    }
   ],
   "source": [
    "'il a dit \"skol\"'"
   ]
  },
  {
   "cell_type": "markdown",
   "id": "great-cassette",
   "metadata": {},
   "source": [
    "On peut insérer aussi des retours à la ligne, des tabulations, et d'autres caractères spéciaux, en utilisant des codes particuliers commençant par une barre oblique inverse ```\\```. Par exemple, le retour à la ligne s'écrit ```\\n``` (pour *newline*), et la tabulation ```\\t```: "
   ]
  },
  {
   "cell_type": "code",
   "execution_count": 6,
   "id": "alleged-element",
   "metadata": {},
   "outputs": [
    {
     "name": "stdout",
     "output_type": "stream",
     "text": [
      "bonjour, \n",
      " petite chèvre!\n"
     ]
    }
   ],
   "source": [
    "print(\"bonjour, \\n petite chèvre!\") "
   ]
  },
  {
   "cell_type": "markdown",
   "id": "renewable-participation",
   "metadata": {},
   "source": [
    "#### Exercice 1\n",
    "\n",
    "Écrire un String (un seul) qui s'affichera comme ceci, sur plusieurs lignes et avec les double quotes:\n",
    "\n",
    "```\n",
    "A - \"alpha\"\n",
    "B - \"bravo\"\n",
    "C - \"charlie\"\n",
    "```"
   ]
  },
  {
   "cell_type": "code",
   "execution_count": null,
   "id": "local-disclaimer",
   "metadata": {},
   "outputs": [],
   "source": []
  },
  {
   "cell_type": "markdown",
   "id": "spare-browser",
   "metadata": {},
   "source": [
    "## Opérations sur les chaînes de caractères\n",
    "### Concaténation\n",
    "La principale opération qu'on peut réaliser pour combiner deux string est la *concaténation*, qui utilise le symbole ```+```: cette opération consiste simplement à mettre les deux string bout à bout et obtenir un nouveau String:"
   ]
  },
  {
   "cell_type": "code",
   "execution_count": 7,
   "id": "searching-portugal",
   "metadata": {},
   "outputs": [
    {
     "data": {
      "text/plain": [
       "'bonjour'"
      ]
     },
     "execution_count": 7,
     "metadata": {},
     "output_type": "execute_result"
    }
   ],
   "source": [
    "\"bon\" + \"jour\""
   ]
  },
  {
   "cell_type": "markdown",
   "id": "alpha-studio",
   "metadata": {},
   "source": [
    "La concaténation n'insère pas automatiquement des espaces, et l'espace entre le String et le symbole ```+``` ne comptent pas: si on veut séparer des mots il faut ajouter des espaces *dans* les String:"
   ]
  },
  {
   "cell_type": "code",
   "execution_count": 8,
   "id": "declared-retention",
   "metadata": {},
   "outputs": [
    {
     "data": {
      "text/plain": [
       "'la petite chèvre'"
      ]
     },
     "execution_count": 8,
     "metadata": {},
     "output_type": "execute_result"
    }
   ],
   "source": [
    "\"la\" + \" \" + \"petite\"+ \" chèvre\""
   ]
  },
  {
   "cell_type": "markdown",
   "id": "heavy-belgium",
   "metadata": {},
   "source": [
    "En Python, on peut aussi utiliser la multiplication (```*```) pour répéter plusieurs fois une chaine de caractères:"
   ]
  },
  {
   "cell_type": "code",
   "execution_count": 9,
   "id": "destroyed-dressing",
   "metadata": {},
   "outputs": [
    {
     "data": {
      "text/plain": [
       "'hophophop'"
      ]
     },
     "execution_count": 9,
     "metadata": {},
     "output_type": "execute_result"
    }
   ],
   "source": [
    "\"hop\"*3"
   ]
  },
  {
   "cell_type": "markdown",
   "id": "interior-return",
   "metadata": {},
   "source": [
    "Il sera parfois utile d'incorporer des valeurs numériques dans une chaîne de caractères. Pour ceci, il faut d'abord convertir le nombre en string à l'aide de la fonction ```str()```, et on peut ensuite concaténer:"
   ]
  },
  {
   "cell_type": "code",
   "execution_count": 10,
   "id": "efficient-drill",
   "metadata": {},
   "outputs": [],
   "source": [
    "quantité = 2 * (4 + 2)\n",
    "resultat_afficher = \"J'ai \"+str(quantité)+ \" pommes.\""
   ]
  },
  {
   "cell_type": "code",
   "execution_count": 11,
   "id": "respiratory-burke",
   "metadata": {},
   "outputs": [
    {
     "data": {
      "text/plain": [
       "\"J'ai 12 pommes.\""
      ]
     },
     "execution_count": 11,
     "metadata": {},
     "output_type": "execute_result"
    }
   ],
   "source": [
    "resultat_afficher"
   ]
  },
  {
   "cell_type": "markdown",
   "id": "objective-suspect",
   "metadata": {},
   "source": [
    "Lorsqu'on veut afficher le texte à l'écran (avec ```print```), on peut afficher les string et les nombres séparément, sans faire de concaténation:"
   ]
  },
  {
   "cell_type": "code",
   "execution_count": 12,
   "id": "logical-campbell",
   "metadata": {},
   "outputs": [
    {
     "name": "stdout",
     "output_type": "stream",
     "text": [
      "J'ai 12 pommes\n"
     ]
    }
   ],
   "source": [
    "print(\"J'ai\", quantité, \"pommes\")"
   ]
  },
  {
   "cell_type": "markdown",
   "id": "turned-telling",
   "metadata": {},
   "source": [
    "La fonction ```print``` s'occupe des conversions, et insère des espaces entre les différents éléments à afficher. \n",
    "\n",
    "Cependant, si on doit écrire le résultat dans un fichier, ou le passer à une fonction qui prend un string en entrée, il sera nécessaire de faire les conversions et concaténations."
   ]
  },
  {
   "cell_type": "markdown",
   "id": "bacterial-strength",
   "metadata": {},
   "source": [
    "### Découpage de chaînes de caractères\n",
    "\n",
    "La concaténation permet de mettre plusieurs chaînes de caractères bout-à-bout pour en former des plus longues. L'opération inverse consiste à découper une chaîne de caractères en \"sous-chaînes\".\n",
    "\n",
    "Pour extraire un caractère particulier on utilise les crochets: on éccrit dans les crochets le numéro du caractère auquel on se réfère. Comme dans la majorité des langages de programmation, la première position dans une chaine de caractères ou une liste est numéroté 0, le deuxième à la position 1, etc.\n",
    "\n",
    "Prenons un exemple:"
   ]
  },
  {
   "cell_type": "code",
   "execution_count": 13,
   "id": "following-delight",
   "metadata": {},
   "outputs": [],
   "source": [
    "s = \"bonjour\""
   ]
  },
  {
   "cell_type": "markdown",
   "id": "proprietary-level",
   "metadata": {},
   "source": [
    "Pour sélectionner le premiere caractère on écrit:"
   ]
  },
  {
   "cell_type": "code",
   "execution_count": 14,
   "id": "pressing-deviation",
   "metadata": {},
   "outputs": [
    {
     "data": {
      "text/plain": [
       "'b'"
      ]
     },
     "execution_count": 14,
     "metadata": {},
     "output_type": "execute_result"
    }
   ],
   "source": [
    "s[0]"
   ]
  },
  {
   "cell_type": "markdown",
   "id": "seeing-texture",
   "metadata": {},
   "source": [
    "Le ```j``` est la quatrième lettre du mot, et comme on numérote à partir de zéro ce caractère sera indexé 3. On le sélectionne en écrivant:"
   ]
  },
  {
   "cell_type": "code",
   "execution_count": 15,
   "id": "informed-slide",
   "metadata": {},
   "outputs": [
    {
     "data": {
      "text/plain": [
       "'j'"
      ]
     },
     "execution_count": 15,
     "metadata": {},
     "output_type": "execute_result"
    }
   ],
   "source": [
    "s[3]"
   ]
  },
  {
   "cell_type": "markdown",
   "id": "sacred-suspension",
   "metadata": {},
   "source": [
    "Il existe aussi un \"raccourci\" pour compter les caractères à partir de la fin d'un string: le dernier caractère est numéroté ```-1```, l'avant-dernier ```-2```, etc."
   ]
  },
  {
   "cell_type": "code",
   "execution_count": 16,
   "id": "handled-journalist",
   "metadata": {},
   "outputs": [
    {
     "data": {
      "text/plain": [
       "'r'"
      ]
     },
     "execution_count": 16,
     "metadata": {},
     "output_type": "execute_result"
    }
   ],
   "source": [
    "s[-1]"
   ]
  },
  {
   "cell_type": "code",
   "execution_count": 17,
   "id": "approved-champagne",
   "metadata": {},
   "outputs": [
    {
     "data": {
      "text/plain": [
       "'u'"
      ]
     },
     "execution_count": 17,
     "metadata": {},
     "output_type": "execute_result"
    }
   ],
   "source": [
    "s[-2]"
   ]
  },
  {
   "cell_type": "markdown",
   "id": "operating-beads",
   "metadata": {},
   "source": [
    "### Sous-chaînes\n",
    "\n",
    "En utilisant les crochets, on peut aussi extraire plusieurs caractères dans un string, autrement dit une \"sous-chaine\". Pour extraire la sous-chaîne du mot ```s``` allant de la position ```i``` à la position ```j```, on écrit```s[i:j+1]```. Autrement dit, pour extraire \"bon\" de \"bonjour\", il nous faut les caractères des positions 0, 1 et 2, et on écrit donc:"
   ]
  },
  {
   "cell_type": "code",
   "execution_count": 18,
   "id": "adjustable-cannon",
   "metadata": {},
   "outputs": [
    {
     "data": {
      "text/plain": [
       "'bon'"
      ]
     },
     "execution_count": 18,
     "metadata": {},
     "output_type": "execute_result"
    }
   ],
   "source": [
    "s[0:3]"
   ]
  },
  {
   "cell_type": "markdown",
   "id": "wanted-stereo",
   "metadata": {},
   "source": [
    "De la même façon, pour obtenir \"jour\", ce sont les caractères des positions 3 à 6 et on écrit donc:"
   ]
  },
  {
   "cell_type": "code",
   "execution_count": 19,
   "id": "strategic-istanbul",
   "metadata": {},
   "outputs": [
    {
     "data": {
      "text/plain": [
       "'jour'"
      ]
     },
     "execution_count": 19,
     "metadata": {},
     "output_type": "execute_result"
    }
   ],
   "source": [
    "s[3:7]"
   ]
  },
  {
   "cell_type": "markdown",
   "id": "corporate-prize",
   "metadata": {},
   "source": [
    "De plus, si on veut extraire les caractères à partir du début de la chaine jusqu'à une certaine position, on peut omettre la première position (en gardant cependant le ```:```) :"
   ]
  },
  {
   "cell_type": "code",
   "execution_count": 20,
   "id": "contemporary-algorithm",
   "metadata": {},
   "outputs": [
    {
     "data": {
      "text/plain": [
       "'bon'"
      ]
     },
     "execution_count": 20,
     "metadata": {},
     "output_type": "execute_result"
    }
   ],
   "source": [
    "s[:3]"
   ]
  },
  {
   "cell_type": "markdown",
   "id": "fatal-liabilities",
   "metadata": {},
   "source": [
    "De même, pour sélectionner la fin d'un string, on peut omettre la position finale:"
   ]
  },
  {
   "cell_type": "code",
   "execution_count": 21,
   "id": "spiritual-colorado",
   "metadata": {},
   "outputs": [
    {
     "data": {
      "text/plain": [
       "'jour'"
      ]
     },
     "execution_count": 21,
     "metadata": {},
     "output_type": "execute_result"
    }
   ],
   "source": [
    "s[3:]"
   ]
  },
  {
   "cell_type": "markdown",
   "id": "incorporate-locking",
   "metadata": {},
   "source": [
    "Bien remarquer l'usage du ```:``` dans les crochets, qui indique si on veut les caractères \"jusqu'à 3\", ou bien \"à partir de 3\"."
   ]
  },
  {
   "cell_type": "markdown",
   "id": "optimum-cherry",
   "metadata": {},
   "source": [
    "#### Exercice 2\n",
    "\n",
    "Les variables ```nom``` et ```prenom``` contiennent le nom complet d'une personne, par exemple:"
   ]
  },
  {
   "cell_type": "code",
   "execution_count": 22,
   "id": "prescribed-count",
   "metadata": {},
   "outputs": [],
   "source": [
    "prenom = \"Marie\"\n",
    "nom = \"Curie\""
   ]
  },
  {
   "cell_type": "markdown",
   "id": "alert-sponsorship",
   "metadata": {},
   "source": [
    "__a)__ Écrire une expression utilisant les variables ```nom``` et ```prénom``` pour obtenir le nom de la personne sous la forme *initiale du prénom*, point, espace, *nom*. Par exemple \"M. Curie\"."
   ]
  },
  {
   "cell_type": "code",
   "execution_count": null,
   "id": "powered-petroleum",
   "metadata": {},
   "outputs": [],
   "source": [
    "nom_court = "
   ]
  },
  {
   "cell_type": "markdown",
   "id": "later-handbook",
   "metadata": {},
   "source": [
    "__b)__ On veut maintenant le nom d'utilisateur de la personne sur le système informatique de l'UQO: ce nom d'utilisateur est constitué des 4 premières lettres du nom suivies des deux premières du prénom, et enfin d'un identifiant numérique. En supposant que l'identifiant de Marie Curie est le 58, ça donnerait: ```\"CuriMa58\"```.\n",
    "\n",
    "On supposera que l'identifiant numérique est donné par une variable ```num```: "
   ]
  },
  {
   "cell_type": "code",
   "execution_count": 1,
   "id": "specialized-browser",
   "metadata": {},
   "outputs": [],
   "source": [
    "num = 58"
   ]
  },
  {
   "cell_type": "markdown",
   "id": "2608b463-ffa8-4172-9c81-63a58c4b7d7b",
   "metadata": {},
   "source": [
    "Écrire une expression qui donnera le nom d'utilisateur UQO de Marie Curie, en utilisant les variables ```nom```, ```prénom```,  et ```num```:"
   ]
  },
  {
   "cell_type": "code",
   "execution_count": null,
   "id": "b7dcdb03-9fd9-4101-b2df-b239de44ec97",
   "metadata": {},
   "outputs": [],
   "source": [
    "nom_utilisateur = "
   ]
  }
 ],
 "metadata": {
  "kernelspec": {
   "display_name": "Python 3 (ipykernel)",
   "language": "python",
   "name": "python3"
  },
  "language_info": {
   "codemirror_mode": {
    "name": "ipython",
    "version": 3
   },
   "file_extension": ".py",
   "mimetype": "text/x-python",
   "name": "python",
   "nbconvert_exporter": "python",
   "pygments_lexer": "ipython3",
   "version": "3.12.2"
  }
 },
 "nbformat": 4,
 "nbformat_minor": 5
}
