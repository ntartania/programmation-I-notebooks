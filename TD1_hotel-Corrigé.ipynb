{
 "cells": [
  {
   "cell_type": "markdown",
   "id": "satisfactory-population",
   "metadata": {},
   "source": [
    "\t\n",
    "# Travail dirigé 1 : l’hôtel\t\n",
    "\n",
    "Dans cette activité, vous allez écrire un programme qui utilise des instructions conditionnelles et des entrées-sorties (lecture de données au clavier, affichage à l’écran). \n",
    "\n",
    "On envisage le scénario d’un hôtel qui propose un service de location de salles de réception, et le programme doit donner une estimation du coût de la location à partir d’informations données par l’utilisateur.\n",
    "L’hôtel propose deux salles de réception de tailles différentes à des prix différents, et facture séparément l’utilisation du mobilier (tables, chaises et leurs décorations).\n",
    "\n",
    "Les instructions suivantes vous guideront dans l’écriture du programme qui prendra en compte ces différents facteurs.\n",
    "La première partie est donnée comme un tutoriel: le code est donné. \n",
    "Pour la deuxième partie, le travail est décomposé en étapes et c'est à vous d'écrire le code pour chaque étape.\n",
    "Enfin, pour la troisième partie, une spécification est donnée, et vous devez écrire par vous-même la solution complète.\n",
    "\n",
    "## Partie 1: calculs simples\n",
    "\n",
    "Dans cette partie, on va écrire un programme qui calcule le coût de la salle de réception, de manière très simple.\n",
    "On va supposer que l'hôtel facture la location de la salle à un prix fixe (\\\\$500), et le mobilier à un prix proportionnel au nombre d’invités (\\\\$30 par personne).\n",
    "\n",
    "Le programme va donc demander à l'utilisateur de taper au clavier le nombre d'invités, puis fait le calcul et affiche le résultat à l'écran.\n",
    "\n",
    "\n",
    "Commençons par lire les données d'entrée au clavier:"
   ]
  },
  {
   "cell_type": "code",
   "execution_count": 1,
   "id": "tropical-steam",
   "metadata": {},
   "outputs": [
    {
     "name": "stdout",
     "output_type": "stream",
     "text": [
      "Entrer le nombre d'invités:74\n"
     ]
    }
   ],
   "source": [
    "donnees = input(\"Entrer le nombre d'invités:\")"
   ]
  },
  {
   "cell_type": "markdown",
   "id": "conventional-commerce",
   "metadata": {},
   "source": [
    "On peut vérifier le contenu de la variable ```donnees```:"
   ]
  },
  {
   "cell_type": "code",
   "execution_count": 2,
   "id": "legendary-integral",
   "metadata": {},
   "outputs": [
    {
     "data": {
      "text/plain": [
       "'74'"
      ]
     },
     "execution_count": 2,
     "metadata": {},
     "output_type": "execute_result"
    }
   ],
   "source": [
    "donnees"
   ]
  },
  {
   "cell_type": "markdown",
   "id": "comfortable-kruger",
   "metadata": {},
   "source": [
    "Cette valeur (des caractères entre quotes) est du texte, et pas une valeur numérique. Ceci s'explique simplement par le fait que Python ne peut pas \"savoir\" qu'il faut interpréter les caractères '7' et '4' comme les deux chiffres d'un nombre entier. Pour obtenir la valeur numérique 74, il faut convertir le texte en nombre entier: on utilise la fonction ```int()```:"
   ]
  },
  {
   "cell_type": "code",
   "execution_count": 3,
   "id": "informal-biography",
   "metadata": {},
   "outputs": [],
   "source": [
    "invites = int(donnees)"
   ]
  },
  {
   "cell_type": "code",
   "execution_count": 4,
   "id": "banned-burner",
   "metadata": {},
   "outputs": [
    {
     "data": {
      "text/plain": [
       "74"
      ]
     },
     "execution_count": 4,
     "metadata": {},
     "output_type": "execute_result"
    }
   ],
   "source": [
    "invites"
   ]
  },
  {
   "cell_type": "markdown",
   "id": "structured-military",
   "metadata": {},
   "source": [
    "Cette fois on a bien un nombre entier. Parfois, il peut être utile de vérifier les données entrées pour vérifier qu'elles sont conformes à ce qu'on attend. Par exemple, ici on pourrait vérifier que c'est un nombre positif.\n",
    "\n",
    "Quand on dit \"vérifier\", on veut dire: \"si le nombre entré _n'est pas_ un nombre positif, alors signaler une erreur et terminer le programme\":"
   ]
  },
  {
   "cell_type": "code",
   "execution_count": 5,
   "id": "excited-academy",
   "metadata": {},
   "outputs": [],
   "source": [
    "if(invites<=0): #invites inférieur ou égal à zéro\n",
    "    print(\"Le nombre d'invités ne peut pas être négatif!\")\n",
    "    exit()  # terminer le programme"
   ]
  },
  {
   "cell_type": "markdown",
   "id": "three-egyptian",
   "metadata": {},
   "source": [
    "On peut remarquer que les lignes suivant le ```if``` sont indentées. En Python, l'indentation a un sens: elle définit une dépendance entre le bloc de code indenté par rapport à une autre instruction, ici le ```if```. Autrement dit, ici le ```if``` donne une condition, et si la condition est vraie, le bloc indenté qui suit est exécuté. Sinon, le bloc est sauté et l'exécution continue à la fin du bloc indenté. \n",
    "\n",
    "Dans notre cas, si le nombre entré est négatif ou nul, alors le message est affiché, et l'instruction ```exit()``` s'exécute aussi: celle-ci termine l'exécution. Dans un notebook Python, cette instruction n'est pas très utile, mais dans un environnement classique l'exécution du programme s'arrêterait, plutôt que de continuer un calcul qui ne fait pas de sens. Notons que dans un programme plus sophistiqué, on demanderait à l'utilisateur de nous donner une nouvelle valeur pour le nombre d'invités, ce qui requiert de revenir en arrière. On pourra faire ce genre de chose avec des _boucles_.\n",
    "\n",
    "Calculons maintenant le prix de la location: c'est \\\\$500 pour louer la salle, plus \\\\$30 par personne pour le mobilier:"
   ]
  },
  {
   "cell_type": "code",
   "execution_count": 6,
   "id": "informed-lender",
   "metadata": {},
   "outputs": [],
   "source": [
    "location_salle = 500"
   ]
  },
  {
   "cell_type": "code",
   "execution_count": 7,
   "id": "tutorial-distance",
   "metadata": {},
   "outputs": [],
   "source": [
    "location_mobilier = 30 * invites"
   ]
  },
  {
   "cell_type": "code",
   "execution_count": 8,
   "id": "accredited-insertion",
   "metadata": {},
   "outputs": [],
   "source": [
    "estimation = location_salle + location_mobilier"
   ]
  },
  {
   "cell_type": "markdown",
   "id": "banned-world",
   "metadata": {},
   "source": [
    "La variable ```estimation``` contient maintenant le prix total de la location (noter qu'on aurait pu faire le calcul en une seule ligne, ici on a détaillé toutes les étapes). On peut maintenant afficher ce résultat à l'écran, accompagné d'un message pour l'utilisateur:"
   ]
  },
  {
   "cell_type": "code",
   "execution_count": 9,
   "id": "helpful-fight",
   "metadata": {},
   "outputs": [
    {
     "name": "stdout",
     "output_type": "stream",
     "text": [
      "Votre réception coûtera $ 2720 .\n"
     ]
    }
   ],
   "source": [
    "print(\"Votre réception coûtera $\", estimation, \".\")"
   ]
  },
  {
   "cell_type": "markdown",
   "id": "stylish-attention",
   "metadata": {},
   "source": [
    "L'instruction ```print``` est une fonction, qui prend l'information dans les parenthèses et l'affiche à l'écran. On peut lui passer plusieurs informations, séparées par des virgules, et toutes seront affichées les unes après les autres. Par défaut, elles sont séparées par des espaces, et l'affichage se termine par un retour à la ligne. \n",
    "\n",
    "Ceci me pose un petit problème, parce que j'ai des espaces entre le symbole dollar et le prix, et entre le prix et le point final. D'autre part, si je voulais utiliser plusieurs instructions ```print``` pour les différentes informations à afficher, l'affichage se ferait sur plusieurs lignes:"
   ]
  },
  {
   "cell_type": "code",
   "execution_count": 10,
   "id": "obvious-forth",
   "metadata": {},
   "outputs": [
    {
     "name": "stdout",
     "output_type": "stream",
     "text": [
      "votre réception coutera\n",
      "2720\n",
      ".\n"
     ]
    }
   ],
   "source": [
    "print(\"votre réception coutera\")\n",
    "print(estimation)\n",
    "print(\".\")"
   ]
  },
  {
   "cell_type": "markdown",
   "id": "psychological-power",
   "metadata": {},
   "source": [
    "Si on veut changer la manière dont la fonction ```print``` gère l'affichage, on peut ajouter des _arguments_ à la fonction: un argument est le nom qu'on donne aux valeurs qu'on met dans les parenthèses d'une fonction. Ici, pour changer le ou les caractères qui séparent les éléments affichés, il faut mettre un argument nommé ```sep``` (comment on aurait pu savoir cela? il faut regarder la documentation...). Pour changer le caractère qui termine l'affichage, on utilise un argument ```end```.  \n",
    "\n",
    "Alors si je veux afficher les informations sans les séparer par des espaces, je vais les séparer par rien, c'est à dire la chaine de caractères vide:"
   ]
  },
  {
   "cell_type": "code",
   "execution_count": 11,
   "id": "orange-control",
   "metadata": {},
   "outputs": [
    {
     "name": "stdout",
     "output_type": "stream",
     "text": [
      "Votre réception coûtera $2720.\n"
     ]
    }
   ],
   "source": [
    "print(\"Votre réception coûtera $\", estimation, \".\", sep=\"\")"
   ]
  },
  {
   "cell_type": "markdown",
   "id": "organized-framing",
   "metadata": {},
   "source": [
    "## Partie 2: calculs avec conditionnelles\n",
    "\n",
    "On va maintenant modifier le programme pour offrir la possibilité de louer deux salles différentes, en fonction du nombre d’invités, puis séparer le coût des tables et des chaises dans la location du mobilier.\n",
    "L’estimation du coût de la location se fait donc de la manière suivante :\n",
    "* Pour les réceptions de moins de 50 invités, l’hôtel loue une petite salle dont la location coûte \\\\$300. Pour les réceptions de 50 invités et plus, il y a une grande salle qui coûte \\\\$500. \n",
    "* La location du mobilier est maintenant calculée en facturant chaque table et chaise nécessaire : \n",
    "  * chaque table (avec ses décorations) est facturée à \\\\$90, \n",
    "  * les chaises et couverts sont facturées séparément, au prix de \\\\$16 par personne (ceci est le nombre exact de personnes, certaines tables pouvant avoir moins de 8 personnes).\n",
    "  \n",
    "On va reprendre le programme au début: relire le nombre d'invités au clavier, et repartir de zéro pour le calcul de l'estimation:"
   ]
  },
  {
   "cell_type": "code",
   "execution_count": 2,
   "id": "available-victoria",
   "metadata": {},
   "outputs": [
    {
     "name": "stdout",
     "output_type": "stream",
     "text": [
      "Entrer le nombre d'invités:95\n"
     ]
    }
   ],
   "source": [
    "invites = int(input(\"Entrer le nombre d'invités:\"))"
   ]
  },
  {
   "cell_type": "markdown",
   "id": "executed-jacket",
   "metadata": {},
   "source": [
    "Remarque: cette fois on a directement converti le texte entré au clavier en entier, en _chaînant_ les fonctions ```int``` et ```input```: on peut ainsi directement appliquer une fonction sur le résultat d'une autre."
   ]
  },
  {
   "cell_type": "markdown",
   "id": "tribal-gasoline",
   "metadata": {},
   "source": [
    "__2.1__ Écrire une instruction pour donner la valeur 0 à la variable ```estimation```:"
   ]
  },
  {
   "cell_type": "code",
   "execution_count": 1,
   "id": "major-bookmark",
   "metadata": {},
   "outputs": [],
   "source": [
    "estimation =0"
   ]
  },
  {
   "cell_type": "markdown",
   "id": "related-undergraduate",
   "metadata": {},
   "source": [
    "__2.2__ Écrire une instruction conditionnelle avec ```if``` qui détermine le coût de la location de salle (variable ```location_salle```): s'il y a plus de 50 invités, le coût est de \\\\$300, sinon c'est \\\\$500. \n",
    "\n",
    "__erratum__: l'énoncé ci-dessus est erroné: comme indiqué au début de la partie 2, c'est l'inverse: \\\\$500 pour _plus_ de 50 invités (grande salle), \\\\$300 pour _moins_ de 50 invités (petite salle)"
   ]
  },
  {
   "cell_type": "code",
   "execution_count": 3,
   "id": "greenhouse-hands",
   "metadata": {},
   "outputs": [],
   "source": [
    "if(invites>=50):\n",
    "    location_salle = 500\n",
    "else:\n",
    "    location_salle = 300"
   ]
  },
  {
   "cell_type": "markdown",
   "id": "rocky-chick",
   "metadata": {},
   "source": [
    "Pour calculer le coût de location du mobilier, il faut compter les tables et les chaises. Pour les chaises, c'est le nombre d'invités. Pour les tables, il faut tenir compte du fait qu'il y a 8 personnes par table, au maximum. Ceci veut dire que s'il y a par exemple 20 personnes, il faut trois tables: deux tables de 8 et une table de 4.\n",
    "\n",
    "__2.3__ Écrire des instructions pour calculer le nombre de tables, et le stocker dans une variable ```nombre_tables```:"
   ]
  },
  {
   "cell_type": "code",
   "execution_count": 4,
   "id": "pregnant-religion",
   "metadata": {},
   "outputs": [],
   "source": [
    "nombre_tables = invites//8  #division entiere par 8 (quotient)\n",
    "if (invites%8!=0):\n",
    "    nombre_tables = nombre_tables +1 #si le nombre d'invites n'est pas multiple de 8 alors la division au-dessus a un reste et il faut une table de plus"
   ]
  },
  {
   "cell_type": "markdown",
   "id": "relative-quality",
   "metadata": {},
   "source": [
    "__2.4__ Écrire des instructions pour calculer le coût de location du mobilier, en utilisant le nombre de tables et le nombre d'invites:"
   ]
  },
  {
   "cell_type": "code",
   "execution_count": 5,
   "id": "dominican-stewart",
   "metadata": {},
   "outputs": [],
   "source": [
    "location_mobilier = 90*nombre_tables + 16* invites"
   ]
  },
  {
   "cell_type": "markdown",
   "id": "dirty-diversity",
   "metadata": {},
   "source": [
    "__2.5__ Calculer le prix total de la location, et l'afficher à l'écran:"
   ]
  },
  {
   "cell_type": "code",
   "execution_count": 7,
   "id": "inclusive-latvia",
   "metadata": {},
   "outputs": [
    {
     "name": "stdout",
     "output_type": "stream",
     "text": [
      "cout estimé pour la location: $ 3100\n"
     ]
    }
   ],
   "source": [
    "estimation = location_salle + location_mobilier\n",
    "print(\"cout estimé pour la location: $\", estimation)"
   ]
  },
  {
   "cell_type": "markdown",
   "id": "circular-subscriber",
   "metadata": {},
   "source": [
    "### Corrigé : code complet pour la partie 2"
   ]
  },
  {
   "cell_type": "code",
   "execution_count": 8,
   "id": "unable-baltimore",
   "metadata": {},
   "outputs": [
    {
     "name": "stdout",
     "output_type": "stream",
     "text": [
      "Entrer le nombre d'invités:95\n",
      "cout estimé pour la location: $ 3100\n"
     ]
    }
   ],
   "source": [
    "invites = int(input(\"Entrer le nombre d'invités:\"))\n",
    "estimation = 0 # en fait ceci n'est pas utile: çaurait été utile si on avait calculé l'estimation au fur et à mesure\n",
    "if(invites>=50):\n",
    "    location_salle = 500\n",
    "else:\n",
    "    location_salle = 300\n",
    "    \n",
    "nombre_tables = invites//8  \n",
    "\n",
    "if (invites%8!=0):\n",
    "    nombre_tables = nombre_tables +1 \n",
    "\n",
    "location_mobilier = 90*nombre_tables + 16* invites\n",
    "\n",
    "estimation = location_salle + location_mobilier\n",
    "print(\"cout estimé pour la location: $\", estimation)"
   ]
  },
  {
   "cell_type": "markdown",
   "id": "employed-compact",
   "metadata": {},
   "source": [
    "## Partie 3: pour aller plus loin\n",
    "\n",
    "Reprendre le programme pour offrir un tarif avantageux aux membres _Elite Gold Member Supreme Club_ de la chaîne hotelière. Il faut demander au client s'il est membre (il donne l'information au clavier), et pour les membres l'offre est la suivante: \n",
    "* pour les réceptions de plus de 50 personnes, on offre une réduction de 10% sur le prix de la location. \n",
    "* pour les réceptions de moins de 50 personnes, on offre un upgrade gratuit à la grande salle (la grande salle au prix de la petite), ou bien une réduction de 10% sur la location avec la petite salle. Le programme doit calculer l'offre la plus avantageuse (le plus grand montant d'argent économisé) et proposer uniquement celle-là au client."
   ]
  },
  {
   "cell_type": "code",
   "execution_count": 9,
   "id": "golden-arkansas",
   "metadata": {},
   "outputs": [
    {
     "name": "stdout",
     "output_type": "stream",
     "text": [
      "Entrer le nombre d'invités:48\n",
      "Etes-vous membre de notre programme Elite Gold Supreme Club? (O/N)O\n",
      "nous vous offrons la grande salle au prix de la petite\n",
      "cout estimé pour la location: $ 1608\n"
     ]
    }
   ],
   "source": [
    "invites = int(input(\"Entrer le nombre d'invités:\"))\n",
    "membre_txt = input(\"Etes-vous membre de notre programme Elite Gold Supreme Club? (O/N)\")\n",
    "if(membre_txt == 'O' or membre_txt=='o'): \n",
    "    membre = True # on garde l'information sous forme de booléen\n",
    "else:\n",
    "    membre = False \n",
    "    \n",
    "estimation = 0 # en fait ceci n'est pas utile: çaurait été utile si on avait calculé l'estimation au fur et à mesure\n",
    "    \n",
    "nombre_tables = invites//8  \n",
    "\n",
    "if (invites%8!=0):\n",
    "    nombre_tables = nombre_tables +1 \n",
    "\n",
    "location_mobilier = 90*nombre_tables + 16* invites\n",
    "\n",
    "# on a déplacé le calcul de la salle ici pour pouvoir directement calculer le rabais incluant le cout de location du mobilier\n",
    "if(invites>=50):\n",
    "    location_salle = 500\n",
    "    estimation = location_salle + location_mobilier        \n",
    "    if (membre==True): \n",
    "        estimation = estimation *0.9 #rabais 10%\n",
    "        print(\"nous vous offrons un rabais de 10%\")\n",
    "else:\n",
    "    location_salle = 300\n",
    "    estimation = location_salle + location_mobilier        \n",
    "    if (membre==True): \n",
    "        rabais = 0.1 * estimation\n",
    "        if (rabais <200): # l'upgrade est plus intéressant\n",
    "            print(\"nous vous offrons la grande salle au prix de la petite\")\n",
    "        else:\n",
    "            estimation = estimation - rabais\n",
    "            print(\"nous vous offrons un rabais de 10%\")\n",
    "\n",
    "print(\"cout estimé pour la location: $\", estimation)"
   ]
  }
 ],
 "metadata": {
  "kernelspec": {
   "display_name": "Python 3",
   "language": "python",
   "name": "python3"
  },
  "language_info": {
   "codemirror_mode": {
    "name": "ipython",
    "version": 3
   },
   "file_extension": ".py",
   "mimetype": "text/x-python",
   "name": "python",
   "nbconvert_exporter": "python",
   "pygments_lexer": "ipython3",
   "version": "3.9.1"
  }
 },
 "nbformat": 4,
 "nbformat_minor": 5
}
