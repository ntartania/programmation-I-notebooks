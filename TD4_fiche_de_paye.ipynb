{
 "cells": [
  {
   "attachments": {},
   "cell_type": "markdown",
   "id": "norwegian-combination",
   "metadata": {},
   "source": [
    "# TD 4: la fiche de paye\n",
    "\n",
    "Dans cette activité, nous écrire un système qui affiche des fiches de paye pour une entreprise (fictive, bien sûr) et nous allons utiliser des fonctions pour calculer différentes valeurs pertinentes comme les retenues d'impôts.\n",
    "\n",
    "## Scenario\n",
    "\n",
    "Vous avez été embauché(e) pour automatiser la production de fiches de paye pour le personnel d’une petite entreprise. Votre logiciel doit notamment calculer les retenues de taxes et du système de pensions. Comme le siège social de l’entreprise se trouve dans la principauté du Bretzelburg, les retenues d’impôts et les contributions de la pension seront calculées selon les lois locales (le détail des calculs est donné au début de la partie 2).\n"
   ]
  },
  {
   "attachments": {},
   "cell_type": "markdown",
   "id": "close-trigger",
   "metadata": {},
   "source": [
    "## Partie 1 - Tutoriel: la fiche de paye\n",
    "\n",
    "Dans la partie tutoriel de cette activité, on va réaliser une fonction qui affiche une fiche de paye, à partir de toutes les informations pertinentes, qui seront fournies comme données d'entrée de la fonction. \n",
    "Le format attendu de la fiche de paye est le suivant:\n",
    "\n",
    "```\n",
    "--------------------------------\n",
    "Nom Employe: Alice Perez\n",
    "Periode: 11/10/2020 - 18/10/2020\n",
    "--------------------------------\n",
    "- Gains bruts                  -\n",
    "- heures |   taux  |  montant  -\n",
    "-   40.0 | $ 13.50 | $ 540.00  -\n",
    "-    6.5 | $ 20.25 | $ 131.63  -\n",
    "--------------------------------\n",
    "- Cotisations                  -\n",
    "- retenue d'impot -  $  69.00  -\n",
    "- cot. retraite   -  $  61.00  -\n",
    "--------------------------------\n",
    "- Gains nets                   -\n",
    "-                   $  523.63  -\n",
    "--------------------------------\n",
    "```\n",
    "On remarque que plusieurs montants doivent être calculés. Premièrement, la rémunération: ici le nombre total d'heures travaillées est donné, ainsi que le taux horaire de base. Dans cette entreprise, les heures supplémentaire (les heures travaillées au-delà de 40 heures) sont payées 1.5 fois le taux horaire de base de l'employé.\n",
    "Ensuite, il y a les retenues d'impôts et la cotisation de retraite: celles-ci seront calculées dans la deuxième partie de l'activité.\n",
    "\n",
    "Commençons par préparer le code pour afficher toute l'information. On va juste écrire une série de ```print``` avec les valeurs données dans l'exemple, et ensuite on l'adaptera pour des données quelconques:"
   ]
  },
  {
   "cell_type": "code",
   "execution_count": 1,
   "id": "municipal-mailman",
   "metadata": {},
   "outputs": [
    {
     "name": "stdout",
     "output_type": "stream",
     "text": [
      "--------------------------------\n",
      "Nom Employe: Alice Perez\n",
      "Periode: 11/10/2020 - 18/10/2020\n",
      "--------------------------------\n",
      "- Gains bruts                  -\n",
      "- heures |   taux  |  montant  -\n",
      "-   40.0 | $ 13.50 | $ 540.00  -\n",
      "-    6.5 | $ 20.25 | $ 131.63  -\n",
      "--------------------------------\n",
      "- Cotisations                  -\n",
      "- retenue d'impot -  $  69.00  -\n",
      "- cot. retraite   -  $  61.00  -\n",
      "--------------------------------\n",
      "- Gains nets                   -\n",
      "-                   $  523.63  -\n",
      "--------------------------------\n"
     ]
    }
   ],
   "source": [
    "print(\"--------------------------------\")\n",
    "print(\"Nom Employe: Alice Perez\")\n",
    "print(\"Periode: 11/10/2020 - 18/10/2020\")\n",
    "print(\"--------------------------------\")\n",
    "print(\"- Gains bruts                  -\")\n",
    "print(\"- heures |   taux  |  montant  -\")\n",
    "print(\"-   40.0 | $ 13.50 | $ 540.00  -\")\n",
    "print(\"-    6.5 | $ 20.25 | $ 131.63  -\")\n",
    "print(\"--------------------------------\")\n",
    "print(\"- Cotisations                  -\")\n",
    "print(\"- retenue d'impot -  $  69.00  -\")\n",
    "print(\"- cot. retraite   -  $  61.00  -\")\n",
    "print(\"--------------------------------\")\n",
    "print(\"- Gains nets                   -\")\n",
    "print(\"-                   $  523.63  -\")\n",
    "print(\"--------------------------------\")"
   ]
  },
  {
   "cell_type": "markdown",
   "id": "aboriginal-membership",
   "metadata": {},
   "source": [
    "On peut maintenant afficher le texte de manière à incorporer les informations spécifiques à chaque fiche de paye, sous fome de variables. Pour pouvoir bien aligner tous les nombres, on va utiliser des chaines de caractères formatées et fixer l'espace réservé à chaque nombre à l'aide de codes. Par exemple, voici comment on pourra afficher la dernière ligne (gains nets), en réservant huit caractères pour le montant, soit cinq chiffres, un point décimal, et encore deux chiffres (ce formatage suppose que le nombre sera inférieur à 100000, et sera arrondi à deux chiffres après la virgule):"
   ]
  },
  {
   "cell_type": "code",
   "execution_count": 2,
   "id": "opposed-constitution",
   "metadata": {},
   "outputs": [
    {
     "name": "stdout",
     "output_type": "stream",
     "text": [
      "-              $ 2345.68 -\n"
     ]
    }
   ],
   "source": [
    "montant = 2345.678\n",
    "print(f\"-              ${montant:8.2f} -\")"
   ]
  },
  {
   "cell_type": "markdown",
   "id": "mysterious-pressure",
   "metadata": {},
   "source": [
    "Le ```f``` avant les doubles quotes indique qu'il s'agit de texte formaté, et dans les accolades on trouve la variable contenant la valeur à afficher (ceci pourrait en fait être une expression quelconque), suivie d'un deux-points et le code de formatage ```8.2f```, qui réserve 8 caractères, dont deux après la virgule, à ce nombre décimal (```f``` pour ```float```). À l'affichage, on observe qu'un espace a été laissé à gauche, car le nombre donné n'a que quatre chiffres avant le point décimal, et que le résultat a été arrondi correctement à deux chiffres après le point.\n",
    "\n",
    "On va maintenant définir des variables contenant toutes les valeurs qui sont spécifiques à cette fiche de paye:"
   ]
  },
  {
   "cell_type": "code",
   "execution_count": 3,
   "id": "cloudy-commander",
   "metadata": {},
   "outputs": [],
   "source": [
    "nom = \"Alice Perez\"\n",
    "periode = \"11/10/2020 - 18/10/2020\"\n",
    "heures1 = 40\n",
    "heures2 = 6.5\n",
    "taux1 = 13.5\n",
    "taux2 = 20.25\n",
    "montant1 = 540\n",
    "montant2 = 131.63\n",
    "retenue = 69\n",
    "cotisation = 61\n",
    "gains_nets = 523.63"
   ]
  },
  {
   "cell_type": "markdown",
   "id": "administrative-essex",
   "metadata": {},
   "source": [
    "Pour l'instant, on ne s'inquiète pas vraiment de comment on obtiendra toutes ces valeurs, pour l'instant on s'occupe de l'affichage.\n",
    "On va donc utiliser des string formatés, comme ci-dessus, pour afficher toutes ces informations, et pour les nombres on va fixer une largeur précise:"
   ]
  },
  {
   "cell_type": "code",
   "execution_count": 4,
   "id": "athletic-cambodia",
   "metadata": {},
   "outputs": [
    {
     "name": "stdout",
     "output_type": "stream",
     "text": [
      "--------------------------------\n",
      "Nom Employe: Alice Perez\n",
      "Periode: 11/10/2020 - 18/10/2020\n",
      "--------------------------------\n",
      "- Gains bruts                  -\n",
      "- heures  |  taux  |  montant  -\n",
      "-  40.0  | $ 13.50 | $ 540.00  -\n",
      "-   6.5  | $ 20.25 | $ 131.63  -\n",
      "--------------------------------\n",
      "- Cotisations                  -\n",
      "- retenue d'impot -  $  69.00  -\n",
      "- cot. retraite   -  $  61.00  -\n",
      "--------------------------------\n",
      "- Gains nets                   -\n",
      "-                   $  523.63  -\n",
      "--------------------------------\n"
     ]
    }
   ],
   "source": [
    "print(\"--------------------------------\")\n",
    "print(f\"Nom Employe: {nom}\")\n",
    "print(f\"Periode: {periode}\")\n",
    "print(\"--------------------------------\")\n",
    "print(\"- Gains bruts                  -\")\n",
    "print(\"- heures  |  taux  |  montant  -\")\n",
    "print(f\"- {heures1:5.1f}  | ${taux1:6.2f} | ${montant1:7.2f}  -\")\n",
    "print(f\"- {heures2:5.1f}  | ${taux2:6.2f} | ${montant2:7.2f}  -\")\n",
    "print(\"--------------------------------\")\n",
    "print(\"- Cotisations                  -\")\n",
    "print(f\"- retenue d'impot -  ${retenue:7.2f}  -\")\n",
    "print(f\"- cot. retraite   -  ${cotisation:7.2f}  -\")\n",
    "print(\"--------------------------------\")\n",
    "print(\"- Gains nets                   -\")\n",
    "print(f\"-                   ${gains_nets:8.2f}  -\")\n",
    "print(\"--------------------------------\")"
   ]
  },
  {
   "cell_type": "markdown",
   "id": "eleven-bedroom",
   "metadata": {},
   "source": [
    "On arrive à du code qui marche. On va maintenant s'intéresser au calcul des différentes valeurs dans la fiche de paye: identifier celles qui doivent être fournies comme données d'entrée du problème (exemple: le nom de la personne), et celles qui peuvent être calculées à partir des autres (exemple: si on connait le nombre d'heures travaillées et le salaire horaire, on devrait pouvoir calculer le salaire pour chacune des lignes \"gains bruts\").\n",
    "\n",
    "Parmi nos variables, celles qui doivent être données en entrée sont:\n",
    "* ```nom```\n",
    "* ```periode```\n",
    "* le taux salarial de base (ici \\\\$13.50)\n",
    "* le total des heures travaillées (on pourra en déduire les heures au taux de base et les heures supplémentaires)\n",
    "\n",
    "Notons qu'on va pour l'instant laisser de coté la retenue d'impôt et la cotisation retraite (on voit bien qu'elles dépendent du salaire, mais on ne va pas pour l'instant implémenter le calcul, on va juste utiliser des valeurs constantes).\n",
    "\n",
    "On veut maintenant définir une fonction qui prend des données en entrée et les intègre dans la fiche de paye.\n",
    "Commençons par une solution partielle, qu'on pourra ensuite compléter pour avoir toutes les valeurs et la fiche de paye complète.\n",
    "\n",
    "On écrit d'abord l'en-tête de la fonction, qui commence par le mot-clé ```def```, suivi du nom de la fonction, et d'une liste de paramètres entre parenthèses (les paramètres sont les données d'entrée). On termine l'ent-ête par un deux-points et on écrit le corps de la fonction dans un bloc indenté en dessous."
   ]
  },
  {
   "cell_type": "code",
   "execution_count": 5,
   "id": "aboriginal-reservation",
   "metadata": {},
   "outputs": [],
   "source": [
    "def afficher_fiche_paye(nom, periode):\n",
    "    print(\"--------------------------------\")\n",
    "    print(f\"Nom Employe: {nom}\")\n",
    "    print(f\"Periode: {periode}\")\n",
    "    print(\"--------------------------------\")"
   ]
  },
  {
   "cell_type": "markdown",
   "id": "manual-andrews",
   "metadata": {},
   "source": [
    "Une fois la fonction définie, on l'appelle comme ceci:"
   ]
  },
  {
   "cell_type": "code",
   "execution_count": 6,
   "id": "vanilla-hughes",
   "metadata": {},
   "outputs": [
    {
     "name": "stdout",
     "output_type": "stream",
     "text": [
      "--------------------------------\n",
      "Nom Employe: Alice Cooper\n",
      "Periode: 11/10/2022-18/10/2022\n",
      "--------------------------------\n"
     ]
    }
   ],
   "source": [
    "afficher_fiche_paye(\"Alice Cooper\", \"11/10/2022-18/10/2022\")"
   ]
  },
  {
   "cell_type": "code",
   "execution_count": 7,
   "id": "packed-bracelet",
   "metadata": {},
   "outputs": [
    {
     "name": "stdout",
     "output_type": "stream",
     "text": [
      "--------------------------------\n",
      "Nom Employe: Albert Einstein\n",
      "Periode: 10/10/1902-17/10/1902\n",
      "--------------------------------\n"
     ]
    }
   ],
   "source": [
    "afficher_fiche_paye(\"Albert Einstein\", \"10/10/1902-17/10/1902\")"
   ]
  },
  {
   "cell_type": "markdown",
   "id": "black-hartford",
   "metadata": {},
   "source": [
    "Pour pouvoir afficher la fiche de paye complète, il nous faut ajouter les autres paramètres qu'on a identifiés comme données d'entrée (heures travaillées, taux horaire), et calculer les valeurs à intégrer dans la fiche de paye.\n",
    "\n",
    "Commençons par détailler le calcul des \"gains bruts\": on calcule d'abord le nombre d'heures effectuées au taux horaire normal (celui qu'on donne en entrée), et le nombre d'heures supplémentaires, qui doivent être payées à 1.5 fois le taux horaire de base. \n",
    "\n",
    "On va écrire une fonction pour cela: la fonction prendra le nombre total d'heures travaillées, et retourne les heures au taux de base et les heures supplémentaires."
   ]
  },
  {
   "cell_type": "code",
   "execution_count": 8,
   "id": "structural-guest",
   "metadata": {},
   "outputs": [],
   "source": [
    "def heures_detail(heures):\n",
    "    if(heures<40):\n",
    "        heures1= heures\n",
    "        heures2 = 0\n",
    "    else:\n",
    "        heures1 = 40\n",
    "        heures2 = heures - 40\n",
    "    return heures1, heures2"
   ]
  },
  {
   "cell_type": "markdown",
   "id": "hired-travel",
   "metadata": {},
   "source": [
    "Testons:"
   ]
  },
  {
   "cell_type": "code",
   "execution_count": 9,
   "id": "backed-montreal",
   "metadata": {},
   "outputs": [
    {
     "data": {
      "text/plain": [
       "(40, 15)"
      ]
     },
     "execution_count": 9,
     "metadata": {},
     "output_type": "execute_result"
    }
   ],
   "source": [
    "heures_detail(55)"
   ]
  },
  {
   "cell_type": "code",
   "execution_count": 10,
   "id": "collaborative-mandate",
   "metadata": {},
   "outputs": [
    {
     "data": {
      "text/plain": [
       "(37, 0)"
      ]
     },
     "execution_count": 10,
     "metadata": {},
     "output_type": "execute_result"
    }
   ],
   "source": [
    "heures_detail(37)"
   ]
  },
  {
   "cell_type": "markdown",
   "id": "systematic-background",
   "metadata": {},
   "source": [
    "Ici on remarque que la fonction retourne deux valeurs, autrement dit une paire. En Python on peut manipuler directement des paires dans les affectations:"
   ]
  },
  {
   "cell_type": "code",
   "execution_count": 11,
   "id": "legislative-diving",
   "metadata": {},
   "outputs": [],
   "source": [
    "h1, h2 = heures_detail(42)"
   ]
  },
  {
   "cell_type": "code",
   "execution_count": 12,
   "id": "essential-chapter",
   "metadata": {},
   "outputs": [
    {
     "data": {
      "text/plain": [
       "40"
      ]
     },
     "execution_count": 12,
     "metadata": {},
     "output_type": "execute_result"
    }
   ],
   "source": [
    "h1"
   ]
  },
  {
   "cell_type": "code",
   "execution_count": 13,
   "id": "adjusted-algorithm",
   "metadata": {},
   "outputs": [
    {
     "data": {
      "text/plain": [
       "2"
      ]
     },
     "execution_count": 13,
     "metadata": {},
     "output_type": "execute_result"
    }
   ],
   "source": [
    "h2"
   ]
  },
  {
   "cell_type": "markdown",
   "id": "adverse-exploration",
   "metadata": {},
   "source": [
    "On appelle cette fonction à l'intérieur de notre fonction ```afficher_fiche_paye```, et on ajoute le reste du calcul: on a détermine le salaire pour les heures normales et le salaire pour les heures supplémentaires, en multipliant les heures par le salaire horaire:"
   ]
  },
  {
   "cell_type": "code",
   "execution_count": 14,
   "id": "recovered-black",
   "metadata": {},
   "outputs": [],
   "source": [
    "def afficher_fiche_paye(nom, periode, heures, taux_horaire):\n",
    "    # le nombre d'heures\n",
    "    heures1, heures2 = heures_detail(heures)\n",
    "    # le taux\n",
    "    taux1 = taux_horaire\n",
    "    taux2 = taux_horaire * 1.5\n",
    "    # les montants d'argent gagnés:\n",
    "    montant1 = heures1 * taux1\n",
    "    montant2 = heures2 * taux2\n",
    "    print(\"--------------------------------\")\n",
    "    print(f\"Nom Employe: {nom}\")\n",
    "    print(f\"Periode: {periode}\")\n",
    "    print(\"--------------------------------\")\n",
    "    print(\"- Gains bruts                  -\")\n",
    "    print(\"- heures  |  taux  |  montant  -\")\n",
    "    print(f\"- {heures1:5.1f}  | ${taux1:6.2f} | ${montant1:7.2f}  -\")\n",
    "    print(f\"- {heures2:5.1f}  | ${taux2:6.2f} | ${montant2:7.2f}  -\")\n",
    "    print(\"--------------------------------\")"
   ]
  },
  {
   "cell_type": "markdown",
   "id": "early-valuable",
   "metadata": {},
   "source": [
    "On appelle la fonction:"
   ]
  },
  {
   "cell_type": "code",
   "execution_count": 15,
   "id": "ceramic-blood",
   "metadata": {},
   "outputs": [
    {
     "name": "stdout",
     "output_type": "stream",
     "text": [
      "--------------------------------\n",
      "Nom Employe: Albert Einstein\n",
      "Periode: 10/10/1902-17/10/1902\n",
      "--------------------------------\n",
      "- Gains bruts                  -\n",
      "- heures  |  taux  |  montant  -\n",
      "-  40.0  | $  3.50 | $ 140.00  -\n",
      "-  20.0  | $  5.25 | $ 105.00  -\n",
      "--------------------------------\n"
     ]
    }
   ],
   "source": [
    "afficher_fiche_paye(\"Albert Einstein\", \"10/10/1902-17/10/1902\", 60, 3.50)"
   ]
  },
  {
   "cell_type": "markdown",
   "id": "incorrect-drill",
   "metadata": {},
   "source": [
    "On intègre la retenue d'impôt et les cotisations (pour l'instant on utilise des constantes), et on calcule le salaire net:"
   ]
  },
  {
   "cell_type": "code",
   "execution_count": 16,
   "id": "demonstrated-memorabilia",
   "metadata": {},
   "outputs": [],
   "source": [
    "def afficher_fiche_paye(nom, periode, heures, taux_horaire):\n",
    "    # le nombre d'heures\n",
    "    heures1, heures2 = heures_detail(heures)\n",
    "    # le taux\n",
    "    taux1 = taux_horaire\n",
    "    taux2 = taux_horaire * 1.5\n",
    "    # les montants d'argent gagnés:\n",
    "    montant1 = heures1 * taux1\n",
    "    montant2 = heures2 * taux2\n",
    "    #retenues:\n",
    "    retenue = 69\n",
    "    cotisation = 61\n",
    "    gains_nets = montant1 + montant2 - retenue - cotisation\n",
    "    print(\"--------------------------------\")\n",
    "    print(f\"Nom Employe: {nom}\")\n",
    "    print(f\"Periode: {periode}\")\n",
    "    print(\"--------------------------------\")\n",
    "    print(\"- Gains bruts                  -\")\n",
    "    print(\"- heures  |  taux  |  montant  -\")\n",
    "    print(f\"- {heures1:5.1f}  | ${taux1:6.2f} | ${montant1:7.2f}  -\")\n",
    "    print(f\"- {heures2:5.1f}  | ${taux2:6.2f} | ${montant2:7.2f}  -\")\n",
    "    print(\"--------------------------------\")\n",
    "    print(\"- Cotisations                  -\")\n",
    "    print(f\"- retenue d'impot -  ${retenue:7.2f}  -\")\n",
    "    print(f\"- cot. retraite   -  ${cotisation:7.2f}  -\")\n",
    "    print(\"--------------------------------\")\n",
    "    print(\"- Gains nets                   -\")\n",
    "    print(f\"-                   ${gains_nets:8.2f}  -\")\n",
    "    print(\"--------------------------------\")"
   ]
  },
  {
   "cell_type": "code",
   "execution_count": 17,
   "id": "successful-design",
   "metadata": {},
   "outputs": [
    {
     "name": "stdout",
     "output_type": "stream",
     "text": [
      "--------------------------------\n",
      "Nom Employe: Alice Munro\n",
      "Periode: 10/10/2002-17/10/2002\n",
      "--------------------------------\n",
      "- Gains bruts                  -\n",
      "- heures  |  taux  |  montant  -\n",
      "-  40.0  | $ 13.50 | $ 540.00  -\n",
      "-   1.0  | $ 20.25 | $  20.25  -\n",
      "--------------------------------\n",
      "- Cotisations                  -\n",
      "- retenue d'impot -  $  69.00  -\n",
      "- cot. retraite   -  $  61.00  -\n",
      "--------------------------------\n",
      "- Gains nets                   -\n",
      "-                   $  430.25  -\n",
      "--------------------------------\n"
     ]
    }
   ],
   "source": [
    "afficher_fiche_paye(\"Alice Munro\", \"10/10/2002-17/10/2002\", 41, 13.50)"
   ]
  },
  {
   "cell_type": "markdown",
   "id": "packed-domestic",
   "metadata": {},
   "source": [
    "## Partie 2 - Exercice guidé: retenue d'impôt et cotisations de retraite\n",
    "\n",
    "Dans cet exercice, on va définir des fonctions qui calculent la retenue d'impôt et la cotisation de retraite.\n",
    "\n",
    "Pour pouvoir les calculer, on a besoin de connaitre la loi fiscale du Brezelburg, qui est résumée ci-après.\n",
    "\n",
    "### Taxes et retraites\n",
    "Les taxes à Bretzelburg fonctionnent comme dans la majorité des pays du monde, avec plusieurs paliers de revenus, et différents taux d’imposition :\n",
    "\n",
    "*\tLe revenu minimal imposable est de \\\\$15000 (dollars Bretzelburgeois) : cela signifie que les personnes qui gagnent moins que cette somme ne payent pas de taxes sur leur revenu. \n",
    "*\tIl y a ensuite une deuxième tranche, de \\\\$15000 à \\\\$65000 de revenus annuels, où le taux marginal est de 18\\%. Ceci signifie qu’une personne qui gagne au-dessus de \\\\$15000 ne paye rien sur les premiers \\\\$15000, mais doit ensuite payer 18\\% de ses revenus entre \\\\$15000 et \\\\$65000. Par exemple, une personne qui gagne \\\\$25000 par année devra payer 18\\% de \n",
    "(\\\\$25000 – \\\\$15000), soit \\\\$1800. \n",
    "*\tEnfin, il y a une troisième tranche (au-delà de \\\\$65000), où le taux marginal est de 45\\%. Ceci signifie qu’une personne dont les revenus annuels dépassent \\\\$65000 doit payer 18\\% de ses revenus compris entre \\\\$15000 et \\\\$65000, plus 45\\% de ses revenus excédant \\\\$65000. \n",
    "Par exemple, pour un revenu annuel de \\\\$80000, on paye 18\\% sur la deuxième tranche (soit (650000 – 15000) × 0.18) plus 45\\% sur la troisième tranche (soit (80000 – 65000) × 0.45) : au total, on devra payer 50000 × 0.18 + 15000 × 0.45 = 15750. \n",
    "\n",
    "Le système de retraites (pensions) prévoit que les contribuables payent 11\\% de leur salaire vers le système de retraites, et il y a des différences pour les très bas et les très hauts revenus. Les personnes dont les revenus sont inférieurs à \\\\$4000 annuels ne contribuent pas au système de retraite, et les contributions sont plafonnées : les revenus au-delà de \\\\$57000 ne sont pas \"pensionables\", c’est-à-dire que les contributions annuelles de retraites ne peuvent pas dépasser 11\\% de \\\\$57000 (soit \\\\$6270)."
   ]
  },
  {
   "cell_type": "markdown",
   "id": "alternate-hughes",
   "metadata": {},
   "source": [
    "### Exercice\n",
    "Le but de l'exercice est de remplacer la retenue d'impôt constante dans la fiche de paye par des calculs des montants appropriés, qui se feront dans des fonctions séparées.\n",
    "\n",
    "On commence par la retenue d'impôts. Le calcul est le suivant: à partir du taux horaires, on estime le salaire annuel correspondant (pour 1800 heures par année), et on calcule les impôts sur le revenu qui correspondent à ce salaire annuel. Enfin, on calcule la retenue pour une semaine, soit 1/52 ième des taxes annuelles.\n",
    "\n",
    "__2.1__ Écrire l'en-tête de la fonction ```retenue```: cette fonction prend en paramètre le taux horaire de base de l'employé. Dans le corps de la fonction, calculer le salaire annuel à partir du taux horaire (on considère que le salaire annuel représente 1800 heures payées au taux de base). En supposant que les impôts sur le revenu sont de 10\\\\% (on corrigera ensuite cela), calculer les impôts annuels et retourner comme retenue d'impôt 1/52e de ce montant."
   ]
  },
  {
   "cell_type": "code",
   "execution_count": null,
   "id": "heavy-edinburgh",
   "metadata": {},
   "outputs": [],
   "source": []
  },
  {
   "cell_type": "markdown",
   "id": "opposed-newcastle",
   "metadata": {},
   "source": [
    "__2.2__ On va maintenant corriger l'estimation des taxes annuelles dans la fonction ```retenue```. En utilisant les détails donnés au début, écrire une nouvelle fonction ```impot_annuel``` qui prend en entrée le salaire annuel et retourne le montant exact des impots sur le revenu."
   ]
  },
  {
   "cell_type": "code",
   "execution_count": null,
   "id": "naughty-meditation",
   "metadata": {},
   "outputs": [],
   "source": []
  },
  {
   "cell_type": "markdown",
   "id": "matched-powder",
   "metadata": {},
   "source": [
    "__2.3__ Dans la fonction ```retenue```, remplacer l'estimation de 10\\% de taxes annuelles par un appel de la fonction ```impot_annuel```, utilisant le salaire annuel calculé pour l'employé."
   ]
  },
  {
   "cell_type": "code",
   "execution_count": null,
   "id": "olive-rouge",
   "metadata": {},
   "outputs": [],
   "source": []
  },
  {
   "cell_type": "markdown",
   "id": "alternate-cotton",
   "metadata": {},
   "source": [
    "__2.4__ Dans la fonction ```afficher_fiche_paye```, intégrer le calcul de la retenue d'impôt (un appel à la fonction ```retenue```). Tester."
   ]
  },
  {
   "cell_type": "code",
   "execution_count": null,
   "id": "constitutional-livestock",
   "metadata": {},
   "outputs": [],
   "source": []
  },
  {
   "cell_type": "markdown",
   "id": "flush-gabriel",
   "metadata": {},
   "source": [
    "__2.5__ Comme pour la retenue d'impôts, on va maintenant implémenter la cotisation de retraite: le calcul est similaire: on utilise le taux horaire pour estimer le salaire annuel, puis on calcule le montant annuel à cotiser pour la retraite, et enfin on divise ce montant par 52 pour avoir la contribution pour une semaine.\n",
    "\n",
    "Écrire une fonction ```cotisation_annuelle``` qui prend en entrée un salaire annuel, et retourne le montant à cotiser pour l'année (le calcul est expliqué au début du document)."
   ]
  },
  {
   "cell_type": "code",
   "execution_count": null,
   "id": "interstate-exclusive",
   "metadata": {},
   "outputs": [],
   "source": []
  },
  {
   "cell_type": "markdown",
   "id": "graphic-impact",
   "metadata": {},
   "source": [
    "__2.6__ Écrire une fonction ```cotisation``` qui calcule la cotisation retraite à retenir sur le salaire de la semaine: cette fonction est similaire à la fonction qui calcule la retenue d'impôts, et appelle la fonction ```cotisation_annuelle```."
   ]
  },
  {
   "cell_type": "code",
   "execution_count": null,
   "id": "veterinary-property",
   "metadata": {},
   "outputs": [],
   "source": []
  },
  {
   "cell_type": "markdown",
   "id": "amino-sodium",
   "metadata": {},
   "source": [
    "## Partie 3 - Exercice additionnel\n",
    "\n",
    "Votre employeur est en fait le fournisseur d'électricité du Brezelburg. Il vous proposent d'automatiser aussi le calcul et l'impression de leurs factures, qui ressemblent à ceci:\n",
    "```\n",
    "----------------------------------\n",
    "- Facture d'électricité \t     -\n",
    "----------------------------------\n",
    "- Durée                58 jours  -\n",
    "- Consommation          2604 kWh -\n",
    "----------------------------------\n",
    "- Abonnement: forfait 10000kwh/an-\n",
    "-                                -\n",
    "-     58j @ $1.85/j     $107.30  -\n",
    "-\t 1589kwh inclus              -\n",
    "----------------------------------\n",
    "- Consommation additionnnelle    -\n",
    "-                                -\n",
    "-    1014kwh @ $0.09    $ 91.26  -\n",
    "----------------------------------\n",
    "- Total                 $198.56  -\n",
    "----------------------------------\n",
    "```\n",
    "\n",
    "Pour calculer la facture, on a besoin du relevé du compteur (nombre de kwh consommés sur la période) et de la durée de la période (nombre de jours). La facturation inclut deux parties: \n",
    "* l'abonnement, qui couvre l'accès au réseau plus un 10000kwh par an (ramené au nombre de jours) et coûte \\\\$1.85 par jour\n",
    "* la consommation hors forfait, facturée à \\\\$0.09 par kwh. \n",
    "\n",
    "Il est demandé d'écrire une fonction ```afficher_facture``` qui prend en entrée la consommation et la durée de la période (en jours), et affiche la facture comme ci-dessus. Le nombre de kwh couverts par le forfait pourra être calculé par une fonction séparée qui prendra en entrée la consommation totale et la durée."
   ]
  },
  {
   "cell_type": "code",
   "execution_count": null,
   "id": "proper-civilian",
   "metadata": {},
   "outputs": [],
   "source": []
  }
 ],
 "metadata": {
  "kernelspec": {
   "display_name": "Python 3",
   "language": "python",
   "name": "python3"
  },
  "language_info": {
   "codemirror_mode": {
    "name": "ipython",
    "version": 3
   },
   "file_extension": ".py",
   "mimetype": "text/x-python",
   "name": "python",
   "nbconvert_exporter": "python",
   "pygments_lexer": "ipython3",
   "version": "3.9.1"
  }
 },
 "nbformat": 4,
 "nbformat_minor": 5
}
