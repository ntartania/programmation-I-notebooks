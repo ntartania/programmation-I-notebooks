{
 "cells": [
  {
   "cell_type": "markdown",
   "id": "narrow-polyester",
   "metadata": {},
   "source": [
    "# TD 7: Analyse de logs\n",
    "\n",
    "Dans cette activité on va faire une analyse de fichiers de log.\n",
    "Pour cela on a récupéré 75Mo du service système SSHD, qui gère les connections entrantes SSH.\n",
    "Un échantillon du fichier (2000 lignes) est disponible sur la page Moodle du cours, et l'ensemble des logs peut être obtenu de la plateforme [Zenodo](https://zenodo.org/record/3227177#.Y4jQZuzMKuU)\n",
    "Ici on a découpé le gros fichier obtenu de Zenodo en une trentaine de fichiers plus petits, un par jour. Ceci ressemble à ce qu'on trouverait dans un contexte réel.\n",
    "\n",
    "On peut voir la liste de fichiers en faisant ```listdir```:"
   ]
  },
  {
   "cell_type": "code",
   "execution_count": 1,
   "id": "center-auction",
   "metadata": {},
   "outputs": [
    {
     "data": {
      "text/plain": [
       "['SSHDec31.log',\n",
       " 'SSHDec19.log',\n",
       " 'SSHJan4.log',\n",
       " 'SSHJan5.log',\n",
       " 'SSHDec18.log',\n",
       " 'SSHDec30.log',\n",
       " 'SSHDec26.log',\n",
       " 'SSHJan7.log',\n",
       " 'SSHJan6.log',\n",
       " 'SSHDec23.log',\n",
       " 'SSHJan2.log',\n",
       " 'SSHJan3.log',\n",
       " 'SSHDec22.log',\n",
       " 'SSHDec20.log',\n",
       " 'SSHJan1.log',\n",
       " 'SSHDec21.log',\n",
       " 'SSHDec10.log',\n",
       " 'SSHDec11.log',\n",
       " 'SSHDec13.log',\n",
       " 'SSHDec12.log',\n",
       " 'SSHDec16.log',\n",
       " 'SSHDec17.log',\n",
       " 'SSHDec29.log',\n",
       " 'SSHDec15.log',\n",
       " 'SSHDec14.log']"
      ]
     },
     "execution_count": 1,
     "metadata": {},
     "output_type": "execute_result"
    }
   ],
   "source": [
    "import os\n",
    "os.chdir(\"../log files/ssh_logs/\")\n",
    "os.listdir(\".\")"
   ]
  },
  {
   "cell_type": "markdown",
   "id": "architectural-carter",
   "metadata": {},
   "source": [
    "On est maintenant dans le répertoire avec les fichiers de logs.\n",
    "On peut ouvrir l'un d'entre eux et lire les 20 premières lignes pour avoir une idée du contenu:"
   ]
  },
  {
   "cell_type": "code",
   "execution_count": 2,
   "id": "certain-airfare",
   "metadata": {},
   "outputs": [
    {
     "name": "stdout",
     "output_type": "stream",
     "text": [
      "Dec 15 00:01:22 LabSZ sshd[11303]: Invalid user import from 2.239.208.154\n",
      "Dec 15 00:01:22 LabSZ sshd[11303]: input_userauth_request: invalid user import [preauth]\n",
      "Dec 15 00:01:22 LabSZ sshd[11303]: pam_unix(sshd:auth): check pass; user unknown\n",
      "Dec 15 00:01:22 LabSZ sshd[11303]: pam_unix(sshd:auth): authentication failure; logname= uid=0 euid=0 tty=ssh ruser= rhost=2-239-208-154.ip250.fastwebnet.it \n",
      "Dec 15 00:01:29 LabSZ sshd[11303]: Failed password for invalid user import from 2.239.208.154 port 47972 ssh2\n",
      "Dec 15 00:01:30 LabSZ sshd[11303]: fatal: Read from socket failed: Connection reset by peer [preauth]\n",
      "Dec 15 00:04:18 LabSZ sshd[11305]: Invalid user zhangw from 175.102.13.6\n",
      "Dec 15 00:04:18 LabSZ sshd[11305]: input_userauth_request: invalid user zhangw [preauth]\n",
      "Dec 15 00:04:18 LabSZ sshd[11305]: pam_unix(sshd:auth): check pass; user unknown\n",
      "Dec 15 00:04:18 LabSZ sshd[11305]: pam_unix(sshd:auth): authentication failure; logname= uid=0 euid=0 tty=ssh ruser= rhost=175.102.13.6 \n",
      "Dec 15 00:04:21 LabSZ sshd[11305]: Failed password for invalid user zhangw from 175.102.13.6 port 60365 ssh2\n",
      "Dec 15 00:04:21 LabSZ sshd[11305]: Received disconnect from 175.102.13.6: 11: Bye Bye [preauth]\n",
      "Dec 15 00:05:17 LabSZ sshd[11307]: reverse mapping checking getaddrinfo for 182.145.126.124.broad.bjtelecom.net [124.126.145.182] failed - POSSIBLE BREAK-IN ATTEMPT!\n",
      "Dec 15 00:05:17 LabSZ sshd[11307]: pam_unix(sshd:auth): authentication failure; logname= uid=0 euid=0 tty=ssh ruser= rhost=124.126.145.182  user=root\n",
      "Dec 15 00:05:19 LabSZ sshd[11307]: Failed password for root from 124.126.145.182 port 56344 ssh2\n",
      "Dec 15 00:05:31 LabSZ sshd[11307]: message repeated 5 times: [ Failed password for root from 124.126.145.182 port 56344 ssh2]\n",
      "Dec 15 00:05:31 LabSZ sshd[11307]: Disconnecting: Too many authentication failures for root [preauth]\n",
      "Dec 15 00:05:31 LabSZ sshd[11307]: PAM 5 more authentication failures; logname= uid=0 euid=0 tty=ssh ruser= rhost=124.126.145.182  user=root\n",
      "Dec 15 00:05:31 LabSZ sshd[11307]: PAM service(sshd) ignoring max retries; 6 > 3\n",
      "Dec 15 00:11:36 LabSZ sshd[11324]: Did not receive identification string from 212.83.158.199\n"
     ]
    }
   ],
   "source": [
    "with open(\"SSHDec15.log\", \"r\") as f:\n",
    "    for i in range(20):\n",
    "        print(f.readline(), end=\"\") # on enleve le retour a la ligne car il y en a deja un dans le texte a afficher\n",
    "    "
   ]
  },
  {
   "cell_type": "markdown",
   "id": "received-saturday",
   "metadata": {},
   "source": [
    "On remarque qu'un grand nombre de tentatives de connections échoue. On voit plusieurs lignes de la forme\n",
    "```\n",
    "Dec 15 00:04:21 LabSZ sshd[11305]: Failed password for invalid user zhangw from 175.102.13.6 port 60365 ssh2\n",
    "```\n",
    "Il est probable que ces connections soient presque toutes des tentatives d'intrusion.\n",
    "Supposons qu'on veuille répertorier les addresses IP qui tentent de se connecter ainsi. Le log étant généré automatiquement, on peut compter sur le fait que le format des lignes soit consistant dans l'ensemble du fichier.\n",
    "On peut découper les mots d'une ligne avec ```split()```, et identifier les lignes avec \"Failed password\" aux positions 5 et 6:"
   ]
  },
  {
   "cell_type": "code",
   "execution_count": 10,
   "id": "clear-thing",
   "metadata": {},
   "outputs": [
    {
     "name": "stdout",
     "output_type": "stream",
     "text": [
      "Dec 15 00:01:29 LabSZ sshd[11303]: Failed password for invalid user import from 2.239.208.154 port 47972 ssh2\n",
      "Dec 15 00:04:21 LabSZ sshd[11305]: Failed password for invalid user zhangw from 175.102.13.6 port 60365 ssh2\n",
      "Dec 15 00:05:19 LabSZ sshd[11307]: Failed password for root from 124.126.145.182 port 56344 ssh2\n",
      "Dec 15 00:11:41 LabSZ sshd[11325]: Failed password for invalid user support from 212.83.158.199 port 63650 ssh2\n",
      "Dec 15 00:18:40 LabSZ sshd[11331]: Failed password for invalid user byyl from 115.71.16.143 port 42795 ssh2\n",
      "Dec 15 00:26:08 LabSZ sshd[11336]: Failed password for invalid user 123 from 185.222.209.151 port 53265 ssh2\n",
      "Dec 15 00:27:50 LabSZ sshd[11339]: Failed password for invalid user wangx from 52.80.34.196 port 28028 ssh2\n",
      "Dec 15 00:28:40 LabSZ sshd[11342]: Failed password for root from 119.7.221.129 port 49005 ssh2\n",
      "Dec 15 00:28:43 LabSZ sshd[11344]: Failed password for root from 119.7.221.129 port 51205 ssh2\n",
      "Dec 15 00:28:45 LabSZ sshd[11346]: Failed password for root from 119.7.221.129 port 54198 ssh2\n"
     ]
    }
   ],
   "source": [
    "with open(\"SSHDec15.log\", \"r\") as f:\n",
    "    for i in range(60):\n",
    "        ligne = f.readline()\n",
    "        mots = ligne.split() # decouper la chaine de caracteres en mots (avec les espaces comme séparateurs)\n",
    "        if (mots[5]==\"Failed\" and mots[6]==\"password\"): #échec de connection\n",
    "            print(ligne, end=\"\") # on enleve le retour a la ligne car il y en a deja un dans le texte a afficher\n"
   ]
  },
  {
   "cell_type": "markdown",
   "id": "focal-murder",
   "metadata": {},
   "source": [
    "On peut voir que pour des connections échouées, il y a deux formats: celui donné au-dessus, quand le nom d'utilisateur est inconnu (\"invalid user\"), et un autre légèrement différent quand le nom d'utilisateur est valide (comme \"root\"):\n",
    "```\n",
    "Dec 15 00:05:19 LabSZ sshd[11307]: Failed password for root from 124.126.145.182 port 56344 ssh2\n",
    "```\n",
    "\n",
    "Pour distinguer les deux cas, on peut voir si les mots aux positions 8 et 9 sont \"invalid user\" ou non. On récupère ensuite l'adresse IP d'origine, en comptant les positions:"
   ]
  },
  {
   "cell_type": "code",
   "execution_count": 41,
   "id": "multiple-qatar",
   "metadata": {},
   "outputs": [
    {
     "name": "stdout",
     "output_type": "stream",
     "text": [
      "connection depuis 2.239.208.154\n",
      "connection depuis 175.102.13.6\n",
      "connection depuis 124.126.145.182\n",
      "connection depuis 212.83.158.199\n",
      "connection depuis 115.71.16.143\n",
      "connection depuis 185.222.209.151\n",
      "connection depuis 52.80.34.196\n",
      "connection depuis 119.7.221.129\n",
      "connection depuis 119.7.221.129\n",
      "connection depuis 119.7.221.129\n"
     ]
    }
   ],
   "source": [
    "with open(\"SSHDec15.log\", \"r\") as f:\n",
    "    for i in range(60):\n",
    "        ligne = f.readline()\n",
    "        mots = ligne.split() # decouper la chaine de caracteres en mots (avec les espaces comme séparateurs)\n",
    "        if (mots[5]==\"Failed\" and mots[6]==\"password\"): #échec de connection\n",
    "            if(mots[8]==\"invalid\" and mots[9]==\"user\"):\n",
    "                ip = mots[12]\n",
    "            else:\n",
    "                ip = mots[10]\n",
    "            print(\"connection depuis\", ip)\n"
   ]
  },
  {
   "cell_type": "markdown",
   "id": "straight-supervision",
   "metadata": {},
   "source": [
    "On peut collecter dans une liste les adresses IP des 'attaquants': on pourrait envisager de bloquer certaines connections en fonction des adresses IP d'origine, par exemple."
   ]
  },
  {
   "cell_type": "code",
   "execution_count": 42,
   "id": "chubby-clone",
   "metadata": {},
   "outputs": [
    {
     "name": "stdout",
     "output_type": "stream",
     "text": [
      "connection depuis 2.239.208.154\n",
      "connection depuis 175.102.13.6\n",
      "connection depuis 124.126.145.182\n",
      "connection depuis 212.83.158.199\n",
      "connection depuis 115.71.16.143\n",
      "connection depuis 185.222.209.151\n",
      "connection depuis 52.80.34.196\n",
      "connection depuis 119.7.221.129\n",
      "connection depuis 119.7.221.129\n",
      "connection depuis 119.7.221.129\n",
      "addresses IP d'origine:\n",
      "2.239.208.154, 175.102.13.6, 124.126.145.182, 212.83.158.199, 115.71.16.143, 185.222.209.151, 52.80.34.196, 119.7.221.129, 119.7.221.129, 119.7.221.129\n"
     ]
    }
   ],
   "source": [
    "liste_IP = []\n",
    "with open(\"SSHDec15.log\", \"r\") as f:\n",
    "    for i in range(60):\n",
    "        ligne = f.readline()\n",
    "        mots = ligne.split() # decouper la chaine de caracteres en mots (avec les espaces comme séparateurs)\n",
    "        if (mots[5]==\"Failed\" and mots[6]==\"password\"): #échec de connection\n",
    "            if(mots[8]==\"invalid\" and mots[9]==\"user\"):\n",
    "                ip = mots[12]\n",
    "            else:\n",
    "                ip = mots[10]\n",
    "            print(\"connection depuis\", ip)\n",
    "            liste_IP.append(ip)\n",
    "print(\"addresses IP d'origine:\")\n",
    "print(', '.join(liste_IP))"
   ]
  },
  {
   "cell_type": "markdown",
   "id": "varying-thought",
   "metadata": {},
   "source": [
    "On peut maintenant réduire l'affichage et faire l'analyse sur l'ensemble du fichier:"
   ]
  },
  {
   "cell_type": "code",
   "execution_count": 43,
   "id": "given-grain",
   "metadata": {},
   "outputs": [
    {
     "name": "stdout",
     "output_type": "stream",
     "text": [
      "addresses IP d'origine:\n",
      "2.239.208.154, 175.102.13.6, 124.126.145.182, 212.83.158.199, 115.71.16.143, 185.222.209.151, 52.80.34.196, 119.7.221.129, 119.7.221.129, 119.7.221.129, 119.7.221.129, 119.7.221.129, 119.7.221.129, 119.7.221.129, 119.7.221.129, 119.7.221.129, 119.7.221.129, 119.7.221.129, 119.7.221.129, 119.7.221.129, 119.7.221.129, 119.7.221.129, 119.7.221.129, 119.7.221.129, 119.7.221.129, 119.7.221.129, 119.7.221.129, 119.7.221.129, 119.7.221.129, 119.7.221.129, 119.7.221.129, 119.7.221.129, 119.7.221.129, 119.7.221.129, 119.7.221.129, 119.7.221.129, 119.7.221.129, 119.7.221.129, 119.7.221.129, 119.7.221.129, 119.7.221.129, 119.7.221.129, 119.7.221.129, 119.7.221.129, 119.7.221.129, 119.7.221.129, 119.7.221.129, 119.7.221.129, 119.7.221.129, 119.7.221.129, 119.7.221.129, 119.7.221.129, 119.7.221.129, 119.7.221.129, 119.7.221.129, 119.7.221.129, 119.7.221.129, 119.7.221.129, 119.7.221.129, 119.7.221.129, 119.7.221.129, 119.7.221.129, 119.7.221.129, 119.7.221.129, 119.7.221.129, 119.7.221.129, 119.7.221.129, 119.7.221.129, 119.7.221.129, 119.7.221.129, 119.7.221.129, 119.7.221.129, 119.7.221.129, 119.7.221.129, 119.7.221.129, 119.7.221.129, 119.7.221.129, 119.7.221.129, 119.7.221.129, 119.7.221.129, 119.7.221.129, 119.7.221.129, 119.7.221.129, 119.7.221.129, 119.7.221.129, 119.7.221.129, 119.7.221.129, 119.7.221.129, 119.7.221.129, 119.7.221.129, 119.7.221.129, 119.7.221.129, 119.7.221.129, 115.71.16.143, 117.107.159.146, 201.255.25.93, 115.71.16.143, 52.80.34.196, 2.239.208.154, 103.79.141.173\n"
     ]
    }
   ],
   "source": [
    "liste_IP = []\n",
    "with open(\"SSHDec15.log\", \"r\") as f:\n",
    "    for ligne in f: # on énumère toutes les lignes du fichier\n",
    "        mots = ligne.split() # decouper la chaine de caracteres en mots (avec les espaces comme séparateurs)\n",
    "        if (mots[5]==\"Failed\" and mots[6]==\"password\"): #échec de connection\n",
    "            if(mots[8]==\"invalid\" and mots[9]==\"user\"):\n",
    "                ip = mots[12]\n",
    "            else:\n",
    "                ip = mots[10]\n",
    "            #print(\"connection depuis\", ip)\n",
    "            liste_IP.append(ip)\n",
    "print(\"addresses IP d'origine:\")\n",
    "print(', '.join(liste_IP[:100])) # on affiche seulement les 100 premier éléments de la liste"
   ]
  },
  {
   "cell_type": "markdown",
   "id": "digital-belief",
   "metadata": {},
   "source": [
    "On voit qu'il y a énormément de répétition dans la listes obtenues. Plutôt que de répéter les mêmes adresses IP de nombreuses fois, on peut compter combien de fois elles sont utilisées, et garder l'information dans un dictionnaire. Pour ceci une fonctionnalité utile des dictionnaires est la méthode ```get```: cette méthode nous permet d'obtenir la valeur associée à une clé, et de gérer (simultanément) le cas où la clé n'est pas présente dans le dictionnaire, en fournissant une valeur par défaut.\n",
    "\n",
    "Voyons ce qu'il se passe sans ```get```, quand on cherche à obtenir la valeur à une clé qui n'existe pas encore dans le dictionnaire:"
   ]
  },
  {
   "cell_type": "code",
   "execution_count": 19,
   "id": "velvet-honey",
   "metadata": {},
   "outputs": [
    {
     "ename": "KeyError",
     "evalue": "'c'",
     "output_type": "error",
     "traceback": [
      "\u001b[0;31m---------------------------------------------------------------------------\u001b[0m",
      "\u001b[0;31mKeyError\u001b[0m                                  Traceback (most recent call last)",
      "\u001b[0;32m<ipython-input-19-44e3fb2066ea>\u001b[0m in \u001b[0;36m<module>\u001b[0;34m\u001b[0m\n\u001b[1;32m      1\u001b[0m \u001b[0mexemple\u001b[0m\u001b[0;34m=\u001b[0m\u001b[0;34m{\u001b[0m\u001b[0;34m'a'\u001b[0m\u001b[0;34m:\u001b[0m\u001b[0;36m1\u001b[0m\u001b[0;34m,\u001b[0m \u001b[0;34m'b'\u001b[0m\u001b[0;34m:\u001b[0m\u001b[0;36m2\u001b[0m\u001b[0;34m}\u001b[0m\u001b[0;34m\u001b[0m\u001b[0;34m\u001b[0m\u001b[0m\n\u001b[0;32m----> 2\u001b[0;31m \u001b[0mprint\u001b[0m\u001b[0;34m(\u001b[0m\u001b[0mexemple\u001b[0m\u001b[0;34m[\u001b[0m\u001b[0;34m'c'\u001b[0m\u001b[0;34m]\u001b[0m\u001b[0;34m)\u001b[0m\u001b[0;34m\u001b[0m\u001b[0;34m\u001b[0m\u001b[0m\n\u001b[0m",
      "\u001b[0;31mKeyError\u001b[0m: 'c'"
     ]
    }
   ],
   "source": [
    "exemple={'a':1, 'b':2}\n",
    "print(exemple['c'])"
   ]
  },
  {
   "cell_type": "markdown",
   "id": "entire-dream",
   "metadata": {},
   "source": [
    "Avec ```get```, on peut obtenir soit la valeur du dictionnaire, soit une valeur par défaut:"
   ]
  },
  {
   "cell_type": "code",
   "execution_count": 23,
   "id": "neural-generation",
   "metadata": {},
   "outputs": [
    {
     "data": {
      "text/plain": [
       "2"
      ]
     },
     "execution_count": 23,
     "metadata": {},
     "output_type": "execute_result"
    }
   ],
   "source": [
    "exemple.get('b', 10)"
   ]
  },
  {
   "cell_type": "code",
   "execution_count": 24,
   "id": "social-smile",
   "metadata": {},
   "outputs": [
    {
     "data": {
      "text/plain": [
       "10"
      ]
     },
     "execution_count": 24,
     "metadata": {},
     "output_type": "execute_result"
    }
   ],
   "source": [
    "exemple.get('c', 10)"
   ]
  },
  {
   "cell_type": "markdown",
   "id": "promotional-oriental",
   "metadata": {},
   "source": [
    "Dans le problème qui nous intéresse, les valeurs seront les comptes du nombre de fois qu'apparaissent les clés; on peut donc considérer que s'ils ne sont pas encore dans le dictionnaire c'est comme s'ils y étaient, avec la valeur 0."
   ]
  },
  {
   "cell_type": "code",
   "execution_count": 29,
   "id": "finnish-advantage",
   "metadata": {},
   "outputs": [],
   "source": [
    "exemple['a'] = exemple.get('a',0) + 1\n",
    "exemple['b'] = exemple.get('b',0) + 1\n",
    "exemple['c'] = exemple.get('c',0) + 1"
   ]
  },
  {
   "cell_type": "code",
   "execution_count": 30,
   "id": "flying-coalition",
   "metadata": {},
   "outputs": [
    {
     "data": {
      "text/plain": [
       "{'a': 2, 'b': 5, 'c': 2}"
      ]
     },
     "execution_count": 30,
     "metadata": {},
     "output_type": "execute_result"
    }
   ],
   "source": [
    "exemple"
   ]
  },
  {
   "cell_type": "markdown",
   "id": "unavailable-complex",
   "metadata": {},
   "source": [
    "On a rajouté 1 aux valeurs associées à ```'a'``` et ```'b'```, et pour ```'c'``` qui n'était pas dans le dictionnaire, on a ajouté 1 à la valeur par défaut 0.\n",
    "\n",
    "On applique cette technique pour compter les occurences des différentes adresses IP et noms d'utilisateurs:"
   ]
  },
  {
   "cell_type": "code",
   "execution_count": 44,
   "id": "instructional-trunk",
   "metadata": {},
   "outputs": [
    {
     "name": "stdout",
     "output_type": "stream",
     "text": [
      "---------- addresses IP d'origine:\n",
      "2.239.208.154 : compte=3\n",
      "175.102.13.6 : compte=7\n",
      "124.126.145.182 : compte=1\n",
      "212.83.158.199 : compte=1\n",
      "115.71.16.143 : compte=57\n",
      "185.222.209.151 : compte=24\n",
      "52.80.34.196 : compte=12\n",
      "119.7.221.129 : compte=105\n",
      "117.107.159.146 : compte=1\n",
      "201.255.25.93 : compte=1\n",
      "103.79.141.173 : compte=4\n",
      "163.172.157.212 : compte=8\n",
      "61.143.3.203 : compte=5\n",
      "51.15.199.186 : compte=12\n",
      "46.48.198.83 : compte=1\n",
      "5.188.10.180 : compte=35\n",
      "124.68.10.20 : compte=36\n",
      "183.136.162.51 : compte=5\n",
      "202.92.128.175 : compte=6\n",
      "195.154.63.158 : compte=2\n",
      "182.45.92.120 : compte=1\n",
      "103.207.39.212 : compte=7\n",
      "103.204.70.183 : compte=6\n",
      "14.116.171.251 : compte=2231\n",
      "118.85.194.26 : compte=1\n",
      "51.15.220.221 : compte=8\n",
      "180.169.107.150 : compte=1\n",
      "181.214.87.4 : compte=5\n",
      "207.204.204.84 : compte=2\n",
      "87.120.255.141 : compte=1\n",
      "113.175.93.230 : compte=1\n",
      "197.211.243.136 : compte=1\n",
      "14.162.164.196 : compte=1\n",
      "103.207.36.21 : compte=2\n",
      "46.125.36.243 : compte=6\n",
      "140.255.91.140 : compte=1\n",
      "101.71.29.235 : compte=1\n",
      "61.153.56.30 : compte=6\n",
      "103.207.39.16 : compte=3\n",
      "103.99.0.122 : compte=60\n",
      "123.235.32.19 : compte=38\n",
      "218.17.80.182 : compte=2\n",
      "185.165.29.140 : compte=24\n",
      "116.211.91.193 : compte=6\n",
      "123.157.138.164 : compte=1\n",
      "173.239.228.96 : compte=19\n",
      "103.89.91.28 : compte=1\n",
      "212.237.41.152 : compte=33\n",
      "103.207.39.98 : compte=5\n",
      "42.112.31.173 : compte=9\n",
      "183.238.25.86 : compte=2065\n",
      "58.221.249.102 : compte=153\n",
      "119.7.221.137 : compte=34\n",
      "159.203.87.8 : compte=15\n",
      "210.212.210.86 : compte=5\n",
      "5.188.10.182 : compte=5\n",
      "179.170.204.170 : compte=1\n",
      "181.64.137.172 : compte=1\n",
      "223.18.236.226 : compte=1\n",
      "5.188.10.156 : compte=1\n",
      "220.82.194.184 : compte=6\n",
      "37.76.149.32 : compte=1\n",
      "171.105.250.10 : compte=1\n",
      "113.161.94.177 : compte=1\n",
      "195.154.37.122 : compte=2\n",
      "181.174.36.94 : compte=1\n",
      "213.8.199.27 : compte=2\n",
      "210.13.64.18 : compte=6\n",
      "212.37.87.245 : compte=1\n",
      "218.84.173.202 : compte=6\n",
      "186.24.43.2 : compte=2\n",
      "82.28.100.182 : compte=6\n"
     ]
    }
   ],
   "source": [
    "liste_IP = {} # dictionnaire vide\n",
    "with open(\"SSHDec15.log\", \"r\") as f:\n",
    "    for ligne in f: # on énumère toutes les lignes du fichier\n",
    "        mots = ligne.split() # decouper la chaine de caracteres en mots (avec les espaces comme séparateurs)\n",
    "        if (mots[5]==\"Failed\" and mots[6]==\"password\"): #échec de connection\n",
    "            if(mots[8]==\"invalid\" and mots[9]==\"user\"):\n",
    "                ip = mots[12]\n",
    "            else:\n",
    "                ip = mots[10]\n",
    "            #print(\"connection depuis\", ip)\n",
    "            liste_IP[ip] = liste_IP.get(ip,0) + 1 # comptage\n",
    "print(\"---------- addresses IP d'origine:\")\n",
    "# obtenir une représentation des paires clés-valeurs\n",
    "paires = [ k+\" : compte=\"+str(v) for k,v in liste_IP.items()]\n",
    "print('\\n'.join(paires)) # affichage de la liste sur des lignes différentes (retour à la ligne comme séparateur)"
   ]
  },
  {
   "cell_type": "markdown",
   "id": "friendly-consideration",
   "metadata": {},
   "source": [
    "Ça fait beaucoup: on peut se limiter aux aqdresses et noms qui apparaissent plus que 10 fois. On peut utiliser ici une clause supplémentaire ```if``` dans la compréhension de liste:"
   ]
  },
  {
   "cell_type": "code",
   "execution_count": 35,
   "id": "roman-romance",
   "metadata": {},
   "outputs": [],
   "source": [
    "paires = [ k+\" : compte=\"+str(v) for k,v in liste_IP.items() if v>=10]"
   ]
  },
  {
   "cell_type": "code",
   "execution_count": 36,
   "id": "developing-organic",
   "metadata": {},
   "outputs": [
    {
     "name": "stdout",
     "output_type": "stream",
     "text": [
      "115.71.16.143 : compte=57\n",
      "185.222.209.151 : compte=24\n",
      "52.80.34.196 : compte=12\n",
      "119.7.221.129 : compte=105\n",
      "51.15.199.186 : compte=12\n",
      "5.188.10.180 : compte=35\n",
      "124.68.10.20 : compte=36\n",
      "14.116.171.251 : compte=2231\n",
      "103.99.0.122 : compte=60\n",
      "123.235.32.19 : compte=38\n",
      "185.165.29.140 : compte=24\n",
      "173.239.228.96 : compte=19\n",
      "212.237.41.152 : compte=33\n",
      "183.238.25.86 : compte=2065\n",
      "58.221.249.102 : compte=153\n",
      "119.7.221.137 : compte=34\n",
      "159.203.87.8 : compte=15\n"
     ]
    }
   ],
   "source": [
    "print('\\n'.join(paires)) # affichage de la liste sur des lignes différentes (retour à la ligne comme séparateur)"
   ]
  },
  {
   "cell_type": "markdown",
   "id": "photographic-county",
   "metadata": {},
   "source": [
    "## Partie II: Exercice guidé - consolider l'ensemble de l'analyse sur les différents fichiers\n",
    "\n",
    "Dans cette partie on va étendre l'analyse faite ici à l'ensemble des 25 fichiers de logs, et sauvegarder les résultats dans un nouveau fichier.\n",
    "\n",
    "Pour cet exercice il est nécessaire de collecter les fichiers de log, qui sont disponibles sur Moodle.\n",
    "\n",
    "__2.1__ Commençons par préparer le code pour lire tous les fichiers les uns après les autres. Écrire une boucle qui énumère les fichiers de log, et affiche la première ligne de chaque fichier."
   ]
  },
  {
   "cell_type": "code",
   "execution_count": null,
   "id": "later-there",
   "metadata": {},
   "outputs": [],
   "source": []
  },
  {
   "cell_type": "markdown",
   "id": "european-ethnic",
   "metadata": {},
   "source": [
    "__2.2__ Reprendre l'ensemble du code vu au-dessus pour compter les adresses IP utilisées. Attention: les comptages doivent être consolidés pour toute la période."
   ]
  },
  {
   "cell_type": "code",
   "execution_count": null,
   "id": "infectious-klein",
   "metadata": {},
   "outputs": [],
   "source": []
  },
  {
   "cell_type": "markdown",
   "id": "german-novelty",
   "metadata": {},
   "source": [
    "__2.3__ En affichant les premières lignes de tous les fichiers, on peut remarquer dans certains fichiers (ex: le 1er Janvier) des lignes de la forme:\n",
    "```\n",
    "Jan  1 22:38:31 LabSZ sshd[16315]: message repeated 3 times: [ Failed password for root from 218.65.30.30 port 52352 ssh2]\n",
    "```\n",
    "Ceci indique qu'il y a eu 3 fois 'Failed password...', soit 3 tentatives de connection pour la même adresse Ip et le même nom d'utilisateur. Ajouter du code pour comptabiliser ces connections (attention: pour cette ligne il faut comptabiliser l'adresse IP 3 fois, et dans d'autres cas 5 fois, etc. selon le nombre de répétitions indiqué)."
   ]
  },
  {
   "cell_type": "code",
   "execution_count": null,
   "id": "rising-massage",
   "metadata": {},
   "outputs": [],
   "source": []
  },
  {
   "cell_type": "markdown",
   "id": "random-compact",
   "metadata": {},
   "source": [
    "__2.4__ Ici on s'est limité à répertorier les addresses IP d'origine des connections. Il est aussi pertinent de répertorier les noms d'utilisateurs ciblés, afin de savoir quels mots de passe sont les plus importants à sécuriser (changer fréquemment, utiliser une grande longueur et des caractères spéciaux, etc.)\n",
    "\n",
    "Ajouter du code pour compter les connections sur les différents noms d'utilisateurs."
   ]
  },
  {
   "cell_type": "code",
   "execution_count": null,
   "id": "surprised-creator",
   "metadata": {},
   "outputs": [],
   "source": []
  },
  {
   "cell_type": "markdown",
   "id": "inclusive-truck",
   "metadata": {},
   "source": [
    "__2.5__ On veut sauvegarder l'information dans des fichiers (un fichier pour les adresses IP, un fichier pour les noms d'utilisateur). Ajouter du code pour ouvrir un fichier \"adressesIP.txt\" et sauvegarder la liste des adresses IP / comptes (une par ligne), et un fichier semblable pour les noms d'utilisateur."
   ]
  },
  {
   "cell_type": "code",
   "execution_count": null,
   "id": "operating-empty",
   "metadata": {},
   "outputs": [],
   "source": []
  },
  {
   "cell_type": "markdown",
   "id": "subsequent-painting",
   "metadata": {},
   "source": [
    "## Partie III - Exercice non guidé: l'évolution des attaques dans le temps. \n",
    "\n",
    "L'analyse précédente avait pour but de collecter des informations sur les tentatives d'intrusion (les adresses IP d'ou elles proviennent, les noms d'utilisateurs ciblés), sur l'ensemble des données.\n",
    "\n",
    "Dans cet exercice le but est plutôt de voir comment se répartissent les tenatives d'intrusion dans le temps.\n",
    "On voudrait savoir si elles surviennent plutôt la nuit, le matin, l'apres-midi... \n",
    "Pour ceci on voudrait pour chaque jour dans les données, collecter les heures auxquelles les tentatives d'intrusion se produisent. On aimerait ensuite diviser la journée en 24h et tracer une courbe qui montre la proportion des tentatives d'intrusion qui se produisent à chaque heure de la journée.\n",
    "\n",
    "D'autre part, on peut observer dans les logs, des connections réussies. Les lignes ont la forme suivante:\n",
    "```\n",
    "Dec 17 15:02:50 LabSZ sshd[4627]: Accepted password for fztu from 119.137.63.195 port 53927 ssh2\n",
    "```\n",
    "On peut aussi tracer le nombre de connections réussies (a priori légitimes) dans la journée, et comparer les deux courbes.\n",
    "\n",
    "Indications pour le tracé des courbes:\n",
    "Il est nécessaire d'avoir un ensemble de données de la forme ```(x, y)```, soit un ensemble de paires ```(heure, nombre de connection)```, pour heure = \\[0, 2, 3,... 23\\]. \n",
    "\n",
    "On peut ensuite utiliser la bibliothèque ```matplotlib```, en adaptant l'exemple suivant:"
   ]
  },
  {
   "cell_type": "code",
   "execution_count": 49,
   "id": "signed-cleaner",
   "metadata": {},
   "outputs": [
    {
     "data": {
      "image/png": "[encoded data removed]",
      "text/plain": [
       "<Figure size 432x288 with 1 Axes>"
      ]
     },
     "metadata": {
      "needs_background": "light"
     },
     "output_type": "display_data"
    }
   ],
   "source": [
    "import matplotlib.pyplot as plt\n",
    "# exemple de données\n",
    "donnees = [(1, 21), (2,20), (3, 18), (4, 37), (5,40), (6,63), (7,56), (8, 42), (9, 17), (10, 29)]\n",
    "x =[a[0] for a in donnees]\n",
    "y =[a[1] for a in donnees]\n",
    "\n",
    "fig = plt.figure()\n",
    "ax = fig.add_axes([0,0,1,1])\n",
    "ax.bar(x,y)\n",
    "plt.show()"
   ]
  },
  {
   "cell_type": "code",
   "execution_count": null,
   "id": "instrumental-johnston",
   "metadata": {},
   "outputs": [],
   "source": []
  }
 ],
 "metadata": {
  "kernelspec": {
   "display_name": "Python 3",
   "language": "python",
   "name": "python3"
  },
  "language_info": {
   "codemirror_mode": {
    "name": "ipython",
    "version": 3
   },
   "file_extension": ".py",
   "mimetype": "text/x-python",
   "name": "python",
   "nbconvert_exporter": "python",
   "pygments_lexer": "ipython3",
   "version": "3.9.1"
  }
 },
 "nbformat": 4,
 "nbformat_minor": 5
}
