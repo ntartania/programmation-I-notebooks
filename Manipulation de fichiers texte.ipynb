{
 "cells": [
  {
   "cell_type": "markdown",
   "id": "detailed-lightweight",
   "metadata": {},
   "source": [
    "# Manipulation de fichiers\n",
    "\n",
    "\n",
    "La programmation permet de traiter efficacement des problèmes impliquant une grande quantité de données. Souvent, ces données se trouvent dans des fichiers texte. On peut par exemple parcourir un fichier de log (trace d'événements système) pour compter le nombre d'événements d'un certain type. Il y aura parfois plusieurs fichiers à parcourir, pour réunir l'ensemble des données ou pour faire une modification systématique (ex: renommer tous les fichiers...).\n",
    "\n",
    "## Accéder aux fichiers: la bibliothèque ```os```\n",
    "\n",
    "Dans les systèmes informatiques, les fichiers sont habituellement organisés dans une arborescence de répertoires et de sous-répertoires. Les méthodes qui permettent de naviguer cette arborescence et de manipuler les fichiers (les déplacer, les supprimer, etc.) sont fournies par la bibliothèque ```os``` (pour _Operating System_). La bibliothèque ```os``` fournit des fonctionnalités auxquelles on accède normalement à travers une \"ligne de commande\" (aussi appelée _shell_ ou _terminal_), et pour la plupart des commandes _shell_ il existe une méthode correspondante dans la bibliothèque ```os```: dans la suite ces commandes sont indiquées. On utilise la commande mac/linux, qui est en générale aussi acceptée par le système de commandes Windows Powershell.\n",
    "\n",
    "Pour pouvoir exécuter les différentes méthodes, on importe d'abord le module ```os```, et le module ```os.path``` qui contient un certain nombre de méthodes pertinentes:"
   ]
  },
  {
   "cell_type": "code",
   "execution_count": 30,
   "id": "headed-variable",
   "metadata": {},
   "outputs": [],
   "source": [
    "import os, os.path"
   ]
  },
  {
   "cell_type": "markdown",
   "id": "vocal-bruce",
   "metadata": {},
   "source": [
    "### Exploration de l'arborescence de fichiers\n",
    "\n",
    "Pour pouvoir manipuler les fichiers il est nécessaire de pouvoir naviguer l'arborescence de répertoires: changer de répertoire, accéder aux sous-répertoires ou au répertoire parent, et lister les fichiers contenus dans un répertoire. \n",
    "\n",
    "On passe ici brièvement en revue ces fonctionnalités, en faisant le lien avec les commandes _shell_ équivalentes. "
   ]
  },
  {
   "cell_type": "markdown",
   "id": "union-merchant",
   "metadata": {},
   "source": [
    "#### Obtenir le répertoire de travail\n",
    "À tout moment, on se place à un point de l'arborescence de fichiers, c'est le \"répertoire de travail\". Dans un _shell_, on peut obtenir le répertoire de travail à l'aide de la commande ```pwd``` (_print working directory_). En Python, c'est la méthode ```getcwd```, sans paramètres:"
   ]
  },
  {
   "cell_type": "code",
   "execution_count": 34,
   "id": "extended-organic",
   "metadata": {},
   "outputs": [
    {
     "data": {
      "text/plain": [
       "'/Users/davoal01/Library/CloudStorage/OneDrive-UniversitéduQuébecenOutaouais/enseignement/INF1653'"
      ]
     },
     "execution_count": 34,
     "metadata": {},
     "output_type": "execute_result"
    }
   ],
   "source": [
    "os.getcwd()"
   ]
  },
  {
   "cell_type": "markdown",
   "id": "frank-founder",
   "metadata": {},
   "source": [
    "Les commandes _shell_ sont habituellement utilisées en mode interactif et affichent le résultat à l'écran, exactement comme on vient de le faire ici. Cependant, dans un programme on utiliserait la méthode comme une fonction classique: on stockerait le résultat dans une variable:"
   ]
  },
  {
   "cell_type": "code",
   "execution_count": 32,
   "id": "comprehensive-report",
   "metadata": {},
   "outputs": [],
   "source": [
    "repertoire = os.getcwd()"
   ]
  },
  {
   "cell_type": "markdown",
   "id": "copyrighted-thompson",
   "metadata": {},
   "source": [
    "La variable ```répertoire``` contient le résultat de la commande, une chaine de caractères: "
   ]
  },
  {
   "cell_type": "code",
   "execution_count": 33,
   "id": "periodic-rolling",
   "metadata": {},
   "outputs": [
    {
     "data": {
      "text/plain": [
       "'/Users/davoal01/Library/CloudStorage/OneDrive-UniversitéduQuébecenOutaouais/enseignement/INF1653'"
      ]
     },
     "execution_count": 33,
     "metadata": {},
     "output_type": "execute_result"
    }
   ],
   "source": [
    "repertoire"
   ]
  },
  {
   "cell_type": "markdown",
   "id": "golden-calibration",
   "metadata": {},
   "source": [
    "Remarquer que les répertoires sont séparés ici par des barres obliques ```/``` (séparateur Mac et linux), alors que sous Windows ce seraient des barres obliques ```\\```. Pour pouvoir écrire du code indépendant du système d'exploitation on peut utiliser la constante ```os.sep```, qui donne le séparateur pour le système d'exploitation courant. On peut ensuite utiliser la méthode ```split()``` (pour un string) pour séparer les composantes du chemin:"
   ]
  },
  {
   "cell_type": "code",
   "execution_count": 35,
   "id": "intermediate-tattoo",
   "metadata": {},
   "outputs": [
    {
     "data": {
      "text/plain": [
       "['',\n",
       " 'Users',\n",
       " 'davoal01',\n",
       " 'Library',\n",
       " 'CloudStorage',\n",
       " 'OneDrive-UniversitéduQuébecenOutaouais',\n",
       " 'enseignement',\n",
       " 'INF1653']"
      ]
     },
     "execution_count": 35,
     "metadata": {},
     "output_type": "execute_result"
    }
   ],
   "source": [
    "repertoire.split(os.sep)"
   ]
  },
  {
   "cell_type": "markdown",
   "id": "interior-syria",
   "metadata": {},
   "source": [
    "#### Changer de répertoire\n",
    "La commande _shell_ pour changer de répertoire est ```cd```, et ici on a la méthode ```chdir```. On peut lui passer un chemin \"absolu\" ou \"relatif\" (relatif au répertoire de travail courant). Voici un chemin absolu (sous mac et linux, un chemin absolu commence par une barre oblique, et sous Windows il commence par la lettre du \"disque\"):"
   ]
  },
  {
   "cell_type": "code",
   "execution_count": 36,
   "id": "alpha-herald",
   "metadata": {},
   "outputs": [],
   "source": [
    "os.chdir(\"/Users/davoal01/\")"
   ]
  },
  {
   "cell_type": "markdown",
   "id": "broke-walnut",
   "metadata": {},
   "source": [
    "Vérifions que le chemin a bien changé:"
   ]
  },
  {
   "cell_type": "code",
   "execution_count": 37,
   "id": "different-reynolds",
   "metadata": {},
   "outputs": [
    {
     "data": {
      "text/plain": [
       "'/Users/davoal01'"
      ]
     },
     "execution_count": 37,
     "metadata": {},
     "output_type": "execute_result"
    }
   ],
   "source": [
    "os.getcwd()"
   ]
  },
  {
   "cell_type": "markdown",
   "id": "above-hypothesis",
   "metadata": {},
   "source": [
    "Un chemin relatif peut être un chemin commençant par un sous-répertoire du répertoire courant:"
   ]
  },
  {
   "cell_type": "code",
   "execution_count": 39,
   "id": "following-belle",
   "metadata": {},
   "outputs": [],
   "source": [
    "os.chdir(\"Library/CloudStorage/OneDrive-UniversitéduQuébecenOutaouais/enseignement/INF1653\")"
   ]
  },
  {
   "cell_type": "code",
   "execution_count": 40,
   "id": "about-jacob",
   "metadata": {},
   "outputs": [
    {
     "data": {
      "text/plain": [
       "'/Users/davoal01/Library/CloudStorage/OneDrive-UniversitéduQuébecenOutaouais/enseignement/INF1653'"
      ]
     },
     "execution_count": 40,
     "metadata": {},
     "output_type": "execute_result"
    }
   ],
   "source": [
    "os.getcwd()"
   ]
  },
  {
   "cell_type": "markdown",
   "id": "determined-dependence",
   "metadata": {},
   "source": [
    "Popur pouvoir naviguer l'arborescence vers le \"haut\" (répertoires parents), on utilise la même notation que dans un _shell_, c'est-à-dire qu'un point (```'.'```) se réfère au répertoire courant, et deux points (```'..'```) se réfèrent au répertoire parent. On peut même enchainer les ```'..'``` pour remonter de plusieurs niveaux dans l'arborescence: "
   ]
  },
  {
   "cell_type": "code",
   "execution_count": 50,
   "id": "pleasant-fireplace",
   "metadata": {},
   "outputs": [],
   "source": [
    "os.chdir(\"../..\")"
   ]
  },
  {
   "cell_type": "code",
   "execution_count": 42,
   "id": "transparent-retro",
   "metadata": {},
   "outputs": [
    {
     "data": {
      "text/plain": [
       "'/Users/davoal01/Library/CloudStorage/OneDrive-UniversitéduQuébecenOutaouais'"
      ]
     },
     "execution_count": 42,
     "metadata": {},
     "output_type": "execute_result"
    }
   ],
   "source": [
    "os.getcwd()"
   ]
  },
  {
   "cell_type": "markdown",
   "id": "fundamental-authorization",
   "metadata": {},
   "source": [
    "Dans ces exemples on a utilisé directement la barre oblique ```/``` dans les chemins, ce qui ne fonctionnerait pas sous Windows, où il faudrait utiliser une barre backslah (```\\```). Pour avoir du code indépendant du système d'exploitation, on peut utiliser ```os.sep``` pour le séparateur (comme décrit plus haut), ou encore utiliser les méthodes de la bibliothèque ```os.path``` pour composer le chemin à partir des noms de répertoires:"
   ]
  },
  {
   "cell_type": "code",
   "execution_count": 47,
   "id": "amino-relationship",
   "metadata": {},
   "outputs": [],
   "source": [
    "chemin = os.path.join('.', 'enseignement', 'INF1653')"
   ]
  },
  {
   "cell_type": "markdown",
   "id": "rough-mission",
   "metadata": {},
   "source": [
    "Ceci nous donne un chemin relatif commençant par le point (répertoire courant), suivis des sous-répertoires ```enseignement``` et ```INF1653```:"
   ]
  },
  {
   "cell_type": "code",
   "execution_count": 48,
   "id": "dedicated-glass",
   "metadata": {},
   "outputs": [
    {
     "data": {
      "text/plain": [
       "'./enseignement/INF1653'"
      ]
     },
     "execution_count": 48,
     "metadata": {},
     "output_type": "execute_result"
    }
   ],
   "source": [
    "chemin"
   ]
  },
  {
   "cell_type": "markdown",
   "id": "assumed-nurse",
   "metadata": {},
   "source": [
    "La méthode ```os.path.join``` peut être utilisée par un nombre quelconques de paramètres. \n",
    "\n",
    "Changeons de répertoire en utilisant ce chemin relatif:"
   ]
  },
  {
   "cell_type": "code",
   "execution_count": 51,
   "id": "dried-edmonton",
   "metadata": {},
   "outputs": [],
   "source": [
    "os.chdir(chemin)"
   ]
  },
  {
   "cell_type": "code",
   "execution_count": 52,
   "id": "married-university",
   "metadata": {},
   "outputs": [
    {
     "data": {
      "text/plain": [
       "'/Users/davoal01/Library/CloudStorage/OneDrive-UniversitéduQuébecenOutaouais/enseignement/INF1653'"
      ]
     },
     "execution_count": 52,
     "metadata": {},
     "output_type": "execute_result"
    }
   ],
   "source": [
    "os.getcwd()"
   ]
  },
  {
   "cell_type": "markdown",
   "id": "minus-dressing",
   "metadata": {},
   "source": [
    "#### Lister le contenu d'un répertoire\n",
    "\n",
    "Pour lister les fichiers dans un répertoire, on peut utiliser la méthode ```listdir```: on lui passe en argument le chemin du répertoire à lister. "
   ]
  },
  {
   "cell_type": "code",
   "execution_count": 8,
   "id": "continental-majority",
   "metadata": {},
   "outputs": [
    {
     "data": {
      "text/plain": [
       "['Prog Scripts 2022',\n",
       " '.DS_Store',\n",
       " 'test',\n",
       " 'INF1653_notebooks',\n",
       " 'Python scripts for cybersecurity.docx',\n",
       " 'notebooks',\n",
       " 'log files']"
      ]
     },
     "execution_count": 8,
     "metadata": {},
     "output_type": "execute_result"
    }
   ],
   "source": [
    "os.listdir('.')"
   ]
  },
  {
   "cell_type": "markdown",
   "id": "furnished-quebec",
   "metadata": {},
   "source": [
    "Ici on a utilisé l'argument ```'.'``` pour indiquer qu'on s'intéresse au répertoire courant. Remarquer que les fichiers et sous-répertoires sont donnés sans leur chemin, juste le nom. Ce serait le cas même si on listait les fichiers d'un répertoire autre que le répertoire courant.\n",
    "\n",
    "Pour chaque élément, on peut vérifier s'il s'agit d'un fichier ou d'un répertoire, en utilisant la fonction ```isfile``` du module ```os.path```:"
   ]
  },
  {
   "cell_type": "code",
   "execution_count": 11,
   "id": "damaged-taxation",
   "metadata": {},
   "outputs": [
    {
     "name": "stdout",
     "output_type": "stream",
     "text": [
      "Prog Scripts 2022 (repertoire)\n",
      ".DS_Store (fichier)\n",
      "test (repertoire)\n",
      "INF1653_notebooks (repertoire)\n",
      "Python scripts for cybersecurity.docx (fichier)\n",
      "notebooks (repertoire)\n",
      "log files (repertoire)\n"
     ]
    }
   ],
   "source": [
    "for f in os.listdir('.'):\n",
    "    if(os.path.isfile(f)):\n",
    "        print (f, \"(fichier)\")\n",
    "    else:\n",
    "        print (f, \"(repertoire)\")"
   ]
  },
  {
   "cell_type": "markdown",
   "id": "hawaiian-intention",
   "metadata": {},
   "source": [
    "Ici, on a utilisé ```isfile``` directement avec le nom de chaque fichier (et non pas leur chemin d'accès), et ça fonctionne parce que les fichiers se trouvent dans le répertoire de travail courant. En général, quand on se réfère à un fichier (que ce soit pour savoir s'il s'agit d'un fichier ou répertoire, comme ici, ou pour l'ouvrir, le déplacer, etc.), il est nécessaire de donner le chemin d'accès au fichier, soit de manière absolue, soit relativement au répertoire courant. S'il n'y a pas de chemin, ça signifie implicitement que le fichier est dans le répertoire de travail courant.\n",
    "\n",
    "On va maintenant lister le contenu du repertoire ```test```:"
   ]
  },
  {
   "cell_type": "code",
   "execution_count": 54,
   "id": "fifteen-chess",
   "metadata": {},
   "outputs": [
    {
     "data": {
      "text/plain": [
       "['test1.txt', 'test2.txt']"
      ]
     },
     "execution_count": 54,
     "metadata": {},
     "output_type": "execute_result"
    }
   ],
   "source": [
    "os.listdir('test')"
   ]
  },
  {
   "cell_type": "markdown",
   "id": "healthy-weekly",
   "metadata": {},
   "source": [
    "Il y a deux fichiers dans ce répertoire. Comme précédemment, j'ai ici seulement leur noms (et non pas leur chemin complet) et si je veux m'y référer je dois donner leur chemin d'accès. ici, on peut donner le chemin relatif au répertoire courant:"
   ]
  },
  {
   "cell_type": "code",
   "execution_count": 19,
   "id": "talented-billy",
   "metadata": {},
   "outputs": [
    {
     "data": {
      "text/plain": [
       "True"
      ]
     },
     "execution_count": 19,
     "metadata": {},
     "output_type": "execute_result"
    }
   ],
   "source": [
    "os.path.isfile('./test/test1.txt')"
   ]
  },
  {
   "cell_type": "markdown",
   "id": "cloudy-louisville",
   "metadata": {},
   "source": [
    "Attention: si on fait une erreur dans le chemin, ```isfile``` répondra ```False```. Autrement dit, ```isfile(f)``` peut signifier deux choses: soit ```f``` est un répertoire, soit ```f``` n'existe pas à l'emplacement donné (ce qui sera le cas si le chemin est erroné). \n",
    "\n",
    "Si on veut vérifier qu'un nom local se réfère à un répertoire (notamment pour distinguer entre répertoires et fichiers inexistants), on peut utiliser la méthode ```isdir``` (pour _is directory_):"
   ]
  },
  {
   "cell_type": "code",
   "execution_count": 72,
   "id": "demonstrated-romantic",
   "metadata": {},
   "outputs": [
    {
     "data": {
      "text/plain": [
       "True"
      ]
     },
     "execution_count": 72,
     "metadata": {},
     "output_type": "execute_result"
    }
   ],
   "source": [
    "os.path.isdir('test')"
   ]
  },
  {
   "cell_type": "code",
   "execution_count": 73,
   "id": "parallel-arnold",
   "metadata": {},
   "outputs": [
    {
     "data": {
      "text/plain": [
       "False"
      ]
     },
     "execution_count": 73,
     "metadata": {},
     "output_type": "execute_result"
    }
   ],
   "source": [
    "os.path.isdir('test/test1.txt')"
   ]
  },
  {
   "cell_type": "markdown",
   "id": "legendary-chrome",
   "metadata": {},
   "source": [
    "#### Créer un répertoire\n",
    "\n",
    "Il est possible de créer un sous-répertoire à l'intérieur du sous-répertoire courant. Dans un _shell_ la commande serait ```mkdir```, et en Python la méthode pertinente a le même nom:"
   ]
  },
  {
   "cell_type": "code",
   "execution_count": 69,
   "id": "completed-gates",
   "metadata": {},
   "outputs": [],
   "source": [
    "os.mkdir(\"nouveau repertoire\")"
   ]
  },
  {
   "cell_type": "code",
   "execution_count": 70,
   "id": "patent-oregon",
   "metadata": {},
   "outputs": [
    {
     "data": {
      "text/plain": [
       "['Prog Scripts 2022',\n",
       " '.DS_Store',\n",
       " 'test',\n",
       " 'INF1653_notebooks',\n",
       " 'Python scripts for cybersecurity.docx',\n",
       " 'nouveau repertoire',\n",
       " 'notebooks',\n",
       " 'log files']"
      ]
     },
     "execution_count": 70,
     "metadata": {},
     "output_type": "execute_result"
    }
   ],
   "source": [
    "os.listdir('.')"
   ]
  },
  {
   "cell_type": "markdown",
   "id": "still-veteran",
   "metadata": {},
   "source": [
    "Notons qu'on peut aussi créer un sous-répertoire ailleurs, en précisant son chemin complet."
   ]
  },
  {
   "cell_type": "markdown",
   "id": "sealed-vietnamese",
   "metadata": {},
   "source": [
    "### Manipulation des fichiers\n",
    "\n",
    "On a vu jusqu'à maintenant comment explorer l'arborescence des fichiers, ce qui nous permet d'obtenir la liste des fichiers présents à un endroit donné. Voyons à présent comment manipuler ces fichiers, c'est à dire copier, déplacer, renommer ou supprimer des fichiers."
   ]
  },
  {
   "cell_type": "markdown",
   "id": "stuffed-minimum",
   "metadata": {},
   "source": [
    "#### Renommer ou déplacer un fichier\n",
    "\n",
    "Dans la ligne de commande, on utilise en général la commande ```mv``` (_move_) pour déplacer un fichier, mais aussi pour le renommer. Conceptuellement, si un fichier est identifié par son chemin complet, alors changer le début du chemin (le répertoire qui contient le fichier) ou changer la dernière partie du chemin (le nom) sont des cas particuliers de \"renommage\".\n",
    "\n",
    "Commençons par un renommage simple (sans déplacer le fichier):"
   ]
  },
  {
   "cell_type": "code",
   "execution_count": 56,
   "id": "selective-tuition",
   "metadata": {},
   "outputs": [],
   "source": [
    "nom_actuel = './test/test1.txt'"
   ]
  },
  {
   "cell_type": "code",
   "execution_count": 57,
   "id": "victorian-closure",
   "metadata": {},
   "outputs": [],
   "source": [
    "nouveau_nom = './test/test1_nouveau.txt'"
   ]
  },
  {
   "cell_type": "code",
   "execution_count": 58,
   "id": "going-entry",
   "metadata": {},
   "outputs": [],
   "source": [
    "os.rename(nom_actuel, nouveau_nom)"
   ]
  },
  {
   "cell_type": "code",
   "execution_count": 59,
   "id": "authentic-study",
   "metadata": {},
   "outputs": [
    {
     "data": {
      "text/plain": [
       "['test2.txt', 'test1_nouveau.txt']"
      ]
     },
     "execution_count": 59,
     "metadata": {},
     "output_type": "execute_result"
    }
   ],
   "source": [
    "os.listdir('test')"
   ]
  },
  {
   "cell_type": "markdown",
   "id": "political-rough",
   "metadata": {},
   "source": [
    "Je peux aussi déplacer le fichier, voire le déplacer et le renommer en une seule opération. Déplaçons ce fichier vers son répertoire parent:"
   ]
  },
  {
   "cell_type": "code",
   "execution_count": 60,
   "id": "light-statistics",
   "metadata": {},
   "outputs": [],
   "source": [
    "nouvelle_place = './test1_nom2.txt'"
   ]
  },
  {
   "cell_type": "code",
   "execution_count": 61,
   "id": "empirical-louisiana",
   "metadata": {},
   "outputs": [],
   "source": [
    "os.rename(nouveau_nom, nouvelle_place)"
   ]
  },
  {
   "cell_type": "code",
   "execution_count": 62,
   "id": "behavioral-prague",
   "metadata": {},
   "outputs": [
    {
     "data": {
      "text/plain": [
       "['Prog Scripts 2022',\n",
       " '.DS_Store',\n",
       " 'test',\n",
       " 'test1_nom2.txt',\n",
       " 'INF1653_notebooks',\n",
       " 'Python scripts for cybersecurity.docx',\n",
       " 'notebooks',\n",
       " 'log files']"
      ]
     },
     "execution_count": 62,
     "metadata": {},
     "output_type": "execute_result"
    }
   ],
   "source": [
    "os.listdir('.')"
   ]
  },
  {
   "cell_type": "markdown",
   "id": "southwest-immune",
   "metadata": {},
   "source": [
    "On voit que le fichier a été déplacé depuis le sous-répertoire \"test\" vers le répertoire courant, et renommé en même temps."
   ]
  },
  {
   "cell_type": "markdown",
   "id": "defined-building",
   "metadata": {},
   "source": [
    "#### Copier un fichier\n",
    "\n",
    "Pour copier un fichier (commande _shell_ ```cp```), la méthode nécessaire se trouve dans une autre bibliothèque, al bibliothèque ```shutil```: on peut utiliser utiliser la méthode ```shutil.copy``` ou ```shutil.copy2```. La différence entre ces deux méthodes est que ```copy2``` copie non seulement le contenu du fichier mais aussi (si possible) les méta-données des fichiers telles que les permissions (droit d'accès en lecture / écriture / exécution) ou les dates d'accès et de modification. Le résultat (quelles métadonnées exactement sont copiées) dépend du système d'exploitation, et pour certaines applications, il peut être critique de s'assurer que le résultat est conforme aux exigences, notamment en termes de cybersécurité (contrôle d'accès aux données).\n",
    "\n",
    "Pour plus de détails, voir la documentation en ligne de la bibliothèque ```shutil```.\n",
    "\n",
    "L'utilisation de base de ces deux méthodes consiste à spécifier le fichier 'source' (par son chemin) et la destination. La destination peut être un chemin terminant par un répertoire (on copie alors le fichier vers ce répertoire, en gardant le même nom), ou bien un chemin complet avec un nom de fichier, éventuellement nouveau."
   ]
  },
  {
   "cell_type": "code",
   "execution_count": 64,
   "id": "downtown-literacy",
   "metadata": {},
   "outputs": [],
   "source": [
    "import shutil"
   ]
  },
  {
   "cell_type": "code",
   "execution_count": 65,
   "id": "round-capture",
   "metadata": {},
   "outputs": [
    {
     "data": {
      "text/plain": [
       "'test/test1_nom2.txt'"
      ]
     },
     "execution_count": 65,
     "metadata": {},
     "output_type": "execute_result"
    }
   ],
   "source": [
    "shutil.copy('test1_nom2.txt', 'test')"
   ]
  },
  {
   "cell_type": "markdown",
   "id": "promotional-appraisal",
   "metadata": {},
   "source": [
    "Le fichier a été copié dans le sous-répertoire 'test', et la méthode retourne le chemin complet du nouveau fichier.\n",
    "Rappelons que c'est une cope, c'est à dire que le fichier original est toujours présent dans le répertoire courant:"
   ]
  },
  {
   "cell_type": "code",
   "execution_count": 66,
   "id": "finite-diploma",
   "metadata": {},
   "outputs": [
    {
     "data": {
      "text/plain": [
       "['Prog Scripts 2022',\n",
       " '.DS_Store',\n",
       " 'test',\n",
       " 'test1_nom2.txt',\n",
       " 'INF1653_notebooks',\n",
       " 'Python scripts for cybersecurity.docx',\n",
       " 'notebooks',\n",
       " 'log files']"
      ]
     },
     "execution_count": 66,
     "metadata": {},
     "output_type": "execute_result"
    }
   ],
   "source": [
    "os.listdir('.')"
   ]
  },
  {
   "cell_type": "markdown",
   "id": "suited-consultation",
   "metadata": {},
   "source": [
    "#### Supprimer un fichier\n",
    "\n",
    "Pour supprimer un fichier (commande shell ```rm```(_remove_)), la méthode Python est ```os.remove```:"
   ]
  },
  {
   "cell_type": "code",
   "execution_count": 67,
   "id": "present-yesterday",
   "metadata": {},
   "outputs": [],
   "source": [
    "os.remove('./test1_nom2.txt')"
   ]
  },
  {
   "cell_type": "markdown",
   "id": "cleared-intention",
   "metadata": {},
   "source": [
    "Le fichier a bien disparu:"
   ]
  },
  {
   "cell_type": "code",
   "execution_count": 68,
   "id": "romance-program",
   "metadata": {},
   "outputs": [
    {
     "data": {
      "text/plain": [
       "['Prog Scripts 2022',\n",
       " '.DS_Store',\n",
       " 'test',\n",
       " 'INF1653_notebooks',\n",
       " 'Python scripts for cybersecurity.docx',\n",
       " 'notebooks',\n",
       " 'log files']"
      ]
     },
     "execution_count": 68,
     "metadata": {},
     "output_type": "execute_result"
    }
   ],
   "source": [
    "os.listdir('.')"
   ]
  },
  {
   "cell_type": "markdown",
   "id": "incident-memorial",
   "metadata": {},
   "source": [
    "## Résumé et remarques additionnelles\n",
    "\n",
    "### Liste des principales méthodes pertinentes\n",
    "On a passé en revue ici les principales méthodes utiles pour explorer l'aborescence de fichiers, et manipuler ces fichiers. Ces méthodes sont principalement dans la bibliothèque ```os```, à l'exception notable des méthodes pour copier des fichiers, qui se trouvent dans la bibliothèque ```shutil```:\n",
    "* ```os.getcwd``` : obtenir le répertoire de travail courant\n",
    "* ```os.chdir``` : changer le répertoire de travail\n",
    "* ```os.listdir```: lister le contenu (fichiers et sous-répertoires) du répertoire courant\n",
    "* ```os.mkdir```: créer un répertoire\n",
    "* ```os.path.isfile```: pour vérifier si un chemin se réfère à un fichier existant (i.e. l'objet existe et il s'agit bien d'un fichier, et non pas d'un répertoire)\n",
    "* ```os.path.isdir```: même chose pour les répertoires: vérifie que le chemin donné se réfère bien à un répertoire existant\n",
    "* ```os.rename```: renommer ou déplacer un fichier\n",
    "* ```os.remove```: supprimer un fichier\n",
    "* ```shutil.copy``` : copier un fichier\n",
    "* ```shutil.copy2```: copier un fichier avec ses métadonnées (voir documentation pour les limitations)\n",
    "\n",
    "### Utilisation directe de la ligne de commande\n",
    "\n",
    "Les méthodes listées ici ont un équivalent dans les différents langages de _shell_ comme Bash et ses variantes, Powershell, ou encore l'ancienne ligne de commande Windows (\"cmd\").\n",
    "\n",
    "Python permet aussi d'exécuter directement les commandes système:"
   ]
  },
  {
   "cell_type": "code",
   "execution_count": 75,
   "id": "comparative-provision",
   "metadata": {},
   "outputs": [
    {
     "data": {
      "text/plain": [
       "0"
      ]
     },
     "execution_count": 75,
     "metadata": {},
     "output_type": "execute_result"
    }
   ],
   "source": [
    "os.system('mv test/test2.txt test/test55.txt')"
   ]
  },
  {
   "cell_type": "markdown",
   "id": "grave-framing",
   "metadata": {},
   "source": [
    "La méthode ```os.system``` exécute la commande et retourne le status, mais ne permet pas de voir ou d'obtenir les informations qui sont habituellement affichées quand on exécute une commande. On peut cependant vérifier que la commande a bien été prise en compte:"
   ]
  },
  {
   "cell_type": "code",
   "execution_count": 76,
   "id": "hairy-payday",
   "metadata": {},
   "outputs": [
    {
     "data": {
      "text/plain": [
       "['test1_nom2.txt', 'test55.txt']"
      ]
     },
     "execution_count": 76,
     "metadata": {},
     "output_type": "execute_result"
    }
   ],
   "source": [
    "os.listdir('test')"
   ]
  },
  {
   "cell_type": "markdown",
   "id": "numeric-commitment",
   "metadata": {},
   "source": [
    "Il existe aussi une bibliothèque appelée ```subprocess```, qui permet de lancer des commande externes (notamment d'exécuter d'autres programmes) sous forme de processus concurrents (i.e. qui s'exécutent en parallèle du processus Python), et d'accéder aux sorties de ces programmes. Les détails de cette bibliothèque dépassent le sujet du présent cours, mais il faut savoir que cette possibilité existe."
   ]
  },
  {
   "cell_type": "markdown",
   "id": "macro-studio",
   "metadata": {},
   "source": [
    "### Dépendance avec le système d'exploitation\n",
    "\n",
    "Selon les systèmes d'exploitation, les chemins dans l'arborescence de fichiers sont écrits avec des barres \"slash\" (```/```) ou \"backslash\" (```\\```) comme séparateurs. On peut écrire du code portable entre systèmes d'exploitation en évitant d'expliciter le séparateur dans les chemins: on utilise ```os.sep``` pour désigner le caractère séparateur, et on peut utilise ```os.path.join``` pour composer directement un chemin à partir d'un séquence de noms de répertoires.\n",
    "\n",
    "D'autre part, plusieurs autres détails techniques vont varier selon le système d'exploitation: la gestion des permissions et d'autres métadonnées, la gestion des liens symboliques, etc. Il n'est pas pertinent d'entrer dans ces détails ici, mais il faut avoir conscience de ces différences lorsqu'on écrit du code pour différents systèmes d'exploitation, notamment dans le cas où l'environnement de développement diffère de l'environnement de production où sera utilisé le code après livraison.\n",
    "\n",
    "Enfin, il est évident que l'interaction avec le système, via ```os.system``` ou ```subprocess``` sera elle-aussi très dépendante du système d'exploitation.\n",
    "\n",
    "\n",
    "### Utilisation dans des programmes Python\n",
    "\n",
    "Nous avons présenté ici une \"boîte à outils\" de méthodes utiles pour manipuler le système de fichiers; il faut bien se rendre compte qu'il n'y a ici aucune nouvelle _technique_, au sens abstrait d'une méthode de résolution de problème.\n",
    "\n",
    "Il faudra ensuite apprendre à intégrer ces outils dans des programmes Python structurés comme on l'a vu jusqu'à maintenant, avec des fonctions, des structures de contrôle de flux, etc. Des activités de programmation sont proposées séparément pour pratiquer ceci.\n",
    "\n",
    "Les bibliothèques mentionnées ici sont documentées de manière exhaustive dans la documentation en ligne Python. Le but de ce cours est de donner un point de départ et une référence utile pour quelques fonctionnalités de base, mais ne couvre pas toutes les applications possibles. Il est donc iportant de savoir s'y retrouver dans cette documentation en ligne. Un moteur de recherche (comme Google) vous pointera habituellement rapidement au bon endroit, et vous permettra de découvrir des exemples sur des sites comme _Stack overflow_. Même les programmeurs les plus expérimentés se réfèrent très fréquemment à ces ressources en ligne."
   ]
  }
 ],
 "metadata": {
  "kernelspec": {
   "display_name": "Python 3",
   "language": "python",
   "name": "python3"
  },
  "language_info": {
   "codemirror_mode": {
    "name": "ipython",
    "version": 3
   },
   "file_extension": ".py",
   "mimetype": "text/x-python",
   "name": "python",
   "nbconvert_exporter": "python",
   "pygments_lexer": "ipython3",
   "version": "3.9.1"
  }
 },
 "nbformat": 4,
 "nbformat_minor": 5
}
