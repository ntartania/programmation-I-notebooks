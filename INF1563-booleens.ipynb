{
 "cells": [
  {
   "cell_type": "markdown",
   "metadata": {},
   "source": [
    "# Instructions Conditionnelles: suite (3/3)\n",
    "\n",
    "## Expressions booléennes\n",
    "\n",
    "Dans les exemples précédents nous avons utilisé des conditions toujours très simples, portant sur une seule variable. En programmation il est souvent nécessaire de manipuler des conditions plus complexes, qui peuvent se calculer à l'aide d'expressions similaires aux expressions arithmétiques vues au tout début du cours.\n",
    "\n",
    "Pour ceci on utilise des variables et des expressions de type booléennes, c'est à dire qui peuvent prendre seulement deux valeurs: True (vrai) ou False (faux). \n",
    "\n",
    "On a déjà vu des expressions booléennes, créées à partir de valeurs (ou variables) numériques, comme par exemple les suivantes:"
   ]
  },
  {
   "cell_type": "code",
   "execution_count": 1,
   "metadata": {},
   "outputs": [
    {
     "data": {
      "text/plain": [
       "True"
      ]
     },
     "execution_count": 1,
     "metadata": {},
     "output_type": "execute_result"
    }
   ],
   "source": [
    "5 > 3"
   ]
  },
  {
   "cell_type": "code",
   "execution_count": 7,
   "metadata": {},
   "outputs": [],
   "source": [
    "# donnons une valeur à la variable x\n",
    "x = 8"
   ]
  },
  {
   "cell_type": "code",
   "execution_count": 8,
   "metadata": {},
   "outputs": [
    {
     "data": {
      "text/plain": [
       "False"
      ]
     },
     "execution_count": 8,
     "metadata": {},
     "output_type": "execute_result"
    }
   ],
   "source": [
    "x < 0"
   ]
  },
  {
   "cell_type": "code",
   "execution_count": 9,
   "metadata": {},
   "outputs": [
    {
     "data": {
      "text/plain": [
       "False"
      ]
     },
     "execution_count": 9,
     "metadata": {},
     "output_type": "execute_result"
    }
   ],
   "source": [
    "x == 2"
   ]
  },
  {
   "cell_type": "markdown",
   "metadata": {},
   "source": [
    "Pour les trois expressions précédentes, le seul opérateur utilisé est un opérateur de *comparaison*, qui nous permet d'obtenir des informations vraies ou fausses. Comme on le voit dans les sorties, les seules valeurs correspondant au type booléen sont ```True``` et ```False```.\n",
    "\n",
    "On peut écrire des expressions plus complexes en utilisant les opérateurs arithmétiques aussi; les opérateurs de comparaison ont alors la précédence \"minimale\" : les comparaisons sont effectuées en dernier, et leur résultat est booléen: "
   ]
  },
  {
   "cell_type": "code",
   "execution_count": 10,
   "metadata": {},
   "outputs": [
    {
     "data": {
      "text/plain": [
       "True"
      ]
     },
     "execution_count": 10,
     "metadata": {},
     "output_type": "execute_result"
    }
   ],
   "source": [
    "(x + 1) == (x/2 - 1)* 3"
   ]
  },
  {
   "cell_type": "markdown",
   "metadata": {},
   "source": [
    "En Python les opérateurs de comparaison sont: \n",
    "* Inégalités strictes ```>``` et ```<```, \n",
    "* Inégalités larges ```>=``` et ```<=```, \n",
    "* Égalité ```==``` (remarquer la différence avec l'opéerateur d'affectation ```=```)\n",
    "* Différence ```!=``` (signifie: non-égal)\n",
    "\n",
    "Les inégalités sont applicables aux nombres, et aux chaines de caractères: pour les chaines de caractères les inégalités indiquent l'ordre lexicographique (alphabétique). On ne peut pas, en revanche, comparer un nombre et une chaine de caractères:"
   ]
  },
  {
   "cell_type": "code",
   "execution_count": 12,
   "metadata": {},
   "outputs": [
    {
     "data": {
      "text/plain": [
       "True"
      ]
     },
     "execution_count": 12,
     "metadata": {},
     "output_type": "execute_result"
    }
   ],
   "source": [
    "\"hamster\" < \"rhinoceros\""
   ]
  },
  {
   "cell_type": "markdown",
   "metadata": {},
   "source": [
    "les opérateurs \"égal\" et \"différent\" s'appliquent à tous les types:"
   ]
  },
  {
   "cell_type": "code",
   "execution_count": 13,
   "metadata": {},
   "outputs": [
    {
     "data": {
      "text/plain": [
       "False"
      ]
     },
     "execution_count": 13,
     "metadata": {},
     "output_type": "execute_result"
    }
   ],
   "source": [
    "'f' == 'b'"
   ]
  },
  {
   "cell_type": "code",
   "execution_count": 14,
   "metadata": {},
   "outputs": [
    {
     "data": {
      "text/plain": [
       "True"
      ]
     },
     "execution_count": 14,
     "metadata": {},
     "output_type": "execute_result"
    }
   ],
   "source": [
    "\"chameau\" != \"dromadaire\""
   ]
  },
  {
   "cell_type": "markdown",
   "metadata": {},
   "source": [
    "## Variables booléennes\n",
    "\n",
    "De même que pour les autres types, on peut enregistrer une information de type booléen dans une variable. "
   ]
  },
  {
   "cell_type": "code",
   "execution_count": 15,
   "metadata": {},
   "outputs": [],
   "source": [
    "x = 3\n",
    "positif = (x>=0) #si x est supérieur à 3, alors positif sera vrai"
   ]
  },
  {
   "cell_type": "markdown",
   "metadata": {},
   "source": [
    "Ici on a mis des parenthèses pour une meilleure lisibilité, et l'affectation a enregistré le résultat de la comparaison dans le variable booléenne ```positif```.\n",
    "\n",
    "On peut ensuite lire cette valeur:"
   ]
  },
  {
   "cell_type": "code",
   "execution_count": 16,
   "metadata": {},
   "outputs": [
    {
     "data": {
      "text/plain": [
       "True"
      ]
     },
     "execution_count": 16,
     "metadata": {},
     "output_type": "execute_result"
    }
   ],
   "source": [
    "positif"
   ]
  },
  {
   "cell_type": "markdown",
   "metadata": {},
   "source": [
    "... et l'utiliser dans un ```if```:"
   ]
  },
  {
   "cell_type": "code",
   "execution_count": 17,
   "metadata": {},
   "outputs": [
    {
     "name": "stdout",
     "output_type": "stream",
     "text": [
      "x est positif!\n"
     ]
    }
   ],
   "source": [
    "if positif:   #si x est positif...\n",
    "    print(\"x est positif!\")\n",
    "else:\n",
    "    print(\"x est négatif!\")"
   ]
  },
  {
   "cell_type": "markdown",
   "metadata": {},
   "source": [
    "**Attention**: ici on a enregistré le *résultat* de la comparaison dans la variable ```positif```,  et non pas la comparaison elle-même. Ça veut dire que si on change maintenant la valeur de ```x``` et que la nouvelle valeur est négative, la variable ```positif``` n'est pas recalculée: "
   ]
  },
  {
   "cell_type": "code",
   "execution_count": 18,
   "metadata": {},
   "outputs": [],
   "source": [
    "x = -5"
   ]
  },
  {
   "cell_type": "code",
   "execution_count": 19,
   "metadata": {},
   "outputs": [
    {
     "data": {
      "text/plain": [
       "True"
      ]
     },
     "execution_count": 19,
     "metadata": {},
     "output_type": "execute_result"
    }
   ],
   "source": [
    "positif"
   ]
  },
  {
   "cell_type": "markdown",
   "metadata": {},
   "source": [
    "À noter que ce fonctionnement est exactement le même que pour les variables et expressions numériques. \n",
    "\n",
    "### Constantes booléennes\n",
    "\n",
    "Comme on l'a indiqué plus haut et vu dans les exemples, les seules valeurs possibles pour des valeurs ou expressions booléennes sont ```True``` et ```False```.\n",
    "\n",
    "Comme pour des nombres, on peut utiliser ces valeurs dans le code:"
   ]
  },
  {
   "cell_type": "code",
   "execution_count": 20,
   "metadata": {},
   "outputs": [],
   "source": [
    "repetition = False"
   ]
  },
  {
   "cell_type": "markdown",
   "metadata": {},
   "source": [
    "On voit aussi souvent les valeurs ```True``` et ```False``` apparaitre dans les conditions:"
   ]
  },
  {
   "cell_type": "code",
   "execution_count": 22,
   "metadata": {},
   "outputs": [
    {
     "name": "stdout",
     "output_type": "stream",
     "text": [
      "Bonjour!\n"
     ]
    }
   ],
   "source": [
    "print(\"Bonjour!\")\n",
    "\n",
    "if (repetition==True):\n",
    "    print(\"Encore Bonjour!\")\n"
   ]
  },
  {
   "cell_type": "markdown",
   "metadata": {},
   "source": [
    "Mais ce code est parfaitement équivalent à:"
   ]
  },
  {
   "cell_type": "code",
   "execution_count": 23,
   "metadata": {},
   "outputs": [
    {
     "name": "stdout",
     "output_type": "stream",
     "text": [
      "Bonjour!\n"
     ]
    }
   ],
   "source": [
    "print(\"Bonjour!\")\n",
    "\n",
    "if (repetition):\n",
    "    print(\"Encore Bonjour!\")\n"
   ]
  },
  {
   "cell_type": "markdown",
   "metadata": {},
   "source": [
    "Il faut bien comprendre que la comparaison ```repetition==True``` est exécutée et produit comme résultat ```True``` ou ```False```, et le résultat est ```True``` si la variable ```repetition``` elle-même est ```True```... on peut donc remplacer ```repetition==True``` par ```repetition```, le résultat est parfaitement identique.\n",
    "\n",
    "On peut s'en convaincre:"
   ]
  },
  {
   "cell_type": "code",
   "execution_count": 24,
   "metadata": {},
   "outputs": [
    {
     "data": {
      "text/plain": [
       "False"
      ]
     },
     "execution_count": 24,
     "metadata": {},
     "output_type": "execute_result"
    }
   ],
   "source": [
    "repetition"
   ]
  },
  {
   "cell_type": "code",
   "execution_count": 26,
   "metadata": {},
   "outputs": [
    {
     "data": {
      "text/plain": [
       "False"
      ]
     },
     "execution_count": 26,
     "metadata": {},
     "output_type": "execute_result"
    }
   ],
   "source": [
    "repetition==True"
   ]
  },
  {
   "cell_type": "markdown",
   "metadata": {},
   "source": [
    "## Opérateurs booléens\n",
    "\n",
    "Jusqu'ici on a vu comment obtenir des valeurs booléennes en comparant des valeurs numériques (ou textuelles) à l'aide des opérateurs ```>```, ```<=```, etc.\n",
    "\n",
    "On va maintenant voir comment combiner des valeurs booléennes à l'aide des principaux opérateurs booléens: *ET*, *OU* et *NON*, qui s'écrivent en Python avec les termes anglais ```and```, ```or``` et ```not``` respectivement. Dans la suite, on utilisera les termes anglais directement.\n",
    "\n",
    "### AND\n",
    "\n",
    "L'opérateur ```and```, autrement dit la *conjonction*, permet de combiner deux conditions: **(A and B)** est vrai si et seulement si (**A** est vrai) *et* (**B** est vrai):"
   ]
  },
  {
   "cell_type": "code",
   "execution_count": 27,
   "metadata": {},
   "outputs": [],
   "source": [
    "x = 5\n",
    "y = 10"
   ]
  },
  {
   "cell_type": "code",
   "execution_count": 28,
   "metadata": {},
   "outputs": [
    {
     "data": {
      "text/plain": [
       "True"
      ]
     },
     "execution_count": 28,
     "metadata": {},
     "output_type": "execute_result"
    }
   ],
   "source": [
    "(x > 0) and (y > 0)"
   ]
  },
  {
   "cell_type": "markdown",
   "metadata": {},
   "source": [
    "Les deux conditions sont vraies, alors leur conjonction est vraie."
   ]
  },
  {
   "cell_type": "code",
   "execution_count": 29,
   "metadata": {},
   "outputs": [
    {
     "data": {
      "text/plain": [
       "False"
      ]
     },
     "execution_count": 29,
     "metadata": {},
     "output_type": "execute_result"
    }
   ],
   "source": [
    "(x > y) and (y == 10)"
   ]
  },
  {
   "cell_type": "markdown",
   "metadata": {},
   "source": [
    "Cette fois la première des deux conditions était fausse: on ne peut donc pas dire que la première **et** la deuxième sont vraies.\n",
    "\n",
    "Attention: une erreur fréquente pour les débutants est de combiner deux variables avec ```and``` pour dire que les deux ont une certaine propriété, par exemple, \"les variables **w** et **z** sont égales à dix\":"
   ]
  },
  {
   "cell_type": "code",
   "execution_count": 38,
   "metadata": {},
   "outputs": [
    {
     "data": {
      "text/plain": [
       "True"
      ]
     },
     "execution_count": 38,
     "metadata": {},
     "output_type": "execute_result"
    }
   ],
   "source": [
    "w=10\n",
    "z=8\n",
    "z and w==10"
   ]
  },
  {
   "cell_type": "markdown",
   "metadata": {},
   "source": [
    "Le résultat n'est sans doute pas celui attendu: ici Python n'a pas interprété le code comme \"**w** et **z** valent 10 toutes les deux\" mais plutôt comme une combinaison logique par ```and``` de ```z``` (premier opérande) et l'expression ```(w==10)``` (deuxième opérande). EN fait on essaye de faire une opération logique avec un nombre à gauche et un booléen à droite. Pour des raisons qu'on n'ira pas explorer ici, en Python tout nombre autre que zéro utilisé de cette manière est considéré comme \"True\" (ou *truthy* pour ne pas mélanger tout à fait les types), et le zéro est considéré *falsy*.\n",
    "\n",
    "La conclusion est que si on veut dire que deux nombres ont une certaine propriété il faut expliciter les deux propriétés et les combiner logiquement:"
   ]
  },
  {
   "cell_type": "code",
   "execution_count": 39,
   "metadata": {},
   "outputs": [
    {
     "data": {
      "text/plain": [
       "False"
      ]
     },
     "execution_count": 39,
     "metadata": {},
     "output_type": "execute_result"
    }
   ],
   "source": [
    "z==10 and w==10"
   ]
  },
  {
   "cell_type": "markdown",
   "metadata": {},
   "source": [
    "Cette fois le résultat est bien conforme à la logique."
   ]
  },
  {
   "cell_type": "markdown",
   "metadata": {},
   "source": [
    "### OR\n",
    "\n",
    "L'opérateur ```or```, quón appelle aussi la *disjonction*, se comprend de manière similaire: **(A or B)** est vrai si et seulement si (**A** est vrai) *ou* (**B** est vrai). Dans le cas où les deux sont vrais, **A or B** est vrai aussi."
   ]
  },
  {
   "cell_type": "code",
   "execution_count": 31,
   "metadata": {},
   "outputs": [
    {
     "data": {
      "text/plain": [
       "False"
      ]
     },
     "execution_count": 31,
     "metadata": {},
     "output_type": "execute_result"
    }
   ],
   "source": [
    "(x ==0) or (y==0)"
   ]
  },
  {
   "cell_type": "markdown",
   "metadata": {},
   "source": [
    "(Aucune des deux conditions n'est vraie)"
   ]
  },
  {
   "cell_type": "code",
   "execution_count": 32,
   "metadata": {},
   "outputs": [
    {
     "data": {
      "text/plain": [
       "True"
      ]
     },
     "execution_count": 32,
     "metadata": {},
     "output_type": "execute_result"
    }
   ],
   "source": [
    "(x==0) or (y==10)"
   ]
  },
  {
   "cell_type": "markdown",
   "metadata": {},
   "source": [
    "(Cette fois la deuxième est vraie, ce qui suffit pour que la disjonction soit vraie)"
   ]
  },
  {
   "cell_type": "code",
   "execution_count": 33,
   "metadata": {},
   "outputs": [
    {
     "data": {
      "text/plain": [
       "True"
      ]
     },
     "execution_count": 33,
     "metadata": {},
     "output_type": "execute_result"
    }
   ],
   "source": [
    "(x>0) or (y>0)"
   ]
  },
  {
   "cell_type": "markdown",
   "metadata": {},
   "source": [
    "Les deux sont vraies, et donc la conjonction est vraie aussi."
   ]
  },
  {
   "cell_type": "markdown",
   "metadata": {},
   "source": [
    "### NOT\n",
    "L'opérateur ```not```, la *négation*, est iun opérateur **unaire**, c'est à dire qu'il s'applique à un seul opérande, et renvoie son \"inverse\" logique: si **A** est vrai, alors **not A** est faux, et inversement, si **A est vrai**, alors **not A** est faux:"
   ]
  },
  {
   "cell_type": "code",
   "execution_count": 41,
   "metadata": {},
   "outputs": [
    {
     "data": {
      "text/plain": [
       "True"
      ]
     },
     "execution_count": 41,
     "metadata": {},
     "output_type": "execute_result"
    }
   ],
   "source": [
    "(x>0)"
   ]
  },
  {
   "cell_type": "code",
   "execution_count": 42,
   "metadata": {},
   "outputs": [
    {
     "data": {
      "text/plain": [
       "False"
      ]
     },
     "execution_count": 42,
     "metadata": {},
     "output_type": "execute_result"
    }
   ],
   "source": [
    "not (x>0)"
   ]
  },
  {
   "cell_type": "code",
   "execution_count": 43,
   "metadata": {},
   "outputs": [
    {
     "data": {
      "text/plain": [
       "False"
      ]
     },
     "execution_count": 43,
     "metadata": {},
     "output_type": "execute_result"
    }
   ],
   "source": [
    "(y==0)"
   ]
  },
  {
   "cell_type": "code",
   "execution_count": 44,
   "metadata": {},
   "outputs": [
    {
     "data": {
      "text/plain": [
       "True"
      ]
     },
     "execution_count": 44,
     "metadata": {},
     "output_type": "execute_result"
    }
   ],
   "source": [
    "not (y==0)"
   ]
  },
  {
   "cell_type": "markdown",
   "metadata": {},
   "source": [
    "D'ailleurs, une fois armés de la négation, on peut aussi éviter d'écrire des conditions de la forme ```if(repetition == False)```: on peut simplement écrire: ```if not repetition```."
   ]
  },
  {
   "cell_type": "markdown",
   "metadata": {},
   "source": [
    "### Expressions booléennes *(maintenant avec des opérateurs booléens !!)* \n",
    "\n",
    "La présentation des opérateurs booléens ```and```, ```or``` et ```not``` suggère qu'ils sont assez faciles à comprendre. Mais leur utilisation peut poser des difficultés: c'est une compétence qui demande de la pratique.\n",
    "\n",
    "En premier lieu, il faut être capable de traduire une explication informelle en Français en contraintes logiques sur des variables.\n",
    "\n",
    "#### Exemple\n",
    "On veut écrire une expression booléenne pour exprimer que l'entier ```x``` *n'est pas dans l'intervalle \\[0-10\\]* (où 0 et 10 sont dans l'intervalle):"
   ]
  },
  {
   "cell_type": "code",
   "execution_count": 46,
   "metadata": {},
   "outputs": [
    {
     "name": "stdin",
     "output_type": "stream",
     "text": [
      "Entrer x: 43\n"
     ]
    },
    {
     "name": "stdout",
     "output_type": "stream",
     "text": [
      "x n'est pas dans l'intervalle\n"
     ]
    }
   ],
   "source": [
    "x = int(input(\"Entrer x:\"))  #lire un entier x au clavier\n",
    "\n",
    "if (x<0) or (x >10):\n",
    "    print(\"x n'est pas dans l'intervalle\")\n"
   ]
  },
  {
   "cell_type": "markdown",
   "metadata": {},
   "source": [
    "Pour dire que x n'est pas dans l'intervalle, on a exprimé que x était soit plus petit que la borne inférieure de l'intervalle (0) soit supérieur à la borne supérieure. Ceci se traduit par un **OU**: x est négatif **OU** plus grand que 10.\n",
    "\n",
    "On aurait pu exprimer la même condition en exprimant la condition que ```x``` *est dans l'intervalle*, puis prendre la négation de cette condition:"
   ]
  },
  {
   "cell_type": "code",
   "execution_count": 48,
   "metadata": {},
   "outputs": [
    {
     "name": "stdout",
     "output_type": "stream",
     "text": [
      "x n'est pas dans l'intervalle\n"
     ]
    }
   ],
   "source": [
    "if not (x>=0 and x<=10):\n",
    "    print(\"x n'est pas dans l'intervalle\")"
   ]
  },
  {
   "cell_type": "markdown",
   "metadata": {},
   "source": [
    "Remarques:\n",
    "* la valeur de ```x``` est la même que précédemment\n",
    "* comme 0 et 10 sont *dans* l'intervalle, pour écrire que ```x``` est en-dehors de l'intervalle on utilise des inégalités *strictes*, alors qu'en exprimant la condition que ```x``` est *dans* l'intervalle, il faut utiliser des inégalités *larges*. \n",
    "* Ceci est parfaitement équivalent à une expression où on écrit que ```x``` est dans l'intervalle, et on écrit que cette condition est fausse avec ```==False```:"
   ]
  },
  {
   "cell_type": "code",
   "execution_count": 50,
   "metadata": {},
   "outputs": [
    {
     "name": "stdout",
     "output_type": "stream",
     "text": [
      "x n'est pas dans l'intervalle\n"
     ]
    }
   ],
   "source": [
    "if  (x>=0 and x<=10) == False:\n",
    "    print(\"x n'est pas dans l'intervalle\")\n"
   ]
  },
  {
   "cell_type": "markdown",
   "metadata": {},
   "source": [
    "#### Exercice 6 \n",
    "\n",
    "Dans le programme suivant, on a deux variables entières ```x``` et ```y```. Modifier les instructions conditionnelles avec des expressions booléennes correspondant aux conditions suivantes:\n",
    "1. ```x``` vaut 3 ou 5.\n",
    "2. ```x``` est négatif, ou bien ```x``` est égal à ```y```, mais pas les deux.\n",
    "3. ```y``` ne vaut ni ```x```, ni ```-x```.\n",
    "3. ```x``` est le maximum des trois nombres ```0```, ```x```, ```y```.\n",
    "3. Le point de coordonnées ```(x, y)``` (en pixels) se trouve dans les limites d'une fenêtre graphique de taille 800 pixels (horizontalement) par 600 pixels (verticalement).\n",
    "4. Le point de coordonnées ```(x, y)``` (en pixels) se trouve dans un rectangle de 100 pixels par 100 pixels en haut et au milieu (centré horizontalement) de l'écran. L'origine (0, 0) des coordonnées est le coin supérieur gauche de l'écran, et ```x``` augmente vers la droite alors que ```y``` augmente vers le bas. On suppose toujours un écran de 800 x 600 pixels."
   ]
  },
  {
   "cell_type": "code",
   "execution_count": null,
   "metadata": {},
   "outputs": [],
   "source": [
    "x = int(input(\"Entrer un nombre entier x:\"))\n",
    "y = int(input(\"Entrer un nombre entier y:\"))\n",
    "\n",
    "if ( False ):   #remplacer False par la condition 1\n",
    "    print(\"La condition 1 est vraie.\")\n",
    "else:\n",
    "    print(\"La condition 1 est fausse.\")\n",
    "\n",
    "\n",
    "if ( False ):   #remplacer False par la condition 2\n",
    "    print(\"La condition 2 est vraie.\")\n",
    "else:\n",
    "    print(\"La condition 2 est fausse.\")\n",
    "\n",
    "if ( False ):   #remplacer False par la condition 3\n",
    "    print(\"La condition 3 est vraie.\")\n",
    "else:\n",
    "    print(\"La condition 3 est fausse.\")\n",
    "\n",
    "if ( False ):   #remplacer False par la condition 4\n",
    "    print(\"La condition 4 est vraie.\")\n",
    "else:\n",
    "    print(\"La condition 4 est fausse.\")\n",
    "\n",
    "if ( False ):   #remplacer False par la condition 5\n",
    "    print(\"La condition 5 est vraie.\")\n",
    "else:\n",
    "    print(\"La condition 5 est fausse.\")\n",
    "\n",
    "if ( False ):   #remplacer False par la condition 6\n",
    "    print(\"La condition 6 est vraie.\")\n",
    "else:\n",
    "    print(\"La condition 6 est fausse.\")\n"
   ]
  },
  {
   "cell_type": "markdown",
   "metadata": {},
   "source": [
    "La deuxième compétence essentielle est de pouvoir *interpréter* une condition booléenne. Ceci permet de se relire, et de trouver les erreurs quand il y en a... \n",
    "\n",
    "#### Exemple\n",
    "\n",
    "On considère le code suivant, qui définit trois variables ```condition1, condition2, condition3```:"
   ]
  },
  {
   "cell_type": "code",
   "execution_count": 51,
   "metadata": {},
   "outputs": [],
   "source": [
    "x = 12\n",
    "y = 9\n",
    "\n",
    "condition1 = (x>0 and y<10)\n",
    "\n",
    "condition2 = (x<y and y<10) or (x%2==0)\n",
    "\n",
    "condition3 = (condition2) and (not condition1)"
   ]
  },
  {
   "cell_type": "markdown",
   "metadata": {},
   "source": [
    "Quelle est la valeur (true / false) de chaque condition?\n",
    "\n",
    "Prenons-les une à une:\n",
    "* ```condition1```: les conditions (x >0) et (y<10) sont toutes deux vraies, donc la conjonction des deux est vraie. On vérifie:"
   ]
  },
  {
   "cell_type": "code",
   "execution_count": 52,
   "metadata": {},
   "outputs": [
    {
     "data": {
      "text/plain": [
       "True"
      ]
     },
     "execution_count": 52,
     "metadata": {},
     "output_type": "execute_result"
    }
   ],
   "source": [
    "condition1"
   ]
  },
  {
   "cell_type": "markdown",
   "metadata": {},
   "source": [
    "* ```condition2```: on commence par la partie gauche de l'expression, entre parenthèses: la première des deux est fausse, donc la conjonction est fausse. Ensuite, la partie droite: cette condition est vraie: x est pair. On a donc ```False``` **OR** ```True```: il suffit qu'une des deux soit vraie. "
   ]
  },
  {
   "cell_type": "code",
   "execution_count": 53,
   "metadata": {},
   "outputs": [
    {
     "data": {
      "text/plain": [
       "True"
      ]
     },
     "execution_count": 53,
     "metadata": {},
     "output_type": "execute_result"
    }
   ],
   "source": [
    "condition2"
   ]
  },
  {
   "cell_type": "markdown",
   "metadata": {},
   "source": [
    "* ```condition3```: cette fois condition3 est définie en fonction des deux précédentes. ```condition2``` est vraie, et comme ```condition1``` est vraie aussi, sa négation ```not condition1``` est fausse. On a donc ```True``` **AND** ```False```: comme l'une des deux est fausse, la conjonction est fausse aussi:"
   ]
  },
  {
   "cell_type": "code",
   "execution_count": 54,
   "metadata": {},
   "outputs": [
    {
     "data": {
      "text/plain": [
       "False"
      ]
     },
     "execution_count": 54,
     "metadata": {},
     "output_type": "execute_result"
    }
   ],
   "source": [
    "condition3"
   ]
  },
  {
   "cell_type": "markdown",
   "metadata": {},
   "source": [
    "#### Exercice 7\n",
    "\n",
    "Donner les valeurs de l'expression booléenne suivante, selon les valeurs de ```x``` et ```y``` données dans le tableau (la première ligne est donnée):\n",
    "\n",
    "Expression:\n",
    "```\n",
    "(x%10==0 or y%10==0) and (x + y > 100)\n",
    "```\n",
    "| ```x```     | ```y``` | Expression|\n",
    "| ----------- | ------- | ----      |\n",
    "|     100     | 100    |  ```True``` |\n",
    "|     41      | 100    |   |\n",
    "|     10      | 10     |   |\n",
    "|     66      | 72     |   |\n"
   ]
  }
 ],
 "metadata": {
  "kernelspec": {
   "display_name": "Python 3 (ipykernel)",
   "language": "python",
   "name": "python3"
  },
  "language_info": {
   "codemirror_mode": {
    "name": "ipython",
    "version": 3
   },
   "file_extension": ".py",
   "mimetype": "text/x-python",
   "name": "python",
   "nbconvert_exporter": "python",
   "pygments_lexer": "ipython3",
   "version": "3.12.2"
  }
 },
 "nbformat": 4,
 "nbformat_minor": 4
}
