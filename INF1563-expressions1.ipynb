{
 "cells": [
  {
   "cell_type": "markdown",
   "id": "oriented-mississippi",
   "metadata": {},
   "source": [
    "\n",
    "# Nombres et expressions numériques\n",
    "\n",
    "En programmation on manipule de l'information principalement numérique, et on doit donc écrire des calculs en utilisant les opérateurs arithmétiques offerts par le langage qu'on utilise.\n",
    "\n",
    "## Nombres entiers et décimaux\n",
    "Python, et les langages de programmation en général, permettent de manipuler des nombres entiers ou décimaux. Il y a en général une distinction entre ces deux types de données, parce qu'elles sont représentées différemment dans la mémoire de l'ordinateur. \n",
    "Le type Python correspondant aux entiers s'appelle ```int``` (comme _**int**eger_ en anglais), et le type des nombres décimaux s'appelle ```float``` (le format de représentation des décimaux en binaire s'appelle \"nombre à virgule flottante\", ou _floating point_ en anglais).\n",
    "\n",
    "En pratique, on n'a pas toujours besoin de raisonner sur les types quand on écrit du code. Dans certains langages de programmation, on doit le déclarer explicitement (\"la variable x contiendra seulement des nombres entiers\", par exemple), mais en Python ce n'est pas nécessaire. Pour l'instant, on va se contenter de noter que les décimaux s'écrivent avec un point comme séparateur décimal, et que les entiers et les décimaux peuvent être combinés sans problème dans les expressions arithmétiques. D'autre part, on peut noter qu'il n'y a pas de limitation à la taille des nombres entiers qu'on peut représenter, contrairement aux langages C ou Java, par exemple. Pour les décimaux, il y a des limites qu'on verra un peu plus loin: il est évident qu'on ne peut pas, par exemple, représenter la valeur exacte du nombre Pi, dont l'écriture décimale est infinie. \n",
    "\n",
    "On reviendra plus loin sur la notion de type.\n"
   ]
  },
  {
   "cell_type": "markdown",
   "id": "nervous-intensity",
   "metadata": {},
   "source": [
    "## Opérateurs arithmétiques et relationnels\n",
    "En Python, comme dans la plupart des langages, on peut écrire des expressions directement avec des nombres et les opérateurs arithmétiques de base: ces quatres opérateurs de base (addition, soustraction, multiplication et division) s'écrivent ```+```, ```-```, ```*```, ```/```. À ces quatre opérations usuelles on ajoutera la division entière, qu'on écrit ```//```, le modulo, écrit ```%```, et l'exposant, noté ```**```. Les expressions arithmétiques peuvent combiner des entiers et des décimaux (le résultat sera alors un décimal). \n",
    "\n",
    "On peut aussi utliser les opérateurs dits relationnels, pour comparer des nombres: ```==``` (égalité), ```!=``` (différence) ```<```, ```>``` (inégalités), ```>=```, ```<=``` (inégalités larges $\\geq$ et $\\leq$).\n",
    "\n",
    "### Opérations de base\n",
    "Les opérations ```+```, ```-```, ```*``` et ```/``` ont la sémantique habituelle qu'on connait en mathématiques:"
   ]
  },
  {
   "cell_type": "code",
   "execution_count": 1,
   "id": "threaded-tyler",
   "metadata": {},
   "outputs": [
    {
     "data": {
      "text/plain": [
       "5"
      ]
     },
     "execution_count": 1,
     "metadata": {},
     "output_type": "execute_result"
    }
   ],
   "source": [
    "3 + 2"
   ]
  },
  {
   "cell_type": "code",
   "execution_count": 2,
   "id": "taken-direction",
   "metadata": {},
   "outputs": [
    {
     "data": {
      "text/plain": [
       "4.5"
      ]
     },
     "execution_count": 2,
     "metadata": {},
     "output_type": "execute_result"
    }
   ],
   "source": [
    "6 - 1.5"
   ]
  },
  {
   "cell_type": "code",
   "execution_count": 3,
   "id": "reserved-elizabeth",
   "metadata": {},
   "outputs": [
    {
     "data": {
      "text/plain": [
       "1.5"
      ]
     },
     "execution_count": 3,
     "metadata": {},
     "output_type": "execute_result"
    }
   ],
   "source": [
    "0.1 * 15"
   ]
  },
  {
   "cell_type": "code",
   "execution_count": 1,
   "id": "useful-sterling",
   "metadata": {},
   "outputs": [
    {
     "data": {
      "text/plain": [
       "0.75"
      ]
     },
     "execution_count": 1,
     "metadata": {},
     "output_type": "execute_result"
    }
   ],
   "source": [
    "3/4"
   ]
  },
  {
   "cell_type": "markdown",
   "id": "understanding-rally",
   "metadata": {},
   "source": [
    "L'opérateur ``**`` (exponentiation) s'utilise comme ceci:"
   ]
  },
  {
   "cell_type": "code",
   "execution_count": 40,
   "id": "engaging-receipt",
   "metadata": {},
   "outputs": [
    {
     "data": {
      "text/plain": [
       "16"
      ]
     },
     "execution_count": 40,
     "metadata": {},
     "output_type": "execute_result"
    }
   ],
   "source": [
    "4**2"
   ]
  },
  {
   "cell_type": "markdown",
   "id": "durable-services",
   "metadata": {},
   "source": [
    "L'opération de division entière (```//```) et le modulo (```%```) ont des subtilités qu'il vaut la peine d'explorer en plus de détail.\n",
    "\n",
    "### Division entière\n",
    "\n",
    "Ce qu'on appelle division entière est en fait la division Euclidienne, où on divise deux entiers pour obtenir le *quotient* et le *reste*: par exemple, en divisant 14 par 3, on obtient un quotient de 4 et un reste de 2, parce que $14=3\\times4 +2$.\n",
    "\n",
    "L'opérateur ```//``` donne le quotient, et l'opérateur ```%``` (appelé modulo) donne le reste:"
   ]
  },
  {
   "cell_type": "code",
   "execution_count": 7,
   "id": "steady-farmer",
   "metadata": {},
   "outputs": [
    {
     "data": {
      "text/plain": [
       "4"
      ]
     },
     "execution_count": 7,
     "metadata": {},
     "output_type": "execute_result"
    }
   ],
   "source": [
    "14//3"
   ]
  },
  {
   "cell_type": "code",
   "execution_count": 9,
   "id": "bearing-outdoors",
   "metadata": {},
   "outputs": [
    {
     "data": {
      "text/plain": [
       "2"
      ]
     },
     "execution_count": 9,
     "metadata": {},
     "output_type": "execute_result"
    }
   ],
   "source": [
    "14%3"
   ]
  },
  {
   "cell_type": "markdown",
   "id": "smoking-poison",
   "metadata": {},
   "source": [
    "Même si ces opérateurs sont définis à partir de la division Euclidienne, qui est fondamentalement définie sur les entiers naturels, on peut utiliser les opérateurs ```//``` et ```%``` sur des nombres négatifs, et sur des décimaux.\n",
    "\n",
    "Pour les nombres négatifs, le résultat peut être surprenant: ```a//b``` donne la partie entière de ```a/b```, c'est à dire le plus grand entier inférieur ou égal à ```a/b```. Si ```a/b``` est négatif, alors en valeur absolue sa partie entière est plus grande (par exemple, la partie entière de -1.5 est -2). Le _reste_ change en conséquence, pour respecter l'égalité $a = bq+r$:"
   ]
  },
  {
   "cell_type": "code",
   "execution_count": 8,
   "id": "unusual-teach",
   "metadata": {},
   "outputs": [
    {
     "data": {
      "text/plain": [
       "-5"
      ]
     },
     "execution_count": 8,
     "metadata": {},
     "output_type": "execute_result"
    }
   ],
   "source": [
    "14//-3"
   ]
  },
  {
   "cell_type": "code",
   "execution_count": 10,
   "id": "protected-calibration",
   "metadata": {},
   "outputs": [
    {
     "data": {
      "text/plain": [
       "-1"
      ]
     },
     "execution_count": 10,
     "metadata": {},
     "output_type": "execute_result"
    }
   ],
   "source": [
    "14%-3"
   ]
  },
  {
   "cell_type": "markdown",
   "id": "current-sixth",
   "metadata": {},
   "source": [
    "On peut vérifier l'égalité $a=bq+r$:"
   ]
  },
  {
   "cell_type": "code",
   "execution_count": 13,
   "id": "composed-giving",
   "metadata": {},
   "outputs": [
    {
     "data": {
      "text/plain": [
       "14"
      ]
     },
     "execution_count": 13,
     "metadata": {},
     "output_type": "execute_result"
    }
   ],
   "source": [
    "-3*(14//-3) + (14%-3)"
   ]
  },
  {
   "cell_type": "markdown",
   "id": "august-purpose",
   "metadata": {},
   "source": [
    "Pour des opérandes décimaux, le résultat de la division entière est la partie entière du quotient, et le reste respecte l'égalité $a=bq+r$:"
   ]
  },
  {
   "cell_type": "code",
   "execution_count": 16,
   "id": "brief-highlight",
   "metadata": {},
   "outputs": [
    {
     "data": {
      "text/plain": [
       "4.0"
      ]
     },
     "execution_count": 16,
     "metadata": {},
     "output_type": "execute_result"
    }
   ],
   "source": [
    "14.24//3"
   ]
  },
  {
   "cell_type": "code",
   "execution_count": 17,
   "id": "noticed-resolution",
   "metadata": {},
   "outputs": [
    {
     "data": {
      "text/plain": [
       "2.24"
      ]
     },
     "execution_count": 17,
     "metadata": {},
     "output_type": "execute_result"
    }
   ],
   "source": [
    "14.24%3"
   ]
  },
  {
   "cell_type": "markdown",
   "id": "promotional-action",
   "metadata": {},
   "source": [
    "### Utilisations du modulo\n",
    "\n",
    "Le modulo est une opération mathématique qu'on utilise assez peu dans la vie courante, et il est utile de voir ici ses principales utilisations. Bien que l'opérateur soit défini pour les nombres négatifs et décimaux, (ainsi que la division entière), on l'utilise presque toujours avec des entiers naturels. \n",
    "\n",
    "La première utilisation du modulo est dans le contexte de divisions Euclidiennes, où on a besoin du quotient et du reste. Ceci sert en particulier à convertir une valeur en base 10 vers une autre base, comme le binaire ou l'hexadécimal \\[base 16\\], ou encore la base 60 (pour l'heure) ou la base 12 (pour certaines unités impériales).\n",
    "\n",
    "#### Exemple \n",
    "Pour le temps (heures, minutes, secondes) on utilise la base 60, ce qui rend les calculs de durée, vitesse, etc, assez complexes. Pour utiliser ces unités correctement, il sera utile d'utiliser la division entière et le modulo. \n",
    "\n",
    "Par exemple, convertissons 7653 secondes en heures / minutes / secondes:"
   ]
  },
  {
   "cell_type": "code",
   "execution_count": 26,
   "id": "italian-drive",
   "metadata": {},
   "outputs": [
    {
     "data": {
      "text/plain": [
       "127"
      ]
     },
     "execution_count": 26,
     "metadata": {},
     "output_type": "execute_result"
    }
   ],
   "source": [
    "7653//60"
   ]
  },
  {
   "cell_type": "code",
   "execution_count": 27,
   "id": "chubby-transcription",
   "metadata": {},
   "outputs": [
    {
     "data": {
      "text/plain": [
       "33"
      ]
     },
     "execution_count": 27,
     "metadata": {},
     "output_type": "execute_result"
    }
   ],
   "source": [
    "7653%60"
   ]
  },
  {
   "cell_type": "markdown",
   "id": "pregnant-overhead",
   "metadata": {},
   "source": [
    "7653 secondes sont 127 minutes et 33 secondes. On convertit maintenant 127 minutes en heures/minutes:"
   ]
  },
  {
   "cell_type": "code",
   "execution_count": 28,
   "id": "focal-composition",
   "metadata": {},
   "outputs": [
    {
     "data": {
      "text/plain": [
       "2"
      ]
     },
     "execution_count": 28,
     "metadata": {},
     "output_type": "execute_result"
    }
   ],
   "source": [
    "127//60"
   ]
  },
  {
   "cell_type": "code",
   "execution_count": 29,
   "id": "excess-hobby",
   "metadata": {},
   "outputs": [
    {
     "data": {
      "text/plain": [
       "7"
      ]
     },
     "execution_count": 29,
     "metadata": {},
     "output_type": "execute_result"
    }
   ],
   "source": [
    "127%60"
   ]
  },
  {
   "cell_type": "markdown",
   "id": "reported-burden",
   "metadata": {},
   "source": [
    "On obtient donc: 7653 secondes = 2 heures, 7 minutes, 33 secondes.\n",
    "\n",
    "#### Exercice 1\n",
    "Sachant qu'un pied (unité de longueur) vaut 12 pouces, convertir 41 pouces en pieds/pouces.\n",
    "(il y a deux opérations à faire)"
   ]
  },
  {
   "cell_type": "code",
   "execution_count": null,
   "id": "affiliated-taste",
   "metadata": {},
   "outputs": [],
   "source": []
  },
  {
   "cell_type": "code",
   "execution_count": null,
   "id": "differential-acceptance",
   "metadata": {},
   "outputs": [],
   "source": []
  },
  {
   "cell_type": "markdown",
   "id": "97da116b-3394-4545-8ec4-645a397d9de8",
   "metadata": {},
   "source": [
    "#### Exercice 2\n",
    "\n",
    "Le train pour Québec part à 10h13 et le voyage dure 5h59. Écrire les opérations nécessaires pour déterminer à quelle heure il arrive (format 24h)."
   ]
  },
  {
   "cell_type": "code",
   "execution_count": null,
   "id": "5616dcd0-a19e-4b33-aa42-d5792640f392",
   "metadata": {},
   "outputs": [],
   "source": []
  },
  {
   "cell_type": "markdown",
   "id": "legislative-palestine",
   "metadata": {},
   "source": [
    "### Modulo et multiples\n",
    "Bien que l'opérateur modulo soit défini comme 'le reste de la division euclidienne', en pratique la principale utilisation de modulo est pour déterminer si un nombre est multiple d'un autre.\n",
    "\n",
    "Typiquement, on va vérifier qu'un nombre est pair (multiple de 2) en écrivant:"
   ]
  },
  {
   "cell_type": "code",
   "execution_count": 30,
   "id": "dental-focus",
   "metadata": {},
   "outputs": [
    {
     "data": {
      "text/plain": [
       "0"
      ]
     },
     "execution_count": 30,
     "metadata": {},
     "output_type": "execute_result"
    }
   ],
   "source": [
    "46%2"
   ]
  },
  {
   "cell_type": "markdown",
   "id": "close-pastor",
   "metadata": {},
   "source": [
    "Si le résultat est zéro, le premier nombre est multiple du deuxième, et donc dans ce cas 46 est bien pair.\n",
    "\n",
    "De même, on peut vérifier que 250 est multiple de 10 en écrivant:"
   ]
  },
  {
   "cell_type": "code",
   "execution_count": 31,
   "id": "educational-kuwait",
   "metadata": {},
   "outputs": [
    {
     "data": {
      "text/plain": [
       "0"
      ]
     },
     "execution_count": 31,
     "metadata": {},
     "output_type": "execute_result"
    }
   ],
   "source": [
    "250%10"
   ]
  },
  {
   "cell_type": "markdown",
   "id": "dirty-reflection",
   "metadata": {},
   "source": [
    "Ou à l'inverse on peut voir que 151 n'est pas multiple de 9:"
   ]
  },
  {
   "cell_type": "code",
   "execution_count": 32,
   "id": "charged-caribbean",
   "metadata": {},
   "outputs": [
    {
     "data": {
      "text/plain": [
       "7"
      ]
     },
     "execution_count": 32,
     "metadata": {},
     "output_type": "execute_result"
    }
   ],
   "source": [
    "151 % 9"
   ]
  },
  {
   "cell_type": "markdown",
   "id": "bound-swaziland",
   "metadata": {},
   "source": [
    "(le reste est différent de zéro, donc 151 n'est pas multiple de 9)."
   ]
  },
  {
   "cell_type": "markdown",
   "id": "gentle-decade",
   "metadata": {},
   "source": [
    "#### Exercice 3\n",
    "\n",
    "Écrire une expression pour vérifier si 205 est multiple de 41."
   ]
  },
  {
   "cell_type": "code",
   "execution_count": null,
   "id": "structured-charlotte",
   "metadata": {},
   "outputs": [],
   "source": []
  },
  {
   "cell_type": "markdown",
   "id": "eaebe20c-168b-434e-b083-98350ca1799b",
   "metadata": {},
   "source": [
    "### Opérateurs relationnels\n",
    "Les opérateurs relationnels ```>```, ```==```, etc. ont la signification habituelle des opérateurs mathématiques correspondant. On les distingue des opérateurs arithmétiques de base car ils ne donnent pas d'autres nombres (comme ```2 + 3``` donne le nombre ```5```) mais des valeurs booléennes _vrai_ ou _faux_ (```True``` et ```False``` sont des valeurs Python du type booléen ```bool```, on y reviendra)."
   ]
  },
  {
   "cell_type": "code",
   "execution_count": 13,
   "id": "027f2356-fe33-47bd-bc71-6c1980f064fc",
   "metadata": {},
   "outputs": [
    {
     "data": {
      "text/plain": [
       "True"
      ]
     },
     "execution_count": 13,
     "metadata": {},
     "output_type": "execute_result"
    }
   ],
   "source": [
    "5 > 3"
   ]
  },
  {
   "cell_type": "code",
   "execution_count": 17,
   "id": "aadc773b-720e-4f66-989b-2d8085025af8",
   "metadata": {},
   "outputs": [
    {
     "data": {
      "text/plain": [
       "False"
      ]
     },
     "execution_count": 17,
     "metadata": {},
     "output_type": "execute_result"
    }
   ],
   "source": [
    "5 < 4"
   ]
  },
  {
   "cell_type": "code",
   "execution_count": 19,
   "id": "141134c2-9df3-444c-825e-af2d05957a6d",
   "metadata": {},
   "outputs": [
    {
     "data": {
      "text/plain": [
       "True"
      ]
     },
     "execution_count": 19,
     "metadata": {},
     "output_type": "execute_result"
    }
   ],
   "source": [
    "4 <= 6"
   ]
  },
  {
   "cell_type": "code",
   "execution_count": 14,
   "id": "6cb85735-498c-4902-8180-1387ca6845ba",
   "metadata": {},
   "outputs": [
    {
     "data": {
      "text/plain": [
       "False"
      ]
     },
     "execution_count": 14,
     "metadata": {},
     "output_type": "execute_result"
    }
   ],
   "source": [
    "7 >= 15"
   ]
  },
  {
   "cell_type": "code",
   "execution_count": 16,
   "id": "ad2d23f0-1e42-4511-9d35-1e799ff7f661",
   "metadata": {},
   "outputs": [
    {
     "data": {
      "text/plain": [
       "True"
      ]
     },
     "execution_count": 16,
     "metadata": {},
     "output_type": "execute_result"
    }
   ],
   "source": [
    "3 == 3.0"
   ]
  },
  {
   "cell_type": "code",
   "execution_count": 20,
   "id": "95c98782-776a-4772-a343-bd1cf7a5f5f2",
   "metadata": {},
   "outputs": [
    {
     "data": {
      "text/plain": [
       "True"
      ]
     },
     "execution_count": 20,
     "metadata": {},
     "output_type": "execute_result"
    }
   ],
   "source": [
    "5 != 9"
   ]
  },
  {
   "cell_type": "markdown",
   "id": "7f0a1188-32c1-4a45-a64e-69be033257c4",
   "metadata": {},
   "source": [
    "## Expressions complexes\n",
    "\n",
    "Comme en mathématiques, on peut aussi écrire des expressions plus complexes, avec plusieurs opérations, et grouper les opérations en utilisant des parenthèses:"
   ]
  },
  {
   "cell_type": "code",
   "execution_count": 33,
   "id": "identical-prompt",
   "metadata": {},
   "outputs": [
    {
     "data": {
      "text/plain": [
       "-46.0"
      ]
     },
     "execution_count": 33,
     "metadata": {},
     "output_type": "execute_result"
    }
   ],
   "source": [
    "(12 + 11) * (-32) / (47 - 31)"
   ]
  },
  {
   "cell_type": "markdown",
   "id": "early-stable",
   "metadata": {},
   "source": [
    "On sera amené à écrire de telles expressions dans nos programmes. Pour pouvoir écrire des expressions correctes, il faut comprendre comment elles seront interprétées en Python.\n",
    "\n",
    "La précédence des opérateurs est celle qu'on connaît en mathématiques (les exponentiations effectuées en premier, suivies des multiplications, divisions et modulo, et enfin les additions et soustractions). Les parenthèses s'utilisent en mathématiques classiques, pour changer l'ordre des opérations. On peut aussi les utiliser pour s'assurer de la clarté des expressions."
   ]
  },
  {
   "cell_type": "code",
   "execution_count": 34,
   "id": "employed-journey",
   "metadata": {},
   "outputs": [
    {
     "data": {
      "text/plain": [
       "17"
      ]
     },
     "execution_count": 34,
     "metadata": {},
     "output_type": "execute_result"
    }
   ],
   "source": [
    "2 + 5 * 3"
   ]
  },
  {
   "cell_type": "code",
   "execution_count": 35,
   "id": "interpreted-surfing",
   "metadata": {},
   "outputs": [
    {
     "data": {
      "text/plain": [
       "21"
      ]
     },
     "execution_count": 35,
     "metadata": {},
     "output_type": "execute_result"
    }
   ],
   "source": [
    "(2 + 5) * 3"
   ]
  },
  {
   "cell_type": "markdown",
   "id": "adaptive-donor",
   "metadata": {},
   "source": [
    "Dans le premier cas, on a effectué le produit ```5*3``` avant la somme, et dans le deuxième cas on a effectué la somme en premier, à cause des parenthèses.\n",
    "\n",
    "Les opérations de même précédence sont effectuées de gauche à droite:"
   ]
  },
  {
   "cell_type": "code",
   "execution_count": 36,
   "id": "stock-coordination",
   "metadata": {},
   "outputs": [
    {
     "data": {
      "text/plain": [
       "8.0"
      ]
     },
     "execution_count": 36,
     "metadata": {},
     "output_type": "execute_result"
    }
   ],
   "source": [
    "12 / 3 * 2"
   ]
  },
  {
   "cell_type": "markdown",
   "id": "stopped-sterling",
   "metadata": {},
   "source": [
    "On a d'abord divisé 12 par 3 puis multiplié le résultat par 2. On peut changer l'ordre avec des parenthèses:"
   ]
  },
  {
   "cell_type": "code",
   "execution_count": 37,
   "id": "conservative-pioneer",
   "metadata": {},
   "outputs": [
    {
     "data": {
      "text/plain": [
       "2.0"
      ]
     },
     "execution_count": 37,
     "metadata": {},
     "output_type": "execute_result"
    }
   ],
   "source": [
    "12 / (3 * 2)"
   ]
  },
  {
   "cell_type": "markdown",
   "id": "24e19dbe-634e-43f3-a431-dc8f705f7aa8",
   "metadata": {},
   "source": [
    "Pour rendre le code plus facile à interpréter, une convention possible est d'utiliser l'espacement pour rendre les priorités évidentes. On reprend l'expression utilisée un peu plus haut: ```2 + 5 * 3```. Si on veut montrer que le produite ```5 * 3``` va s'effectuer en premier, on peut rapprocher les opérandes de l'opérateur:"
   ]
  },
  {
   "cell_type": "code",
   "execution_count": 1,
   "id": "d2a0f423-c8d7-4a6e-b4c3-1aaf205501d0",
   "metadata": {},
   "outputs": [
    {
     "data": {
      "text/plain": [
       "17"
      ]
     },
     "execution_count": 1,
     "metadata": {},
     "output_type": "execute_result"
    }
   ],
   "source": [
    "2 + 5*3"
   ]
  },
  {
   "cell_type": "markdown",
   "id": "bf16f244-b411-4b1a-a1fb-9a25f4f16f05",
   "metadata": {},
   "source": [
    "Ceci n'est qu'une convention, et il est important de comprendre que ça ne change rien pour l'interpréteur Python: ça sert seulement à améliorer la lisibilité du code. Un lecteur verra intuitivement que ```5*3``` forme un bloc et ne fera pas l'erreur de faire la somme ```2 + 5``` en premier. Le programmeur, lui, s'il veut respecter la convention, doit s'arrêter pour penser dans quel ordre doivent se faire les opérations: ceci peut aussi éviter des erreurs.\n",
    "\n",
    "On peut faire de même quand il y a des parenthèses ou des opérations de même priorité. Exemples:"
   ]
  },
  {
   "cell_type": "code",
   "execution_count": 2,
   "id": "18e4a32c-d31e-4100-9282-17d672a66904",
   "metadata": {},
   "outputs": [
    {
     "data": {
      "text/plain": [
       "21"
      ]
     },
     "execution_count": 2,
     "metadata": {},
     "output_type": "execute_result"
    }
   ],
   "source": [
    "(2+5) * 3"
   ]
  },
  {
   "cell_type": "code",
   "execution_count": 3,
   "id": "3fd57273-70c5-4d18-8967-0ae014df9fa1",
   "metadata": {},
   "outputs": [
    {
     "data": {
      "text/plain": [
       "-46.0"
      ]
     },
     "execution_count": 3,
     "metadata": {},
     "output_type": "execute_result"
    }
   ],
   "source": [
    "(12+11) * (-32) / (47-31)"
   ]
  },
  {
   "cell_type": "markdown",
   "id": "searching-serbia",
   "metadata": {},
   "source": [
    "#### Exercice 4\n",
    "\n",
    "Écrire une expression Python équivalente à l'expression mathématique suivante:\n",
    "\n",
    "$\\frac{32 - 7}{(\\frac{15}{3})^2}$\n",
    "\n",
    "Le résultat doit donner 1.0."
   ]
  },
  {
   "cell_type": "code",
   "execution_count": null,
   "id": "swedish-wound",
   "metadata": {},
   "outputs": [],
   "source": []
  },
  {
   "cell_type": "markdown",
   "id": "cfb0ced1-eddb-4253-9bf7-73678ccd1944",
   "metadata": {},
   "source": [
    "### Expressions arithmétiques et relationnelles\n",
    "On peut combiner des opérations arithmétiques et relationnelles dans une expression: les opérateurs relationnels ont une priorité inférieure à touts les opérateurs arithmétiques (ils seront évalués après):"
   ]
  },
  {
   "cell_type": "code",
   "execution_count": 22,
   "id": "cd2b2bcd-a805-4104-a828-b31c5f903c9f",
   "metadata": {},
   "outputs": [
    {
     "data": {
      "text/plain": [
       "True"
      ]
     },
     "execution_count": 22,
     "metadata": {},
     "output_type": "execute_result"
    }
   ],
   "source": [
    "4*4 + 5 <= 10**2 - 10"
   ]
  },
  {
   "cell_type": "markdown",
   "id": "124b033e-8a66-44cb-b4d4-f3f0c44089a6",
   "metadata": {},
   "source": [
    "Il est aussi possible d'écrire des expressions avec plusieurs opérateurs relationnels:"
   ]
  },
  {
   "cell_type": "code",
   "execution_count": 25,
   "id": "cf1cdb75-5514-4c8d-8596-ce8b3ece7341",
   "metadata": {},
   "outputs": [
    {
     "data": {
      "text/plain": [
       "True"
      ]
     },
     "execution_count": 25,
     "metadata": {},
     "output_type": "execute_result"
    }
   ],
   "source": [
    "3+1 > 3 > 3-1"
   ]
  },
  {
   "cell_type": "markdown",
   "id": "2c6fed57-c963-412f-a36f-65a5368d69ca",
   "metadata": {},
   "source": [
    "Attention cependant à ce que le code reste facile à comprendre. On présente dans une autre section des expressions logiques, qui peuvent être une alternative plus lisible."
   ]
  },
  {
   "cell_type": "markdown",
   "id": "05a40e1e-8cf5-4704-b260-b30f00635153",
   "metadata": {},
   "source": [
    "## Représentation des nombres décimaux: limites et erreurs d'approximation\n",
    "\n",
    "### Erreurs d'approximation\n",
    "Dans les exemples ci-dessus, les valeurs étaient choisies pour que les résultats tombent \"juste\", sur des valeurs entières ou des décimaux avec un ou deux chiffres après la virgule."
   ]
  },
  {
   "cell_type": "markdown",
   "id": "a2f45f4b-0f19-4827-a3f6-d6486031ff29",
   "metadata": {},
   "source": [
    "Cependant, on est souvent amené à manipuler des nombres avec de nombreux chiffres après la virgule, voire une infinité de chiffres (nombres irrationnels comme $\\pi$, ou rationnels comme $1/3$). La représentation des nombres décimaux en mémoire (au format \"virgule flottante\") ne permet pas de représenter la valeur exacte d'un tel nombre, et on peut parfois obtenir des résultats erronés. Pour la majorité des applications, ces approximations sont sans conséquence, mais il faut en être conscient, car elles peuvent parfois causer des bugs, notamment quand on vérifie que deux nombres sont égaux. \n",
    "\n",
    "Exemples:"
   ]
  },
  {
   "cell_type": "code",
   "execution_count": 43,
   "id": "solved-hollywood",
   "metadata": {},
   "outputs": [
    {
     "data": {
      "text/plain": [
       "0.3333333333333333"
      ]
     },
     "execution_count": 43,
     "metadata": {},
     "output_type": "execute_result"
    }
   ],
   "source": [
    "1/3.0"
   ]
  },
  {
   "cell_type": "markdown",
   "id": "eight-documentation",
   "metadata": {},
   "source": [
    "Ici l'approximation ne semble pas problématique... mais allons un peu plus loin après la virgule:"
   ]
  },
  {
   "cell_type": "code",
   "execution_count": 42,
   "id": "sized-yemen",
   "metadata": {},
   "outputs": [
    {
     "data": {
      "text/plain": [
       "0.3333333333139308"
      ]
     },
     "execution_count": 42,
     "metadata": {},
     "output_type": "execute_result"
    }
   ],
   "source": [
    "(1000000/3.0) - 333333"
   ]
  },
  {
   "cell_type": "markdown",
   "id": "resident-tsunami",
   "metadata": {},
   "source": [
    "En pratique, on est limité à une quinzaine de chiffres significatifs.\n",
    "\n",
    "D'autre part, le fait de manipuler des puissance de dix en binaire (pour le format \"virgule flottante\") peut causer des erreurs d'approximation sur des nombres dont l'écriture décimale est finie (et même très courte):"
   ]
  },
  {
   "cell_type": "code",
   "execution_count": 44,
   "id": "convinced-revolution",
   "metadata": {},
   "outputs": [
    {
     "data": {
      "text/plain": [
       "271.20000000000005"
      ]
     },
     "execution_count": 44,
     "metadata": {},
     "output_type": "execute_result"
    }
   ],
   "source": [
    "11.3*24"
   ]
  },
  {
   "cell_type": "code",
   "execution_count": 45,
   "id": "increasing-mumbai",
   "metadata": {},
   "outputs": [
    {
     "data": {
      "text/plain": [
       "2.2699999999999996"
      ]
     },
     "execution_count": 45,
     "metadata": {},
     "output_type": "execute_result"
    }
   ],
   "source": [
    "14.27-12"
   ]
  },
  {
   "cell_type": "markdown",
   "id": "formal-vertex",
   "metadata": {},
   "source": [
    "On voit bien que la différence avec la valeur exacte est très petite... mais si on fait une comparaison, on aura des surprises:"
   ]
  },
  {
   "cell_type": "code",
   "execution_count": 46,
   "id": "lasting-trace",
   "metadata": {},
   "outputs": [
    {
     "data": {
      "text/plain": [
       "False"
      ]
     },
     "execution_count": 46,
     "metadata": {},
     "output_type": "execute_result"
    }
   ],
   "source": [
    "(14.27-12==2.27)"
   ]
  },
  {
   "cell_type": "markdown",
   "id": "fb5a9ea0-5811-4f38-a8cf-e190447d8da4",
   "metadata": {},
   "source": [
    "Cette égalité devrait être vraie... une telle expression utilisée dans un programme (avec des variables à la place des valeurs données ici) pourrait causer un bug très difficile à identifier."
   ]
  },
  {
   "cell_type": "markdown",
   "id": "93a539ab-cc2d-4242-9aef-40438931cfd0",
   "metadata": {},
   "source": [
    "### Représentation des grands nombres\n",
    "Les nombres décimaux de grande taile peuvent être écrits en utilisant ce qu'on appelle l'**écriture scientifique**, c'est à dire avec une puissance de dix:"
   ]
  },
  {
   "cell_type": "code",
   "execution_count": 6,
   "id": "bd9cbbfa-26c5-4ee6-a7fe-df716e1bd67a",
   "metadata": {},
   "outputs": [
    {
     "data": {
      "text/plain": [
       "2.5e+21"
      ]
     },
     "execution_count": 6,
     "metadata": {},
     "output_type": "execute_result"
    }
   ],
   "source": [
    "1.0 * 2500000000000000000000"
   ]
  },
  {
   "cell_type": "markdown",
   "id": "a2f06dc1-b1cd-47ed-9aa6-c2756e486706",
   "metadata": {},
   "source": [
    "Le résultat de l'opération est le nombre (décimal) $2.5\\times10^{21}$.\n",
    "\n",
    "On peut aussi directement utiliser cette notation quand on écrit des nombres dans un programme, ou quand on les entre au clavier: "
   ]
  },
  {
   "cell_type": "code",
   "execution_count": 8,
   "id": "33190ef2-1606-40c2-be09-af3dddaca5da",
   "metadata": {},
   "outputs": [
    {
     "data": {
      "text/plain": [
       "2.28e+21"
      ]
     },
     "execution_count": 8,
     "metadata": {},
     "output_type": "execute_result"
    }
   ],
   "source": [
    "2.5e21 - 3e20 + 8e+19"
   ]
  },
  {
   "cell_type": "markdown",
   "id": "80f699a5-8f5d-4e87-81a4-402de54c67f9",
   "metadata": {},
   "source": [
    "On remarquera que le **+** après le **e** est optionnel."
   ]
  },
  {
   "cell_type": "markdown",
   "id": "2fdcc15c-1fbb-4454-a8a1-48db772c15ea",
   "metadata": {},
   "source": [
    "Enfin, notons que pour des décimaux il y a aussi des limites aux nombres qu'on peut représenter, en termes de valeur absolue:: on peut représenter des nombres dont la valeur absolue est comprise entre $10^{-300}$ et $10^{300}$ environ."
   ]
  },
  {
   "cell_type": "code",
   "execution_count": 4,
   "id": "eede35cc-fbc1-4a53-845f-8b54d667423f",
   "metadata": {},
   "outputs": [
    {
     "data": {
      "text/plain": [
       "2e+250"
      ]
     },
     "execution_count": 4,
     "metadata": {},
     "output_type": "execute_result"
    }
   ],
   "source": [
    "1e+250 * 2"
   ]
  },
  {
   "cell_type": "markdown",
   "id": "1adbfb8d-35d6-419a-bf78-2fd4f7cda469",
   "metadata": {},
   "source": [
    "En dessous de $10^{-320}$ environ, ça donne zéro, et au-delà de $10^{310}$ environ, Python transforme le résultat en plus ou moins infini (```inf```):"
   ]
  },
  {
   "cell_type": "code",
   "execution_count": 11,
   "id": "715b4bd5-0f8e-4255-bc87-cb2a535ce1e6",
   "metadata": {},
   "outputs": [
    {
     "data": {
      "text/plain": [
       "0.0"
      ]
     },
     "execution_count": 11,
     "metadata": {},
     "output_type": "execute_result"
    }
   ],
   "source": [
    "1e-320 / 5000"
   ]
  },
  {
   "cell_type": "code",
   "execution_count": 12,
   "id": "50b08d47-9be0-4d77-975a-e451d41efd82",
   "metadata": {},
   "outputs": [
    {
     "data": {
      "text/plain": [
       "inf"
      ]
     },
     "execution_count": 12,
     "metadata": {},
     "output_type": "execute_result"
    }
   ],
   "source": [
    "1e+300 * 2e10"
   ]
  },
  {
   "cell_type": "markdown",
   "id": "3f29b7e0-39e7-4c3c-8877-dcfae941d8fb",
   "metadata": {},
   "source": [
    "### Implications pratiques\n",
    "Concrètement, quand on manipule des nombres décimaux:\n",
    "+ garder en tête que tous les chiffres représentés ne sont pas forcément corrects\n",
    "+ éviter les comparaisons exactes entre décimaux\n",
    "+ Si on a besoin d'une grande précision, ou on doit manipuler de très grands ou de très petits nombres, savoir qu'il va falloir utiliser des bibliothèques spécialisées (la bibliothèque **decimal** par exemple)."
   ]
  }
 ],
 "metadata": {
  "kernelspec": {
   "display_name": "Python 3 (ipykernel)",
   "language": "python",
   "name": "python3"
  },
  "language_info": {
   "codemirror_mode": {
    "name": "ipython",
    "version": 3
   },
   "file_extension": ".py",
   "mimetype": "text/x-python",
   "name": "python",
   "nbconvert_exporter": "python",
   "pygments_lexer": "ipython3",
   "version": "3.12.2"
  }
 },
 "nbformat": 4,
 "nbformat_minor": 5
}
