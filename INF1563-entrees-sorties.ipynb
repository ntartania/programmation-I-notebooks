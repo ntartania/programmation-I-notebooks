{
 "cells": [
  {
   "cell_type": "markdown",
   "metadata": {},
   "source": [
    "# Entrées et sorties standard\n",
    "\n",
    "Habituellement, on conceptualise un programme informatique comme une sorte de machine qui transforme des *données d'entrée* en *données de sortie*, comme une recette de cuisine qui permet de transformer des ingrédients de base (les entrées) en un gateau (la sortie). \n",
    "Cette conception est assez différente de l'utilisation interactive (REPL) qui est démontrée dans ces notebooks.\n",
    "\n",
    "Les données d'entrée peuvent être fournies manuellement par un utilisateur, via le clavier ou une interface graphique, mais elles peuvent aussi être lues dans un fichier ou une base de données, ou encore collectées via des capteurs (caméras, micros, capteurs infrarouges, antennes, etc.). Les données de sortie peuvent être affichées à l'écran, ou écrites dans des fichiers ou des bases de données. \n",
    "\n",
    "Pour l'instant on va s'intéresser à l'entrée et à la sortie standard, c'est à dire le clavier et l'écran, respectivement. \n",
    "\n",
    "## Sortie standard: l'affichage à l'écran\n",
    "\n",
    "Traditionnellement, lorsqu'on apprend un nouveau langage de programmation, on présente l'instruction qui permet d'afficher un message ```\"Hello World !\"``` à l'écran. En Python, cette instruction est la suivante:"
   ]
  },
  {
   "cell_type": "code",
   "execution_count": 1,
   "metadata": {},
   "outputs": [
    {
     "name": "stdout",
     "output_type": "stream",
     "text": [
      "Hello World!\n"
     ]
    }
   ],
   "source": [
    "print(\"Hello World!\")"
   ]
  },
  {
   "cell_type": "markdown",
   "metadata": {},
   "source": [
    "Cette instruction est en fait un appel de la fonction ```print```: on donne dans les parenthèses le texte à afficher, et ```print``` envoie cette information à l'écran.\n",
    "\n",
    "Avec ```print```, on peut afficher des informations de plusieurs types: texte, mais aussi des valeurs numériques ou booléennes:"
   ]
  },
  {
   "cell_type": "code",
   "execution_count": 2,
   "metadata": {},
   "outputs": [
    {
     "name": "stdout",
     "output_type": "stream",
     "text": [
      "15\n"
     ]
    }
   ],
   "source": [
    "x = 5 * 3\n",
    "print(x)"
   ]
  },
  {
   "cell_type": "markdown",
   "metadata": {},
   "source": [
    "On peut aussi écrire une expression directement dans les parenthèses: la valeur de l'expression sera calculée et affichée:"
   ]
  },
  {
   "cell_type": "code",
   "execution_count": 3,
   "metadata": {},
   "outputs": [
    {
     "name": "stdout",
     "output_type": "stream",
     "text": [
      "26\n"
     ]
    }
   ],
   "source": [
    "print(x*2 - 4)"
   ]
  },
  {
   "cell_type": "code",
   "execution_count": 4,
   "metadata": {},
   "outputs": [
    {
     "name": "stdout",
     "output_type": "stream",
     "text": [
      "True\n"
     ]
    }
   ],
   "source": [
    "print(x>10)"
   ]
  },
  {
   "cell_type": "markdown",
   "metadata": {},
   "source": [
    "Dans ces exemples on a donné une seule valeur à afficher à ```print```, mais cette fonction a la particularité de pouvoir accepter plusieurs valeurs, séparées par des virgules. Ces valeurs peuvent être de types différents, et elles seront toutes affichées:"
   ]
  },
  {
   "cell_type": "code",
   "execution_count": 5,
   "metadata": {},
   "outputs": [
    {
     "name": "stdout",
     "output_type": "stream",
     "text": [
      "15 16 False plop\n"
     ]
    }
   ],
   "source": [
    "print(x, x+1, x<10, \"plop\")"
   ]
  },
  {
   "cell_type": "markdown",
   "metadata": {},
   "source": [
    "Les différentes valeurs sont affichées sur une seule ligne, séparées par des virgules, et après un ```print```, l'affichage revient à la ligne. C'est visible quand on fait plusieurs ```print```:"
   ]
  },
  {
   "cell_type": "code",
   "execution_count": 6,
   "metadata": {},
   "outputs": [
    {
     "name": "stdout",
     "output_type": "stream",
     "text": [
      "15 16\n",
      "False plop\n"
     ]
    }
   ],
   "source": [
    "print(x, x+1)\n",
    "print(x<10, \"plop\")"
   ]
  },
  {
   "cell_type": "markdown",
   "metadata": {},
   "source": [
    "Si on veut modifier le séparateur (ici c'est un espace qui sépare les valeurs affichées) ou ce qui termine l'affichage (ici un retour à la ligne), on peut les paramétrer en utilisant les \"paramètres mot-clés\" ```sep``` et ```end```:"
   ]
  },
  {
   "cell_type": "code",
   "execution_count": 7,
   "metadata": {},
   "outputs": [
    {
     "name": "stdout",
     "output_type": "stream",
     "text": [
      "15<16<17###"
     ]
    }
   ],
   "source": [
    "print(x, x+1, x+2, sep=\"<\", end=\"###\") "
   ]
  },
  {
   "cell_type": "markdown",
   "metadata": {},
   "source": [
    "### Affichage formaté\n",
    "\n",
    "Parfois on cherche à afficher des informations d'une manière un peu particulière, comme par exemple des nombres décimaux arrondis à  deux chiffres après la virgule. Il y a plusieurs manière de faire, l'une étant d'utiliser des \"f-strings\", c'est à dire des string avec une mise en forme particulière: "
   ]
  },
  {
   "cell_type": "code",
   "execution_count": 8,
   "metadata": {},
   "outputs": [
    {
     "name": "stdout",
     "output_type": "stream",
     "text": [
      "3.618888888888889 25.33222222222222\n",
      "x vaut 3.62 et y vaut 25.33\n"
     ]
    }
   ],
   "source": [
    "x = 32.57 / 9 \n",
    "y = x*7\n",
    "print(x, y) # affichage brut \n",
    "print(f'x vaut {x:.2f} et y vaut {y:.2f}') #arrondi à deux chiffres"
   ]
  },
  {
   "cell_type": "markdown",
   "metadata": {},
   "source": [
    "Le ```f``` qui précède le string indique qu'il s'agit d'un texte qui contient des valeurs formatées, qui sont intégrées au texte dans des accolades: l'expression ```{x:.2f}``` indique qu'il faut afficher la valeur de la variable décimale ```x``` avec deux chiffres après la virgule (le deux à droite du point indique le nombre de chiffres, et le **f** signifie ```float```, le type décimal).\n",
    "\n",
    "**Remarque**: il n'est pas utile de mémoriser les codes de formatage, ceux-ci peuvent être retrouvés facilement dans la documentation Python, sur le Web ou dans des ouvrages de référence."
   ]
  },
  {
   "cell_type": "markdown",
   "metadata": {},
   "source": [
    "## L'entrée standard: le clavier\n",
    "\n",
    "Ce qu'on appelle \"l'entrée standard\" est simplement l'utilisation du clavier pour fournir des données à un programme. \n",
    "Pour lire des données au clavier, on utilise la fonction ```input```. Quand la fonction s'exécute, l'exécution du programme s'arrête jusqu'à ce que l'utilisateur tape quelque chose au clavier, en terminant par \"entrée\":"
   ]
  },
  {
   "cell_type": "code",
   "execution_count": 9,
   "metadata": {},
   "outputs": [
    {
     "name": "stdin",
     "output_type": "stream",
     "text": [
      " Spartacus\n"
     ]
    }
   ],
   "source": [
    "nom = input()"
   ]
  },
  {
   "cell_type": "markdown",
   "metadata": {},
   "source": [
    "Cette instruction ressemble aux affectations qu'on a vu précedemment, avec à droite des expressions. Ici à la place d'une expression on a à droite un appel de fonction, qui va nous **renvoyer une valeur** (le texte qu'on aura tapé) de type String. Comme pour une expression, au moment de l'exécution la partie droite est **remplacée par une valeur**. Cette valeur est ensuite **copiée** dans la variable qui forme la partie gauche.\n",
    "\n",
    "La variable ```nom``` contient maintenant le texte entré:"
   ]
  },
  {
   "cell_type": "code",
   "execution_count": 10,
   "metadata": {},
   "outputs": [
    {
     "data": {
      "text/plain": [
       "'Spartacus'"
      ]
     },
     "execution_count": 10,
     "metadata": {},
     "output_type": "execute_result"
    }
   ],
   "source": [
    "nom"
   ]
  },
  {
   "cell_type": "markdown",
   "metadata": {},
   "source": [
    "Habituellement on affiche un message à l'utilisateur avant d'essayer de lire quelque chose au clavier, parce que dans une console ordinaire aucune boite de texte ne s'affiche et on ne voit pas forcément qu'on doit taper quelque chose. On peut faire cela simplement en passant le message en argument (c'est à dire dans les parenthèses) de la fonction ```input```: "
   ]
  },
  {
   "cell_type": "code",
   "execution_count": 11,
   "metadata": {},
   "outputs": [
    {
     "name": "stdin",
     "output_type": "stream",
     "text": [
      "Entrer votre nom: Philémon\n"
     ]
    },
    {
     "name": "stdout",
     "output_type": "stream",
     "text": [
      "Bonjour, Philémon !\n"
     ]
    }
   ],
   "source": [
    "nom = input(\"Entrer votre nom:\");\n",
    "print(\"Bonjour,\", nom, \"!\");"
   ]
  },
  {
   "cell_type": "markdown",
   "metadata": {},
   "source": [
    "## Lire des nombres\n",
    "Quand on lit des données au clavier, elles sont interprétées comme du texte: par exemple, si on entre le nombre 45, il sera interprété non pas comme un nombre entier mais comme le caractère '4' suivi du caractère '5':"
   ]
  },
  {
   "cell_type": "code",
   "execution_count": 13,
   "metadata": {},
   "outputs": [
    {
     "name": "stdin",
     "output_type": "stream",
     "text": [
      "Entrer votre age: 76\n"
     ]
    }
   ],
   "source": [
    "age = input(\"Entrer votre age:\")"
   ]
  },
  {
   "cell_type": "code",
   "execution_count": 14,
   "metadata": {},
   "outputs": [
    {
     "data": {
      "text/plain": [
       "'76'"
      ]
     },
     "execution_count": 14,
     "metadata": {},
     "output_type": "execute_result"
    }
   ],
   "source": [
    "age"
   ]
  },
  {
   "cell_type": "markdown",
   "metadata": {},
   "source": [
    "On peut remarquer les quotes autour du nombre, qui indiquent qu'il s'agit d'un texte. Pour être vraiment sur on peut essayer d'ajouter 1 à ce nombre:"
   ]
  },
  {
   "cell_type": "code",
   "execution_count": 15,
   "metadata": {},
   "outputs": [
    {
     "ename": "TypeError",
     "evalue": "can only concatenate str (not \"int\") to str",
     "output_type": "error",
     "traceback": [
      "\u001b[0;31m---------------------------------------------------------------------------\u001b[0m",
      "\u001b[0;31mTypeError\u001b[0m                                 Traceback (most recent call last)",
      "Cell \u001b[0;32mIn[15], line 1\u001b[0m\n\u001b[0;32m----> 1\u001b[0m prochain \u001b[38;5;241m=\u001b[39m \u001b[43mage\u001b[49m\u001b[43m \u001b[49m\u001b[38;5;241;43m+\u001b[39;49m\u001b[43m \u001b[49m\u001b[38;5;241;43m1\u001b[39;49m\n",
      "\u001b[0;31mTypeError\u001b[0m: can only concatenate str (not \"int\") to str"
     ]
    }
   ],
   "source": [
    "prochain = age + 1"
   ]
  },
  {
   "cell_type": "markdown",
   "metadata": {},
   "source": [
    "Le message d'erreur indique que Python ne peut pas effectuer l'opération ```age + 1```, et au-dessus on voit que c'est une erreur ```TypeError```. Autrement dit, on ne peut pas exécuter l'opération représentée par **+** entre une variable de type string (```str```) et une variable numérique (type ```int```, comme _**int**eger_ en anglais). La raison est que pour un string, ```+``` représente la concaténation (mettre des strings bout-à-bout), alors que pour des nombres il s'agit d'une addition. \n",
    "\n",
    "Pour éviter cette erreur, il faudrait que la variable ```age``` soit le nombre 45 plutôt qu'un texte. Pour cela il faut que ça fonctionne, il faut d'abord convertir l'information lue au clavier en nombre. Pour cela on utilise la fonction ```int()```, qui va convertir le texte en entier:"
   ]
  },
  {
   "cell_type": "code",
   "execution_count": 16,
   "metadata": {},
   "outputs": [
    {
     "name": "stdin",
     "output_type": "stream",
     "text": [
      "Entrer votre age: 28\n"
     ]
    },
    {
     "name": "stdout",
     "output_type": "stream",
     "text": [
      "L'an prochain vous aurez 29 ans !\n"
     ]
    }
   ],
   "source": [
    "donnees = input(\"Entrer votre age:\")\n",
    "age = int(donnees) #on convertit en nombre entier\n",
    "print(\"L'an prochain vous aurez\", age + 1, \"ans !\")"
   ]
  },
  {
   "cell_type": "markdown",
   "metadata": {},
   "source": [
    "On peut remarquer que la fonction pour convertir du texte en entier porte le même nom que le _type_ entier. C'est généralement le cas en Python: pour convertir un nombre en string (type ```str```), on utilise la fonction ```str()```,  et pour convertir une donnée en décimal (type ```float```) on utilise la fonction ```float()```. Quelques exemples:"
   ]
  },
  {
   "cell_type": "code",
   "execution_count": 17,
   "metadata": {},
   "outputs": [
    {
     "data": {
      "text/plain": [
       "'45'"
      ]
     },
     "execution_count": 17,
     "metadata": {},
     "output_type": "execute_result"
    }
   ],
   "source": [
    "str(45)"
   ]
  },
  {
   "cell_type": "code",
   "execution_count": 18,
   "metadata": {},
   "outputs": [
    {
     "data": {
      "text/plain": [
       "45.0"
      ]
     },
     "execution_count": 18,
     "metadata": {},
     "output_type": "execute_result"
    }
   ],
   "source": [
    "float(45)"
   ]
  },
  {
   "cell_type": "code",
   "execution_count": 19,
   "metadata": {},
   "outputs": [
    {
     "data": {
      "text/plain": [
       "1000.0"
      ]
     },
     "execution_count": 19,
     "metadata": {},
     "output_type": "execute_result"
    }
   ],
   "source": [
    "float(\"1e3\")"
   ]
  },
  {
   "cell_type": "code",
   "execution_count": 20,
   "metadata": {},
   "outputs": [
    {
     "name": "stdin",
     "output_type": "stream",
     "text": [
      "Entrer votre taille (en m): 1.64\n"
     ]
    },
    {
     "name": "stdout",
     "output_type": "stream",
     "text": [
      "Votre tête touche presque les nuages!\n"
     ]
    }
   ],
   "source": [
    "taille_txt = input(\"Entrer votre taille (en m):\")\n",
    "taille = float(taille_txt)\n",
    "print(\"Votre tête touche presque les nuages!\")"
   ]
  },
  {
   "cell_type": "markdown",
   "metadata": {},
   "source": [
    "Les deux petits programmes ci-dessus ont lu des valeurs numériques au clavier et les ont stockées dans les variables ```age``` et ```taille```.\n",
    "\n",
    "On peut maintenant utiliser ces valeurs dans la suite du programme, et faire des calculs dessus comme n'importe quelles autres variables numériques:"
   ]
  },
  {
   "cell_type": "code",
   "execution_count": 21,
   "metadata": {},
   "outputs": [
    {
     "name": "stdout",
     "output_type": "stream",
     "text": [
      "Vous avez grandi en moyenne de 0.059 m par an!\n"
     ]
    }
   ],
   "source": [
    "progression = taille / age;\n",
    "print(f\"Vous avez grandi en moyenne de {progression:.3f} m par an!\");"
   ]
  },
  {
   "cell_type": "markdown",
   "metadata": {},
   "source": [
    "#### Exercice 1\n",
    "Écrivez un programme qui demande son poids en kg à l'utilisateur et calcule l'équivalent en livres (il faut diviser par 0.454). Afficher le résultat avec 0 chiffres après la virgule.\n",
    "\n",
    "Exemple d'utilisation:\n",
    "\n",
    "```\n",
    "Entrez votre poids en kg: 67\n",
    "Ça fait environ 148 livres.\n",
    "```"
   ]
  },
  {
   "cell_type": "code",
   "execution_count": null,
   "metadata": {},
   "outputs": [],
   "source": []
  }
 ],
 "metadata": {
  "kernelspec": {
   "display_name": "Python 3 (ipykernel)",
   "language": "python",
   "name": "python3"
  },
  "language_info": {
   "codemirror_mode": {
    "name": "ipython",
    "version": 3
   },
   "file_extension": ".py",
   "mimetype": "text/x-python",
   "name": "python",
   "nbconvert_exporter": "python",
   "pygments_lexer": "ipython3",
   "version": "3.12.2"
  }
 },
 "nbformat": 4,
 "nbformat_minor": 4
}
